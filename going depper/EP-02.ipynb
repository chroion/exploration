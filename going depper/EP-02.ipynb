{
 "cells": [
  {
   "attachments": {},
   "cell_type": "markdown",
   "metadata": {},
   "source": [
    "# 2. 없다면 어떻게 될까? (ResNet Ablation Study)\n",
    "\n",
    "|평가문항|상세기준|\n",
    "|---|---|\n",
    "|1. ResNet-34, ResNet-50 모델 구현이 정상적으로 진행되었는가?|블록함수 구현이 제대로 진행되었으며 구현한 모델의 summary가 예상된 형태로 출력되었다.|\n",
    "|2. 구현한 ResNet 모델을 활용하여 Image Classification 모델 훈련이 가능한가?|tensorflow-datasets에서 제공하는 cats_vs_dogs 데이터셋으로 학습 진행 시 loss가 감소하는 것이 확인되었다.|\n",
    "|3. Ablation Study 결과가 바른 포맷으로 제출되었는가?|ResNet-34, ResNet-50 각각 plain모델과 residual모델을 동일한 epoch만큼 학습시켰을 때의 validation accuracy 기준으로 Ablation Study 결과표가 작성되었다.|"
   ]
  },
  {
   "cell_type": "code",
   "execution_count": 31,
   "metadata": {},
   "outputs": [],
   "source": [
    "import tensorflow as tf\n",
    "import keras\n",
    "import numpy as np\n",
    "import tensorflow_datasets as tfds"
   ]
  },
  {
   "cell_type": "code",
   "execution_count": 2,
   "metadata": {},
   "outputs": [],
   "source": [
    "def build_resnet_block(input_layer, num_cnn=3, channel=64, block_num=1,is_50 = False,is_plain = False):\n",
    "    # 입력 레이어\n",
    "    x = input_layer\n",
    "    if not is_50:\n",
    "    # CNN 레이어\n",
    "        for cnn_num in range(num_cnn):\n",
    "            identity = x\n",
    "            x = keras.layers.Conv2D(\n",
    "                filters=channel,\n",
    "                kernel_size=(3,3),\n",
    "                activation='relu',\n",
    "                kernel_initializer='he_normal',\n",
    "                padding='same',\n",
    "                name=f'block{block_num}_conv{cnn_num}')(x)\n",
    "            x = keras.layers.BatchNormalization()(x)\n",
    "            x = keras.layers.Conv2D(\n",
    "                filters=channel,\n",
    "                kernel_size=(3,3),\n",
    "                activation='relu',\n",
    "                kernel_initializer='he_normal',\n",
    "                padding='same',\n",
    "                name=f'block{block_num}_1_conv{cnn_num}')(x)\n",
    "            if not is_plain:\n",
    "                identity_channel = identity.shape.as_list()[-1]    \n",
    "\n",
    "                if identity_channel != channel:\n",
    "                    identity = keras.layers.Conv2D(channel, kernel_size=(1, 1), strides=(1, 1), padding=\"same\")(identity)  \n",
    "                # skip connection\n",
    "                x = keras.layers.Add()([x,identity])   \n",
    "            else:\n",
    "                pass\n",
    "    else :\n",
    "        identity = x\n",
    "        x = keras.layers.Conv2D(\n",
    "            filters=channel,\n",
    "            kernel_size=(1,1),\n",
    "            activation='relu',\n",
    "            kernel_initializer='he_normal',\n",
    "            padding='same',\n",
    "            name=f'block{block_num}_conv{cnn_num}')(x)\n",
    "        x = keras.layers.BatchNormalization()(x)\n",
    "        x = keras.layers.Conv2D(\n",
    "            filters=channel,\n",
    "            kernel_size=(3,3),\n",
    "            activation='relu',\n",
    "            kernel_initializer='he_normal',\n",
    "            padding='same',\n",
    "            name=f'block{block_num}_1_conv{cnn_num}')(x)\n",
    "        x = keras.layers.Conv2D(\n",
    "            filters=channel * 4,\n",
    "            kernel_size=(1,1),\n",
    "            activation='relu',\n",
    "            kernel_initializer='he_normal',\n",
    "            padding='same',\n",
    "            name=f'block{block_num}_2_conv{cnn_num}')(x)\n",
    "        if not is_plain:\n",
    "            identity_channel = identity.shape.as_list()[-1]    \n",
    "\n",
    "            if identity_channel != channel:\n",
    "                identity = keras.layers.Conv2D(channel, kernel_size=(1, 1), strides=(1, 1), padding=\"same\")(identity)  \n",
    "            # skip connection\n",
    "            x = keras.layers.Add()([x,identity])   \n",
    "        else:\n",
    "            pass\n",
    "    #     Max Pooling 레이어\n",
    "    # 마지막 블록 뒤에는 pooling을 하지 않음\n",
    "    if identity.shape[1] != 1:        \n",
    "        x = keras.layers.MaxPooling2D(\n",
    "            pool_size=(2, 2),\n",
    "            strides=2,\n",
    "            name=f'block{block_num}_pooling'\n",
    "        )(x)\n",
    "\n",
    "    return x"
   ]
  },
  {
   "cell_type": "code",
   "execution_count": 3,
   "metadata": {},
   "outputs": [],
   "source": [
    "def build_resnet(input_shape=(32,32,3),\n",
    "              num_cnn_list=[3,4,6,3],\n",
    "              channel_list=[64,128,256,512],\n",
    "              num_classes=10,is_50 = False, is_plain = False):\n",
    "    \n",
    "    assert len(num_cnn_list) == len(channel_list) #모델을 만들기 전에 config list들이 같은 길이인지 확인합니다.\n",
    "    if is_50:\n",
    "        num_cnn_list = [3,4,6,3]\n",
    "        channel_list = [64,128,256,512]\n",
    "        num_classes = 10\n",
    "        \n",
    "    input_layer = keras.layers.Input(shape=input_shape)  # input layer를 만들어둡니다.\n",
    "    output = input_layer\n",
    "    #conv1층\n",
    "    output = keras.layers.Conv2D(filters=64,\n",
    "                       kernel_size = (2,2),\n",
    "                       strides = 2,\n",
    "                         padding = 'valid')(output)\n",
    "    output = keras.layers.BatchNormalization()(output)\n",
    "    \n",
    "    #conv2_x pooling\n",
    "    output = keras.layers.MaxPooling2D(pool_size = (2,2),\n",
    "                                      strides = 2,)(output)    \n",
    "    # config list들의 길이만큼 반복해서 블록을 생성합니다.\n",
    "    for i, (num_cnn, channel) in enumerate(zip(num_cnn_list, channel_list)):\n",
    "        output = build_resnet_block(\n",
    "            output,\n",
    "            num_cnn=num_cnn, \n",
    "            channel=channel,\n",
    "            block_num=i)    \n",
    "    output = keras.layers.AveragePooling2D(padding = 'same')(output)\n",
    "    output = keras.layers.Flatten(name='flatten')(output)\n",
    "    output = keras.layers.Dense(num_classes, activation='softmax', name='predictions')(output)\n",
    "    \n",
    "    model = keras.Model(\n",
    "        inputs=input_layer, \n",
    "        outputs=output)\n",
    "    return model"
   ]
  },
  {
   "cell_type": "code",
   "execution_count": 4,
   "metadata": {},
   "outputs": [
    {
     "name": "stderr",
     "output_type": "stream",
     "text": [
      "2023-05-23 21:31:44.810435: I tensorflow/compiler/xla/stream_executor/cuda/cuda_gpu_executor.cc:982] could not open file to read NUMA node: /sys/bus/pci/devices/0000:01:00.0/numa_node\n",
      "Your kernel may have been built without NUMA support.\n",
      "2023-05-23 21:31:44.846373: I tensorflow/compiler/xla/stream_executor/cuda/cuda_gpu_executor.cc:982] could not open file to read NUMA node: /sys/bus/pci/devices/0000:01:00.0/numa_node\n",
      "Your kernel may have been built without NUMA support.\n",
      "2023-05-23 21:31:44.846422: I tensorflow/compiler/xla/stream_executor/cuda/cuda_gpu_executor.cc:982] could not open file to read NUMA node: /sys/bus/pci/devices/0000:01:00.0/numa_node\n",
      "Your kernel may have been built without NUMA support.\n",
      "2023-05-23 21:31:44.847866: I tensorflow/compiler/xla/stream_executor/cuda/cuda_gpu_executor.cc:982] could not open file to read NUMA node: /sys/bus/pci/devices/0000:01:00.0/numa_node\n",
      "Your kernel may have been built without NUMA support.\n",
      "2023-05-23 21:31:44.847940: I tensorflow/compiler/xla/stream_executor/cuda/cuda_gpu_executor.cc:982] could not open file to read NUMA node: /sys/bus/pci/devices/0000:01:00.0/numa_node\n",
      "Your kernel may have been built without NUMA support.\n",
      "2023-05-23 21:31:44.847967: I tensorflow/compiler/xla/stream_executor/cuda/cuda_gpu_executor.cc:982] could not open file to read NUMA node: /sys/bus/pci/devices/0000:01:00.0/numa_node\n",
      "Your kernel may have been built without NUMA support.\n",
      "2023-05-23 21:31:45.456004: I tensorflow/compiler/xla/stream_executor/cuda/cuda_gpu_executor.cc:982] could not open file to read NUMA node: /sys/bus/pci/devices/0000:01:00.0/numa_node\n",
      "Your kernel may have been built without NUMA support.\n",
      "2023-05-23 21:31:45.456083: I tensorflow/compiler/xla/stream_executor/cuda/cuda_gpu_executor.cc:982] could not open file to read NUMA node: /sys/bus/pci/devices/0000:01:00.0/numa_node\n",
      "Your kernel may have been built without NUMA support.\n",
      "2023-05-23 21:31:45.456092: I tensorflow/core/common_runtime/gpu/gpu_device.cc:1722] Could not identify NUMA node of platform GPU id 0, defaulting to 0.  Your kernel may not have been built with NUMA support.\n",
      "2023-05-23 21:31:45.456122: I tensorflow/compiler/xla/stream_executor/cuda/cuda_gpu_executor.cc:982] could not open file to read NUMA node: /sys/bus/pci/devices/0000:01:00.0/numa_node\n",
      "Your kernel may have been built without NUMA support.\n",
      "2023-05-23 21:31:45.456146: I tensorflow/core/common_runtime/gpu/gpu_device.cc:1635] Created device /job:localhost/replica:0/task:0/device:GPU:0 with 7335 MB memory:  -> device: 0, name: NVIDIA GeForce RTX 3080, pci bus id: 0000:01:00.0, compute capability: 8.6\n"
     ]
    },
    {
     "name": "stdout",
     "output_type": "stream",
     "text": [
      "Model: \"model\"\n",
      "__________________________________________________________________________________________________\n",
      " Layer (type)                   Output Shape         Param #     Connected to                     \n",
      "==================================================================================================\n",
      " input_1 (InputLayer)           [(None, 32, 32, 3)]  0           []                               \n",
      "                                                                                                  \n",
      " conv2d (Conv2D)                (None, 16, 16, 64)   832         ['input_1[0][0]']                \n",
      "                                                                                                  \n",
      " batch_normalization (BatchNorm  (None, 16, 16, 64)  256         ['conv2d[0][0]']                 \n",
      " alization)                                                                                       \n",
      "                                                                                                  \n",
      " max_pooling2d (MaxPooling2D)   (None, 8, 8, 64)     0           ['batch_normalization[0][0]']    \n",
      "                                                                                                  \n",
      " block0_conv0 (Conv2D)          (None, 8, 8, 64)     36928       ['max_pooling2d[0][0]']          \n",
      "                                                                                                  \n",
      " batch_normalization_1 (BatchNo  (None, 8, 8, 64)    256         ['block0_conv0[0][0]']           \n",
      " rmalization)                                                                                     \n",
      "                                                                                                  \n",
      " block0_1_conv0 (Conv2D)        (None, 8, 8, 64)     36928       ['batch_normalization_1[0][0]']  \n",
      "                                                                                                  \n",
      " add (Add)                      (None, 8, 8, 64)     0           ['block0_1_conv0[0][0]',         \n",
      "                                                                  'max_pooling2d[0][0]']          \n",
      "                                                                                                  \n",
      " block0_conv1 (Conv2D)          (None, 8, 8, 64)     36928       ['add[0][0]']                    \n",
      "                                                                                                  \n",
      " batch_normalization_2 (BatchNo  (None, 8, 8, 64)    256         ['block0_conv1[0][0]']           \n",
      " rmalization)                                                                                     \n",
      "                                                                                                  \n",
      " block0_1_conv1 (Conv2D)        (None, 8, 8, 64)     36928       ['batch_normalization_2[0][0]']  \n",
      "                                                                                                  \n",
      " add_1 (Add)                    (None, 8, 8, 64)     0           ['block0_1_conv1[0][0]',         \n",
      "                                                                  'add[0][0]']                    \n",
      "                                                                                                  \n",
      " block0_conv2 (Conv2D)          (None, 8, 8, 64)     36928       ['add_1[0][0]']                  \n",
      "                                                                                                  \n",
      " batch_normalization_3 (BatchNo  (None, 8, 8, 64)    256         ['block0_conv2[0][0]']           \n",
      " rmalization)                                                                                     \n",
      "                                                                                                  \n",
      " block0_1_conv2 (Conv2D)        (None, 8, 8, 64)     36928       ['batch_normalization_3[0][0]']  \n",
      "                                                                                                  \n",
      " add_2 (Add)                    (None, 8, 8, 64)     0           ['block0_1_conv2[0][0]',         \n",
      "                                                                  'add_1[0][0]']                  \n",
      "                                                                                                  \n",
      " block0_pooling (MaxPooling2D)  (None, 4, 4, 64)     0           ['add_2[0][0]']                  \n",
      "                                                                                                  \n",
      " block1_conv0 (Conv2D)          (None, 4, 4, 128)    73856       ['block0_pooling[0][0]']         \n",
      "                                                                                                  \n",
      " batch_normalization_4 (BatchNo  (None, 4, 4, 128)   512         ['block1_conv0[0][0]']           \n",
      " rmalization)                                                                                     \n",
      "                                                                                                  \n",
      " block1_1_conv0 (Conv2D)        (None, 4, 4, 128)    147584      ['batch_normalization_4[0][0]']  \n",
      "                                                                                                  \n",
      " conv2d_1 (Conv2D)              (None, 4, 4, 128)    8320        ['block0_pooling[0][0]']         \n",
      "                                                                                                  \n",
      " add_3 (Add)                    (None, 4, 4, 128)    0           ['block1_1_conv0[0][0]',         \n",
      "                                                                  'conv2d_1[0][0]']               \n",
      "                                                                                                  \n",
      " block1_conv1 (Conv2D)          (None, 4, 4, 128)    147584      ['add_3[0][0]']                  \n",
      "                                                                                                  \n",
      " batch_normalization_5 (BatchNo  (None, 4, 4, 128)   512         ['block1_conv1[0][0]']           \n",
      " rmalization)                                                                                     \n",
      "                                                                                                  \n",
      " block1_1_conv1 (Conv2D)        (None, 4, 4, 128)    147584      ['batch_normalization_5[0][0]']  \n",
      "                                                                                                  \n",
      " add_4 (Add)                    (None, 4, 4, 128)    0           ['block1_1_conv1[0][0]',         \n",
      "                                                                  'add_3[0][0]']                  \n",
      "                                                                                                  \n",
      " block1_conv2 (Conv2D)          (None, 4, 4, 128)    147584      ['add_4[0][0]']                  \n",
      "                                                                                                  \n",
      " batch_normalization_6 (BatchNo  (None, 4, 4, 128)   512         ['block1_conv2[0][0]']           \n",
      " rmalization)                                                                                     \n",
      "                                                                                                  \n",
      " block1_1_conv2 (Conv2D)        (None, 4, 4, 128)    147584      ['batch_normalization_6[0][0]']  \n",
      "                                                                                                  \n",
      " add_5 (Add)                    (None, 4, 4, 128)    0           ['block1_1_conv2[0][0]',         \n",
      "                                                                  'add_4[0][0]']                  \n",
      "                                                                                                  \n",
      " block1_conv3 (Conv2D)          (None, 4, 4, 128)    147584      ['add_5[0][0]']                  \n",
      "                                                                                                  \n",
      " batch_normalization_7 (BatchNo  (None, 4, 4, 128)   512         ['block1_conv3[0][0]']           \n",
      " rmalization)                                                                                     \n",
      "                                                                                                  \n",
      " block1_1_conv3 (Conv2D)        (None, 4, 4, 128)    147584      ['batch_normalization_7[0][0]']  \n",
      "                                                                                                  \n",
      " add_6 (Add)                    (None, 4, 4, 128)    0           ['block1_1_conv3[0][0]',         \n",
      "                                                                  'add_5[0][0]']                  \n",
      "                                                                                                  \n",
      " block1_pooling (MaxPooling2D)  (None, 2, 2, 128)    0           ['add_6[0][0]']                  \n",
      "                                                                                                  \n",
      " block2_conv0 (Conv2D)          (None, 2, 2, 256)    295168      ['block1_pooling[0][0]']         \n",
      "                                                                                                  \n",
      " batch_normalization_8 (BatchNo  (None, 2, 2, 256)   1024        ['block2_conv0[0][0]']           \n",
      " rmalization)                                                                                     \n",
      "                                                                                                  \n",
      " block2_1_conv0 (Conv2D)        (None, 2, 2, 256)    590080      ['batch_normalization_8[0][0]']  \n",
      "                                                                                                  \n",
      " conv2d_2 (Conv2D)              (None, 2, 2, 256)    33024       ['block1_pooling[0][0]']         \n",
      "                                                                                                  \n",
      " add_7 (Add)                    (None, 2, 2, 256)    0           ['block2_1_conv0[0][0]',         \n",
      "                                                                  'conv2d_2[0][0]']               \n",
      "                                                                                                  \n",
      " block2_conv1 (Conv2D)          (None, 2, 2, 256)    590080      ['add_7[0][0]']                  \n",
      "                                                                                                  \n",
      " batch_normalization_9 (BatchNo  (None, 2, 2, 256)   1024        ['block2_conv1[0][0]']           \n",
      " rmalization)                                                                                     \n",
      "                                                                                                  \n",
      " block2_1_conv1 (Conv2D)        (None, 2, 2, 256)    590080      ['batch_normalization_9[0][0]']  \n",
      "                                                                                                  \n",
      " add_8 (Add)                    (None, 2, 2, 256)    0           ['block2_1_conv1[0][0]',         \n",
      "                                                                  'add_7[0][0]']                  \n",
      "                                                                                                  \n",
      " block2_conv2 (Conv2D)          (None, 2, 2, 256)    590080      ['add_8[0][0]']                  \n",
      "                                                                                                  \n",
      " batch_normalization_10 (BatchN  (None, 2, 2, 256)   1024        ['block2_conv2[0][0]']           \n",
      " ormalization)                                                                                    \n",
      "                                                                                                  \n",
      " block2_1_conv2 (Conv2D)        (None, 2, 2, 256)    590080      ['batch_normalization_10[0][0]'] \n",
      "                                                                                                  \n",
      " add_9 (Add)                    (None, 2, 2, 256)    0           ['block2_1_conv2[0][0]',         \n",
      "                                                                  'add_8[0][0]']                  \n",
      "                                                                                                  \n",
      " block2_conv3 (Conv2D)          (None, 2, 2, 256)    590080      ['add_9[0][0]']                  \n",
      "                                                                                                  \n",
      " batch_normalization_11 (BatchN  (None, 2, 2, 256)   1024        ['block2_conv3[0][0]']           \n",
      " ormalization)                                                                                    \n",
      "                                                                                                  \n",
      " block2_1_conv3 (Conv2D)        (None, 2, 2, 256)    590080      ['batch_normalization_11[0][0]'] \n",
      "                                                                                                  \n",
      " add_10 (Add)                   (None, 2, 2, 256)    0           ['block2_1_conv3[0][0]',         \n",
      "                                                                  'add_9[0][0]']                  \n",
      "                                                                                                  \n",
      " block2_conv4 (Conv2D)          (None, 2, 2, 256)    590080      ['add_10[0][0]']                 \n",
      "                                                                                                  \n",
      " batch_normalization_12 (BatchN  (None, 2, 2, 256)   1024        ['block2_conv4[0][0]']           \n",
      " ormalization)                                                                                    \n",
      "                                                                                                  \n",
      " block2_1_conv4 (Conv2D)        (None, 2, 2, 256)    590080      ['batch_normalization_12[0][0]'] \n",
      "                                                                                                  \n",
      " add_11 (Add)                   (None, 2, 2, 256)    0           ['block2_1_conv4[0][0]',         \n",
      "                                                                  'add_10[0][0]']                 \n",
      "                                                                                                  \n",
      " block2_conv5 (Conv2D)          (None, 2, 2, 256)    590080      ['add_11[0][0]']                 \n",
      "                                                                                                  \n",
      " batch_normalization_13 (BatchN  (None, 2, 2, 256)   1024        ['block2_conv5[0][0]']           \n",
      " ormalization)                                                                                    \n",
      "                                                                                                  \n",
      " block2_1_conv5 (Conv2D)        (None, 2, 2, 256)    590080      ['batch_normalization_13[0][0]'] \n",
      "                                                                                                  \n",
      " add_12 (Add)                   (None, 2, 2, 256)    0           ['block2_1_conv5[0][0]',         \n",
      "                                                                  'add_11[0][0]']                 \n",
      "                                                                                                  \n",
      " block2_pooling (MaxPooling2D)  (None, 1, 1, 256)    0           ['add_12[0][0]']                 \n",
      "                                                                                                  \n",
      " block3_conv0 (Conv2D)          (None, 1, 1, 512)    1180160     ['block2_pooling[0][0]']         \n",
      "                                                                                                  \n",
      " batch_normalization_14 (BatchN  (None, 1, 1, 512)   2048        ['block3_conv0[0][0]']           \n",
      " ormalization)                                                                                    \n",
      "                                                                                                  \n",
      " block3_1_conv0 (Conv2D)        (None, 1, 1, 512)    2359808     ['batch_normalization_14[0][0]'] \n",
      "                                                                                                  \n",
      " conv2d_3 (Conv2D)              (None, 1, 1, 512)    131584      ['block2_pooling[0][0]']         \n",
      "                                                                                                  \n",
      " add_13 (Add)                   (None, 1, 1, 512)    0           ['block3_1_conv0[0][0]',         \n",
      "                                                                  'conv2d_3[0][0]']               \n",
      "                                                                                                  \n",
      " block3_conv1 (Conv2D)          (None, 1, 1, 512)    2359808     ['add_13[0][0]']                 \n",
      "                                                                                                  \n",
      " batch_normalization_15 (BatchN  (None, 1, 1, 512)   2048        ['block3_conv1[0][0]']           \n",
      " ormalization)                                                                                    \n",
      "                                                                                                  \n",
      " block3_1_conv1 (Conv2D)        (None, 1, 1, 512)    2359808     ['batch_normalization_15[0][0]'] \n",
      "                                                                                                  \n",
      " add_14 (Add)                   (None, 1, 1, 512)    0           ['block3_1_conv1[0][0]',         \n",
      "                                                                  'add_13[0][0]']                 \n",
      "                                                                                                  \n",
      " block3_conv2 (Conv2D)          (None, 1, 1, 512)    2359808     ['add_14[0][0]']                 \n",
      "                                                                                                  \n",
      " batch_normalization_16 (BatchN  (None, 1, 1, 512)   2048        ['block3_conv2[0][0]']           \n",
      " ormalization)                                                                                    \n",
      "                                                                                                  \n",
      " block3_1_conv2 (Conv2D)        (None, 1, 1, 512)    2359808     ['batch_normalization_16[0][0]'] \n",
      "                                                                                                  \n",
      " add_15 (Add)                   (None, 1, 1, 512)    0           ['block3_1_conv2[0][0]',         \n",
      "                                                                  'add_14[0][0]']                 \n",
      "                                                                                                  \n",
      " average_pooling2d (AveragePool  (None, 1, 1, 512)   0           ['add_15[0][0]']                 \n",
      " ing2D)                                                                                           \n",
      "                                                                                                  \n",
      " flatten (Flatten)              (None, 512)          0           ['average_pooling2d[0][0]']      \n",
      "                                                                                                  \n",
      " predictions (Dense)            (None, 10)           5130        ['flatten[0][0]']                \n",
      "                                                                                                  \n",
      "==================================================================================================\n",
      "Total params: 21,288,010\n",
      "Trainable params: 21,280,330\n",
      "Non-trainable params: 7,680\n",
      "__________________________________________________________________________________________________\n"
     ]
    }
   ],
   "source": [
    "resnet_34_plain = build_resnet(input_shape=(32, 32,3), is_50=False, is_plain=True)\n",
    "resnet_34_plain.summary()"
   ]
  },
  {
   "cell_type": "code",
   "execution_count": 5,
   "metadata": {},
   "outputs": [
    {
     "name": "stdout",
     "output_type": "stream",
     "text": [
      "Model: \"model_1\"\n",
      "__________________________________________________________________________________________________\n",
      " Layer (type)                   Output Shape         Param #     Connected to                     \n",
      "==================================================================================================\n",
      " input_2 (InputLayer)           [(None, 32, 32, 3)]  0           []                               \n",
      "                                                                                                  \n",
      " conv2d_4 (Conv2D)              (None, 16, 16, 64)   832         ['input_2[0][0]']                \n",
      "                                                                                                  \n",
      " batch_normalization_17 (BatchN  (None, 16, 16, 64)  256         ['conv2d_4[0][0]']               \n",
      " ormalization)                                                                                    \n",
      "                                                                                                  \n",
      " max_pooling2d_1 (MaxPooling2D)  (None, 8, 8, 64)    0           ['batch_normalization_17[0][0]'] \n",
      "                                                                                                  \n",
      " block0_conv0 (Conv2D)          (None, 8, 8, 64)     36928       ['max_pooling2d_1[0][0]']        \n",
      "                                                                                                  \n",
      " batch_normalization_18 (BatchN  (None, 8, 8, 64)    256         ['block0_conv0[0][0]']           \n",
      " ormalization)                                                                                    \n",
      "                                                                                                  \n",
      " block0_1_conv0 (Conv2D)        (None, 8, 8, 64)     36928       ['batch_normalization_18[0][0]'] \n",
      "                                                                                                  \n",
      " add_16 (Add)                   (None, 8, 8, 64)     0           ['block0_1_conv0[0][0]',         \n",
      "                                                                  'max_pooling2d_1[0][0]']        \n",
      "                                                                                                  \n",
      " block0_conv1 (Conv2D)          (None, 8, 8, 64)     36928       ['add_16[0][0]']                 \n",
      "                                                                                                  \n",
      " batch_normalization_19 (BatchN  (None, 8, 8, 64)    256         ['block0_conv1[0][0]']           \n",
      " ormalization)                                                                                    \n",
      "                                                                                                  \n",
      " block0_1_conv1 (Conv2D)        (None, 8, 8, 64)     36928       ['batch_normalization_19[0][0]'] \n",
      "                                                                                                  \n",
      " add_17 (Add)                   (None, 8, 8, 64)     0           ['block0_1_conv1[0][0]',         \n",
      "                                                                  'add_16[0][0]']                 \n",
      "                                                                                                  \n",
      " block0_conv2 (Conv2D)          (None, 8, 8, 64)     36928       ['add_17[0][0]']                 \n",
      "                                                                                                  \n",
      " batch_normalization_20 (BatchN  (None, 8, 8, 64)    256         ['block0_conv2[0][0]']           \n",
      " ormalization)                                                                                    \n",
      "                                                                                                  \n",
      " block0_1_conv2 (Conv2D)        (None, 8, 8, 64)     36928       ['batch_normalization_20[0][0]'] \n",
      "                                                                                                  \n",
      " add_18 (Add)                   (None, 8, 8, 64)     0           ['block0_1_conv2[0][0]',         \n",
      "                                                                  'add_17[0][0]']                 \n",
      "                                                                                                  \n",
      " block0_pooling (MaxPooling2D)  (None, 4, 4, 64)     0           ['add_18[0][0]']                 \n",
      "                                                                                                  \n",
      " block1_conv0 (Conv2D)          (None, 4, 4, 128)    73856       ['block0_pooling[0][0]']         \n",
      "                                                                                                  \n",
      " batch_normalization_21 (BatchN  (None, 4, 4, 128)   512         ['block1_conv0[0][0]']           \n",
      " ormalization)                                                                                    \n",
      "                                                                                                  \n",
      " block1_1_conv0 (Conv2D)        (None, 4, 4, 128)    147584      ['batch_normalization_21[0][0]'] \n",
      "                                                                                                  \n",
      " conv2d_5 (Conv2D)              (None, 4, 4, 128)    8320        ['block0_pooling[0][0]']         \n",
      "                                                                                                  \n",
      " add_19 (Add)                   (None, 4, 4, 128)    0           ['block1_1_conv0[0][0]',         \n",
      "                                                                  'conv2d_5[0][0]']               \n",
      "                                                                                                  \n",
      " block1_conv1 (Conv2D)          (None, 4, 4, 128)    147584      ['add_19[0][0]']                 \n",
      "                                                                                                  \n",
      " batch_normalization_22 (BatchN  (None, 4, 4, 128)   512         ['block1_conv1[0][0]']           \n",
      " ormalization)                                                                                    \n",
      "                                                                                                  \n",
      " block1_1_conv1 (Conv2D)        (None, 4, 4, 128)    147584      ['batch_normalization_22[0][0]'] \n",
      "                                                                                                  \n",
      " add_20 (Add)                   (None, 4, 4, 128)    0           ['block1_1_conv1[0][0]',         \n",
      "                                                                  'add_19[0][0]']                 \n",
      "                                                                                                  \n",
      " block1_conv2 (Conv2D)          (None, 4, 4, 128)    147584      ['add_20[0][0]']                 \n",
      "                                                                                                  \n",
      " batch_normalization_23 (BatchN  (None, 4, 4, 128)   512         ['block1_conv2[0][0]']           \n",
      " ormalization)                                                                                    \n",
      "                                                                                                  \n",
      " block1_1_conv2 (Conv2D)        (None, 4, 4, 128)    147584      ['batch_normalization_23[0][0]'] \n",
      "                                                                                                  \n",
      " add_21 (Add)                   (None, 4, 4, 128)    0           ['block1_1_conv2[0][0]',         \n",
      "                                                                  'add_20[0][0]']                 \n",
      "                                                                                                  \n",
      " block1_conv3 (Conv2D)          (None, 4, 4, 128)    147584      ['add_21[0][0]']                 \n",
      "                                                                                                  \n",
      " batch_normalization_24 (BatchN  (None, 4, 4, 128)   512         ['block1_conv3[0][0]']           \n",
      " ormalization)                                                                                    \n",
      "                                                                                                  \n",
      " block1_1_conv3 (Conv2D)        (None, 4, 4, 128)    147584      ['batch_normalization_24[0][0]'] \n",
      "                                                                                                  \n",
      " add_22 (Add)                   (None, 4, 4, 128)    0           ['block1_1_conv3[0][0]',         \n",
      "                                                                  'add_21[0][0]']                 \n",
      "                                                                                                  \n",
      " block1_pooling (MaxPooling2D)  (None, 2, 2, 128)    0           ['add_22[0][0]']                 \n",
      "                                                                                                  \n",
      " block2_conv0 (Conv2D)          (None, 2, 2, 256)    295168      ['block1_pooling[0][0]']         \n",
      "                                                                                                  \n",
      " batch_normalization_25 (BatchN  (None, 2, 2, 256)   1024        ['block2_conv0[0][0]']           \n",
      " ormalization)                                                                                    \n",
      "                                                                                                  \n",
      " block2_1_conv0 (Conv2D)        (None, 2, 2, 256)    590080      ['batch_normalization_25[0][0]'] \n",
      "                                                                                                  \n",
      " conv2d_6 (Conv2D)              (None, 2, 2, 256)    33024       ['block1_pooling[0][0]']         \n",
      "                                                                                                  \n",
      " add_23 (Add)                   (None, 2, 2, 256)    0           ['block2_1_conv0[0][0]',         \n",
      "                                                                  'conv2d_6[0][0]']               \n",
      "                                                                                                  \n",
      " block2_conv1 (Conv2D)          (None, 2, 2, 256)    590080      ['add_23[0][0]']                 \n",
      "                                                                                                  \n",
      " batch_normalization_26 (BatchN  (None, 2, 2, 256)   1024        ['block2_conv1[0][0]']           \n",
      " ormalization)                                                                                    \n",
      "                                                                                                  \n",
      " block2_1_conv1 (Conv2D)        (None, 2, 2, 256)    590080      ['batch_normalization_26[0][0]'] \n",
      "                                                                                                  \n",
      " add_24 (Add)                   (None, 2, 2, 256)    0           ['block2_1_conv1[0][0]',         \n",
      "                                                                  'add_23[0][0]']                 \n",
      "                                                                                                  \n",
      " block2_conv2 (Conv2D)          (None, 2, 2, 256)    590080      ['add_24[0][0]']                 \n",
      "                                                                                                  \n",
      " batch_normalization_27 (BatchN  (None, 2, 2, 256)   1024        ['block2_conv2[0][0]']           \n",
      " ormalization)                                                                                    \n",
      "                                                                                                  \n",
      " block2_1_conv2 (Conv2D)        (None, 2, 2, 256)    590080      ['batch_normalization_27[0][0]'] \n",
      "                                                                                                  \n",
      " add_25 (Add)                   (None, 2, 2, 256)    0           ['block2_1_conv2[0][0]',         \n",
      "                                                                  'add_24[0][0]']                 \n",
      "                                                                                                  \n",
      " block2_conv3 (Conv2D)          (None, 2, 2, 256)    590080      ['add_25[0][0]']                 \n",
      "                                                                                                  \n",
      " batch_normalization_28 (BatchN  (None, 2, 2, 256)   1024        ['block2_conv3[0][0]']           \n",
      " ormalization)                                                                                    \n",
      "                                                                                                  \n",
      " block2_1_conv3 (Conv2D)        (None, 2, 2, 256)    590080      ['batch_normalization_28[0][0]'] \n",
      "                                                                                                  \n",
      " add_26 (Add)                   (None, 2, 2, 256)    0           ['block2_1_conv3[0][0]',         \n",
      "                                                                  'add_25[0][0]']                 \n",
      "                                                                                                  \n",
      " block2_conv4 (Conv2D)          (None, 2, 2, 256)    590080      ['add_26[0][0]']                 \n",
      "                                                                                                  \n",
      " batch_normalization_29 (BatchN  (None, 2, 2, 256)   1024        ['block2_conv4[0][0]']           \n",
      " ormalization)                                                                                    \n",
      "                                                                                                  \n",
      " block2_1_conv4 (Conv2D)        (None, 2, 2, 256)    590080      ['batch_normalization_29[0][0]'] \n",
      "                                                                                                  \n",
      " add_27 (Add)                   (None, 2, 2, 256)    0           ['block2_1_conv4[0][0]',         \n",
      "                                                                  'add_26[0][0]']                 \n",
      "                                                                                                  \n",
      " block2_conv5 (Conv2D)          (None, 2, 2, 256)    590080      ['add_27[0][0]']                 \n",
      "                                                                                                  \n",
      " batch_normalization_30 (BatchN  (None, 2, 2, 256)   1024        ['block2_conv5[0][0]']           \n",
      " ormalization)                                                                                    \n",
      "                                                                                                  \n",
      " block2_1_conv5 (Conv2D)        (None, 2, 2, 256)    590080      ['batch_normalization_30[0][0]'] \n",
      "                                                                                                  \n",
      " add_28 (Add)                   (None, 2, 2, 256)    0           ['block2_1_conv5[0][0]',         \n",
      "                                                                  'add_27[0][0]']                 \n",
      "                                                                                                  \n",
      " block2_pooling (MaxPooling2D)  (None, 1, 1, 256)    0           ['add_28[0][0]']                 \n",
      "                                                                                                  \n",
      " block3_conv0 (Conv2D)          (None, 1, 1, 512)    1180160     ['block2_pooling[0][0]']         \n",
      "                                                                                                  \n",
      " batch_normalization_31 (BatchN  (None, 1, 1, 512)   2048        ['block3_conv0[0][0]']           \n",
      " ormalization)                                                                                    \n",
      "                                                                                                  \n",
      " block3_1_conv0 (Conv2D)        (None, 1, 1, 512)    2359808     ['batch_normalization_31[0][0]'] \n",
      "                                                                                                  \n",
      " conv2d_7 (Conv2D)              (None, 1, 1, 512)    131584      ['block2_pooling[0][0]']         \n",
      "                                                                                                  \n",
      " add_29 (Add)                   (None, 1, 1, 512)    0           ['block3_1_conv0[0][0]',         \n",
      "                                                                  'conv2d_7[0][0]']               \n",
      "                                                                                                  \n",
      " block3_conv1 (Conv2D)          (None, 1, 1, 512)    2359808     ['add_29[0][0]']                 \n",
      "                                                                                                  \n",
      " batch_normalization_32 (BatchN  (None, 1, 1, 512)   2048        ['block3_conv1[0][0]']           \n",
      " ormalization)                                                                                    \n",
      "                                                                                                  \n",
      " block3_1_conv1 (Conv2D)        (None, 1, 1, 512)    2359808     ['batch_normalization_32[0][0]'] \n",
      "                                                                                                  \n",
      " add_30 (Add)                   (None, 1, 1, 512)    0           ['block3_1_conv1[0][0]',         \n",
      "                                                                  'add_29[0][0]']                 \n",
      "                                                                                                  \n",
      " block3_conv2 (Conv2D)          (None, 1, 1, 512)    2359808     ['add_30[0][0]']                 \n",
      "                                                                                                  \n",
      " batch_normalization_33 (BatchN  (None, 1, 1, 512)   2048        ['block3_conv2[0][0]']           \n",
      " ormalization)                                                                                    \n",
      "                                                                                                  \n",
      " block3_1_conv2 (Conv2D)        (None, 1, 1, 512)    2359808     ['batch_normalization_33[0][0]'] \n",
      "                                                                                                  \n",
      " add_31 (Add)                   (None, 1, 1, 512)    0           ['block3_1_conv2[0][0]',         \n",
      "                                                                  'add_30[0][0]']                 \n",
      "                                                                                                  \n",
      " average_pooling2d_1 (AveragePo  (None, 1, 1, 512)   0           ['add_31[0][0]']                 \n",
      " oling2D)                                                                                         \n",
      "                                                                                                  \n",
      " flatten (Flatten)              (None, 512)          0           ['average_pooling2d_1[0][0]']    \n",
      "                                                                                                  \n",
      " predictions (Dense)            (None, 10)           5130        ['flatten[0][0]']                \n",
      "                                                                                                  \n",
      "==================================================================================================\n",
      "Total params: 21,288,010\n",
      "Trainable params: 21,280,330\n",
      "Non-trainable params: 7,680\n",
      "__________________________________________________________________________________________________\n"
     ]
    }
   ],
   "source": [
    "resnet_34_res = build_resnet(input_shape=(32, 32,3), is_50=False, is_plain=False)\n",
    "resnet_34_res.summary()"
   ]
  },
  {
   "cell_type": "code",
   "execution_count": 6,
   "metadata": {},
   "outputs": [
    {
     "name": "stdout",
     "output_type": "stream",
     "text": [
      "Model: \"model_2\"\n",
      "__________________________________________________________________________________________________\n",
      " Layer (type)                   Output Shape         Param #     Connected to                     \n",
      "==================================================================================================\n",
      " input_3 (InputLayer)           [(None, 32, 32, 3)]  0           []                               \n",
      "                                                                                                  \n",
      " conv2d_8 (Conv2D)              (None, 16, 16, 64)   832         ['input_3[0][0]']                \n",
      "                                                                                                  \n",
      " batch_normalization_34 (BatchN  (None, 16, 16, 64)  256         ['conv2d_8[0][0]']               \n",
      " ormalization)                                                                                    \n",
      "                                                                                                  \n",
      " max_pooling2d_2 (MaxPooling2D)  (None, 8, 8, 64)    0           ['batch_normalization_34[0][0]'] \n",
      "                                                                                                  \n",
      " block0_conv0 (Conv2D)          (None, 8, 8, 64)     36928       ['max_pooling2d_2[0][0]']        \n",
      "                                                                                                  \n",
      " batch_normalization_35 (BatchN  (None, 8, 8, 64)    256         ['block0_conv0[0][0]']           \n",
      " ormalization)                                                                                    \n",
      "                                                                                                  \n",
      " block0_1_conv0 (Conv2D)        (None, 8, 8, 64)     36928       ['batch_normalization_35[0][0]'] \n",
      "                                                                                                  \n",
      " add_32 (Add)                   (None, 8, 8, 64)     0           ['block0_1_conv0[0][0]',         \n",
      "                                                                  'max_pooling2d_2[0][0]']        \n",
      "                                                                                                  \n",
      " block0_conv1 (Conv2D)          (None, 8, 8, 64)     36928       ['add_32[0][0]']                 \n",
      "                                                                                                  \n",
      " batch_normalization_36 (BatchN  (None, 8, 8, 64)    256         ['block0_conv1[0][0]']           \n",
      " ormalization)                                                                                    \n",
      "                                                                                                  \n",
      " block0_1_conv1 (Conv2D)        (None, 8, 8, 64)     36928       ['batch_normalization_36[0][0]'] \n",
      "                                                                                                  \n",
      " add_33 (Add)                   (None, 8, 8, 64)     0           ['block0_1_conv1[0][0]',         \n",
      "                                                                  'add_32[0][0]']                 \n",
      "                                                                                                  \n",
      " block0_conv2 (Conv2D)          (None, 8, 8, 64)     36928       ['add_33[0][0]']                 \n",
      "                                                                                                  \n",
      " batch_normalization_37 (BatchN  (None, 8, 8, 64)    256         ['block0_conv2[0][0]']           \n",
      " ormalization)                                                                                    \n",
      "                                                                                                  \n",
      " block0_1_conv2 (Conv2D)        (None, 8, 8, 64)     36928       ['batch_normalization_37[0][0]'] \n",
      "                                                                                                  \n",
      " add_34 (Add)                   (None, 8, 8, 64)     0           ['block0_1_conv2[0][0]',         \n",
      "                                                                  'add_33[0][0]']                 \n",
      "                                                                                                  \n",
      " block0_pooling (MaxPooling2D)  (None, 4, 4, 64)     0           ['add_34[0][0]']                 \n",
      "                                                                                                  \n",
      " block1_conv0 (Conv2D)          (None, 4, 4, 128)    73856       ['block0_pooling[0][0]']         \n",
      "                                                                                                  \n",
      " batch_normalization_38 (BatchN  (None, 4, 4, 128)   512         ['block1_conv0[0][0]']           \n",
      " ormalization)                                                                                    \n",
      "                                                                                                  \n",
      " block1_1_conv0 (Conv2D)        (None, 4, 4, 128)    147584      ['batch_normalization_38[0][0]'] \n",
      "                                                                                                  \n",
      " conv2d_9 (Conv2D)              (None, 4, 4, 128)    8320        ['block0_pooling[0][0]']         \n",
      "                                                                                                  \n",
      " add_35 (Add)                   (None, 4, 4, 128)    0           ['block1_1_conv0[0][0]',         \n",
      "                                                                  'conv2d_9[0][0]']               \n",
      "                                                                                                  \n",
      " block1_conv1 (Conv2D)          (None, 4, 4, 128)    147584      ['add_35[0][0]']                 \n",
      "                                                                                                  \n",
      " batch_normalization_39 (BatchN  (None, 4, 4, 128)   512         ['block1_conv1[0][0]']           \n",
      " ormalization)                                                                                    \n",
      "                                                                                                  \n",
      " block1_1_conv1 (Conv2D)        (None, 4, 4, 128)    147584      ['batch_normalization_39[0][0]'] \n",
      "                                                                                                  \n",
      " add_36 (Add)                   (None, 4, 4, 128)    0           ['block1_1_conv1[0][0]',         \n",
      "                                                                  'add_35[0][0]']                 \n",
      "                                                                                                  \n",
      " block1_conv2 (Conv2D)          (None, 4, 4, 128)    147584      ['add_36[0][0]']                 \n",
      "                                                                                                  \n",
      " batch_normalization_40 (BatchN  (None, 4, 4, 128)   512         ['block1_conv2[0][0]']           \n",
      " ormalization)                                                                                    \n",
      "                                                                                                  \n",
      " block1_1_conv2 (Conv2D)        (None, 4, 4, 128)    147584      ['batch_normalization_40[0][0]'] \n",
      "                                                                                                  \n",
      " add_37 (Add)                   (None, 4, 4, 128)    0           ['block1_1_conv2[0][0]',         \n",
      "                                                                  'add_36[0][0]']                 \n",
      "                                                                                                  \n",
      " block1_conv3 (Conv2D)          (None, 4, 4, 128)    147584      ['add_37[0][0]']                 \n",
      "                                                                                                  \n",
      " batch_normalization_41 (BatchN  (None, 4, 4, 128)   512         ['block1_conv3[0][0]']           \n",
      " ormalization)                                                                                    \n",
      "                                                                                                  \n",
      " block1_1_conv3 (Conv2D)        (None, 4, 4, 128)    147584      ['batch_normalization_41[0][0]'] \n",
      "                                                                                                  \n",
      " add_38 (Add)                   (None, 4, 4, 128)    0           ['block1_1_conv3[0][0]',         \n",
      "                                                                  'add_37[0][0]']                 \n",
      "                                                                                                  \n",
      " block1_pooling (MaxPooling2D)  (None, 2, 2, 128)    0           ['add_38[0][0]']                 \n",
      "                                                                                                  \n",
      " block2_conv0 (Conv2D)          (None, 2, 2, 256)    295168      ['block1_pooling[0][0]']         \n",
      "                                                                                                  \n",
      " batch_normalization_42 (BatchN  (None, 2, 2, 256)   1024        ['block2_conv0[0][0]']           \n",
      " ormalization)                                                                                    \n",
      "                                                                                                  \n",
      " block2_1_conv0 (Conv2D)        (None, 2, 2, 256)    590080      ['batch_normalization_42[0][0]'] \n",
      "                                                                                                  \n",
      " conv2d_10 (Conv2D)             (None, 2, 2, 256)    33024       ['block1_pooling[0][0]']         \n",
      "                                                                                                  \n",
      " add_39 (Add)                   (None, 2, 2, 256)    0           ['block2_1_conv0[0][0]',         \n",
      "                                                                  'conv2d_10[0][0]']              \n",
      "                                                                                                  \n",
      " block2_conv1 (Conv2D)          (None, 2, 2, 256)    590080      ['add_39[0][0]']                 \n",
      "                                                                                                  \n",
      " batch_normalization_43 (BatchN  (None, 2, 2, 256)   1024        ['block2_conv1[0][0]']           \n",
      " ormalization)                                                                                    \n",
      "                                                                                                  \n",
      " block2_1_conv1 (Conv2D)        (None, 2, 2, 256)    590080      ['batch_normalization_43[0][0]'] \n",
      "                                                                                                  \n",
      " add_40 (Add)                   (None, 2, 2, 256)    0           ['block2_1_conv1[0][0]',         \n",
      "                                                                  'add_39[0][0]']                 \n",
      "                                                                                                  \n",
      " block2_conv2 (Conv2D)          (None, 2, 2, 256)    590080      ['add_40[0][0]']                 \n",
      "                                                                                                  \n",
      " batch_normalization_44 (BatchN  (None, 2, 2, 256)   1024        ['block2_conv2[0][0]']           \n",
      " ormalization)                                                                                    \n",
      "                                                                                                  \n",
      " block2_1_conv2 (Conv2D)        (None, 2, 2, 256)    590080      ['batch_normalization_44[0][0]'] \n",
      "                                                                                                  \n",
      " add_41 (Add)                   (None, 2, 2, 256)    0           ['block2_1_conv2[0][0]',         \n",
      "                                                                  'add_40[0][0]']                 \n",
      "                                                                                                  \n",
      " block2_conv3 (Conv2D)          (None, 2, 2, 256)    590080      ['add_41[0][0]']                 \n",
      "                                                                                                  \n",
      " batch_normalization_45 (BatchN  (None, 2, 2, 256)   1024        ['block2_conv3[0][0]']           \n",
      " ormalization)                                                                                    \n",
      "                                                                                                  \n",
      " block2_1_conv3 (Conv2D)        (None, 2, 2, 256)    590080      ['batch_normalization_45[0][0]'] \n",
      "                                                                                                  \n",
      " add_42 (Add)                   (None, 2, 2, 256)    0           ['block2_1_conv3[0][0]',         \n",
      "                                                                  'add_41[0][0]']                 \n",
      "                                                                                                  \n",
      " block2_conv4 (Conv2D)          (None, 2, 2, 256)    590080      ['add_42[0][0]']                 \n",
      "                                                                                                  \n",
      " batch_normalization_46 (BatchN  (None, 2, 2, 256)   1024        ['block2_conv4[0][0]']           \n",
      " ormalization)                                                                                    \n",
      "                                                                                                  \n",
      " block2_1_conv4 (Conv2D)        (None, 2, 2, 256)    590080      ['batch_normalization_46[0][0]'] \n",
      "                                                                                                  \n",
      " add_43 (Add)                   (None, 2, 2, 256)    0           ['block2_1_conv4[0][0]',         \n",
      "                                                                  'add_42[0][0]']                 \n",
      "                                                                                                  \n",
      " block2_conv5 (Conv2D)          (None, 2, 2, 256)    590080      ['add_43[0][0]']                 \n",
      "                                                                                                  \n",
      " batch_normalization_47 (BatchN  (None, 2, 2, 256)   1024        ['block2_conv5[0][0]']           \n",
      " ormalization)                                                                                    \n",
      "                                                                                                  \n",
      " block2_1_conv5 (Conv2D)        (None, 2, 2, 256)    590080      ['batch_normalization_47[0][0]'] \n",
      "                                                                                                  \n",
      " add_44 (Add)                   (None, 2, 2, 256)    0           ['block2_1_conv5[0][0]',         \n",
      "                                                                  'add_43[0][0]']                 \n",
      "                                                                                                  \n",
      " block2_pooling (MaxPooling2D)  (None, 1, 1, 256)    0           ['add_44[0][0]']                 \n",
      "                                                                                                  \n",
      " block3_conv0 (Conv2D)          (None, 1, 1, 512)    1180160     ['block2_pooling[0][0]']         \n",
      "                                                                                                  \n",
      " batch_normalization_48 (BatchN  (None, 1, 1, 512)   2048        ['block3_conv0[0][0]']           \n",
      " ormalization)                                                                                    \n",
      "                                                                                                  \n",
      " block3_1_conv0 (Conv2D)        (None, 1, 1, 512)    2359808     ['batch_normalization_48[0][0]'] \n",
      "                                                                                                  \n",
      " conv2d_11 (Conv2D)             (None, 1, 1, 512)    131584      ['block2_pooling[0][0]']         \n",
      "                                                                                                  \n",
      " add_45 (Add)                   (None, 1, 1, 512)    0           ['block3_1_conv0[0][0]',         \n",
      "                                                                  'conv2d_11[0][0]']              \n",
      "                                                                                                  \n",
      " block3_conv1 (Conv2D)          (None, 1, 1, 512)    2359808     ['add_45[0][0]']                 \n",
      "                                                                                                  \n",
      " batch_normalization_49 (BatchN  (None, 1, 1, 512)   2048        ['block3_conv1[0][0]']           \n",
      " ormalization)                                                                                    \n",
      "                                                                                                  \n",
      " block3_1_conv1 (Conv2D)        (None, 1, 1, 512)    2359808     ['batch_normalization_49[0][0]'] \n",
      "                                                                                                  \n",
      " add_46 (Add)                   (None, 1, 1, 512)    0           ['block3_1_conv1[0][0]',         \n",
      "                                                                  'add_45[0][0]']                 \n",
      "                                                                                                  \n",
      " block3_conv2 (Conv2D)          (None, 1, 1, 512)    2359808     ['add_46[0][0]']                 \n",
      "                                                                                                  \n",
      " batch_normalization_50 (BatchN  (None, 1, 1, 512)   2048        ['block3_conv2[0][0]']           \n",
      " ormalization)                                                                                    \n",
      "                                                                                                  \n",
      " block3_1_conv2 (Conv2D)        (None, 1, 1, 512)    2359808     ['batch_normalization_50[0][0]'] \n",
      "                                                                                                  \n",
      " add_47 (Add)                   (None, 1, 1, 512)    0           ['block3_1_conv2[0][0]',         \n",
      "                                                                  'add_46[0][0]']                 \n",
      "                                                                                                  \n",
      " average_pooling2d_2 (AveragePo  (None, 1, 1, 512)   0           ['add_47[0][0]']                 \n",
      " oling2D)                                                                                         \n",
      "                                                                                                  \n",
      " flatten (Flatten)              (None, 512)          0           ['average_pooling2d_2[0][0]']    \n",
      "                                                                                                  \n",
      " predictions (Dense)            (None, 10)           5130        ['flatten[0][0]']                \n",
      "                                                                                                  \n",
      "==================================================================================================\n",
      "Total params: 21,288,010\n",
      "Trainable params: 21,280,330\n",
      "Non-trainable params: 7,680\n",
      "__________________________________________________________________________________________________\n"
     ]
    }
   ],
   "source": [
    "resnet_50_plain = build_resnet(input_shape=(32, 32,3), is_50=True, is_plain=True)\n",
    "resnet_50_plain.summary()"
   ]
  },
  {
   "cell_type": "code",
   "execution_count": 7,
   "metadata": {},
   "outputs": [
    {
     "name": "stdout",
     "output_type": "stream",
     "text": [
      "Model: \"model_3\"\n",
      "__________________________________________________________________________________________________\n",
      " Layer (type)                   Output Shape         Param #     Connected to                     \n",
      "==================================================================================================\n",
      " input_4 (InputLayer)           [(None, 32, 32, 3)]  0           []                               \n",
      "                                                                                                  \n",
      " conv2d_12 (Conv2D)             (None, 16, 16, 64)   832         ['input_4[0][0]']                \n",
      "                                                                                                  \n",
      " batch_normalization_51 (BatchN  (None, 16, 16, 64)  256         ['conv2d_12[0][0]']              \n",
      " ormalization)                                                                                    \n",
      "                                                                                                  \n",
      " max_pooling2d_3 (MaxPooling2D)  (None, 8, 8, 64)    0           ['batch_normalization_51[0][0]'] \n",
      "                                                                                                  \n",
      " block0_conv0 (Conv2D)          (None, 8, 8, 64)     36928       ['max_pooling2d_3[0][0]']        \n",
      "                                                                                                  \n",
      " batch_normalization_52 (BatchN  (None, 8, 8, 64)    256         ['block0_conv0[0][0]']           \n",
      " ormalization)                                                                                    \n",
      "                                                                                                  \n",
      " block0_1_conv0 (Conv2D)        (None, 8, 8, 64)     36928       ['batch_normalization_52[0][0]'] \n",
      "                                                                                                  \n",
      " add_48 (Add)                   (None, 8, 8, 64)     0           ['block0_1_conv0[0][0]',         \n",
      "                                                                  'max_pooling2d_3[0][0]']        \n",
      "                                                                                                  \n",
      " block0_conv1 (Conv2D)          (None, 8, 8, 64)     36928       ['add_48[0][0]']                 \n",
      "                                                                                                  \n",
      " batch_normalization_53 (BatchN  (None, 8, 8, 64)    256         ['block0_conv1[0][0]']           \n",
      " ormalization)                                                                                    \n",
      "                                                                                                  \n",
      " block0_1_conv1 (Conv2D)        (None, 8, 8, 64)     36928       ['batch_normalization_53[0][0]'] \n",
      "                                                                                                  \n",
      " add_49 (Add)                   (None, 8, 8, 64)     0           ['block0_1_conv1[0][0]',         \n",
      "                                                                  'add_48[0][0]']                 \n",
      "                                                                                                  \n",
      " block0_conv2 (Conv2D)          (None, 8, 8, 64)     36928       ['add_49[0][0]']                 \n",
      "                                                                                                  \n",
      " batch_normalization_54 (BatchN  (None, 8, 8, 64)    256         ['block0_conv2[0][0]']           \n",
      " ormalization)                                                                                    \n",
      "                                                                                                  \n",
      " block0_1_conv2 (Conv2D)        (None, 8, 8, 64)     36928       ['batch_normalization_54[0][0]'] \n",
      "                                                                                                  \n",
      " add_50 (Add)                   (None, 8, 8, 64)     0           ['block0_1_conv2[0][0]',         \n",
      "                                                                  'add_49[0][0]']                 \n",
      "                                                                                                  \n",
      " block0_pooling (MaxPooling2D)  (None, 4, 4, 64)     0           ['add_50[0][0]']                 \n",
      "                                                                                                  \n",
      " block1_conv0 (Conv2D)          (None, 4, 4, 128)    73856       ['block0_pooling[0][0]']         \n",
      "                                                                                                  \n",
      " batch_normalization_55 (BatchN  (None, 4, 4, 128)   512         ['block1_conv0[0][0]']           \n",
      " ormalization)                                                                                    \n",
      "                                                                                                  \n",
      " block1_1_conv0 (Conv2D)        (None, 4, 4, 128)    147584      ['batch_normalization_55[0][0]'] \n",
      "                                                                                                  \n",
      " conv2d_13 (Conv2D)             (None, 4, 4, 128)    8320        ['block0_pooling[0][0]']         \n",
      "                                                                                                  \n",
      " add_51 (Add)                   (None, 4, 4, 128)    0           ['block1_1_conv0[0][0]',         \n",
      "                                                                  'conv2d_13[0][0]']              \n",
      "                                                                                                  \n",
      " block1_conv1 (Conv2D)          (None, 4, 4, 128)    147584      ['add_51[0][0]']                 \n",
      "                                                                                                  \n",
      " batch_normalization_56 (BatchN  (None, 4, 4, 128)   512         ['block1_conv1[0][0]']           \n",
      " ormalization)                                                                                    \n",
      "                                                                                                  \n",
      " block1_1_conv1 (Conv2D)        (None, 4, 4, 128)    147584      ['batch_normalization_56[0][0]'] \n",
      "                                                                                                  \n",
      " add_52 (Add)                   (None, 4, 4, 128)    0           ['block1_1_conv1[0][0]',         \n",
      "                                                                  'add_51[0][0]']                 \n",
      "                                                                                                  \n",
      " block1_conv2 (Conv2D)          (None, 4, 4, 128)    147584      ['add_52[0][0]']                 \n",
      "                                                                                                  \n",
      " batch_normalization_57 (BatchN  (None, 4, 4, 128)   512         ['block1_conv2[0][0]']           \n",
      " ormalization)                                                                                    \n",
      "                                                                                                  \n",
      " block1_1_conv2 (Conv2D)        (None, 4, 4, 128)    147584      ['batch_normalization_57[0][0]'] \n",
      "                                                                                                  \n",
      " add_53 (Add)                   (None, 4, 4, 128)    0           ['block1_1_conv2[0][0]',         \n",
      "                                                                  'add_52[0][0]']                 \n",
      "                                                                                                  \n",
      " block1_conv3 (Conv2D)          (None, 4, 4, 128)    147584      ['add_53[0][0]']                 \n",
      "                                                                                                  \n",
      " batch_normalization_58 (BatchN  (None, 4, 4, 128)   512         ['block1_conv3[0][0]']           \n",
      " ormalization)                                                                                    \n",
      "                                                                                                  \n",
      " block1_1_conv3 (Conv2D)        (None, 4, 4, 128)    147584      ['batch_normalization_58[0][0]'] \n",
      "                                                                                                  \n",
      " add_54 (Add)                   (None, 4, 4, 128)    0           ['block1_1_conv3[0][0]',         \n",
      "                                                                  'add_53[0][0]']                 \n",
      "                                                                                                  \n",
      " block1_pooling (MaxPooling2D)  (None, 2, 2, 128)    0           ['add_54[0][0]']                 \n",
      "                                                                                                  \n",
      " block2_conv0 (Conv2D)          (None, 2, 2, 256)    295168      ['block1_pooling[0][0]']         \n",
      "                                                                                                  \n",
      " batch_normalization_59 (BatchN  (None, 2, 2, 256)   1024        ['block2_conv0[0][0]']           \n",
      " ormalization)                                                                                    \n",
      "                                                                                                  \n",
      " block2_1_conv0 (Conv2D)        (None, 2, 2, 256)    590080      ['batch_normalization_59[0][0]'] \n",
      "                                                                                                  \n",
      " conv2d_14 (Conv2D)             (None, 2, 2, 256)    33024       ['block1_pooling[0][0]']         \n",
      "                                                                                                  \n",
      " add_55 (Add)                   (None, 2, 2, 256)    0           ['block2_1_conv0[0][0]',         \n",
      "                                                                  'conv2d_14[0][0]']              \n",
      "                                                                                                  \n",
      " block2_conv1 (Conv2D)          (None, 2, 2, 256)    590080      ['add_55[0][0]']                 \n",
      "                                                                                                  \n",
      " batch_normalization_60 (BatchN  (None, 2, 2, 256)   1024        ['block2_conv1[0][0]']           \n",
      " ormalization)                                                                                    \n",
      "                                                                                                  \n",
      " block2_1_conv1 (Conv2D)        (None, 2, 2, 256)    590080      ['batch_normalization_60[0][0]'] \n",
      "                                                                                                  \n",
      " add_56 (Add)                   (None, 2, 2, 256)    0           ['block2_1_conv1[0][0]',         \n",
      "                                                                  'add_55[0][0]']                 \n",
      "                                                                                                  \n",
      " block2_conv2 (Conv2D)          (None, 2, 2, 256)    590080      ['add_56[0][0]']                 \n",
      "                                                                                                  \n",
      " batch_normalization_61 (BatchN  (None, 2, 2, 256)   1024        ['block2_conv2[0][0]']           \n",
      " ormalization)                                                                                    \n",
      "                                                                                                  \n",
      " block2_1_conv2 (Conv2D)        (None, 2, 2, 256)    590080      ['batch_normalization_61[0][0]'] \n",
      "                                                                                                  \n",
      " add_57 (Add)                   (None, 2, 2, 256)    0           ['block2_1_conv2[0][0]',         \n",
      "                                                                  'add_56[0][0]']                 \n",
      "                                                                                                  \n",
      " block2_conv3 (Conv2D)          (None, 2, 2, 256)    590080      ['add_57[0][0]']                 \n",
      "                                                                                                  \n",
      " batch_normalization_62 (BatchN  (None, 2, 2, 256)   1024        ['block2_conv3[0][0]']           \n",
      " ormalization)                                                                                    \n",
      "                                                                                                  \n",
      " block2_1_conv3 (Conv2D)        (None, 2, 2, 256)    590080      ['batch_normalization_62[0][0]'] \n",
      "                                                                                                  \n",
      " add_58 (Add)                   (None, 2, 2, 256)    0           ['block2_1_conv3[0][0]',         \n",
      "                                                                  'add_57[0][0]']                 \n",
      "                                                                                                  \n",
      " block2_conv4 (Conv2D)          (None, 2, 2, 256)    590080      ['add_58[0][0]']                 \n",
      "                                                                                                  \n",
      " batch_normalization_63 (BatchN  (None, 2, 2, 256)   1024        ['block2_conv4[0][0]']           \n",
      " ormalization)                                                                                    \n",
      "                                                                                                  \n",
      " block2_1_conv4 (Conv2D)        (None, 2, 2, 256)    590080      ['batch_normalization_63[0][0]'] \n",
      "                                                                                                  \n",
      " add_59 (Add)                   (None, 2, 2, 256)    0           ['block2_1_conv4[0][0]',         \n",
      "                                                                  'add_58[0][0]']                 \n",
      "                                                                                                  \n",
      " block2_conv5 (Conv2D)          (None, 2, 2, 256)    590080      ['add_59[0][0]']                 \n",
      "                                                                                                  \n",
      " batch_normalization_64 (BatchN  (None, 2, 2, 256)   1024        ['block2_conv5[0][0]']           \n",
      " ormalization)                                                                                    \n",
      "                                                                                                  \n",
      " block2_1_conv5 (Conv2D)        (None, 2, 2, 256)    590080      ['batch_normalization_64[0][0]'] \n",
      "                                                                                                  \n",
      " add_60 (Add)                   (None, 2, 2, 256)    0           ['block2_1_conv5[0][0]',         \n",
      "                                                                  'add_59[0][0]']                 \n",
      "                                                                                                  \n",
      " block2_pooling (MaxPooling2D)  (None, 1, 1, 256)    0           ['add_60[0][0]']                 \n",
      "                                                                                                  \n",
      " block3_conv0 (Conv2D)          (None, 1, 1, 512)    1180160     ['block2_pooling[0][0]']         \n",
      "                                                                                                  \n",
      " batch_normalization_65 (BatchN  (None, 1, 1, 512)   2048        ['block3_conv0[0][0]']           \n",
      " ormalization)                                                                                    \n",
      "                                                                                                  \n",
      " block3_1_conv0 (Conv2D)        (None, 1, 1, 512)    2359808     ['batch_normalization_65[0][0]'] \n",
      "                                                                                                  \n",
      " conv2d_15 (Conv2D)             (None, 1, 1, 512)    131584      ['block2_pooling[0][0]']         \n",
      "                                                                                                  \n",
      " add_61 (Add)                   (None, 1, 1, 512)    0           ['block3_1_conv0[0][0]',         \n",
      "                                                                  'conv2d_15[0][0]']              \n",
      "                                                                                                  \n",
      " block3_conv1 (Conv2D)          (None, 1, 1, 512)    2359808     ['add_61[0][0]']                 \n",
      "                                                                                                  \n",
      " batch_normalization_66 (BatchN  (None, 1, 1, 512)   2048        ['block3_conv1[0][0]']           \n",
      " ormalization)                                                                                    \n",
      "                                                                                                  \n",
      " block3_1_conv1 (Conv2D)        (None, 1, 1, 512)    2359808     ['batch_normalization_66[0][0]'] \n",
      "                                                                                                  \n",
      " add_62 (Add)                   (None, 1, 1, 512)    0           ['block3_1_conv1[0][0]',         \n",
      "                                                                  'add_61[0][0]']                 \n",
      "                                                                                                  \n",
      " block3_conv2 (Conv2D)          (None, 1, 1, 512)    2359808     ['add_62[0][0]']                 \n",
      "                                                                                                  \n",
      " batch_normalization_67 (BatchN  (None, 1, 1, 512)   2048        ['block3_conv2[0][0]']           \n",
      " ormalization)                                                                                    \n",
      "                                                                                                  \n",
      " block3_1_conv2 (Conv2D)        (None, 1, 1, 512)    2359808     ['batch_normalization_67[0][0]'] \n",
      "                                                                                                  \n",
      " add_63 (Add)                   (None, 1, 1, 512)    0           ['block3_1_conv2[0][0]',         \n",
      "                                                                  'add_62[0][0]']                 \n",
      "                                                                                                  \n",
      " average_pooling2d_3 (AveragePo  (None, 1, 1, 512)   0           ['add_63[0][0]']                 \n",
      " oling2D)                                                                                         \n",
      "                                                                                                  \n",
      " flatten (Flatten)              (None, 512)          0           ['average_pooling2d_3[0][0]']    \n",
      "                                                                                                  \n",
      " predictions (Dense)            (None, 10)           5130        ['flatten[0][0]']                \n",
      "                                                                                                  \n",
      "==================================================================================================\n",
      "Total params: 21,288,010\n",
      "Trainable params: 21,280,330\n",
      "Non-trainable params: 7,680\n",
      "__________________________________________________________________________________________________\n"
     ]
    }
   ],
   "source": [
    "resnet_50_res = build_resnet(input_shape=(32, 32,3), is_50=True, is_plain=False)\n",
    "resnet_50_res.summary()"
   ]
  },
  {
   "cell_type": "code",
   "execution_count": 8,
   "metadata": {},
   "outputs": [],
   "source": [
    "def normalize_and_resize_img(image, label):\n",
    "    \"\"\"Normalizes images: `uint8` -> `float32`.\"\"\"\n",
    "    # image = tf.image.resize(image, [32, 32])\n",
    "    return tf.cast(image, tf.float32) / 255., label\n",
    "\n",
    "def apply_normalize_on_dataset(ds, is_test=False, batch_size=16):\n",
    "    ds = ds.map(\n",
    "        normalize_and_resize_img, \n",
    "        num_parallel_calls=1\n",
    "    )\n",
    "    ds = ds.batch(batch_size)\n",
    "    if not is_test:\n",
    "        ds = ds.repeat()\n",
    "        ds = ds.shuffle(200)\n",
    "    ds = ds.prefetch(tf.data.experimental.AUTOTUNE)\n",
    "    return ds"
   ]
  },
  {
   "cell_type": "code",
   "execution_count": 9,
   "metadata": {},
   "outputs": [],
   "source": [
    "BATCH_SIZE = 64\n",
    "EPOCH = 15"
   ]
  },
  {
   "cell_type": "code",
   "execution_count": 10,
   "metadata": {},
   "outputs": [
    {
     "name": "stdout",
     "output_type": "stream",
     "text": [
      "tfds.core.DatasetInfo(\n",
      "    name='cifar10',\n",
      "    full_name='cifar10/3.0.2',\n",
      "    description=\"\"\"\n",
      "    The CIFAR-10 dataset consists of 60000 32x32 colour images in 10 classes, with 6000 images per class. There are 50000 training images and 10000 test images.\n",
      "    \"\"\",\n",
      "    homepage='https://www.cs.toronto.edu/~kriz/cifar.html',\n",
      "    data_path='/home/gibeom/tensorflow_datasets/cifar10/3.0.2',\n",
      "    file_format=tfrecord,\n",
      "    download_size=162.17 MiB,\n",
      "    dataset_size=132.40 MiB,\n",
      "    features=FeaturesDict({\n",
      "        'id': Text(shape=(), dtype=string),\n",
      "        'image': Image(shape=(32, 32, 3), dtype=uint8),\n",
      "        'label': ClassLabel(shape=(), dtype=int64, num_classes=10),\n",
      "    }),\n",
      "    supervised_keys=('image', 'label'),\n",
      "    disable_shuffling=False,\n",
      "    splits={\n",
      "        'test': <SplitInfo num_examples=10000, num_shards=1>,\n",
      "        'train': <SplitInfo num_examples=50000, num_shards=1>,\n",
      "    },\n",
      "    citation=\"\"\"@TECHREPORT{Krizhevsky09learningmultiple,\n",
      "        author = {Alex Krizhevsky},\n",
      "        title = {Learning multiple layers of features from tiny images},\n",
      "        institution = {},\n",
      "        year = {2009}\n",
      "    }\"\"\",\n",
      ")\n"
     ]
    }
   ],
   "source": [
    "(ds_train, ds_test), ds_info = tfds.load(\n",
    "    'cifar10',\n",
    "    split=['train', 'test'],\n",
    "    as_supervised=True,\n",
    "    shuffle_files=True,\n",
    "    with_info=True,\n",
    ")\n",
    "ds_train = apply_normalize_on_dataset(ds_train, batch_size=BATCH_SIZE)\n",
    "ds_test = apply_normalize_on_dataset(ds_test, batch_size=BATCH_SIZE)\n",
    "print(ds_info)"
   ]
  },
  {
   "cell_type": "code",
   "execution_count": 11,
   "metadata": {},
   "outputs": [
    {
     "name": "stderr",
     "output_type": "stream",
     "text": [
      "WARNING:absl:`lr` is deprecated in Keras optimizer, please use `learning_rate` or use the legacy optimizer, e.g.,tf.keras.optimizers.legacy.SGD.\n"
     ]
    },
    {
     "name": "stdout",
     "output_type": "stream",
     "text": [
      "Epoch 1/15\n"
     ]
    },
    {
     "name": "stderr",
     "output_type": "stream",
     "text": [
      "2023-05-23 21:31:48.356396: I tensorflow/core/common_runtime/executor.cc:1197] [/device:CPU:0] (DEBUG INFO) Executor start aborting (this does not indicate an error and you can ignore this message): INVALID_ARGUMENT: You must feed a value for placeholder tensor 'Placeholder/_3' with dtype int64 and shape [1]\n",
      "\t [[{{node Placeholder/_3}}]]\n",
      "2023-05-23 21:31:48.356788: I tensorflow/core/common_runtime/executor.cc:1197] [/device:CPU:0] (DEBUG INFO) Executor start aborting (this does not indicate an error and you can ignore this message): INVALID_ARGUMENT: You must feed a value for placeholder tensor 'Placeholder/_1' with dtype string and shape [1]\n",
      "\t [[{{node Placeholder/_1}}]]\n",
      "2023-05-23 21:31:55.692380: I tensorflow/compiler/xla/stream_executor/cuda/cuda_dnn.cc:424] Loaded cuDNN version 8801\n",
      "2023-05-23 21:31:56.934655: I tensorflow/compiler/xla/stream_executor/cuda/cuda_blas.cc:637] TensorFloat-32 will be used for the matrix multiplication. This will only be logged once.\n",
      "2023-05-23 21:31:57.195426: I tensorflow/compiler/xla/service/service.cc:169] XLA service 0x7f374112f030 initialized for platform CUDA (this does not guarantee that XLA will be used). Devices:\n",
      "2023-05-23 21:31:57.195458: I tensorflow/compiler/xla/service/service.cc:177]   StreamExecutor device (0): NVIDIA GeForce RTX 3080, Compute Capability 8.6\n",
      "2023-05-23 21:31:57.237114: I ./tensorflow/compiler/jit/device_compiler.h:180] Compiled cluster using XLA!  This line is logged at most once for the lifetime of the process.\n"
     ]
    },
    {
     "name": "stdout",
     "output_type": "stream",
     "text": [
      "781/781 [==============================] - ETA: 0s - loss: 2.0563 - accuracy: 0.3457"
     ]
    },
    {
     "name": "stderr",
     "output_type": "stream",
     "text": [
      "2023-05-23 21:32:41.371548: I tensorflow/core/common_runtime/executor.cc:1197] [/device:CPU:0] (DEBUG INFO) Executor start aborting (this does not indicate an error and you can ignore this message): INVALID_ARGUMENT: You must feed a value for placeholder tensor 'Placeholder/_2' with dtype string and shape [1]\n",
      "\t [[{{node Placeholder/_2}}]]\n",
      "2023-05-23 21:32:41.371957: I tensorflow/core/common_runtime/executor.cc:1197] [/device:CPU:0] (DEBUG INFO) Executor start aborting (this does not indicate an error and you can ignore this message): INVALID_ARGUMENT: You must feed a value for placeholder tensor 'Placeholder/_1' with dtype string and shape [1]\n",
      "\t [[{{node Placeholder/_1}}]]\n"
     ]
    },
    {
     "name": "stdout",
     "output_type": "stream",
     "text": [
      "781/781 [==============================] - 57s 57ms/step - loss: 2.0563 - accuracy: 0.3457 - val_loss: 1.7628 - val_accuracy: 0.4148\n",
      "Epoch 2/15\n",
      "781/781 [==============================] - 44s 56ms/step - loss: 1.5606 - accuracy: 0.4618 - val_loss: 1.4085 - val_accuracy: 0.5033\n",
      "Epoch 3/15\n",
      "781/781 [==============================] - 44s 57ms/step - loss: 1.3297 - accuracy: 0.5350 - val_loss: 1.5118 - val_accuracy: 0.4904\n",
      "Epoch 4/15\n",
      "781/781 [==============================] - 42s 53ms/step - loss: 1.1627 - accuracy: 0.5878 - val_loss: 1.4365 - val_accuracy: 0.5188\n",
      "Epoch 5/15\n",
      "781/781 [==============================] - 42s 54ms/step - loss: 1.0156 - accuracy: 0.6411 - val_loss: 1.3144 - val_accuracy: 0.5651\n",
      "Epoch 6/15\n",
      "781/781 [==============================] - 42s 54ms/step - loss: 0.8760 - accuracy: 0.6895 - val_loss: 1.4236 - val_accuracy: 0.5442\n",
      "Epoch 7/15\n",
      "781/781 [==============================] - 42s 54ms/step - loss: 0.7393 - accuracy: 0.7388 - val_loss: 1.5367 - val_accuracy: 0.5363\n",
      "Epoch 8/15\n",
      "781/781 [==============================] - 42s 54ms/step - loss: 0.6002 - accuracy: 0.7908 - val_loss: 1.4603 - val_accuracy: 0.5724\n",
      "Epoch 9/15\n",
      "781/781 [==============================] - 42s 54ms/step - loss: 0.4562 - accuracy: 0.8424 - val_loss: 1.5232 - val_accuracy: 0.5845\n",
      "Epoch 10/15\n",
      "781/781 [==============================] - 41s 52ms/step - loss: 0.3383 - accuracy: 0.8846 - val_loss: 1.6756 - val_accuracy: 0.5789\n",
      "Epoch 11/15\n",
      "781/781 [==============================] - 43s 56ms/step - loss: 0.2362 - accuracy: 0.9218 - val_loss: 1.8447 - val_accuracy: 0.5830\n",
      "Epoch 12/15\n",
      "781/781 [==============================] - 44s 56ms/step - loss: 0.1704 - accuracy: 0.9435 - val_loss: 2.0032 - val_accuracy: 0.5896\n",
      "Epoch 13/15\n",
      "781/781 [==============================] - 42s 54ms/step - loss: 0.1265 - accuracy: 0.9580 - val_loss: 2.2947 - val_accuracy: 0.5621\n",
      "Epoch 14/15\n",
      "781/781 [==============================] - 43s 55ms/step - loss: 0.1075 - accuracy: 0.9647 - val_loss: 2.4345 - val_accuracy: 0.5544\n",
      "Epoch 15/15\n",
      "781/781 [==============================] - 41s 53ms/step - loss: 0.0926 - accuracy: 0.9690 - val_loss: 2.5774 - val_accuracy: 0.5570\n"
     ]
    }
   ],
   "source": [
    "resnet_34_plain.compile(\n",
    "    loss='sparse_categorical_crossentropy',\n",
    "    optimizer=tf.keras.optimizers.SGD(lr=0.01, clipnorm=1.),\n",
    "    metrics=['accuracy'],\n",
    ")\n",
    "\n",
    "history_34_plain = resnet_34_plain.fit(\n",
    "    ds_train,\n",
    "    steps_per_epoch=int(ds_info.splits['train'].num_examples/BATCH_SIZE),\n",
    "    validation_steps=int(ds_info.splits['test'].num_examples/BATCH_SIZE),\n",
    "    epochs=EPOCH,\n",
    "    validation_data=ds_test,\n",
    "    verbose=1,\n",
    "    use_multiprocessing=True,\n",
    ")"
   ]
  },
  {
   "cell_type": "code",
   "execution_count": 12,
   "metadata": {},
   "outputs": [
    {
     "name": "stderr",
     "output_type": "stream",
     "text": [
      "WARNING:absl:`lr` is deprecated in Keras optimizer, please use `learning_rate` or use the legacy optimizer, e.g.,tf.keras.optimizers.legacy.SGD.\n"
     ]
    },
    {
     "name": "stdout",
     "output_type": "stream",
     "text": [
      "Epoch 1/15\n",
      "781/781 [==============================] - 51s 55ms/step - loss: 2.0195 - accuracy: 0.3468 - val_loss: 1.7716 - val_accuracy: 0.3969\n",
      "Epoch 2/15\n",
      "781/781 [==============================] - 43s 55ms/step - loss: 1.5267 - accuracy: 0.4696 - val_loss: 1.6204 - val_accuracy: 0.4572\n",
      "Epoch 3/15\n",
      "781/781 [==============================] - 42s 54ms/step - loss: 1.3128 - accuracy: 0.5378 - val_loss: 1.4510 - val_accuracy: 0.5025\n",
      "Epoch 4/15\n",
      "781/781 [==============================] - 41s 53ms/step - loss: 1.1493 - accuracy: 0.5908 - val_loss: 1.3242 - val_accuracy: 0.5442\n",
      "Epoch 5/15\n",
      "781/781 [==============================] - 44s 56ms/step - loss: 1.0057 - accuracy: 0.6426 - val_loss: 1.3175 - val_accuracy: 0.5535\n",
      "Epoch 6/15\n",
      "781/781 [==============================] - 45s 57ms/step - loss: 0.8700 - accuracy: 0.6905 - val_loss: 1.3363 - val_accuracy: 0.5628\n",
      "Epoch 7/15\n",
      "781/781 [==============================] - 41s 53ms/step - loss: 0.7343 - accuracy: 0.7408 - val_loss: 1.3323 - val_accuracy: 0.5761\n",
      "Epoch 8/15\n",
      "781/781 [==============================] - 43s 54ms/step - loss: 0.6004 - accuracy: 0.7909 - val_loss: 1.4635 - val_accuracy: 0.5678\n",
      "Epoch 9/15\n",
      "781/781 [==============================] - 42s 54ms/step - loss: 0.4626 - accuracy: 0.8407 - val_loss: 1.4314 - val_accuracy: 0.5924\n",
      "Epoch 10/15\n",
      "781/781 [==============================] - 42s 54ms/step - loss: 0.3448 - accuracy: 0.8847 - val_loss: 1.7280 - val_accuracy: 0.5676\n",
      "Epoch 11/15\n",
      "781/781 [==============================] - 40s 52ms/step - loss: 0.2471 - accuracy: 0.9186 - val_loss: 1.8290 - val_accuracy: 0.5705\n",
      "Epoch 12/15\n",
      "781/781 [==============================] - 43s 55ms/step - loss: 0.1745 - accuracy: 0.9427 - val_loss: 2.0378 - val_accuracy: 0.5651\n",
      "Epoch 13/15\n",
      "781/781 [==============================] - 43s 56ms/step - loss: 0.1323 - accuracy: 0.9563 - val_loss: 2.1312 - val_accuracy: 0.5784\n",
      "Epoch 14/15\n",
      "781/781 [==============================] - 41s 53ms/step - loss: 0.1141 - accuracy: 0.9622 - val_loss: 2.3096 - val_accuracy: 0.5802\n",
      "Epoch 15/15\n",
      "781/781 [==============================] - 43s 54ms/step - loss: 0.0940 - accuracy: 0.9685 - val_loss: 2.4161 - val_accuracy: 0.5771\n"
     ]
    }
   ],
   "source": [
    "resnet_34_res.compile(\n",
    "    loss='sparse_categorical_crossentropy',\n",
    "    optimizer=tf.keras.optimizers.SGD(lr=0.01, clipnorm=1.),\n",
    "    metrics=['accuracy'],\n",
    ")\n",
    "\n",
    "history_34_res = resnet_34_res.fit(\n",
    "    ds_train,\n",
    "    steps_per_epoch=int(ds_info.splits['train'].num_examples/BATCH_SIZE),\n",
    "    validation_steps=int(ds_info.splits['test'].num_examples/BATCH_SIZE),\n",
    "    epochs=EPOCH,\n",
    "    validation_data=ds_test,\n",
    "    verbose=1,\n",
    "    use_multiprocessing=True,\n",
    ")"
   ]
  },
  {
   "cell_type": "code",
   "execution_count": 13,
   "metadata": {},
   "outputs": [
    {
     "name": "stderr",
     "output_type": "stream",
     "text": [
      "WARNING:absl:`lr` is deprecated in Keras optimizer, please use `learning_rate` or use the legacy optimizer, e.g.,tf.keras.optimizers.legacy.SGD.\n"
     ]
    },
    {
     "name": "stdout",
     "output_type": "stream",
     "text": [
      "Epoch 1/15\n",
      "781/781 [==============================] - 49s 53ms/step - loss: 2.0805 - accuracy: 0.3381 - val_loss: 1.8864 - val_accuracy: 0.3802\n",
      "Epoch 2/15\n",
      "781/781 [==============================] - 43s 56ms/step - loss: 1.5584 - accuracy: 0.4644 - val_loss: 2.0272 - val_accuracy: 0.3679\n",
      "Epoch 3/15\n",
      "781/781 [==============================] - 43s 55ms/step - loss: 1.3433 - accuracy: 0.5279 - val_loss: 1.5236 - val_accuracy: 0.4910\n",
      "Epoch 4/15\n",
      "781/781 [==============================] - 43s 55ms/step - loss: 1.1746 - accuracy: 0.5857 - val_loss: 1.5734 - val_accuracy: 0.4899\n",
      "Epoch 5/15\n",
      "781/781 [==============================] - 42s 54ms/step - loss: 1.0204 - accuracy: 0.6370 - val_loss: 1.2854 - val_accuracy: 0.5626\n",
      "Epoch 6/15\n",
      "781/781 [==============================] - 43s 55ms/step - loss: 0.8841 - accuracy: 0.6864 - val_loss: 1.3310 - val_accuracy: 0.5578\n",
      "Epoch 7/15\n",
      "781/781 [==============================] - 44s 56ms/step - loss: 0.7439 - accuracy: 0.7383 - val_loss: 1.4324 - val_accuracy: 0.5528\n",
      "Epoch 8/15\n",
      "781/781 [==============================] - 42s 54ms/step - loss: 0.6026 - accuracy: 0.7882 - val_loss: 1.4645 - val_accuracy: 0.5576\n",
      "Epoch 9/15\n",
      "781/781 [==============================] - 41s 53ms/step - loss: 0.4807 - accuracy: 0.8337 - val_loss: 1.5338 - val_accuracy: 0.5718\n",
      "Epoch 10/15\n",
      "781/781 [==============================] - 44s 56ms/step - loss: 0.3474 - accuracy: 0.8826 - val_loss: 1.7540 - val_accuracy: 0.5535\n",
      "Epoch 11/15\n",
      "781/781 [==============================] - 44s 56ms/step - loss: 0.2483 - accuracy: 0.9189 - val_loss: 1.9525 - val_accuracy: 0.5532\n",
      "Epoch 12/15\n",
      "781/781 [==============================] - 44s 56ms/step - loss: 0.1781 - accuracy: 0.9422 - val_loss: 2.1096 - val_accuracy: 0.5651\n",
      "Epoch 13/15\n",
      "781/781 [==============================] - 43s 55ms/step - loss: 0.1358 - accuracy: 0.9544 - val_loss: 2.2154 - val_accuracy: 0.5755\n",
      "Epoch 14/15\n",
      "781/781 [==============================] - 45s 58ms/step - loss: 0.1123 - accuracy: 0.9627 - val_loss: 2.3874 - val_accuracy: 0.5662\n",
      "Epoch 15/15\n",
      "781/781 [==============================] - 43s 55ms/step - loss: 0.0986 - accuracy: 0.9661 - val_loss: 2.8374 - val_accuracy: 0.5438\n"
     ]
    }
   ],
   "source": [
    "resnet_50_plain.compile(\n",
    "    loss='sparse_categorical_crossentropy',\n",
    "    optimizer=tf.keras.optimizers.SGD(lr=0.01, clipnorm=1.),\n",
    "    metrics=['accuracy'],\n",
    ")\n",
    "\n",
    "history_50_plain = resnet_50_plain.fit(\n",
    "    ds_train,\n",
    "    steps_per_epoch=int(ds_info.splits['train'].num_examples/BATCH_SIZE),\n",
    "    validation_steps=int(ds_info.splits['test'].num_examples/BATCH_SIZE),\n",
    "    epochs=EPOCH,\n",
    "    validation_data=ds_test,\n",
    "    verbose=1,\n",
    "    use_multiprocessing=True,\n",
    ")"
   ]
  },
  {
   "cell_type": "code",
   "execution_count": 14,
   "metadata": {},
   "outputs": [
    {
     "name": "stderr",
     "output_type": "stream",
     "text": [
      "WARNING:absl:`lr` is deprecated in Keras optimizer, please use `learning_rate` or use the legacy optimizer, e.g.,tf.keras.optimizers.legacy.SGD.\n"
     ]
    },
    {
     "name": "stdout",
     "output_type": "stream",
     "text": [
      "Epoch 1/15\n",
      "781/781 [==============================] - 52s 56ms/step - loss: 2.0262 - accuracy: 0.3497 - val_loss: 2.2470 - val_accuracy: 0.2942\n",
      "Epoch 2/15\n",
      "781/781 [==============================] - 45s 58ms/step - loss: 1.5188 - accuracy: 0.4731 - val_loss: 1.5918 - val_accuracy: 0.4628\n",
      "Epoch 3/15\n",
      "781/781 [==============================] - 44s 56ms/step - loss: 1.3004 - accuracy: 0.5397 - val_loss: 1.3668 - val_accuracy: 0.5227\n",
      "Epoch 4/15\n",
      "781/781 [==============================] - 42s 53ms/step - loss: 1.1319 - accuracy: 0.5969 - val_loss: 1.4253 - val_accuracy: 0.5348\n",
      "Epoch 5/15\n",
      "781/781 [==============================] - 43s 55ms/step - loss: 0.9940 - accuracy: 0.6455 - val_loss: 1.2933 - val_accuracy: 0.5557\n",
      "Epoch 6/15\n",
      "781/781 [==============================] - 44s 56ms/step - loss: 0.8420 - accuracy: 0.7011 - val_loss: 1.3114 - val_accuracy: 0.5642\n",
      "Epoch 7/15\n",
      "781/781 [==============================] - 45s 57ms/step - loss: 0.7114 - accuracy: 0.7488 - val_loss: 1.4244 - val_accuracy: 0.5608\n",
      "Epoch 8/15\n",
      "781/781 [==============================] - 43s 55ms/step - loss: 0.5673 - accuracy: 0.8036 - val_loss: 1.3999 - val_accuracy: 0.5769\n",
      "Epoch 9/15\n",
      "781/781 [==============================] - 43s 55ms/step - loss: 0.4324 - accuracy: 0.8506 - val_loss: 1.6150 - val_accuracy: 0.5612\n",
      "Epoch 10/15\n",
      "781/781 [==============================] - 44s 56ms/step - loss: 0.3143 - accuracy: 0.8946 - val_loss: 1.7321 - val_accuracy: 0.5621\n",
      "Epoch 11/15\n",
      "781/781 [==============================] - 43s 54ms/step - loss: 0.2185 - accuracy: 0.9285 - val_loss: 2.0007 - val_accuracy: 0.5526\n",
      "Epoch 12/15\n",
      "781/781 [==============================] - 44s 56ms/step - loss: 0.1580 - accuracy: 0.9496 - val_loss: 2.0889 - val_accuracy: 0.5676\n",
      "Epoch 13/15\n",
      "781/781 [==============================] - 43s 56ms/step - loss: 0.1179 - accuracy: 0.9609 - val_loss: 2.1683 - val_accuracy: 0.5727\n",
      "Epoch 14/15\n",
      "781/781 [==============================] - 44s 56ms/step - loss: 0.1002 - accuracy: 0.9668 - val_loss: 2.3198 - val_accuracy: 0.5726\n",
      "Epoch 15/15\n",
      "781/781 [==============================] - 43s 55ms/step - loss: 0.0913 - accuracy: 0.9693 - val_loss: 2.4524 - val_accuracy: 0.5712\n"
     ]
    }
   ],
   "source": [
    "resnet_50_res.compile(\n",
    "    loss='sparse_categorical_crossentropy',\n",
    "    optimizer=tf.keras.optimizers.SGD(lr=0.01, clipnorm=1.),\n",
    "    metrics=['accuracy'],\n",
    ")\n",
    "\n",
    "history_50_res = resnet_50_res.fit(\n",
    "    ds_train,\n",
    "    steps_per_epoch=int(ds_info.splits['train'].num_examples/BATCH_SIZE),\n",
    "    validation_steps=int(ds_info.splits['test'].num_examples/BATCH_SIZE),\n",
    "    epochs=EPOCH,\n",
    "    validation_data=ds_test,\n",
    "    verbose=1,\n",
    "    use_multiprocessing=True,\n",
    ")"
   ]
  },
  {
   "cell_type": "code",
   "execution_count": 24,
   "metadata": {},
   "outputs": [
    {
     "data": {
      "image/png": "[encoded data removed]",
      "text/plain": [
       "<Figure size 640x480 with 1 Axes>"
      ]
     },
     "metadata": {},
     "output_type": "display_data"
    }
   ],
   "source": [
    "import matplotlib.pyplot as plt\n",
    "\n",
    "plt.plot(history_34_plain.history['loss'], 'red')\n",
    "plt.plot(history_50_plain.history['loss'], 'blue')\n",
    "plt.plot(history_34_res.history['loss'], 'green')\n",
    "plt.plot(history_50_res.history['loss'], 'yellow')\n",
    "plt.title('Model training loss')\n",
    "plt.ylabel('Loss')\n",
    "plt.xlabel('Epoch')\n",
    "plt.legend(['res34_plain', 'res50_plain', 'res34_res', 'res50_res'], loc='upper left')\n",
    "plt.show()"
   ]
  },
  {
   "cell_type": "code",
   "execution_count": 25,
   "metadata": {},
   "outputs": [
    {
     "data": {
      "image/png": "[encoded data removed]",
      "text/plain": [
       "<Figure size 640x480 with 1 Axes>"
      ]
     },
     "metadata": {},
     "output_type": "display_data"
    }
   ],
   "source": [
    "plt.plot(history_34_plain.history['val_accuracy'], 'red')\n",
    "plt.plot(history_50_plain.history['val_accuracy'], 'blue')\n",
    "plt.plot(history_34_res.history['val_accuracy'], 'green')\n",
    "plt.plot(history_50_res.history['val_accuracy'], 'yellow')\n",
    "plt.title('Model validation accuracy')\n",
    "plt.ylabel('Accuracy')\n",
    "plt.xlabel('Epoch')\n",
    "plt.legend(['res34_plain', 'res50_plain', 'res34_res', 'res50_res'], loc='upper left')\n",
    "plt.show()"
   ]
  },
  {
   "cell_type": "code",
   "execution_count": 22,
   "metadata": {},
   "outputs": [
    {
     "name": "stdout",
     "output_type": "stream",
     "text": [
      "Resnet-34, plain val accuracy : 0.5569645762443542\n",
      "Resnet-50, plain val accuracy : 0.5437700152397156\n",
      "Resnet-34, residual val accuracy : 0.5771234035491943\n",
      "Resnet-50, residual val accuracy : 0.5711553692817688\n"
     ]
    }
   ],
   "source": [
    "print(\"Resnet-34, plain val accuracy :\", history_34_plain.history['val_accuracy'][-1])\n",
    "print(\"Resnet-50, plain val accuracy :\", history_50_plain.history['val_accuracy'][-1])\n",
    "print(\"Resnet-34, residual val accuracy :\", history_34_res.history['val_accuracy'][-1])\n",
    "print(\"Resnet-50, residual val accuracy :\", history_50_res.history['val_accuracy'][-1])"
   ]
  },
  {
   "attachments": {},
   "cell_type": "markdown",
   "metadata": {},
   "source": [
    "||plain|residual|\n",
    "|---|---|---|\n",
    "|Resnet-34|0.557|0.577|\n",
    "|Resnet-50|0.544|0.571|\n",
    "\n",
    "위의 표와 같이 residual이 plain에 비해 val accuracy가 높게 나온 것을 알 수 있다.  \n",
    "또한 plain일 때 Resnet-34보다 Resnet-50이 val accuracy가 더 낮게 나온 것을 알 수 있다.  \n",
    "역시 lms에서 학습 했던것과 마찬가지로 Vanishing Gradient이 발생하여 일정이상 층을 더 쌓게 되면 오히려 성능이 낮아지는 것을 볼 수 있다."
   ]
  },
  {
   "cell_type": "code",
   "execution_count": 46,
   "metadata": {},
   "outputs": [
    {
     "name": "stdout",
     "output_type": "stream",
     "text": [
      "tfds.core.DatasetInfo(\n",
      "    name='cats_vs_dogs',\n",
      "    full_name='cats_vs_dogs/4.0.0',\n",
      "    description=\"\"\"\n",
      "    A large set of images of cats and dogs. There are 1738 corrupted images that are dropped.\n",
      "    \"\"\",\n",
      "    homepage='https://www.microsoft.com/en-us/download/details.aspx?id=54765',\n",
      "    data_path='/home/gibeom/tensorflow_datasets/cats_vs_dogs/4.0.0',\n",
      "    file_format=tfrecord,\n",
      "    download_size=786.67 MiB,\n",
      "    dataset_size=689.64 MiB,\n",
      "    features=FeaturesDict({\n",
      "        'image': Image(shape=(None, None, 3), dtype=uint8),\n",
      "        'image/filename': Text(shape=(), dtype=string),\n",
      "        'label': ClassLabel(shape=(), dtype=int64, num_classes=2),\n",
      "    }),\n",
      "    supervised_keys=('image', 'label'),\n",
      "    disable_shuffling=False,\n",
      "    splits={\n",
      "        'train': <SplitInfo num_examples=23262, num_shards=8>,\n",
      "    },\n",
      "    citation=\"\"\"@Inproceedings (Conference){asirra-a-captcha-that-exploits-interest-aligned-manual-image-categorization,\n",
      "    author = {Elson, Jeremy and Douceur, John (JD) and Howell, Jon and Saul, Jared},\n",
      "    title = {Asirra: A CAPTCHA that Exploits Interest-Aligned Manual Image Categorization},\n",
      "    booktitle = {Proceedings of 14th ACM Conference on Computer and Communications Security (CCS)},\n",
      "    year = {2007},\n",
      "    month = {October},\n",
      "    publisher = {Association for Computing Machinery, Inc.},\n",
      "    url = {https://www.microsoft.com/en-us/research/publication/asirra-a-captcha-that-exploits-interest-aligned-manual-image-categorization/},\n",
      "    edition = {Proceedings of 14th ACM Conference on Computer and Communications Security (CCS)},\n",
      "    }\"\"\",\n",
      ")\n"
     ]
    }
   ],
   "source": [
    "(ds_train, ds_test), ds_info = tfds.load(\n",
    "    'cats_vs_dogs',\n",
    "    split=['train[:80%]', 'train[80%:]'],    \n",
    "    as_supervised=True,\n",
    "    shuffle_files=True,\n",
    "    with_info=True,\n",
    ")\n",
    "\n",
    "def resize_image(image, label):\n",
    "    image = tf.image.resize(image, [32, 32])\n",
    "    return image, label\n",
    "\n",
    "ds_train = ds_train.map(resize_image)\n",
    "ds_test = ds_test.map(resize_image)\n",
    "\n",
    "ds_train = apply_normalize_on_dataset(ds_train, batch_size=BATCH_SIZE)\n",
    "ds_test = apply_normalize_on_dataset(ds_test, batch_size=BATCH_SIZE)\n",
    "print(ds_info)"
   ]
  },
  {
   "cell_type": "code",
   "execution_count": 32,
   "metadata": {},
   "outputs": [
    {
     "name": "stdout",
     "output_type": "stream",
     "text": [
      "Model: \"model_4\"\n",
      "__________________________________________________________________________________________________\n",
      " Layer (type)                   Output Shape         Param #     Connected to                     \n",
      "==================================================================================================\n",
      " input_5 (InputLayer)           [(None, 32, 32, 3)]  0           []                               \n",
      "                                                                                                  \n",
      " conv2d_16 (Conv2D)             (None, 16, 16, 64)   832         ['input_5[0][0]']                \n",
      "                                                                                                  \n",
      " batch_normalization_68 (BatchN  (None, 16, 16, 64)  256         ['conv2d_16[0][0]']              \n",
      " ormalization)                                                                                    \n",
      "                                                                                                  \n",
      " max_pooling2d_4 (MaxPooling2D)  (None, 8, 8, 64)    0           ['batch_normalization_68[0][0]'] \n",
      "                                                                                                  \n",
      " block0_conv0 (Conv2D)          (None, 8, 8, 64)     36928       ['max_pooling2d_4[0][0]']        \n",
      "                                                                                                  \n",
      " batch_normalization_69 (BatchN  (None, 8, 8, 64)    256         ['block0_conv0[0][0]']           \n",
      " ormalization)                                                                                    \n",
      "                                                                                                  \n",
      " block0_1_conv0 (Conv2D)        (None, 8, 8, 64)     36928       ['batch_normalization_69[0][0]'] \n",
      "                                                                                                  \n",
      " add_64 (Add)                   (None, 8, 8, 64)     0           ['block0_1_conv0[0][0]',         \n",
      "                                                                  'max_pooling2d_4[0][0]']        \n",
      "                                                                                                  \n",
      " block0_conv1 (Conv2D)          (None, 8, 8, 64)     36928       ['add_64[0][0]']                 \n",
      "                                                                                                  \n",
      " batch_normalization_70 (BatchN  (None, 8, 8, 64)    256         ['block0_conv1[0][0]']           \n",
      " ormalization)                                                                                    \n",
      "                                                                                                  \n",
      " block0_1_conv1 (Conv2D)        (None, 8, 8, 64)     36928       ['batch_normalization_70[0][0]'] \n",
      "                                                                                                  \n",
      " add_65 (Add)                   (None, 8, 8, 64)     0           ['block0_1_conv1[0][0]',         \n",
      "                                                                  'add_64[0][0]']                 \n",
      "                                                                                                  \n",
      " block0_conv2 (Conv2D)          (None, 8, 8, 64)     36928       ['add_65[0][0]']                 \n",
      "                                                                                                  \n",
      " batch_normalization_71 (BatchN  (None, 8, 8, 64)    256         ['block0_conv2[0][0]']           \n",
      " ormalization)                                                                                    \n",
      "                                                                                                  \n",
      " block0_1_conv2 (Conv2D)        (None, 8, 8, 64)     36928       ['batch_normalization_71[0][0]'] \n",
      "                                                                                                  \n",
      " add_66 (Add)                   (None, 8, 8, 64)     0           ['block0_1_conv2[0][0]',         \n",
      "                                                                  'add_65[0][0]']                 \n",
      "                                                                                                  \n",
      " block0_pooling (MaxPooling2D)  (None, 4, 4, 64)     0           ['add_66[0][0]']                 \n",
      "                                                                                                  \n",
      " block1_conv0 (Conv2D)          (None, 4, 4, 128)    73856       ['block0_pooling[0][0]']         \n",
      "                                                                                                  \n",
      " batch_normalization_72 (BatchN  (None, 4, 4, 128)   512         ['block1_conv0[0][0]']           \n",
      " ormalization)                                                                                    \n",
      "                                                                                                  \n",
      " block1_1_conv0 (Conv2D)        (None, 4, 4, 128)    147584      ['batch_normalization_72[0][0]'] \n",
      "                                                                                                  \n",
      " conv2d_17 (Conv2D)             (None, 4, 4, 128)    8320        ['block0_pooling[0][0]']         \n",
      "                                                                                                  \n",
      " add_67 (Add)                   (None, 4, 4, 128)    0           ['block1_1_conv0[0][0]',         \n",
      "                                                                  'conv2d_17[0][0]']              \n",
      "                                                                                                  \n",
      " block1_conv1 (Conv2D)          (None, 4, 4, 128)    147584      ['add_67[0][0]']                 \n",
      "                                                                                                  \n",
      " batch_normalization_73 (BatchN  (None, 4, 4, 128)   512         ['block1_conv1[0][0]']           \n",
      " ormalization)                                                                                    \n",
      "                                                                                                  \n",
      " block1_1_conv1 (Conv2D)        (None, 4, 4, 128)    147584      ['batch_normalization_73[0][0]'] \n",
      "                                                                                                  \n",
      " add_68 (Add)                   (None, 4, 4, 128)    0           ['block1_1_conv1[0][0]',         \n",
      "                                                                  'add_67[0][0]']                 \n",
      "                                                                                                  \n",
      " block1_conv2 (Conv2D)          (None, 4, 4, 128)    147584      ['add_68[0][0]']                 \n",
      "                                                                                                  \n",
      " batch_normalization_74 (BatchN  (None, 4, 4, 128)   512         ['block1_conv2[0][0]']           \n",
      " ormalization)                                                                                    \n",
      "                                                                                                  \n",
      " block1_1_conv2 (Conv2D)        (None, 4, 4, 128)    147584      ['batch_normalization_74[0][0]'] \n",
      "                                                                                                  \n",
      " add_69 (Add)                   (None, 4, 4, 128)    0           ['block1_1_conv2[0][0]',         \n",
      "                                                                  'add_68[0][0]']                 \n",
      "                                                                                                  \n",
      " block1_conv3 (Conv2D)          (None, 4, 4, 128)    147584      ['add_69[0][0]']                 \n",
      "                                                                                                  \n",
      " batch_normalization_75 (BatchN  (None, 4, 4, 128)   512         ['block1_conv3[0][0]']           \n",
      " ormalization)                                                                                    \n",
      "                                                                                                  \n",
      " block1_1_conv3 (Conv2D)        (None, 4, 4, 128)    147584      ['batch_normalization_75[0][0]'] \n",
      "                                                                                                  \n",
      " add_70 (Add)                   (None, 4, 4, 128)    0           ['block1_1_conv3[0][0]',         \n",
      "                                                                  'add_69[0][0]']                 \n",
      "                                                                                                  \n",
      " block1_pooling (MaxPooling2D)  (None, 2, 2, 128)    0           ['add_70[0][0]']                 \n",
      "                                                                                                  \n",
      " block2_conv0 (Conv2D)          (None, 2, 2, 256)    295168      ['block1_pooling[0][0]']         \n",
      "                                                                                                  \n",
      " batch_normalization_76 (BatchN  (None, 2, 2, 256)   1024        ['block2_conv0[0][0]']           \n",
      " ormalization)                                                                                    \n",
      "                                                                                                  \n",
      " block2_1_conv0 (Conv2D)        (None, 2, 2, 256)    590080      ['batch_normalization_76[0][0]'] \n",
      "                                                                                                  \n",
      " conv2d_18 (Conv2D)             (None, 2, 2, 256)    33024       ['block1_pooling[0][0]']         \n",
      "                                                                                                  \n",
      " add_71 (Add)                   (None, 2, 2, 256)    0           ['block2_1_conv0[0][0]',         \n",
      "                                                                  'conv2d_18[0][0]']              \n",
      "                                                                                                  \n",
      " block2_conv1 (Conv2D)          (None, 2, 2, 256)    590080      ['add_71[0][0]']                 \n",
      "                                                                                                  \n",
      " batch_normalization_77 (BatchN  (None, 2, 2, 256)   1024        ['block2_conv1[0][0]']           \n",
      " ormalization)                                                                                    \n",
      "                                                                                                  \n",
      " block2_1_conv1 (Conv2D)        (None, 2, 2, 256)    590080      ['batch_normalization_77[0][0]'] \n",
      "                                                                                                  \n",
      " add_72 (Add)                   (None, 2, 2, 256)    0           ['block2_1_conv1[0][0]',         \n",
      "                                                                  'add_71[0][0]']                 \n",
      "                                                                                                  \n",
      " block2_conv2 (Conv2D)          (None, 2, 2, 256)    590080      ['add_72[0][0]']                 \n",
      "                                                                                                  \n",
      " batch_normalization_78 (BatchN  (None, 2, 2, 256)   1024        ['block2_conv2[0][0]']           \n",
      " ormalization)                                                                                    \n",
      "                                                                                                  \n",
      " block2_1_conv2 (Conv2D)        (None, 2, 2, 256)    590080      ['batch_normalization_78[0][0]'] \n",
      "                                                                                                  \n",
      " add_73 (Add)                   (None, 2, 2, 256)    0           ['block2_1_conv2[0][0]',         \n",
      "                                                                  'add_72[0][0]']                 \n",
      "                                                                                                  \n",
      " block2_conv3 (Conv2D)          (None, 2, 2, 256)    590080      ['add_73[0][0]']                 \n",
      "                                                                                                  \n",
      " batch_normalization_79 (BatchN  (None, 2, 2, 256)   1024        ['block2_conv3[0][0]']           \n",
      " ormalization)                                                                                    \n",
      "                                                                                                  \n",
      " block2_1_conv3 (Conv2D)        (None, 2, 2, 256)    590080      ['batch_normalization_79[0][0]'] \n",
      "                                                                                                  \n",
      " add_74 (Add)                   (None, 2, 2, 256)    0           ['block2_1_conv3[0][0]',         \n",
      "                                                                  'add_73[0][0]']                 \n",
      "                                                                                                  \n",
      " block2_conv4 (Conv2D)          (None, 2, 2, 256)    590080      ['add_74[0][0]']                 \n",
      "                                                                                                  \n",
      " batch_normalization_80 (BatchN  (None, 2, 2, 256)   1024        ['block2_conv4[0][0]']           \n",
      " ormalization)                                                                                    \n",
      "                                                                                                  \n",
      " block2_1_conv4 (Conv2D)        (None, 2, 2, 256)    590080      ['batch_normalization_80[0][0]'] \n",
      "                                                                                                  \n",
      " add_75 (Add)                   (None, 2, 2, 256)    0           ['block2_1_conv4[0][0]',         \n",
      "                                                                  'add_74[0][0]']                 \n",
      "                                                                                                  \n",
      " block2_conv5 (Conv2D)          (None, 2, 2, 256)    590080      ['add_75[0][0]']                 \n",
      "                                                                                                  \n",
      " batch_normalization_81 (BatchN  (None, 2, 2, 256)   1024        ['block2_conv5[0][0]']           \n",
      " ormalization)                                                                                    \n",
      "                                                                                                  \n",
      " block2_1_conv5 (Conv2D)        (None, 2, 2, 256)    590080      ['batch_normalization_81[0][0]'] \n",
      "                                                                                                  \n",
      " add_76 (Add)                   (None, 2, 2, 256)    0           ['block2_1_conv5[0][0]',         \n",
      "                                                                  'add_75[0][0]']                 \n",
      "                                                                                                  \n",
      " block2_pooling (MaxPooling2D)  (None, 1, 1, 256)    0           ['add_76[0][0]']                 \n",
      "                                                                                                  \n",
      " block3_conv0 (Conv2D)          (None, 1, 1, 512)    1180160     ['block2_pooling[0][0]']         \n",
      "                                                                                                  \n",
      " batch_normalization_82 (BatchN  (None, 1, 1, 512)   2048        ['block3_conv0[0][0]']           \n",
      " ormalization)                                                                                    \n",
      "                                                                                                  \n",
      " block3_1_conv0 (Conv2D)        (None, 1, 1, 512)    2359808     ['batch_normalization_82[0][0]'] \n",
      "                                                                                                  \n",
      " conv2d_19 (Conv2D)             (None, 1, 1, 512)    131584      ['block2_pooling[0][0]']         \n",
      "                                                                                                  \n",
      " add_77 (Add)                   (None, 1, 1, 512)    0           ['block3_1_conv0[0][0]',         \n",
      "                                                                  'conv2d_19[0][0]']              \n",
      "                                                                                                  \n",
      " block3_conv1 (Conv2D)          (None, 1, 1, 512)    2359808     ['add_77[0][0]']                 \n",
      "                                                                                                  \n",
      " batch_normalization_83 (BatchN  (None, 1, 1, 512)   2048        ['block3_conv1[0][0]']           \n",
      " ormalization)                                                                                    \n",
      "                                                                                                  \n",
      " block3_1_conv1 (Conv2D)        (None, 1, 1, 512)    2359808     ['batch_normalization_83[0][0]'] \n",
      "                                                                                                  \n",
      " add_78 (Add)                   (None, 1, 1, 512)    0           ['block3_1_conv1[0][0]',         \n",
      "                                                                  'add_77[0][0]']                 \n",
      "                                                                                                  \n",
      " block3_conv2 (Conv2D)          (None, 1, 1, 512)    2359808     ['add_78[0][0]']                 \n",
      "                                                                                                  \n",
      " batch_normalization_84 (BatchN  (None, 1, 1, 512)   2048        ['block3_conv2[0][0]']           \n",
      " ormalization)                                                                                    \n",
      "                                                                                                  \n",
      " block3_1_conv2 (Conv2D)        (None, 1, 1, 512)    2359808     ['batch_normalization_84[0][0]'] \n",
      "                                                                                                  \n",
      " add_79 (Add)                   (None, 1, 1, 512)    0           ['block3_1_conv2[0][0]',         \n",
      "                                                                  'add_78[0][0]']                 \n",
      "                                                                                                  \n",
      " average_pooling2d_4 (AveragePo  (None, 1, 1, 512)   0           ['add_79[0][0]']                 \n",
      " oling2D)                                                                                         \n",
      "                                                                                                  \n",
      " flatten (Flatten)              (None, 512)          0           ['average_pooling2d_4[0][0]']    \n",
      "                                                                                                  \n",
      " predictions (Dense)            (None, 10)           5130        ['flatten[0][0]']                \n",
      "                                                                                                  \n",
      "==================================================================================================\n",
      "Total params: 21,288,010\n",
      "Trainable params: 21,280,330\n",
      "Non-trainable params: 7,680\n",
      "__________________________________________________________________________________________________\n"
     ]
    }
   ],
   "source": [
    "resnet_34_plain = build_resnet(input_shape=(32, 32,3), is_50=False, is_plain=True)\n",
    "resnet_34_plain.summary()"
   ]
  },
  {
   "cell_type": "code",
   "execution_count": 33,
   "metadata": {},
   "outputs": [
    {
     "name": "stdout",
     "output_type": "stream",
     "text": [
      "Model: \"model_5\"\n",
      "__________________________________________________________________________________________________\n",
      " Layer (type)                   Output Shape         Param #     Connected to                     \n",
      "==================================================================================================\n",
      " input_6 (InputLayer)           [(None, 32, 32, 3)]  0           []                               \n",
      "                                                                                                  \n",
      " conv2d_20 (Conv2D)             (None, 16, 16, 64)   832         ['input_6[0][0]']                \n",
      "                                                                                                  \n",
      " batch_normalization_85 (BatchN  (None, 16, 16, 64)  256         ['conv2d_20[0][0]']              \n",
      " ormalization)                                                                                    \n",
      "                                                                                                  \n",
      " max_pooling2d_5 (MaxPooling2D)  (None, 8, 8, 64)    0           ['batch_normalization_85[0][0]'] \n",
      "                                                                                                  \n",
      " block0_conv0 (Conv2D)          (None, 8, 8, 64)     36928       ['max_pooling2d_5[0][0]']        \n",
      "                                                                                                  \n",
      " batch_normalization_86 (BatchN  (None, 8, 8, 64)    256         ['block0_conv0[0][0]']           \n",
      " ormalization)                                                                                    \n",
      "                                                                                                  \n",
      " block0_1_conv0 (Conv2D)        (None, 8, 8, 64)     36928       ['batch_normalization_86[0][0]'] \n",
      "                                                                                                  \n",
      " add_80 (Add)                   (None, 8, 8, 64)     0           ['block0_1_conv0[0][0]',         \n",
      "                                                                  'max_pooling2d_5[0][0]']        \n",
      "                                                                                                  \n",
      " block0_conv1 (Conv2D)          (None, 8, 8, 64)     36928       ['add_80[0][0]']                 \n",
      "                                                                                                  \n",
      " batch_normalization_87 (BatchN  (None, 8, 8, 64)    256         ['block0_conv1[0][0]']           \n",
      " ormalization)                                                                                    \n",
      "                                                                                                  \n",
      " block0_1_conv1 (Conv2D)        (None, 8, 8, 64)     36928       ['batch_normalization_87[0][0]'] \n",
      "                                                                                                  \n",
      " add_81 (Add)                   (None, 8, 8, 64)     0           ['block0_1_conv1[0][0]',         \n",
      "                                                                  'add_80[0][0]']                 \n",
      "                                                                                                  \n",
      " block0_conv2 (Conv2D)          (None, 8, 8, 64)     36928       ['add_81[0][0]']                 \n",
      "                                                                                                  \n",
      " batch_normalization_88 (BatchN  (None, 8, 8, 64)    256         ['block0_conv2[0][0]']           \n",
      " ormalization)                                                                                    \n",
      "                                                                                                  \n",
      " block0_1_conv2 (Conv2D)        (None, 8, 8, 64)     36928       ['batch_normalization_88[0][0]'] \n",
      "                                                                                                  \n",
      " add_82 (Add)                   (None, 8, 8, 64)     0           ['block0_1_conv2[0][0]',         \n",
      "                                                                  'add_81[0][0]']                 \n",
      "                                                                                                  \n",
      " block0_pooling (MaxPooling2D)  (None, 4, 4, 64)     0           ['add_82[0][0]']                 \n",
      "                                                                                                  \n",
      " block1_conv0 (Conv2D)          (None, 4, 4, 128)    73856       ['block0_pooling[0][0]']         \n",
      "                                                                                                  \n",
      " batch_normalization_89 (BatchN  (None, 4, 4, 128)   512         ['block1_conv0[0][0]']           \n",
      " ormalization)                                                                                    \n",
      "                                                                                                  \n",
      " block1_1_conv0 (Conv2D)        (None, 4, 4, 128)    147584      ['batch_normalization_89[0][0]'] \n",
      "                                                                                                  \n",
      " conv2d_21 (Conv2D)             (None, 4, 4, 128)    8320        ['block0_pooling[0][0]']         \n",
      "                                                                                                  \n",
      " add_83 (Add)                   (None, 4, 4, 128)    0           ['block1_1_conv0[0][0]',         \n",
      "                                                                  'conv2d_21[0][0]']              \n",
      "                                                                                                  \n",
      " block1_conv1 (Conv2D)          (None, 4, 4, 128)    147584      ['add_83[0][0]']                 \n",
      "                                                                                                  \n",
      " batch_normalization_90 (BatchN  (None, 4, 4, 128)   512         ['block1_conv1[0][0]']           \n",
      " ormalization)                                                                                    \n",
      "                                                                                                  \n",
      " block1_1_conv1 (Conv2D)        (None, 4, 4, 128)    147584      ['batch_normalization_90[0][0]'] \n",
      "                                                                                                  \n",
      " add_84 (Add)                   (None, 4, 4, 128)    0           ['block1_1_conv1[0][0]',         \n",
      "                                                                  'add_83[0][0]']                 \n",
      "                                                                                                  \n",
      " block1_conv2 (Conv2D)          (None, 4, 4, 128)    147584      ['add_84[0][0]']                 \n",
      "                                                                                                  \n",
      " batch_normalization_91 (BatchN  (None, 4, 4, 128)   512         ['block1_conv2[0][0]']           \n",
      " ormalization)                                                                                    \n",
      "                                                                                                  \n",
      " block1_1_conv2 (Conv2D)        (None, 4, 4, 128)    147584      ['batch_normalization_91[0][0]'] \n",
      "                                                                                                  \n",
      " add_85 (Add)                   (None, 4, 4, 128)    0           ['block1_1_conv2[0][0]',         \n",
      "                                                                  'add_84[0][0]']                 \n",
      "                                                                                                  \n",
      " block1_conv3 (Conv2D)          (None, 4, 4, 128)    147584      ['add_85[0][0]']                 \n",
      "                                                                                                  \n",
      " batch_normalization_92 (BatchN  (None, 4, 4, 128)   512         ['block1_conv3[0][0]']           \n",
      " ormalization)                                                                                    \n",
      "                                                                                                  \n",
      " block1_1_conv3 (Conv2D)        (None, 4, 4, 128)    147584      ['batch_normalization_92[0][0]'] \n",
      "                                                                                                  \n",
      " add_86 (Add)                   (None, 4, 4, 128)    0           ['block1_1_conv3[0][0]',         \n",
      "                                                                  'add_85[0][0]']                 \n",
      "                                                                                                  \n",
      " block1_pooling (MaxPooling2D)  (None, 2, 2, 128)    0           ['add_86[0][0]']                 \n",
      "                                                                                                  \n",
      " block2_conv0 (Conv2D)          (None, 2, 2, 256)    295168      ['block1_pooling[0][0]']         \n",
      "                                                                                                  \n",
      " batch_normalization_93 (BatchN  (None, 2, 2, 256)   1024        ['block2_conv0[0][0]']           \n",
      " ormalization)                                                                                    \n",
      "                                                                                                  \n",
      " block2_1_conv0 (Conv2D)        (None, 2, 2, 256)    590080      ['batch_normalization_93[0][0]'] \n",
      "                                                                                                  \n",
      " conv2d_22 (Conv2D)             (None, 2, 2, 256)    33024       ['block1_pooling[0][0]']         \n",
      "                                                                                                  \n",
      " add_87 (Add)                   (None, 2, 2, 256)    0           ['block2_1_conv0[0][0]',         \n",
      "                                                                  'conv2d_22[0][0]']              \n",
      "                                                                                                  \n",
      " block2_conv1 (Conv2D)          (None, 2, 2, 256)    590080      ['add_87[0][0]']                 \n",
      "                                                                                                  \n",
      " batch_normalization_94 (BatchN  (None, 2, 2, 256)   1024        ['block2_conv1[0][0]']           \n",
      " ormalization)                                                                                    \n",
      "                                                                                                  \n",
      " block2_1_conv1 (Conv2D)        (None, 2, 2, 256)    590080      ['batch_normalization_94[0][0]'] \n",
      "                                                                                                  \n",
      " add_88 (Add)                   (None, 2, 2, 256)    0           ['block2_1_conv1[0][0]',         \n",
      "                                                                  'add_87[0][0]']                 \n",
      "                                                                                                  \n",
      " block2_conv2 (Conv2D)          (None, 2, 2, 256)    590080      ['add_88[0][0]']                 \n",
      "                                                                                                  \n",
      " batch_normalization_95 (BatchN  (None, 2, 2, 256)   1024        ['block2_conv2[0][0]']           \n",
      " ormalization)                                                                                    \n",
      "                                                                                                  \n",
      " block2_1_conv2 (Conv2D)        (None, 2, 2, 256)    590080      ['batch_normalization_95[0][0]'] \n",
      "                                                                                                  \n",
      " add_89 (Add)                   (None, 2, 2, 256)    0           ['block2_1_conv2[0][0]',         \n",
      "                                                                  'add_88[0][0]']                 \n",
      "                                                                                                  \n",
      " block2_conv3 (Conv2D)          (None, 2, 2, 256)    590080      ['add_89[0][0]']                 \n",
      "                                                                                                  \n",
      " batch_normalization_96 (BatchN  (None, 2, 2, 256)   1024        ['block2_conv3[0][0]']           \n",
      " ormalization)                                                                                    \n",
      "                                                                                                  \n",
      " block2_1_conv3 (Conv2D)        (None, 2, 2, 256)    590080      ['batch_normalization_96[0][0]'] \n",
      "                                                                                                  \n",
      " add_90 (Add)                   (None, 2, 2, 256)    0           ['block2_1_conv3[0][0]',         \n",
      "                                                                  'add_89[0][0]']                 \n",
      "                                                                                                  \n",
      " block2_conv4 (Conv2D)          (None, 2, 2, 256)    590080      ['add_90[0][0]']                 \n",
      "                                                                                                  \n",
      " batch_normalization_97 (BatchN  (None, 2, 2, 256)   1024        ['block2_conv4[0][0]']           \n",
      " ormalization)                                                                                    \n",
      "                                                                                                  \n",
      " block2_1_conv4 (Conv2D)        (None, 2, 2, 256)    590080      ['batch_normalization_97[0][0]'] \n",
      "                                                                                                  \n",
      " add_91 (Add)                   (None, 2, 2, 256)    0           ['block2_1_conv4[0][0]',         \n",
      "                                                                  'add_90[0][0]']                 \n",
      "                                                                                                  \n",
      " block2_conv5 (Conv2D)          (None, 2, 2, 256)    590080      ['add_91[0][0]']                 \n",
      "                                                                                                  \n",
      " batch_normalization_98 (BatchN  (None, 2, 2, 256)   1024        ['block2_conv5[0][0]']           \n",
      " ormalization)                                                                                    \n",
      "                                                                                                  \n",
      " block2_1_conv5 (Conv2D)        (None, 2, 2, 256)    590080      ['batch_normalization_98[0][0]'] \n",
      "                                                                                                  \n",
      " add_92 (Add)                   (None, 2, 2, 256)    0           ['block2_1_conv5[0][0]',         \n",
      "                                                                  'add_91[0][0]']                 \n",
      "                                                                                                  \n",
      " block2_pooling (MaxPooling2D)  (None, 1, 1, 256)    0           ['add_92[0][0]']                 \n",
      "                                                                                                  \n",
      " block3_conv0 (Conv2D)          (None, 1, 1, 512)    1180160     ['block2_pooling[0][0]']         \n",
      "                                                                                                  \n",
      " batch_normalization_99 (BatchN  (None, 1, 1, 512)   2048        ['block3_conv0[0][0]']           \n",
      " ormalization)                                                                                    \n",
      "                                                                                                  \n",
      " block3_1_conv0 (Conv2D)        (None, 1, 1, 512)    2359808     ['batch_normalization_99[0][0]'] \n",
      "                                                                                                  \n",
      " conv2d_23 (Conv2D)             (None, 1, 1, 512)    131584      ['block2_pooling[0][0]']         \n",
      "                                                                                                  \n",
      " add_93 (Add)                   (None, 1, 1, 512)    0           ['block3_1_conv0[0][0]',         \n",
      "                                                                  'conv2d_23[0][0]']              \n",
      "                                                                                                  \n",
      " block3_conv1 (Conv2D)          (None, 1, 1, 512)    2359808     ['add_93[0][0]']                 \n",
      "                                                                                                  \n",
      " batch_normalization_100 (Batch  (None, 1, 1, 512)   2048        ['block3_conv1[0][0]']           \n",
      " Normalization)                                                                                   \n",
      "                                                                                                  \n",
      " block3_1_conv1 (Conv2D)        (None, 1, 1, 512)    2359808     ['batch_normalization_100[0][0]']\n",
      "                                                                                                  \n",
      " add_94 (Add)                   (None, 1, 1, 512)    0           ['block3_1_conv1[0][0]',         \n",
      "                                                                  'add_93[0][0]']                 \n",
      "                                                                                                  \n",
      " block3_conv2 (Conv2D)          (None, 1, 1, 512)    2359808     ['add_94[0][0]']                 \n",
      "                                                                                                  \n",
      " batch_normalization_101 (Batch  (None, 1, 1, 512)   2048        ['block3_conv2[0][0]']           \n",
      " Normalization)                                                                                   \n",
      "                                                                                                  \n",
      " block3_1_conv2 (Conv2D)        (None, 1, 1, 512)    2359808     ['batch_normalization_101[0][0]']\n",
      "                                                                                                  \n",
      " add_95 (Add)                   (None, 1, 1, 512)    0           ['block3_1_conv2[0][0]',         \n",
      "                                                                  'add_94[0][0]']                 \n",
      "                                                                                                  \n",
      " average_pooling2d_5 (AveragePo  (None, 1, 1, 512)   0           ['add_95[0][0]']                 \n",
      " oling2D)                                                                                         \n",
      "                                                                                                  \n",
      " flatten (Flatten)              (None, 512)          0           ['average_pooling2d_5[0][0]']    \n",
      "                                                                                                  \n",
      " predictions (Dense)            (None, 10)           5130        ['flatten[0][0]']                \n",
      "                                                                                                  \n",
      "==================================================================================================\n",
      "Total params: 21,288,010\n",
      "Trainable params: 21,280,330\n",
      "Non-trainable params: 7,680\n",
      "__________________________________________________________________________________________________\n"
     ]
    }
   ],
   "source": [
    "resnet_34_res = build_resnet(input_shape=(32, 32,3), is_50=False, is_plain=False)\n",
    "resnet_34_res.summary()"
   ]
  },
  {
   "cell_type": "code",
   "execution_count": 34,
   "metadata": {},
   "outputs": [
    {
     "name": "stdout",
     "output_type": "stream",
     "text": [
      "Model: \"model_6\"\n",
      "__________________________________________________________________________________________________\n",
      " Layer (type)                   Output Shape         Param #     Connected to                     \n",
      "==================================================================================================\n",
      " input_7 (InputLayer)           [(None, 32, 32, 3)]  0           []                               \n",
      "                                                                                                  \n",
      " conv2d_24 (Conv2D)             (None, 16, 16, 64)   832         ['input_7[0][0]']                \n",
      "                                                                                                  \n",
      " batch_normalization_102 (Batch  (None, 16, 16, 64)  256         ['conv2d_24[0][0]']              \n",
      " Normalization)                                                                                   \n",
      "                                                                                                  \n",
      " max_pooling2d_6 (MaxPooling2D)  (None, 8, 8, 64)    0           ['batch_normalization_102[0][0]']\n",
      "                                                                                                  \n",
      " block0_conv0 (Conv2D)          (None, 8, 8, 64)     36928       ['max_pooling2d_6[0][0]']        \n",
      "                                                                                                  \n",
      " batch_normalization_103 (Batch  (None, 8, 8, 64)    256         ['block0_conv0[0][0]']           \n",
      " Normalization)                                                                                   \n",
      "                                                                                                  \n",
      " block0_1_conv0 (Conv2D)        (None, 8, 8, 64)     36928       ['batch_normalization_103[0][0]']\n",
      "                                                                                                  \n",
      " add_96 (Add)                   (None, 8, 8, 64)     0           ['block0_1_conv0[0][0]',         \n",
      "                                                                  'max_pooling2d_6[0][0]']        \n",
      "                                                                                                  \n",
      " block0_conv1 (Conv2D)          (None, 8, 8, 64)     36928       ['add_96[0][0]']                 \n",
      "                                                                                                  \n",
      " batch_normalization_104 (Batch  (None, 8, 8, 64)    256         ['block0_conv1[0][0]']           \n",
      " Normalization)                                                                                   \n",
      "                                                                                                  \n",
      " block0_1_conv1 (Conv2D)        (None, 8, 8, 64)     36928       ['batch_normalization_104[0][0]']\n",
      "                                                                                                  \n",
      " add_97 (Add)                   (None, 8, 8, 64)     0           ['block0_1_conv1[0][0]',         \n",
      "                                                                  'add_96[0][0]']                 \n",
      "                                                                                                  \n",
      " block0_conv2 (Conv2D)          (None, 8, 8, 64)     36928       ['add_97[0][0]']                 \n",
      "                                                                                                  \n",
      " batch_normalization_105 (Batch  (None, 8, 8, 64)    256         ['block0_conv2[0][0]']           \n",
      " Normalization)                                                                                   \n",
      "                                                                                                  \n",
      " block0_1_conv2 (Conv2D)        (None, 8, 8, 64)     36928       ['batch_normalization_105[0][0]']\n",
      "                                                                                                  \n",
      " add_98 (Add)                   (None, 8, 8, 64)     0           ['block0_1_conv2[0][0]',         \n",
      "                                                                  'add_97[0][0]']                 \n",
      "                                                                                                  \n",
      " block0_pooling (MaxPooling2D)  (None, 4, 4, 64)     0           ['add_98[0][0]']                 \n",
      "                                                                                                  \n",
      " block1_conv0 (Conv2D)          (None, 4, 4, 128)    73856       ['block0_pooling[0][0]']         \n",
      "                                                                                                  \n",
      " batch_normalization_106 (Batch  (None, 4, 4, 128)   512         ['block1_conv0[0][0]']           \n",
      " Normalization)                                                                                   \n",
      "                                                                                                  \n",
      " block1_1_conv0 (Conv2D)        (None, 4, 4, 128)    147584      ['batch_normalization_106[0][0]']\n",
      "                                                                                                  \n",
      " conv2d_25 (Conv2D)             (None, 4, 4, 128)    8320        ['block0_pooling[0][0]']         \n",
      "                                                                                                  \n",
      " add_99 (Add)                   (None, 4, 4, 128)    0           ['block1_1_conv0[0][0]',         \n",
      "                                                                  'conv2d_25[0][0]']              \n",
      "                                                                                                  \n",
      " block1_conv1 (Conv2D)          (None, 4, 4, 128)    147584      ['add_99[0][0]']                 \n",
      "                                                                                                  \n",
      " batch_normalization_107 (Batch  (None, 4, 4, 128)   512         ['block1_conv1[0][0]']           \n",
      " Normalization)                                                                                   \n",
      "                                                                                                  \n",
      " block1_1_conv1 (Conv2D)        (None, 4, 4, 128)    147584      ['batch_normalization_107[0][0]']\n",
      "                                                                                                  \n",
      " add_100 (Add)                  (None, 4, 4, 128)    0           ['block1_1_conv1[0][0]',         \n",
      "                                                                  'add_99[0][0]']                 \n",
      "                                                                                                  \n",
      " block1_conv2 (Conv2D)          (None, 4, 4, 128)    147584      ['add_100[0][0]']                \n",
      "                                                                                                  \n",
      " batch_normalization_108 (Batch  (None, 4, 4, 128)   512         ['block1_conv2[0][0]']           \n",
      " Normalization)                                                                                   \n",
      "                                                                                                  \n",
      " block1_1_conv2 (Conv2D)        (None, 4, 4, 128)    147584      ['batch_normalization_108[0][0]']\n",
      "                                                                                                  \n",
      " add_101 (Add)                  (None, 4, 4, 128)    0           ['block1_1_conv2[0][0]',         \n",
      "                                                                  'add_100[0][0]']                \n",
      "                                                                                                  \n",
      " block1_conv3 (Conv2D)          (None, 4, 4, 128)    147584      ['add_101[0][0]']                \n",
      "                                                                                                  \n",
      " batch_normalization_109 (Batch  (None, 4, 4, 128)   512         ['block1_conv3[0][0]']           \n",
      " Normalization)                                                                                   \n",
      "                                                                                                  \n",
      " block1_1_conv3 (Conv2D)        (None, 4, 4, 128)    147584      ['batch_normalization_109[0][0]']\n",
      "                                                                                                  \n",
      " add_102 (Add)                  (None, 4, 4, 128)    0           ['block1_1_conv3[0][0]',         \n",
      "                                                                  'add_101[0][0]']                \n",
      "                                                                                                  \n",
      " block1_pooling (MaxPooling2D)  (None, 2, 2, 128)    0           ['add_102[0][0]']                \n",
      "                                                                                                  \n",
      " block2_conv0 (Conv2D)          (None, 2, 2, 256)    295168      ['block1_pooling[0][0]']         \n",
      "                                                                                                  \n",
      " batch_normalization_110 (Batch  (None, 2, 2, 256)   1024        ['block2_conv0[0][0]']           \n",
      " Normalization)                                                                                   \n",
      "                                                                                                  \n",
      " block2_1_conv0 (Conv2D)        (None, 2, 2, 256)    590080      ['batch_normalization_110[0][0]']\n",
      "                                                                                                  \n",
      " conv2d_26 (Conv2D)             (None, 2, 2, 256)    33024       ['block1_pooling[0][0]']         \n",
      "                                                                                                  \n",
      " add_103 (Add)                  (None, 2, 2, 256)    0           ['block2_1_conv0[0][0]',         \n",
      "                                                                  'conv2d_26[0][0]']              \n",
      "                                                                                                  \n",
      " block2_conv1 (Conv2D)          (None, 2, 2, 256)    590080      ['add_103[0][0]']                \n",
      "                                                                                                  \n",
      " batch_normalization_111 (Batch  (None, 2, 2, 256)   1024        ['block2_conv1[0][0]']           \n",
      " Normalization)                                                                                   \n",
      "                                                                                                  \n",
      " block2_1_conv1 (Conv2D)        (None, 2, 2, 256)    590080      ['batch_normalization_111[0][0]']\n",
      "                                                                                                  \n",
      " add_104 (Add)                  (None, 2, 2, 256)    0           ['block2_1_conv1[0][0]',         \n",
      "                                                                  'add_103[0][0]']                \n",
      "                                                                                                  \n",
      " block2_conv2 (Conv2D)          (None, 2, 2, 256)    590080      ['add_104[0][0]']                \n",
      "                                                                                                  \n",
      " batch_normalization_112 (Batch  (None, 2, 2, 256)   1024        ['block2_conv2[0][0]']           \n",
      " Normalization)                                                                                   \n",
      "                                                                                                  \n",
      " block2_1_conv2 (Conv2D)        (None, 2, 2, 256)    590080      ['batch_normalization_112[0][0]']\n",
      "                                                                                                  \n",
      " add_105 (Add)                  (None, 2, 2, 256)    0           ['block2_1_conv2[0][0]',         \n",
      "                                                                  'add_104[0][0]']                \n",
      "                                                                                                  \n",
      " block2_conv3 (Conv2D)          (None, 2, 2, 256)    590080      ['add_105[0][0]']                \n",
      "                                                                                                  \n",
      " batch_normalization_113 (Batch  (None, 2, 2, 256)   1024        ['block2_conv3[0][0]']           \n",
      " Normalization)                                                                                   \n",
      "                                                                                                  \n",
      " block2_1_conv3 (Conv2D)        (None, 2, 2, 256)    590080      ['batch_normalization_113[0][0]']\n",
      "                                                                                                  \n",
      " add_106 (Add)                  (None, 2, 2, 256)    0           ['block2_1_conv3[0][0]',         \n",
      "                                                                  'add_105[0][0]']                \n",
      "                                                                                                  \n",
      " block2_conv4 (Conv2D)          (None, 2, 2, 256)    590080      ['add_106[0][0]']                \n",
      "                                                                                                  \n",
      " batch_normalization_114 (Batch  (None, 2, 2, 256)   1024        ['block2_conv4[0][0]']           \n",
      " Normalization)                                                                                   \n",
      "                                                                                                  \n",
      " block2_1_conv4 (Conv2D)        (None, 2, 2, 256)    590080      ['batch_normalization_114[0][0]']\n",
      "                                                                                                  \n",
      " add_107 (Add)                  (None, 2, 2, 256)    0           ['block2_1_conv4[0][0]',         \n",
      "                                                                  'add_106[0][0]']                \n",
      "                                                                                                  \n",
      " block2_conv5 (Conv2D)          (None, 2, 2, 256)    590080      ['add_107[0][0]']                \n",
      "                                                                                                  \n",
      " batch_normalization_115 (Batch  (None, 2, 2, 256)   1024        ['block2_conv5[0][0]']           \n",
      " Normalization)                                                                                   \n",
      "                                                                                                  \n",
      " block2_1_conv5 (Conv2D)        (None, 2, 2, 256)    590080      ['batch_normalization_115[0][0]']\n",
      "                                                                                                  \n",
      " add_108 (Add)                  (None, 2, 2, 256)    0           ['block2_1_conv5[0][0]',         \n",
      "                                                                  'add_107[0][0]']                \n",
      "                                                                                                  \n",
      " block2_pooling (MaxPooling2D)  (None, 1, 1, 256)    0           ['add_108[0][0]']                \n",
      "                                                                                                  \n",
      " block3_conv0 (Conv2D)          (None, 1, 1, 512)    1180160     ['block2_pooling[0][0]']         \n",
      "                                                                                                  \n",
      " batch_normalization_116 (Batch  (None, 1, 1, 512)   2048        ['block3_conv0[0][0]']           \n",
      " Normalization)                                                                                   \n",
      "                                                                                                  \n",
      " block3_1_conv0 (Conv2D)        (None, 1, 1, 512)    2359808     ['batch_normalization_116[0][0]']\n",
      "                                                                                                  \n",
      " conv2d_27 (Conv2D)             (None, 1, 1, 512)    131584      ['block2_pooling[0][0]']         \n",
      "                                                                                                  \n",
      " add_109 (Add)                  (None, 1, 1, 512)    0           ['block3_1_conv0[0][0]',         \n",
      "                                                                  'conv2d_27[0][0]']              \n",
      "                                                                                                  \n",
      " block3_conv1 (Conv2D)          (None, 1, 1, 512)    2359808     ['add_109[0][0]']                \n",
      "                                                                                                  \n",
      " batch_normalization_117 (Batch  (None, 1, 1, 512)   2048        ['block3_conv1[0][0]']           \n",
      " Normalization)                                                                                   \n",
      "                                                                                                  \n",
      " block3_1_conv1 (Conv2D)        (None, 1, 1, 512)    2359808     ['batch_normalization_117[0][0]']\n",
      "                                                                                                  \n",
      " add_110 (Add)                  (None, 1, 1, 512)    0           ['block3_1_conv1[0][0]',         \n",
      "                                                                  'add_109[0][0]']                \n",
      "                                                                                                  \n",
      " block3_conv2 (Conv2D)          (None, 1, 1, 512)    2359808     ['add_110[0][0]']                \n",
      "                                                                                                  \n",
      " batch_normalization_118 (Batch  (None, 1, 1, 512)   2048        ['block3_conv2[0][0]']           \n",
      " Normalization)                                                                                   \n",
      "                                                                                                  \n",
      " block3_1_conv2 (Conv2D)        (None, 1, 1, 512)    2359808     ['batch_normalization_118[0][0]']\n",
      "                                                                                                  \n",
      " add_111 (Add)                  (None, 1, 1, 512)    0           ['block3_1_conv2[0][0]',         \n",
      "                                                                  'add_110[0][0]']                \n",
      "                                                                                                  \n",
      " average_pooling2d_6 (AveragePo  (None, 1, 1, 512)   0           ['add_111[0][0]']                \n",
      " oling2D)                                                                                         \n",
      "                                                                                                  \n",
      " flatten (Flatten)              (None, 512)          0           ['average_pooling2d_6[0][0]']    \n",
      "                                                                                                  \n",
      " predictions (Dense)            (None, 10)           5130        ['flatten[0][0]']                \n",
      "                                                                                                  \n",
      "==================================================================================================\n",
      "Total params: 21,288,010\n",
      "Trainable params: 21,280,330\n",
      "Non-trainable params: 7,680\n",
      "__________________________________________________________________________________________________\n"
     ]
    }
   ],
   "source": [
    "resnet_50_plain = build_resnet(input_shape=(32, 32,3), is_50=True, is_plain=True)\n",
    "resnet_50_plain.summary()"
   ]
  },
  {
   "cell_type": "code",
   "execution_count": 35,
   "metadata": {},
   "outputs": [
    {
     "name": "stdout",
     "output_type": "stream",
     "text": [
      "Model: \"model_7\"\n",
      "__________________________________________________________________________________________________\n",
      " Layer (type)                   Output Shape         Param #     Connected to                     \n",
      "==================================================================================================\n",
      " input_8 (InputLayer)           [(None, 32, 32, 3)]  0           []                               \n",
      "                                                                                                  \n",
      " conv2d_28 (Conv2D)             (None, 16, 16, 64)   832         ['input_8[0][0]']                \n",
      "                                                                                                  \n",
      " batch_normalization_119 (Batch  (None, 16, 16, 64)  256         ['conv2d_28[0][0]']              \n",
      " Normalization)                                                                                   \n",
      "                                                                                                  \n",
      " max_pooling2d_7 (MaxPooling2D)  (None, 8, 8, 64)    0           ['batch_normalization_119[0][0]']\n",
      "                                                                                                  \n",
      " block0_conv0 (Conv2D)          (None, 8, 8, 64)     36928       ['max_pooling2d_7[0][0]']        \n",
      "                                                                                                  \n",
      " batch_normalization_120 (Batch  (None, 8, 8, 64)    256         ['block0_conv0[0][0]']           \n",
      " Normalization)                                                                                   \n",
      "                                                                                                  \n",
      " block0_1_conv0 (Conv2D)        (None, 8, 8, 64)     36928       ['batch_normalization_120[0][0]']\n",
      "                                                                                                  \n",
      " add_112 (Add)                  (None, 8, 8, 64)     0           ['block0_1_conv0[0][0]',         \n",
      "                                                                  'max_pooling2d_7[0][0]']        \n",
      "                                                                                                  \n",
      " block0_conv1 (Conv2D)          (None, 8, 8, 64)     36928       ['add_112[0][0]']                \n",
      "                                                                                                  \n",
      " batch_normalization_121 (Batch  (None, 8, 8, 64)    256         ['block0_conv1[0][0]']           \n",
      " Normalization)                                                                                   \n",
      "                                                                                                  \n",
      " block0_1_conv1 (Conv2D)        (None, 8, 8, 64)     36928       ['batch_normalization_121[0][0]']\n",
      "                                                                                                  \n",
      " add_113 (Add)                  (None, 8, 8, 64)     0           ['block0_1_conv1[0][0]',         \n",
      "                                                                  'add_112[0][0]']                \n",
      "                                                                                                  \n",
      " block0_conv2 (Conv2D)          (None, 8, 8, 64)     36928       ['add_113[0][0]']                \n",
      "                                                                                                  \n",
      " batch_normalization_122 (Batch  (None, 8, 8, 64)    256         ['block0_conv2[0][0]']           \n",
      " Normalization)                                                                                   \n",
      "                                                                                                  \n",
      " block0_1_conv2 (Conv2D)        (None, 8, 8, 64)     36928       ['batch_normalization_122[0][0]']\n",
      "                                                                                                  \n",
      " add_114 (Add)                  (None, 8, 8, 64)     0           ['block0_1_conv2[0][0]',         \n",
      "                                                                  'add_113[0][0]']                \n",
      "                                                                                                  \n",
      " block0_pooling (MaxPooling2D)  (None, 4, 4, 64)     0           ['add_114[0][0]']                \n",
      "                                                                                                  \n",
      " block1_conv0 (Conv2D)          (None, 4, 4, 128)    73856       ['block0_pooling[0][0]']         \n",
      "                                                                                                  \n",
      " batch_normalization_123 (Batch  (None, 4, 4, 128)   512         ['block1_conv0[0][0]']           \n",
      " Normalization)                                                                                   \n",
      "                                                                                                  \n",
      " block1_1_conv0 (Conv2D)        (None, 4, 4, 128)    147584      ['batch_normalization_123[0][0]']\n",
      "                                                                                                  \n",
      " conv2d_29 (Conv2D)             (None, 4, 4, 128)    8320        ['block0_pooling[0][0]']         \n",
      "                                                                                                  \n",
      " add_115 (Add)                  (None, 4, 4, 128)    0           ['block1_1_conv0[0][0]',         \n",
      "                                                                  'conv2d_29[0][0]']              \n",
      "                                                                                                  \n",
      " block1_conv1 (Conv2D)          (None, 4, 4, 128)    147584      ['add_115[0][0]']                \n",
      "                                                                                                  \n",
      " batch_normalization_124 (Batch  (None, 4, 4, 128)   512         ['block1_conv1[0][0]']           \n",
      " Normalization)                                                                                   \n",
      "                                                                                                  \n",
      " block1_1_conv1 (Conv2D)        (None, 4, 4, 128)    147584      ['batch_normalization_124[0][0]']\n",
      "                                                                                                  \n",
      " add_116 (Add)                  (None, 4, 4, 128)    0           ['block1_1_conv1[0][0]',         \n",
      "                                                                  'add_115[0][0]']                \n",
      "                                                                                                  \n",
      " block1_conv2 (Conv2D)          (None, 4, 4, 128)    147584      ['add_116[0][0]']                \n",
      "                                                                                                  \n",
      " batch_normalization_125 (Batch  (None, 4, 4, 128)   512         ['block1_conv2[0][0]']           \n",
      " Normalization)                                                                                   \n",
      "                                                                                                  \n",
      " block1_1_conv2 (Conv2D)        (None, 4, 4, 128)    147584      ['batch_normalization_125[0][0]']\n",
      "                                                                                                  \n",
      " add_117 (Add)                  (None, 4, 4, 128)    0           ['block1_1_conv2[0][0]',         \n",
      "                                                                  'add_116[0][0]']                \n",
      "                                                                                                  \n",
      " block1_conv3 (Conv2D)          (None, 4, 4, 128)    147584      ['add_117[0][0]']                \n",
      "                                                                                                  \n",
      " batch_normalization_126 (Batch  (None, 4, 4, 128)   512         ['block1_conv3[0][0]']           \n",
      " Normalization)                                                                                   \n",
      "                                                                                                  \n",
      " block1_1_conv3 (Conv2D)        (None, 4, 4, 128)    147584      ['batch_normalization_126[0][0]']\n",
      "                                                                                                  \n",
      " add_118 (Add)                  (None, 4, 4, 128)    0           ['block1_1_conv3[0][0]',         \n",
      "                                                                  'add_117[0][0]']                \n",
      "                                                                                                  \n",
      " block1_pooling (MaxPooling2D)  (None, 2, 2, 128)    0           ['add_118[0][0]']                \n",
      "                                                                                                  \n",
      " block2_conv0 (Conv2D)          (None, 2, 2, 256)    295168      ['block1_pooling[0][0]']         \n",
      "                                                                                                  \n",
      " batch_normalization_127 (Batch  (None, 2, 2, 256)   1024        ['block2_conv0[0][0]']           \n",
      " Normalization)                                                                                   \n",
      "                                                                                                  \n",
      " block2_1_conv0 (Conv2D)        (None, 2, 2, 256)    590080      ['batch_normalization_127[0][0]']\n",
      "                                                                                                  \n",
      " conv2d_30 (Conv2D)             (None, 2, 2, 256)    33024       ['block1_pooling[0][0]']         \n",
      "                                                                                                  \n",
      " add_119 (Add)                  (None, 2, 2, 256)    0           ['block2_1_conv0[0][0]',         \n",
      "                                                                  'conv2d_30[0][0]']              \n",
      "                                                                                                  \n",
      " block2_conv1 (Conv2D)          (None, 2, 2, 256)    590080      ['add_119[0][0]']                \n",
      "                                                                                                  \n",
      " batch_normalization_128 (Batch  (None, 2, 2, 256)   1024        ['block2_conv1[0][0]']           \n",
      " Normalization)                                                                                   \n",
      "                                                                                                  \n",
      " block2_1_conv1 (Conv2D)        (None, 2, 2, 256)    590080      ['batch_normalization_128[0][0]']\n",
      "                                                                                                  \n",
      " add_120 (Add)                  (None, 2, 2, 256)    0           ['block2_1_conv1[0][0]',         \n",
      "                                                                  'add_119[0][0]']                \n",
      "                                                                                                  \n",
      " block2_conv2 (Conv2D)          (None, 2, 2, 256)    590080      ['add_120[0][0]']                \n",
      "                                                                                                  \n",
      " batch_normalization_129 (Batch  (None, 2, 2, 256)   1024        ['block2_conv2[0][0]']           \n",
      " Normalization)                                                                                   \n",
      "                                                                                                  \n",
      " block2_1_conv2 (Conv2D)        (None, 2, 2, 256)    590080      ['batch_normalization_129[0][0]']\n",
      "                                                                                                  \n",
      " add_121 (Add)                  (None, 2, 2, 256)    0           ['block2_1_conv2[0][0]',         \n",
      "                                                                  'add_120[0][0]']                \n",
      "                                                                                                  \n",
      " block2_conv3 (Conv2D)          (None, 2, 2, 256)    590080      ['add_121[0][0]']                \n",
      "                                                                                                  \n",
      " batch_normalization_130 (Batch  (None, 2, 2, 256)   1024        ['block2_conv3[0][0]']           \n",
      " Normalization)                                                                                   \n",
      "                                                                                                  \n",
      " block2_1_conv3 (Conv2D)        (None, 2, 2, 256)    590080      ['batch_normalization_130[0][0]']\n",
      "                                                                                                  \n",
      " add_122 (Add)                  (None, 2, 2, 256)    0           ['block2_1_conv3[0][0]',         \n",
      "                                                                  'add_121[0][0]']                \n",
      "                                                                                                  \n",
      " block2_conv4 (Conv2D)          (None, 2, 2, 256)    590080      ['add_122[0][0]']                \n",
      "                                                                                                  \n",
      " batch_normalization_131 (Batch  (None, 2, 2, 256)   1024        ['block2_conv4[0][0]']           \n",
      " Normalization)                                                                                   \n",
      "                                                                                                  \n",
      " block2_1_conv4 (Conv2D)        (None, 2, 2, 256)    590080      ['batch_normalization_131[0][0]']\n",
      "                                                                                                  \n",
      " add_123 (Add)                  (None, 2, 2, 256)    0           ['block2_1_conv4[0][0]',         \n",
      "                                                                  'add_122[0][0]']                \n",
      "                                                                                                  \n",
      " block2_conv5 (Conv2D)          (None, 2, 2, 256)    590080      ['add_123[0][0]']                \n",
      "                                                                                                  \n",
      " batch_normalization_132 (Batch  (None, 2, 2, 256)   1024        ['block2_conv5[0][0]']           \n",
      " Normalization)                                                                                   \n",
      "                                                                                                  \n",
      " block2_1_conv5 (Conv2D)        (None, 2, 2, 256)    590080      ['batch_normalization_132[0][0]']\n",
      "                                                                                                  \n",
      " add_124 (Add)                  (None, 2, 2, 256)    0           ['block2_1_conv5[0][0]',         \n",
      "                                                                  'add_123[0][0]']                \n",
      "                                                                                                  \n",
      " block2_pooling (MaxPooling2D)  (None, 1, 1, 256)    0           ['add_124[0][0]']                \n",
      "                                                                                                  \n",
      " block3_conv0 (Conv2D)          (None, 1, 1, 512)    1180160     ['block2_pooling[0][0]']         \n",
      "                                                                                                  \n",
      " batch_normalization_133 (Batch  (None, 1, 1, 512)   2048        ['block3_conv0[0][0]']           \n",
      " Normalization)                                                                                   \n",
      "                                                                                                  \n",
      " block3_1_conv0 (Conv2D)        (None, 1, 1, 512)    2359808     ['batch_normalization_133[0][0]']\n",
      "                                                                                                  \n",
      " conv2d_31 (Conv2D)             (None, 1, 1, 512)    131584      ['block2_pooling[0][0]']         \n",
      "                                                                                                  \n",
      " add_125 (Add)                  (None, 1, 1, 512)    0           ['block3_1_conv0[0][0]',         \n",
      "                                                                  'conv2d_31[0][0]']              \n",
      "                                                                                                  \n",
      " block3_conv1 (Conv2D)          (None, 1, 1, 512)    2359808     ['add_125[0][0]']                \n",
      "                                                                                                  \n",
      " batch_normalization_134 (Batch  (None, 1, 1, 512)   2048        ['block3_conv1[0][0]']           \n",
      " Normalization)                                                                                   \n",
      "                                                                                                  \n",
      " block3_1_conv1 (Conv2D)        (None, 1, 1, 512)    2359808     ['batch_normalization_134[0][0]']\n",
      "                                                                                                  \n",
      " add_126 (Add)                  (None, 1, 1, 512)    0           ['block3_1_conv1[0][0]',         \n",
      "                                                                  'add_125[0][0]']                \n",
      "                                                                                                  \n",
      " block3_conv2 (Conv2D)          (None, 1, 1, 512)    2359808     ['add_126[0][0]']                \n",
      "                                                                                                  \n",
      " batch_normalization_135 (Batch  (None, 1, 1, 512)   2048        ['block3_conv2[0][0]']           \n",
      " Normalization)                                                                                   \n",
      "                                                                                                  \n",
      " block3_1_conv2 (Conv2D)        (None, 1, 1, 512)    2359808     ['batch_normalization_135[0][0]']\n",
      "                                                                                                  \n",
      " add_127 (Add)                  (None, 1, 1, 512)    0           ['block3_1_conv2[0][0]',         \n",
      "                                                                  'add_126[0][0]']                \n",
      "                                                                                                  \n",
      " average_pooling2d_7 (AveragePo  (None, 1, 1, 512)   0           ['add_127[0][0]']                \n",
      " oling2D)                                                                                         \n",
      "                                                                                                  \n",
      " flatten (Flatten)              (None, 512)          0           ['average_pooling2d_7[0][0]']    \n",
      "                                                                                                  \n",
      " predictions (Dense)            (None, 10)           5130        ['flatten[0][0]']                \n",
      "                                                                                                  \n",
      "==================================================================================================\n",
      "Total params: 21,288,010\n",
      "Trainable params: 21,280,330\n",
      "Non-trainable params: 7,680\n",
      "__________________________________________________________________________________________________\n"
     ]
    }
   ],
   "source": [
    "resnet_50_res = build_resnet(input_shape=(32, 32,3), is_50=True, is_plain=False)\n",
    "resnet_50_res.summary()"
   ]
  },
  {
   "cell_type": "code",
   "execution_count": 54,
   "metadata": {},
   "outputs": [
    {
     "name": "stderr",
     "output_type": "stream",
     "text": [
      "WARNING:absl:`lr` is deprecated in Keras optimizer, please use `learning_rate` or use the legacy optimizer, e.g.,tf.keras.optimizers.legacy.SGD.\n"
     ]
    },
    {
     "name": "stdout",
     "output_type": "stream",
     "text": [
      "Epoch 1/15\n"
     ]
    },
    {
     "name": "stderr",
     "output_type": "stream",
     "text": [
      "Corrupt JPEG data: 99 extraneous bytes before marker 0xd9\n",
      "Warning: unknown JFIF revision number 0.00\n",
      "Corrupt JPEG data: 396 extraneous bytes before marker 0xd9\n",
      "Corrupt JPEG data: 65 extraneous bytes before marker 0xd9\n"
     ]
    },
    {
     "name": "stdout",
     "output_type": "stream",
     "text": [
      " 59/290 [=====>........................] - ETA: 12s - loss: 0.7959 - accuracy: 0.6525"
     ]
    },
    {
     "name": "stderr",
     "output_type": "stream",
     "text": [
      "Corrupt JPEG data: 2226 extraneous bytes before marker 0xd9\n"
     ]
    },
    {
     "name": "stdout",
     "output_type": "stream",
     "text": [
      " 64/290 [=====>........................] - ETA: 12s - loss: 0.7957 - accuracy: 0.6519"
     ]
    },
    {
     "name": "stderr",
     "output_type": "stream",
     "text": [
      "Corrupt JPEG data: 128 extraneous bytes before marker 0xd9\n"
     ]
    },
    {
     "name": "stdout",
     "output_type": "stream",
     "text": [
      " 72/290 [======>.......................] - ETA: 11s - loss: 0.7945 - accuracy: 0.6519"
     ]
    },
    {
     "name": "stderr",
     "output_type": "stream",
     "text": [
      "Corrupt JPEG data: 239 extraneous bytes before marker 0xd9\n"
     ]
    },
    {
     "name": "stdout",
     "output_type": "stream",
     "text": [
      " 85/290 [=======>......................] - ETA: 11s - loss: 0.7929 - accuracy: 0.6539"
     ]
    },
    {
     "name": "stderr",
     "output_type": "stream",
     "text": [
      "Corrupt JPEG data: 1153 extraneous bytes before marker 0xd9\n",
      "Corrupt JPEG data: 228 extraneous bytes before marker 0xd9\n"
     ]
    },
    {
     "name": "stdout",
     "output_type": "stream",
     "text": [
      "191/290 [==================>...........] - ETA: 5s - loss: 0.7820 - accuracy: 0.6610"
     ]
    },
    {
     "name": "stderr",
     "output_type": "stream",
     "text": [
      "Corrupt JPEG data: 99 extraneous bytes before marker 0xd9\n"
     ]
    },
    {
     "name": "stdout",
     "output_type": "stream",
     "text": [
      "206/290 [====================>.........] - ETA: 4s - loss: 0.7767 - accuracy: 0.6634"
     ]
    },
    {
     "name": "stderr",
     "output_type": "stream",
     "text": [
      "Warning: unknown JFIF revision number 0.00\n"
     ]
    },
    {
     "name": "stdout",
     "output_type": "stream",
     "text": [
      "212/290 [====================>.........] - ETA: 4s - loss: 0.7740 - accuracy: 0.6641"
     ]
    },
    {
     "name": "stderr",
     "output_type": "stream",
     "text": [
      "Corrupt JPEG data: 396 extraneous bytes before marker 0xd9\n"
     ]
    },
    {
     "name": "stdout",
     "output_type": "stream",
     "text": [
      "247/290 [========================>.....] - ETA: 2s - loss: 0.7628 - accuracy: 0.6693"
     ]
    },
    {
     "name": "stderr",
     "output_type": "stream",
     "text": [
      "Corrupt JPEG data: 65 extraneous bytes before marker 0xd9\n"
     ]
    },
    {
     "name": "stdout",
     "output_type": "stream",
     "text": [
      "290/290 [==============================] - ETA: 0s - loss: 0.7594 - accuracy: 0.6680"
     ]
    },
    {
     "name": "stderr",
     "output_type": "stream",
     "text": [
      "Corrupt JPEG data: 162 extraneous bytes before marker 0xd9\n",
      "Corrupt JPEG data: 252 extraneous bytes before marker 0xd9\n",
      "Corrupt JPEG data: 214 extraneous bytes before marker 0xd9\n",
      "Corrupt JPEG data: 1403 extraneous bytes before marker 0xd9\n",
      "Corrupt JPEG data: 162 extraneous bytes before marker 0xd9\n",
      "Corrupt JPEG data: 252 extraneous bytes before marker 0xd9\n",
      "Corrupt JPEG data: 214 extraneous bytes before marker 0xd9\n",
      "Corrupt JPEG data: 1403 extraneous bytes before marker 0xd9\n",
      "Corrupt JPEG data: 162 extraneous bytes before marker 0xd9\n",
      "Corrupt JPEG data: 252 extraneous bytes before marker 0xd9\n",
      "Corrupt JPEG data: 214 extraneous bytes before marker 0xd9\n",
      "Corrupt JPEG data: 1403 extraneous bytes before marker 0xd9\n",
      "Corrupt JPEG data: 162 extraneous bytes before marker 0xd9\n",
      "Corrupt JPEG data: 252 extraneous bytes before marker 0xd9\n"
     ]
    },
    {
     "name": "stdout",
     "output_type": "stream",
     "text": [
      "290/290 [==============================] - 25s 61ms/step - loss: 0.7594 - accuracy: 0.6680 - val_loss: 1.0189 - val_accuracy: 0.6042\n",
      "Epoch 2/15\n"
     ]
    },
    {
     "name": "stderr",
     "output_type": "stream",
     "text": [
      "Corrupt JPEG data: 214 extraneous bytes before marker 0xd9\n",
      "Corrupt JPEG data: 1403 extraneous bytes before marker 0xd9\n"
     ]
    },
    {
     "name": "stdout",
     "output_type": "stream",
     "text": [
      " 62/290 [=====>........................] - ETA: 11s - loss: 0.7081 - accuracy: 0.6918"
     ]
    },
    {
     "name": "stderr",
     "output_type": "stream",
     "text": [
      "Corrupt JPEG data: 2226 extraneous bytes before marker 0xd9\n"
     ]
    },
    {
     "name": "stdout",
     "output_type": "stream",
     "text": [
      " 68/290 [======>.......................] - ETA: 11s - loss: 0.7082 - accuracy: 0.6921"
     ]
    },
    {
     "name": "stderr",
     "output_type": "stream",
     "text": [
      "Corrupt JPEG data: 128 extraneous bytes before marker 0xd9\n"
     ]
    },
    {
     "name": "stdout",
     "output_type": "stream",
     "text": [
      " 74/290 [======>.......................] - ETA: 10s - loss: 0.7051 - accuracy: 0.6917"
     ]
    },
    {
     "name": "stderr",
     "output_type": "stream",
     "text": [
      "Corrupt JPEG data: 239 extraneous bytes before marker 0xd9\n"
     ]
    },
    {
     "name": "stdout",
     "output_type": "stream",
     "text": [
      " 86/290 [=======>......................] - ETA: 10s - loss: 0.7119 - accuracy: 0.6897"
     ]
    },
    {
     "name": "stderr",
     "output_type": "stream",
     "text": [
      "Corrupt JPEG data: 1153 extraneous bytes before marker 0xd9\n",
      "Corrupt JPEG data: 228 extraneous bytes before marker 0xd9\n"
     ]
    },
    {
     "name": "stdout",
     "output_type": "stream",
     "text": [
      "190/290 [==================>...........] - ETA: 5s - loss: 0.6854 - accuracy: 0.6979"
     ]
    },
    {
     "name": "stderr",
     "output_type": "stream",
     "text": [
      "Corrupt JPEG data: 99 extraneous bytes before marker 0xd9\n"
     ]
    },
    {
     "name": "stdout",
     "output_type": "stream",
     "text": [
      "206/290 [====================>.........] - ETA: 4s - loss: 0.6820 - accuracy: 0.6991"
     ]
    },
    {
     "name": "stderr",
     "output_type": "stream",
     "text": [
      "Warning: unknown JFIF revision number 0.00\n"
     ]
    },
    {
     "name": "stdout",
     "output_type": "stream",
     "text": [
      "213/290 [=====================>........] - ETA: 3s - loss: 0.6796 - accuracy: 0.6998"
     ]
    },
    {
     "name": "stderr",
     "output_type": "stream",
     "text": [
      "Corrupt JPEG data: 396 extraneous bytes before marker 0xd9\n"
     ]
    },
    {
     "name": "stdout",
     "output_type": "stream",
     "text": [
      "250/290 [========================>.....] - ETA: 2s - loss: 0.6761 - accuracy: 0.7010"
     ]
    },
    {
     "name": "stderr",
     "output_type": "stream",
     "text": [
      "Corrupt JPEG data: 65 extraneous bytes before marker 0xd9\n"
     ]
    },
    {
     "name": "stdout",
     "output_type": "stream",
     "text": [
      "290/290 [==============================] - ETA: 0s - loss: 0.6663 - accuracy: 0.7050"
     ]
    },
    {
     "name": "stderr",
     "output_type": "stream",
     "text": [
      "Corrupt JPEG data: 162 extraneous bytes before marker 0xd9\n",
      "Corrupt JPEG data: 252 extraneous bytes before marker 0xd9\n",
      "Corrupt JPEG data: 214 extraneous bytes before marker 0xd9\n",
      "Corrupt JPEG data: 1403 extraneous bytes before marker 0xd9\n",
      "Corrupt JPEG data: 162 extraneous bytes before marker 0xd9\n",
      "Corrupt JPEG data: 252 extraneous bytes before marker 0xd9\n",
      "Corrupt JPEG data: 214 extraneous bytes before marker 0xd9\n",
      "Corrupt JPEG data: 1403 extraneous bytes before marker 0xd9\n",
      "Corrupt JPEG data: 162 extraneous bytes before marker 0xd9\n",
      "Corrupt JPEG data: 252 extraneous bytes before marker 0xd9\n",
      "Corrupt JPEG data: 214 extraneous bytes before marker 0xd9\n",
      "Corrupt JPEG data: 1403 extraneous bytes before marker 0xd9\n",
      "Corrupt JPEG data: 162 extraneous bytes before marker 0xd9\n",
      "Corrupt JPEG data: 252 extraneous bytes before marker 0xd9\n",
      "Corrupt JPEG data: 214 extraneous bytes before marker 0xd9\n",
      "Corrupt JPEG data: 1403 extraneous bytes before marker 0xd9\n"
     ]
    },
    {
     "name": "stdout",
     "output_type": "stream",
     "text": [
      "290/290 [==============================] - 17s 59ms/step - loss: 0.6663 - accuracy: 0.7050 - val_loss: 1.2746 - val_accuracy: 0.5822\n",
      "Epoch 3/15\n",
      " 63/290 [=====>........................] - ETA: 11s - loss: 0.5928 - accuracy: 0.7374"
     ]
    },
    {
     "name": "stderr",
     "output_type": "stream",
     "text": [
      "Corrupt JPEG data: 2226 extraneous bytes before marker 0xd9\n"
     ]
    },
    {
     "name": "stdout",
     "output_type": "stream",
     "text": [
      " 68/290 [======>.......................] - ETA: 11s - loss: 0.5870 - accuracy: 0.7394"
     ]
    },
    {
     "name": "stderr",
     "output_type": "stream",
     "text": [
      "Corrupt JPEG data: 128 extraneous bytes before marker 0xd9\n"
     ]
    },
    {
     "name": "stdout",
     "output_type": "stream",
     "text": [
      " 75/290 [======>.......................] - ETA: 11s - loss: 0.5822 - accuracy: 0.7410"
     ]
    },
    {
     "name": "stderr",
     "output_type": "stream",
     "text": [
      "Corrupt JPEG data: 239 extraneous bytes before marker 0xd9\n"
     ]
    },
    {
     "name": "stdout",
     "output_type": "stream",
     "text": [
      " 89/290 [========>.....................] - ETA: 10s - loss: 0.5846 - accuracy: 0.7391"
     ]
    },
    {
     "name": "stderr",
     "output_type": "stream",
     "text": [
      "Corrupt JPEG data: 1153 extraneous bytes before marker 0xd9\n",
      "Corrupt JPEG data: 228 extraneous bytes before marker 0xd9\n"
     ]
    },
    {
     "name": "stdout",
     "output_type": "stream",
     "text": [
      "190/290 [==================>...........] - ETA: 5s - loss: 0.5731 - accuracy: 0.7440"
     ]
    },
    {
     "name": "stderr",
     "output_type": "stream",
     "text": [
      "Corrupt JPEG data: 99 extraneous bytes before marker 0xd9\n"
     ]
    },
    {
     "name": "stdout",
     "output_type": "stream",
     "text": [
      "208/290 [====================>.........] - ETA: 4s - loss: 0.5738 - accuracy: 0.7437"
     ]
    },
    {
     "name": "stderr",
     "output_type": "stream",
     "text": [
      "Warning: unknown JFIF revision number 0.00\n"
     ]
    },
    {
     "name": "stdout",
     "output_type": "stream",
     "text": [
      "213/290 [=====================>........] - ETA: 4s - loss: 0.5715 - accuracy: 0.7443"
     ]
    },
    {
     "name": "stderr",
     "output_type": "stream",
     "text": [
      "Corrupt JPEG data: 396 extraneous bytes before marker 0xd9\n"
     ]
    },
    {
     "name": "stdout",
     "output_type": "stream",
     "text": [
      "251/290 [========================>.....] - ETA: 2s - loss: 0.5675 - accuracy: 0.7453"
     ]
    },
    {
     "name": "stderr",
     "output_type": "stream",
     "text": [
      "Corrupt JPEG data: 65 extraneous bytes before marker 0xd9\n"
     ]
    },
    {
     "name": "stdout",
     "output_type": "stream",
     "text": [
      "290/290 [==============================] - ETA: 0s - loss: 0.5606 - accuracy: 0.7479"
     ]
    },
    {
     "name": "stderr",
     "output_type": "stream",
     "text": [
      "Corrupt JPEG data: 162 extraneous bytes before marker 0xd9\n",
      "Corrupt JPEG data: 252 extraneous bytes before marker 0xd9\n",
      "Corrupt JPEG data: 214 extraneous bytes before marker 0xd9\n",
      "Corrupt JPEG data: 1403 extraneous bytes before marker 0xd9\n",
      "Corrupt JPEG data: 162 extraneous bytes before marker 0xd9\n",
      "Corrupt JPEG data: 252 extraneous bytes before marker 0xd9\n",
      "Corrupt JPEG data: 214 extraneous bytes before marker 0xd9\n",
      "Corrupt JPEG data: 1403 extraneous bytes before marker 0xd9\n",
      "Corrupt JPEG data: 162 extraneous bytes before marker 0xd9\n",
      "Corrupt JPEG data: 252 extraneous bytes before marker 0xd9\n",
      "Corrupt JPEG data: 214 extraneous bytes before marker 0xd9\n",
      "Corrupt JPEG data: 1403 extraneous bytes before marker 0xd9\n",
      "Corrupt JPEG data: 162 extraneous bytes before marker 0xd9\n",
      "Corrupt JPEG data: 252 extraneous bytes before marker 0xd9\n"
     ]
    },
    {
     "name": "stdout",
     "output_type": "stream",
     "text": [
      "290/290 [==============================] - 17s 59ms/step - loss: 0.5606 - accuracy: 0.7479 - val_loss: 0.7234 - val_accuracy: 0.6886\n",
      "Epoch 4/15\n"
     ]
    },
    {
     "name": "stderr",
     "output_type": "stream",
     "text": [
      "Corrupt JPEG data: 214 extraneous bytes before marker 0xd9\n",
      "Corrupt JPEG data: 1403 extraneous bytes before marker 0xd9\n"
     ]
    },
    {
     "name": "stdout",
     "output_type": "stream",
     "text": [
      " 64/290 [=====>........................] - ETA: 11s - loss: 0.4887 - accuracy: 0.7756"
     ]
    },
    {
     "name": "stderr",
     "output_type": "stream",
     "text": [
      "Corrupt JPEG data: 2226 extraneous bytes before marker 0xd9\n"
     ]
    },
    {
     "name": "stdout",
     "output_type": "stream",
     "text": [
      " 70/290 [======>.......................] - ETA: 11s - loss: 0.4866 - accuracy: 0.7770"
     ]
    },
    {
     "name": "stderr",
     "output_type": "stream",
     "text": [
      "Corrupt JPEG data: 128 extraneous bytes before marker 0xd9\n"
     ]
    },
    {
     "name": "stdout",
     "output_type": "stream",
     "text": [
      " 75/290 [======>.......................] - ETA: 11s - loss: 0.4889 - accuracy: 0.7773"
     ]
    },
    {
     "name": "stderr",
     "output_type": "stream",
     "text": [
      "Corrupt JPEG data: 239 extraneous bytes before marker 0xd9\n"
     ]
    },
    {
     "name": "stdout",
     "output_type": "stream",
     "text": [
      " 89/290 [========>.....................] - ETA: 10s - loss: 0.4827 - accuracy: 0.7825"
     ]
    },
    {
     "name": "stderr",
     "output_type": "stream",
     "text": [
      "Corrupt JPEG data: 1153 extraneous bytes before marker 0xd9\n",
      "Corrupt JPEG data: 228 extraneous bytes before marker 0xd9\n"
     ]
    },
    {
     "name": "stdout",
     "output_type": "stream",
     "text": [
      "192/290 [==================>...........] - ETA: 5s - loss: 0.4777 - accuracy: 0.7905"
     ]
    },
    {
     "name": "stderr",
     "output_type": "stream",
     "text": [
      "Corrupt JPEG data: 99 extraneous bytes before marker 0xd9\n"
     ]
    },
    {
     "name": "stdout",
     "output_type": "stream",
     "text": [
      "210/290 [====================>.........] - ETA: 4s - loss: 0.4764 - accuracy: 0.7917"
     ]
    },
    {
     "name": "stderr",
     "output_type": "stream",
     "text": [
      "Warning: unknown JFIF revision number 0.00\n"
     ]
    },
    {
     "name": "stdout",
     "output_type": "stream",
     "text": [
      "214/290 [=====================>........] - ETA: 4s - loss: 0.4739 - accuracy: 0.7926"
     ]
    },
    {
     "name": "stderr",
     "output_type": "stream",
     "text": [
      "Corrupt JPEG data: 396 extraneous bytes before marker 0xd9\n"
     ]
    },
    {
     "name": "stdout",
     "output_type": "stream",
     "text": [
      "252/290 [=========================>....] - ETA: 2s - loss: 0.4642 - accuracy: 0.7954"
     ]
    },
    {
     "name": "stderr",
     "output_type": "stream",
     "text": [
      "Corrupt JPEG data: 65 extraneous bytes before marker 0xd9\n"
     ]
    },
    {
     "name": "stdout",
     "output_type": "stream",
     "text": [
      "289/290 [============================>.] - ETA: 0s - loss: 0.4559 - accuracy: 0.7995"
     ]
    },
    {
     "name": "stderr",
     "output_type": "stream",
     "text": [
      "Corrupt JPEG data: 162 extraneous bytes before marker 0xd9\n",
      "Corrupt JPEG data: 252 extraneous bytes before marker 0xd9\n",
      "Corrupt JPEG data: 214 extraneous bytes before marker 0xd9\n",
      "Corrupt JPEG data: 1403 extraneous bytes before marker 0xd9\n",
      "Corrupt JPEG data: 162 extraneous bytes before marker 0xd9\n",
      "Corrupt JPEG data: 252 extraneous bytes before marker 0xd9\n",
      "Corrupt JPEG data: 214 extraneous bytes before marker 0xd9\n",
      "Corrupt JPEG data: 1403 extraneous bytes before marker 0xd9\n",
      "Corrupt JPEG data: 162 extraneous bytes before marker 0xd9\n",
      "Corrupt JPEG data: 252 extraneous bytes before marker 0xd9\n",
      "Corrupt JPEG data: 214 extraneous bytes before marker 0xd9\n",
      "Corrupt JPEG data: 1403 extraneous bytes before marker 0xd9\n",
      "Corrupt JPEG data: 162 extraneous bytes before marker 0xd9\n",
      "Corrupt JPEG data: 252 extraneous bytes before marker 0xd9\n",
      "Corrupt JPEG data: 214 extraneous bytes before marker 0xd9\n",
      "Corrupt JPEG data: 1403 extraneous bytes before marker 0xd9\n"
     ]
    },
    {
     "name": "stdout",
     "output_type": "stream",
     "text": [
      "290/290 [==============================] - 17s 60ms/step - loss: 0.4553 - accuracy: 0.7998 - val_loss: 0.7861 - val_accuracy: 0.6847\n",
      "Epoch 5/15\n",
      " 65/290 [=====>........................] - ETA: 11s - loss: 0.3961 - accuracy: 0.8232"
     ]
    },
    {
     "name": "stderr",
     "output_type": "stream",
     "text": [
      "Corrupt JPEG data: 2226 extraneous bytes before marker 0xd9\n"
     ]
    },
    {
     "name": "stdout",
     "output_type": "stream",
     "text": [
      " 71/290 [======>.......................] - ETA: 11s - loss: 0.4013 - accuracy: 0.8201"
     ]
    },
    {
     "name": "stderr",
     "output_type": "stream",
     "text": [
      "Corrupt JPEG data: 128 extraneous bytes before marker 0xd9\n"
     ]
    },
    {
     "name": "stdout",
     "output_type": "stream",
     "text": [
      " 76/290 [======>.......................] - ETA: 11s - loss: 0.4068 - accuracy: 0.8181"
     ]
    },
    {
     "name": "stderr",
     "output_type": "stream",
     "text": [
      "Corrupt JPEG data: 239 extraneous bytes before marker 0xd9\n"
     ]
    },
    {
     "name": "stdout",
     "output_type": "stream",
     "text": [
      " 89/290 [========>.....................] - ETA: 10s - loss: 0.4051 - accuracy: 0.8208"
     ]
    },
    {
     "name": "stderr",
     "output_type": "stream",
     "text": [
      "Corrupt JPEG data: 1153 extraneous bytes before marker 0xd9\n",
      "Corrupt JPEG data: 228 extraneous bytes before marker 0xd9\n"
     ]
    },
    {
     "name": "stdout",
     "output_type": "stream",
     "text": [
      "194/290 [===================>..........] - ETA: 4s - loss: 0.3911 - accuracy: 0.8320"
     ]
    },
    {
     "name": "stderr",
     "output_type": "stream",
     "text": [
      "Corrupt JPEG data: 99 extraneous bytes before marker 0xd9\n"
     ]
    },
    {
     "name": "stdout",
     "output_type": "stream",
     "text": [
      "210/290 [====================>.........] - ETA: 4s - loss: 0.3906 - accuracy: 0.8320"
     ]
    },
    {
     "name": "stderr",
     "output_type": "stream",
     "text": [
      "Warning: unknown JFIF revision number 0.00\n"
     ]
    },
    {
     "name": "stdout",
     "output_type": "stream",
     "text": [
      "214/290 [=====================>........] - ETA: 3s - loss: 0.3922 - accuracy: 0.8317"
     ]
    },
    {
     "name": "stderr",
     "output_type": "stream",
     "text": [
      "Corrupt JPEG data: 396 extraneous bytes before marker 0xd9\n"
     ]
    },
    {
     "name": "stdout",
     "output_type": "stream",
     "text": [
      "253/290 [=========================>....] - ETA: 1s - loss: 0.3802 - accuracy: 0.8367"
     ]
    },
    {
     "name": "stderr",
     "output_type": "stream",
     "text": [
      "Corrupt JPEG data: 65 extraneous bytes before marker 0xd9\n"
     ]
    },
    {
     "name": "stdout",
     "output_type": "stream",
     "text": [
      "290/290 [==============================] - ETA: 0s - loss: 0.3774 - accuracy: 0.8380"
     ]
    },
    {
     "name": "stderr",
     "output_type": "stream",
     "text": [
      "Corrupt JPEG data: 162 extraneous bytes before marker 0xd9\n",
      "Corrupt JPEG data: 252 extraneous bytes before marker 0xd9\n",
      "Corrupt JPEG data: 214 extraneous bytes before marker 0xd9\n",
      "Corrupt JPEG data: 1403 extraneous bytes before marker 0xd9\n",
      "Corrupt JPEG data: 162 extraneous bytes before marker 0xd9\n",
      "Corrupt JPEG data: 252 extraneous bytes before marker 0xd9\n",
      "Corrupt JPEG data: 214 extraneous bytes before marker 0xd9\n",
      "Corrupt JPEG data: 1403 extraneous bytes before marker 0xd9\n",
      "Corrupt JPEG data: 162 extraneous bytes before marker 0xd9\n",
      "Corrupt JPEG data: 252 extraneous bytes before marker 0xd9\n",
      "Corrupt JPEG data: 214 extraneous bytes before marker 0xd9\n",
      "Corrupt JPEG data: 1403 extraneous bytes before marker 0xd9\n",
      "Corrupt JPEG data: 162 extraneous bytes before marker 0xd9\n",
      "Corrupt JPEG data: 252 extraneous bytes before marker 0xd9\n"
     ]
    },
    {
     "name": "stdout",
     "output_type": "stream",
     "text": [
      "290/290 [==============================] - 17s 59ms/step - loss: 0.3774 - accuracy: 0.8380 - val_loss: 1.0454 - val_accuracy: 0.6333\n"
     ]
    },
    {
     "name": "stderr",
     "output_type": "stream",
     "text": [
      "Corrupt JPEG data: 214 extraneous bytes before marker 0xd9\n",
      "Corrupt JPEG data: 1403 extraneous bytes before marker 0xd9\n"
     ]
    },
    {
     "name": "stdout",
     "output_type": "stream",
     "text": [
      "Epoch 6/15\n",
      " 64/290 [=====>........................] - ETA: 11s - loss: 0.3404 - accuracy: 0.8481"
     ]
    },
    {
     "name": "stderr",
     "output_type": "stream",
     "text": [
      "Corrupt JPEG data: 2226 extraneous bytes before marker 0xd9\n"
     ]
    },
    {
     "name": "stdout",
     "output_type": "stream",
     "text": [
      " 71/290 [======>.......................] - ETA: 11s - loss: 0.3393 - accuracy: 0.8490"
     ]
    },
    {
     "name": "stderr",
     "output_type": "stream",
     "text": [
      "Corrupt JPEG data: 128 extraneous bytes before marker 0xd9\n"
     ]
    },
    {
     "name": "stdout",
     "output_type": "stream",
     "text": [
      " 79/290 [=======>......................] - ETA: 10s - loss: 0.3422 - accuracy: 0.8489"
     ]
    },
    {
     "name": "stderr",
     "output_type": "stream",
     "text": [
      "Corrupt JPEG data: 239 extraneous bytes before marker 0xd9\n"
     ]
    },
    {
     "name": "stdout",
     "output_type": "stream",
     "text": [
      " 92/290 [========>.....................] - ETA: 10s - loss: 0.3367 - accuracy: 0.8528"
     ]
    },
    {
     "name": "stderr",
     "output_type": "stream",
     "text": [
      "Corrupt JPEG data: 1153 extraneous bytes before marker 0xd9\n",
      "Corrupt JPEG data: 228 extraneous bytes before marker 0xd9\n"
     ]
    },
    {
     "name": "stdout",
     "output_type": "stream",
     "text": [
      "195/290 [===================>..........] - ETA: 4s - loss: 0.3237 - accuracy: 0.8642"
     ]
    },
    {
     "name": "stderr",
     "output_type": "stream",
     "text": [
      "Corrupt JPEG data: 99 extraneous bytes before marker 0xd9\n"
     ]
    },
    {
     "name": "stdout",
     "output_type": "stream",
     "text": [
      "210/290 [====================>.........] - ETA: 4s - loss: 0.3190 - accuracy: 0.8656"
     ]
    },
    {
     "name": "stderr",
     "output_type": "stream",
     "text": [
      "Warning: unknown JFIF revision number 0.00\n"
     ]
    },
    {
     "name": "stdout",
     "output_type": "stream",
     "text": [
      "217/290 [=====================>........] - ETA: 3s - loss: 0.3156 - accuracy: 0.8674"
     ]
    },
    {
     "name": "stderr",
     "output_type": "stream",
     "text": [
      "Corrupt JPEG data: 396 extraneous bytes before marker 0xd9\n"
     ]
    },
    {
     "name": "stdout",
     "output_type": "stream",
     "text": [
      "254/290 [=========================>....] - ETA: 1s - loss: 0.3104 - accuracy: 0.8684"
     ]
    },
    {
     "name": "stderr",
     "output_type": "stream",
     "text": [
      "Corrupt JPEG data: 65 extraneous bytes before marker 0xd9\n"
     ]
    },
    {
     "name": "stdout",
     "output_type": "stream",
     "text": [
      "290/290 [==============================] - ETA: 0s - loss: 0.3091 - accuracy: 0.8696"
     ]
    },
    {
     "name": "stderr",
     "output_type": "stream",
     "text": [
      "Corrupt JPEG data: 162 extraneous bytes before marker 0xd9\n",
      "Corrupt JPEG data: 252 extraneous bytes before marker 0xd9\n",
      "Corrupt JPEG data: 214 extraneous bytes before marker 0xd9\n",
      "Corrupt JPEG data: 1403 extraneous bytes before marker 0xd9\n",
      "Corrupt JPEG data: 162 extraneous bytes before marker 0xd9\n",
      "Corrupt JPEG data: 252 extraneous bytes before marker 0xd9\n",
      "Corrupt JPEG data: 214 extraneous bytes before marker 0xd9\n",
      "Corrupt JPEG data: 1403 extraneous bytes before marker 0xd9\n",
      "Corrupt JPEG data: 162 extraneous bytes before marker 0xd9\n",
      "Corrupt JPEG data: 252 extraneous bytes before marker 0xd9\n",
      "Corrupt JPEG data: 214 extraneous bytes before marker 0xd9\n",
      "Corrupt JPEG data: 1403 extraneous bytes before marker 0xd9\n",
      "Corrupt JPEG data: 162 extraneous bytes before marker 0xd9\n",
      "Corrupt JPEG data: 252 extraneous bytes before marker 0xd9\n",
      "Corrupt JPEG data: 214 extraneous bytes before marker 0xd9\n",
      "Corrupt JPEG data: 1403 extraneous bytes before marker 0xd9\n"
     ]
    },
    {
     "name": "stdout",
     "output_type": "stream",
     "text": [
      "290/290 [==============================] - 17s 59ms/step - loss: 0.3091 - accuracy: 0.8696 - val_loss: 0.9690 - val_accuracy: 0.6809\n",
      "Epoch 7/15\n",
      " 65/290 [=====>........................] - ETA: 11s - loss: 0.2780 - accuracy: 0.8887"
     ]
    },
    {
     "name": "stderr",
     "output_type": "stream",
     "text": [
      "Corrupt JPEG data: 2226 extraneous bytes before marker 0xd9\n"
     ]
    },
    {
     "name": "stdout",
     "output_type": "stream",
     "text": [
      " 73/290 [======>.......................] - ETA: 11s - loss: 0.2784 - accuracy: 0.8885"
     ]
    },
    {
     "name": "stderr",
     "output_type": "stream",
     "text": [
      "Corrupt JPEG data: 128 extraneous bytes before marker 0xd9\n"
     ]
    },
    {
     "name": "stdout",
     "output_type": "stream",
     "text": [
      " 77/290 [======>.......................] - ETA: 11s - loss: 0.2796 - accuracy: 0.8886"
     ]
    },
    {
     "name": "stderr",
     "output_type": "stream",
     "text": [
      "Corrupt JPEG data: 239 extraneous bytes before marker 0xd9\n"
     ]
    },
    {
     "name": "stdout",
     "output_type": "stream",
     "text": [
      " 92/290 [========>.....................] - ETA: 10s - loss: 0.2776 - accuracy: 0.8905"
     ]
    },
    {
     "name": "stderr",
     "output_type": "stream",
     "text": [
      "Corrupt JPEG data: 1153 extraneous bytes before marker 0xd9\n",
      "Corrupt JPEG data: 228 extraneous bytes before marker 0xd9\n"
     ]
    },
    {
     "name": "stdout",
     "output_type": "stream",
     "text": [
      "196/290 [===================>..........] - ETA: 4s - loss: 0.2634 - accuracy: 0.8943"
     ]
    },
    {
     "name": "stderr",
     "output_type": "stream",
     "text": [
      "Corrupt JPEG data: 99 extraneous bytes before marker 0xd9\n"
     ]
    },
    {
     "name": "stdout",
     "output_type": "stream",
     "text": [
      "211/290 [====================>.........] - ETA: 4s - loss: 0.2568 - accuracy: 0.8976"
     ]
    },
    {
     "name": "stderr",
     "output_type": "stream",
     "text": [
      "Warning: unknown JFIF revision number 0.00\n",
      "Corrupt JPEG data: 396 extraneous bytes before marker 0xd9\n"
     ]
    },
    {
     "name": "stdout",
     "output_type": "stream",
     "text": [
      "253/290 [=========================>....] - ETA: 1s - loss: 0.2495 - accuracy: 0.8993"
     ]
    },
    {
     "name": "stderr",
     "output_type": "stream",
     "text": [
      "Corrupt JPEG data: 65 extraneous bytes before marker 0xd9\n"
     ]
    },
    {
     "name": "stdout",
     "output_type": "stream",
     "text": [
      "290/290 [==============================] - ETA: 0s - loss: 0.2461 - accuracy: 0.9003"
     ]
    },
    {
     "name": "stderr",
     "output_type": "stream",
     "text": [
      "Corrupt JPEG data: 162 extraneous bytes before marker 0xd9\n",
      "Corrupt JPEG data: 252 extraneous bytes before marker 0xd9\n",
      "Corrupt JPEG data: 214 extraneous bytes before marker 0xd9\n",
      "Corrupt JPEG data: 1403 extraneous bytes before marker 0xd9\n",
      "Corrupt JPEG data: 162 extraneous bytes before marker 0xd9\n",
      "Corrupt JPEG data: 252 extraneous bytes before marker 0xd9\n",
      "Corrupt JPEG data: 214 extraneous bytes before marker 0xd9\n",
      "Corrupt JPEG data: 1403 extraneous bytes before marker 0xd9\n",
      "Corrupt JPEG data: 162 extraneous bytes before marker 0xd9\n",
      "Corrupt JPEG data: 252 extraneous bytes before marker 0xd9\n",
      "Corrupt JPEG data: 214 extraneous bytes before marker 0xd9\n",
      "Corrupt JPEG data: 1403 extraneous bytes before marker 0xd9\n",
      "Corrupt JPEG data: 162 extraneous bytes before marker 0xd9\n",
      "Corrupt JPEG data: 252 extraneous bytes before marker 0xd9\n",
      "Corrupt JPEG data: 214 extraneous bytes before marker 0xd9\n",
      "Corrupt JPEG data: 1403 extraneous bytes before marker 0xd9\n"
     ]
    },
    {
     "name": "stdout",
     "output_type": "stream",
     "text": [
      "290/290 [==============================] - 17s 60ms/step - loss: 0.2461 - accuracy: 0.9003 - val_loss: 1.1643 - val_accuracy: 0.6735\n",
      "Epoch 8/15\n",
      " 68/290 [======>.......................] - ETA: 11s - loss: 0.2015 - accuracy: 0.9249"
     ]
    },
    {
     "name": "stderr",
     "output_type": "stream",
     "text": [
      "Corrupt JPEG data: 2226 extraneous bytes before marker 0xd9\n"
     ]
    },
    {
     "name": "stdout",
     "output_type": "stream",
     "text": [
      " 73/290 [======>.......................] - ETA: 10s - loss: 0.2023 - accuracy: 0.9242"
     ]
    },
    {
     "name": "stderr",
     "output_type": "stream",
     "text": [
      "Corrupt JPEG data: 128 extraneous bytes before marker 0xd9\n"
     ]
    },
    {
     "name": "stdout",
     "output_type": "stream",
     "text": [
      " 78/290 [=======>......................] - ETA: 10s - loss: 0.2040 - accuracy: 0.9233"
     ]
    },
    {
     "name": "stderr",
     "output_type": "stream",
     "text": [
      "Corrupt JPEG data: 239 extraneous bytes before marker 0xd9\n"
     ]
    },
    {
     "name": "stdout",
     "output_type": "stream",
     "text": [
      " 92/290 [========>.....................] - ETA: 10s - loss: 0.2035 - accuracy: 0.9243"
     ]
    },
    {
     "name": "stderr",
     "output_type": "stream",
     "text": [
      "Corrupt JPEG data: 1153 extraneous bytes before marker 0xd9\n",
      "Corrupt JPEG data: 228 extraneous bytes before marker 0xd9\n"
     ]
    },
    {
     "name": "stdout",
     "output_type": "stream",
     "text": [
      "197/290 [===================>..........] - ETA: 4s - loss: 0.2039 - accuracy: 0.9213"
     ]
    },
    {
     "name": "stderr",
     "output_type": "stream",
     "text": [
      "Corrupt JPEG data: 99 extraneous bytes before marker 0xd9\n"
     ]
    },
    {
     "name": "stdout",
     "output_type": "stream",
     "text": [
      "213/290 [=====================>........] - ETA: 3s - loss: 0.2041 - accuracy: 0.9205"
     ]
    },
    {
     "name": "stderr",
     "output_type": "stream",
     "text": [
      "Warning: unknown JFIF revision number 0.00\n"
     ]
    },
    {
     "name": "stdout",
     "output_type": "stream",
     "text": [
      "219/290 [=====================>........] - ETA: 3s - loss: 0.2032 - accuracy: 0.9207"
     ]
    },
    {
     "name": "stderr",
     "output_type": "stream",
     "text": [
      "Corrupt JPEG data: 396 extraneous bytes before marker 0xd9\n"
     ]
    },
    {
     "name": "stdout",
     "output_type": "stream",
     "text": [
      "255/290 [=========================>....] - ETA: 1s - loss: 0.1987 - accuracy: 0.9220"
     ]
    },
    {
     "name": "stderr",
     "output_type": "stream",
     "text": [
      "Corrupt JPEG data: 65 extraneous bytes before marker 0xd9\n"
     ]
    },
    {
     "name": "stdout",
     "output_type": "stream",
     "text": [
      "289/290 [============================>.] - ETA: 0s - loss: 0.1980 - accuracy: 0.9220"
     ]
    },
    {
     "name": "stderr",
     "output_type": "stream",
     "text": [
      "Corrupt JPEG data: 162 extraneous bytes before marker 0xd9\n",
      "Corrupt JPEG data: 252 extraneous bytes before marker 0xd9\n",
      "Corrupt JPEG data: 214 extraneous bytes before marker 0xd9\n",
      "Corrupt JPEG data: 1403 extraneous bytes before marker 0xd9\n",
      "Corrupt JPEG data: 162 extraneous bytes before marker 0xd9\n",
      "Corrupt JPEG data: 252 extraneous bytes before marker 0xd9\n",
      "Corrupt JPEG data: 214 extraneous bytes before marker 0xd9\n",
      "Corrupt JPEG data: 1403 extraneous bytes before marker 0xd9\n",
      "Corrupt JPEG data: 162 extraneous bytes before marker 0xd9\n",
      "Corrupt JPEG data: 252 extraneous bytes before marker 0xd9\n",
      "Corrupt JPEG data: 214 extraneous bytes before marker 0xd9\n",
      "Corrupt JPEG data: 1403 extraneous bytes before marker 0xd9\n",
      "Corrupt JPEG data: 162 extraneous bytes before marker 0xd9\n",
      "Corrupt JPEG data: 252 extraneous bytes before marker 0xd9\n"
     ]
    },
    {
     "name": "stdout",
     "output_type": "stream",
     "text": [
      "290/290 [==============================] - 17s 58ms/step - loss: 0.1983 - accuracy: 0.9219 - val_loss: 1.0980 - val_accuracy: 0.6933\n",
      "Epoch 9/15\n"
     ]
    },
    {
     "name": "stderr",
     "output_type": "stream",
     "text": [
      "Corrupt JPEG data: 214 extraneous bytes before marker 0xd9\n",
      "Corrupt JPEG data: 1403 extraneous bytes before marker 0xd9\n"
     ]
    },
    {
     "name": "stdout",
     "output_type": "stream",
     "text": [
      " 69/290 [======>.......................] - ETA: 11s - loss: 0.1708 - accuracy: 0.9287"
     ]
    },
    {
     "name": "stderr",
     "output_type": "stream",
     "text": [
      "Corrupt JPEG data: 2226 extraneous bytes before marker 0xd9\n"
     ]
    },
    {
     "name": "stdout",
     "output_type": "stream",
     "text": [
      " 75/290 [======>.......................] - ETA: 10s - loss: 0.1687 - accuracy: 0.9292"
     ]
    },
    {
     "name": "stderr",
     "output_type": "stream",
     "text": [
      "Corrupt JPEG data: 128 extraneous bytes before marker 0xd9\n"
     ]
    },
    {
     "name": "stdout",
     "output_type": "stream",
     "text": [
      " 81/290 [=======>......................] - ETA: 10s - loss: 0.1662 - accuracy: 0.9302"
     ]
    },
    {
     "name": "stderr",
     "output_type": "stream",
     "text": [
      "Corrupt JPEG data: 239 extraneous bytes before marker 0xd9\n"
     ]
    },
    {
     "name": "stdout",
     "output_type": "stream",
     "text": [
      " 95/290 [========>.....................] - ETA: 10s - loss: 0.1661 - accuracy: 0.9317"
     ]
    },
    {
     "name": "stderr",
     "output_type": "stream",
     "text": [
      "Corrupt JPEG data: 1153 extraneous bytes before marker 0xd9\n",
      "Corrupt JPEG data: 228 extraneous bytes before marker 0xd9\n"
     ]
    },
    {
     "name": "stdout",
     "output_type": "stream",
     "text": [
      "199/290 [===================>..........] - ETA: 4s - loss: 0.1694 - accuracy: 0.9334"
     ]
    },
    {
     "name": "stderr",
     "output_type": "stream",
     "text": [
      "Corrupt JPEG data: 99 extraneous bytes before marker 0xd9\n"
     ]
    },
    {
     "name": "stdout",
     "output_type": "stream",
     "text": [
      "214/290 [=====================>........] - ETA: 3s - loss: 0.1714 - accuracy: 0.9321"
     ]
    },
    {
     "name": "stderr",
     "output_type": "stream",
     "text": [
      "Warning: unknown JFIF revision number 0.00\n"
     ]
    },
    {
     "name": "stdout",
     "output_type": "stream",
     "text": [
      "219/290 [=====================>........] - ETA: 3s - loss: 0.1693 - accuracy: 0.9331"
     ]
    },
    {
     "name": "stderr",
     "output_type": "stream",
     "text": [
      "Corrupt JPEG data: 396 extraneous bytes before marker 0xd9\n"
     ]
    },
    {
     "name": "stdout",
     "output_type": "stream",
     "text": [
      "256/290 [=========================>....] - ETA: 1s - loss: 0.1671 - accuracy: 0.9343"
     ]
    },
    {
     "name": "stderr",
     "output_type": "stream",
     "text": [
      "Corrupt JPEG data: 65 extraneous bytes before marker 0xd9\n"
     ]
    },
    {
     "name": "stdout",
     "output_type": "stream",
     "text": [
      "290/290 [==============================] - ETA: 0s - loss: 0.1672 - accuracy: 0.9338"
     ]
    },
    {
     "name": "stderr",
     "output_type": "stream",
     "text": [
      "Corrupt JPEG data: 162 extraneous bytes before marker 0xd9\n",
      "Corrupt JPEG data: 252 extraneous bytes before marker 0xd9\n",
      "Corrupt JPEG data: 214 extraneous bytes before marker 0xd9\n",
      "Corrupt JPEG data: 1403 extraneous bytes before marker 0xd9\n",
      "Corrupt JPEG data: 162 extraneous bytes before marker 0xd9\n",
      "Corrupt JPEG data: 252 extraneous bytes before marker 0xd9\n",
      "Corrupt JPEG data: 214 extraneous bytes before marker 0xd9\n",
      "Corrupt JPEG data: 1403 extraneous bytes before marker 0xd9\n",
      "Corrupt JPEG data: 162 extraneous bytes before marker 0xd9\n",
      "Corrupt JPEG data: 252 extraneous bytes before marker 0xd9\n",
      "Corrupt JPEG data: 214 extraneous bytes before marker 0xd9\n",
      "Corrupt JPEG data: 1403 extraneous bytes before marker 0xd9\n",
      "Corrupt JPEG data: 162 extraneous bytes before marker 0xd9\n",
      "Corrupt JPEG data: 252 extraneous bytes before marker 0xd9\n"
     ]
    },
    {
     "name": "stdout",
     "output_type": "stream",
     "text": [
      "290/290 [==============================] - 17s 59ms/step - loss: 0.1672 - accuracy: 0.9338 - val_loss: 1.1787 - val_accuracy: 0.6821\n",
      "Epoch 10/15\n"
     ]
    },
    {
     "name": "stderr",
     "output_type": "stream",
     "text": [
      "Corrupt JPEG data: 214 extraneous bytes before marker 0xd9\n",
      "Corrupt JPEG data: 1403 extraneous bytes before marker 0xd9\n"
     ]
    },
    {
     "name": "stdout",
     "output_type": "stream",
     "text": [
      " 70/290 [======>.......................] - ETA: 10s - loss: 0.1601 - accuracy: 0.9420"
     ]
    },
    {
     "name": "stderr",
     "output_type": "stream",
     "text": [
      "Corrupt JPEG data: 2226 extraneous bytes before marker 0xd9\n"
     ]
    },
    {
     "name": "stdout",
     "output_type": "stream",
     "text": [
      " 76/290 [======>.......................] - ETA: 10s - loss: 0.1588 - accuracy: 0.9424"
     ]
    },
    {
     "name": "stderr",
     "output_type": "stream",
     "text": [
      "Corrupt JPEG data: 128 extraneous bytes before marker 0xd9\n"
     ]
    },
    {
     "name": "stdout",
     "output_type": "stream",
     "text": [
      " 81/290 [=======>......................] - ETA: 10s - loss: 0.1602 - accuracy: 0.9412"
     ]
    },
    {
     "name": "stderr",
     "output_type": "stream",
     "text": [
      "Corrupt JPEG data: 239 extraneous bytes before marker 0xd9\n"
     ]
    },
    {
     "name": "stdout",
     "output_type": "stream",
     "text": [
      " 95/290 [========>.....................] - ETA: 9s - loss: 0.1549 - accuracy: 0.9416 "
     ]
    },
    {
     "name": "stderr",
     "output_type": "stream",
     "text": [
      "Corrupt JPEG data: 1153 extraneous bytes before marker 0xd9\n",
      "Corrupt JPEG data: 228 extraneous bytes before marker 0xd9\n"
     ]
    },
    {
     "name": "stdout",
     "output_type": "stream",
     "text": [
      "200/290 [===================>..........] - ETA: 4s - loss: 0.1479 - accuracy: 0.9435"
     ]
    },
    {
     "name": "stderr",
     "output_type": "stream",
     "text": [
      "Corrupt JPEG data: 99 extraneous bytes before marker 0xd9\n"
     ]
    },
    {
     "name": "stdout",
     "output_type": "stream",
     "text": [
      "215/290 [=====================>........] - ETA: 3s - loss: 0.1482 - accuracy: 0.9430"
     ]
    },
    {
     "name": "stderr",
     "output_type": "stream",
     "text": [
      "Warning: unknown JFIF revision number 0.00\n"
     ]
    },
    {
     "name": "stdout",
     "output_type": "stream",
     "text": [
      "220/290 [=====================>........] - ETA: 3s - loss: 0.1472 - accuracy: 0.9434"
     ]
    },
    {
     "name": "stderr",
     "output_type": "stream",
     "text": [
      "Corrupt JPEG data: 396 extraneous bytes before marker 0xd9\n"
     ]
    },
    {
     "name": "stdout",
     "output_type": "stream",
     "text": [
      "258/290 [=========================>....] - ETA: 1s - loss: 0.1483 - accuracy: 0.9434"
     ]
    },
    {
     "name": "stderr",
     "output_type": "stream",
     "text": [
      "Corrupt JPEG data: 65 extraneous bytes before marker 0xd9\n"
     ]
    },
    {
     "name": "stdout",
     "output_type": "stream",
     "text": [
      "289/290 [============================>.] - ETA: 0s - loss: 0.1453 - accuracy: 0.9445"
     ]
    },
    {
     "name": "stderr",
     "output_type": "stream",
     "text": [
      "Corrupt JPEG data: 162 extraneous bytes before marker 0xd9\n",
      "Corrupt JPEG data: 252 extraneous bytes before marker 0xd9\n",
      "Corrupt JPEG data: 214 extraneous bytes before marker 0xd9\n",
      "Corrupt JPEG data: 1403 extraneous bytes before marker 0xd9\n",
      "Corrupt JPEG data: 162 extraneous bytes before marker 0xd9\n",
      "Corrupt JPEG data: 252 extraneous bytes before marker 0xd9\n",
      "Corrupt JPEG data: 214 extraneous bytes before marker 0xd9\n",
      "Corrupt JPEG data: 1403 extraneous bytes before marker 0xd9\n",
      "Corrupt JPEG data: 162 extraneous bytes before marker 0xd9\n",
      "Corrupt JPEG data: 252 extraneous bytes before marker 0xd9\n",
      "Corrupt JPEG data: 214 extraneous bytes before marker 0xd9\n",
      "Corrupt JPEG data: 1403 extraneous bytes before marker 0xd9\n",
      "Corrupt JPEG data: 162 extraneous bytes before marker 0xd9\n",
      "Corrupt JPEG data: 252 extraneous bytes before marker 0xd9\n",
      "Corrupt JPEG data: 214 extraneous bytes before marker 0xd9\n",
      "Corrupt JPEG data: 1403 extraneous bytes before marker 0xd9\n"
     ]
    },
    {
     "name": "stdout",
     "output_type": "stream",
     "text": [
      "290/290 [==============================] - 17s 60ms/step - loss: 0.1458 - accuracy: 0.9444 - val_loss: 1.2751 - val_accuracy: 0.6864\n",
      "Epoch 11/15\n",
      " 71/290 [======>.......................] - ETA: 10s - loss: 0.1264 - accuracy: 0.9525"
     ]
    },
    {
     "name": "stderr",
     "output_type": "stream",
     "text": [
      "Corrupt JPEG data: 2226 extraneous bytes before marker 0xd9\n"
     ]
    },
    {
     "name": "stdout",
     "output_type": "stream",
     "text": [
      " 76/290 [======>.......................] - ETA: 10s - loss: 0.1237 - accuracy: 0.9533"
     ]
    },
    {
     "name": "stderr",
     "output_type": "stream",
     "text": [
      "Corrupt JPEG data: 128 extraneous bytes before marker 0xd9\n"
     ]
    },
    {
     "name": "stdout",
     "output_type": "stream",
     "text": [
      " 83/290 [=======>......................] - ETA: 10s - loss: 0.1213 - accuracy: 0.9543"
     ]
    },
    {
     "name": "stderr",
     "output_type": "stream",
     "text": [
      "Corrupt JPEG data: 239 extraneous bytes before marker 0xd9\n"
     ]
    },
    {
     "name": "stdout",
     "output_type": "stream",
     "text": [
      " 95/290 [========>.....................] - ETA: 9s - loss: 0.1227 - accuracy: 0.9541"
     ]
    },
    {
     "name": "stderr",
     "output_type": "stream",
     "text": [
      "Corrupt JPEG data: 1153 extraneous bytes before marker 0xd9\n",
      "Corrupt JPEG data: 228 extraneous bytes before marker 0xd9\n"
     ]
    },
    {
     "name": "stdout",
     "output_type": "stream",
     "text": [
      "200/290 [===================>..........] - ETA: 4s - loss: 0.1220 - accuracy: 0.9532"
     ]
    },
    {
     "name": "stderr",
     "output_type": "stream",
     "text": [
      "Corrupt JPEG data: 99 extraneous bytes before marker 0xd9\n"
     ]
    },
    {
     "name": "stdout",
     "output_type": "stream",
     "text": [
      "215/290 [=====================>........] - ETA: 3s - loss: 0.1214 - accuracy: 0.9538"
     ]
    },
    {
     "name": "stderr",
     "output_type": "stream",
     "text": [
      "Warning: unknown JFIF revision number 0.00\n"
     ]
    },
    {
     "name": "stdout",
     "output_type": "stream",
     "text": [
      "220/290 [=====================>........] - ETA: 3s - loss: 0.1212 - accuracy: 0.9536"
     ]
    },
    {
     "name": "stderr",
     "output_type": "stream",
     "text": [
      "Corrupt JPEG data: 396 extraneous bytes before marker 0xd9\n"
     ]
    },
    {
     "name": "stdout",
     "output_type": "stream",
     "text": [
      "257/290 [=========================>....] - ETA: 1s - loss: 0.1184 - accuracy: 0.9548"
     ]
    },
    {
     "name": "stderr",
     "output_type": "stream",
     "text": [
      "Corrupt JPEG data: 65 extraneous bytes before marker 0xd9\n"
     ]
    },
    {
     "name": "stdout",
     "output_type": "stream",
     "text": [
      "290/290 [==============================] - ETA: 0s - loss: 0.1195 - accuracy: 0.9544"
     ]
    },
    {
     "name": "stderr",
     "output_type": "stream",
     "text": [
      "Corrupt JPEG data: 162 extraneous bytes before marker 0xd9\n",
      "Corrupt JPEG data: 252 extraneous bytes before marker 0xd9\n",
      "Corrupt JPEG data: 214 extraneous bytes before marker 0xd9\n",
      "Corrupt JPEG data: 1403 extraneous bytes before marker 0xd9\n",
      "Corrupt JPEG data: 162 extraneous bytes before marker 0xd9\n",
      "Corrupt JPEG data: 252 extraneous bytes before marker 0xd9\n",
      "Corrupt JPEG data: 214 extraneous bytes before marker 0xd9\n",
      "Corrupt JPEG data: 1403 extraneous bytes before marker 0xd9\n",
      "Corrupt JPEG data: 162 extraneous bytes before marker 0xd9\n",
      "Corrupt JPEG data: 252 extraneous bytes before marker 0xd9\n",
      "Corrupt JPEG data: 214 extraneous bytes before marker 0xd9\n",
      "Corrupt JPEG data: 1403 extraneous bytes before marker 0xd9\n",
      "Corrupt JPEG data: 162 extraneous bytes before marker 0xd9\n",
      "Corrupt JPEG data: 252 extraneous bytes before marker 0xd9\n",
      "Corrupt JPEG data: 214 extraneous bytes before marker 0xd9\n",
      "Corrupt JPEG data: 1403 extraneous bytes before marker 0xd9\n"
     ]
    },
    {
     "name": "stdout",
     "output_type": "stream",
     "text": [
      "290/290 [==============================] - 18s 61ms/step - loss: 0.1195 - accuracy: 0.9544 - val_loss: 1.4868 - val_accuracy: 0.6759\n",
      "Epoch 12/15\n",
      " 72/290 [======>.......................] - ETA: 12s - loss: 0.1201 - accuracy: 0.9575"
     ]
    },
    {
     "name": "stderr",
     "output_type": "stream",
     "text": [
      "Corrupt JPEG data: 2226 extraneous bytes before marker 0xd9\n"
     ]
    },
    {
     "name": "stdout",
     "output_type": "stream",
     "text": [
      " 77/290 [======>.......................] - ETA: 11s - loss: 0.1184 - accuracy: 0.9576"
     ]
    },
    {
     "name": "stderr",
     "output_type": "stream",
     "text": [
      "Corrupt JPEG data: 128 extraneous bytes before marker 0xd9\n"
     ]
    },
    {
     "name": "stdout",
     "output_type": "stream",
     "text": [
      " 84/290 [=======>......................] - ETA: 11s - loss: 0.1144 - accuracy: 0.9585"
     ]
    },
    {
     "name": "stderr",
     "output_type": "stream",
     "text": [
      "Corrupt JPEG data: 239 extraneous bytes before marker 0xd9\n"
     ]
    },
    {
     "name": "stdout",
     "output_type": "stream",
     "text": [
      " 97/290 [=========>....................] - ETA: 10s - loss: 0.1134 - accuracy: 0.9586"
     ]
    },
    {
     "name": "stderr",
     "output_type": "stream",
     "text": [
      "Corrupt JPEG data: 1153 extraneous bytes before marker 0xd9\n",
      "Corrupt JPEG data: 228 extraneous bytes before marker 0xd9\n"
     ]
    },
    {
     "name": "stdout",
     "output_type": "stream",
     "text": [
      "201/290 [===================>..........] - ETA: 4s - loss: 0.1178 - accuracy: 0.9576"
     ]
    },
    {
     "name": "stderr",
     "output_type": "stream",
     "text": [
      "Corrupt JPEG data: 99 extraneous bytes before marker 0xd9\n"
     ]
    },
    {
     "name": "stdout",
     "output_type": "stream",
     "text": [
      "218/290 [=====================>........] - ETA: 3s - loss: 0.1152 - accuracy: 0.9582"
     ]
    },
    {
     "name": "stderr",
     "output_type": "stream",
     "text": [
      "Warning: unknown JFIF revision number 0.00\n"
     ]
    },
    {
     "name": "stdout",
     "output_type": "stream",
     "text": [
      "222/290 [=====================>........] - ETA: 3s - loss: 0.1149 - accuracy: 0.9585"
     ]
    },
    {
     "name": "stderr",
     "output_type": "stream",
     "text": [
      "Corrupt JPEG data: 396 extraneous bytes before marker 0xd9\n"
     ]
    },
    {
     "name": "stdout",
     "output_type": "stream",
     "text": [
      "260/290 [=========================>....] - ETA: 1s - loss: 0.1141 - accuracy: 0.9592"
     ]
    },
    {
     "name": "stderr",
     "output_type": "stream",
     "text": [
      "Corrupt JPEG data: 65 extraneous bytes before marker 0xd9\n"
     ]
    },
    {
     "name": "stdout",
     "output_type": "stream",
     "text": [
      "290/290 [==============================] - ETA: 0s - loss: 0.1123 - accuracy: 0.9596"
     ]
    },
    {
     "name": "stderr",
     "output_type": "stream",
     "text": [
      "Corrupt JPEG data: 162 extraneous bytes before marker 0xd9\n",
      "Corrupt JPEG data: 252 extraneous bytes before marker 0xd9\n",
      "Corrupt JPEG data: 214 extraneous bytes before marker 0xd9\n",
      "Corrupt JPEG data: 1403 extraneous bytes before marker 0xd9\n",
      "Corrupt JPEG data: 162 extraneous bytes before marker 0xd9\n",
      "Corrupt JPEG data: 252 extraneous bytes before marker 0xd9\n",
      "Corrupt JPEG data: 214 extraneous bytes before marker 0xd9\n",
      "Corrupt JPEG data: 1403 extraneous bytes before marker 0xd9\n",
      "Corrupt JPEG data: 162 extraneous bytes before marker 0xd9\n",
      "Corrupt JPEG data: 252 extraneous bytes before marker 0xd9\n",
      "Corrupt JPEG data: 214 extraneous bytes before marker 0xd9\n",
      "Corrupt JPEG data: 1403 extraneous bytes before marker 0xd9\n",
      "Corrupt JPEG data: 162 extraneous bytes before marker 0xd9\n",
      "Corrupt JPEG data: 252 extraneous bytes before marker 0xd9\n",
      "Corrupt JPEG data: 214 extraneous bytes before marker 0xd9\n",
      "Corrupt JPEG data: 1403 extraneous bytes before marker 0xd9\n"
     ]
    },
    {
     "name": "stdout",
     "output_type": "stream",
     "text": [
      "290/290 [==============================] - 18s 62ms/step - loss: 0.1123 - accuracy: 0.9596 - val_loss: 1.7757 - val_accuracy: 0.6698\n",
      "Epoch 13/15\n",
      " 73/290 [======>.......................] - ETA: 10s - loss: 0.1021 - accuracy: 0.9619"
     ]
    },
    {
     "name": "stderr",
     "output_type": "stream",
     "text": [
      "Corrupt JPEG data: 2226 extraneous bytes before marker 0xd9\n"
     ]
    },
    {
     "name": "stdout",
     "output_type": "stream",
     "text": [
      " 79/290 [=======>......................] - ETA: 10s - loss: 0.1046 - accuracy: 0.9610"
     ]
    },
    {
     "name": "stderr",
     "output_type": "stream",
     "text": [
      "Corrupt JPEG data: 128 extraneous bytes before marker 0xd9\n"
     ]
    },
    {
     "name": "stdout",
     "output_type": "stream",
     "text": [
      " 83/290 [=======>......................] - ETA: 10s - loss: 0.1035 - accuracy: 0.9613"
     ]
    },
    {
     "name": "stderr",
     "output_type": "stream",
     "text": [
      "Corrupt JPEG data: 239 extraneous bytes before marker 0xd9\n"
     ]
    },
    {
     "name": "stdout",
     "output_type": "stream",
     "text": [
      " 98/290 [=========>....................] - ETA: 9s - loss: 0.1064 - accuracy: 0.9604"
     ]
    },
    {
     "name": "stderr",
     "output_type": "stream",
     "text": [
      "Corrupt JPEG data: 1153 extraneous bytes before marker 0xd9\n",
      "Corrupt JPEG data: 228 extraneous bytes before marker 0xd9\n"
     ]
    },
    {
     "name": "stdout",
     "output_type": "stream",
     "text": [
      "203/290 [====================>.........] - ETA: 4s - loss: 0.1049 - accuracy: 0.9613"
     ]
    },
    {
     "name": "stderr",
     "output_type": "stream",
     "text": [
      "Corrupt JPEG data: 99 extraneous bytes before marker 0xd9\n"
     ]
    },
    {
     "name": "stdout",
     "output_type": "stream",
     "text": [
      "218/290 [=====================>........] - ETA: 3s - loss: 0.1036 - accuracy: 0.9614"
     ]
    },
    {
     "name": "stderr",
     "output_type": "stream",
     "text": [
      "Warning: unknown JFIF revision number 0.00\n"
     ]
    },
    {
     "name": "stdout",
     "output_type": "stream",
     "text": [
      "225/290 [======================>.......] - ETA: 3s - loss: 0.1052 - accuracy: 0.9609"
     ]
    },
    {
     "name": "stderr",
     "output_type": "stream",
     "text": [
      "Corrupt JPEG data: 396 extraneous bytes before marker 0xd9\n"
     ]
    },
    {
     "name": "stdout",
     "output_type": "stream",
     "text": [
      "258/290 [=========================>....] - ETA: 1s - loss: 0.1039 - accuracy: 0.9613"
     ]
    },
    {
     "name": "stderr",
     "output_type": "stream",
     "text": [
      "Corrupt JPEG data: 65 extraneous bytes before marker 0xd9\n"
     ]
    },
    {
     "name": "stdout",
     "output_type": "stream",
     "text": [
      "290/290 [==============================] - ETA: 0s - loss: 0.1068 - accuracy: 0.9606"
     ]
    },
    {
     "name": "stderr",
     "output_type": "stream",
     "text": [
      "Corrupt JPEG data: 162 extraneous bytes before marker 0xd9\n",
      "Corrupt JPEG data: 252 extraneous bytes before marker 0xd9\n",
      "Corrupt JPEG data: 214 extraneous bytes before marker 0xd9\n",
      "Corrupt JPEG data: 1403 extraneous bytes before marker 0xd9\n",
      "Corrupt JPEG data: 162 extraneous bytes before marker 0xd9\n",
      "Corrupt JPEG data: 252 extraneous bytes before marker 0xd9\n",
      "Corrupt JPEG data: 214 extraneous bytes before marker 0xd9\n",
      "Corrupt JPEG data: 1403 extraneous bytes before marker 0xd9\n",
      "Corrupt JPEG data: 162 extraneous bytes before marker 0xd9\n",
      "Corrupt JPEG data: 252 extraneous bytes before marker 0xd9\n",
      "Corrupt JPEG data: 214 extraneous bytes before marker 0xd9\n",
      "Corrupt JPEG data: 1403 extraneous bytes before marker 0xd9\n",
      "Corrupt JPEG data: 162 extraneous bytes before marker 0xd9\n",
      "Corrupt JPEG data: 252 extraneous bytes before marker 0xd9\n",
      "Corrupt JPEG data: 214 extraneous bytes before marker 0xd9\n",
      "Corrupt JPEG data: 1403 extraneous bytes before marker 0xd9\n"
     ]
    },
    {
     "name": "stdout",
     "output_type": "stream",
     "text": [
      "290/290 [==============================] - 18s 60ms/step - loss: 0.1068 - accuracy: 0.9606 - val_loss: 1.6509 - val_accuracy: 0.6773\n",
      "Epoch 14/15\n",
      " 75/290 [======>.......................] - ETA: 10s - loss: 0.1066 - accuracy: 0.9629"
     ]
    },
    {
     "name": "stderr",
     "output_type": "stream",
     "text": [
      "Corrupt JPEG data: 2226 extraneous bytes before marker 0xd9\n"
     ]
    },
    {
     "name": "stdout",
     "output_type": "stream",
     "text": [
      " 79/290 [=======>......................] - ETA: 10s - loss: 0.1079 - accuracy: 0.9624"
     ]
    },
    {
     "name": "stderr",
     "output_type": "stream",
     "text": [
      "Corrupt JPEG data: 128 extraneous bytes before marker 0xd9\n"
     ]
    },
    {
     "name": "stdout",
     "output_type": "stream",
     "text": [
      " 85/290 [=======>......................] - ETA: 10s - loss: 0.1045 - accuracy: 0.9636"
     ]
    },
    {
     "name": "stderr",
     "output_type": "stream",
     "text": [
      "Corrupt JPEG data: 239 extraneous bytes before marker 0xd9\n"
     ]
    },
    {
     "name": "stdout",
     "output_type": "stream",
     "text": [
      "100/290 [=========>....................] - ETA: 9s - loss: 0.1089 - accuracy: 0.9619"
     ]
    },
    {
     "name": "stderr",
     "output_type": "stream",
     "text": [
      "Corrupt JPEG data: 1153 extraneous bytes before marker 0xd9\n",
      "Corrupt JPEG data: 228 extraneous bytes before marker 0xd9\n"
     ]
    },
    {
     "name": "stdout",
     "output_type": "stream",
     "text": [
      "203/290 [====================>.........] - ETA: 4s - loss: 0.1081 - accuracy: 0.9612"
     ]
    },
    {
     "name": "stderr",
     "output_type": "stream",
     "text": [
      "Corrupt JPEG data: 99 extraneous bytes before marker 0xd9\n"
     ]
    },
    {
     "name": "stdout",
     "output_type": "stream",
     "text": [
      "219/290 [=====================>........] - ETA: 3s - loss: 0.1064 - accuracy: 0.9613"
     ]
    },
    {
     "name": "stderr",
     "output_type": "stream",
     "text": [
      "Warning: unknown JFIF revision number 0.00\n"
     ]
    },
    {
     "name": "stdout",
     "output_type": "stream",
     "text": [
      "224/290 [======================>.......] - ETA: 3s - loss: 0.1059 - accuracy: 0.9616"
     ]
    },
    {
     "name": "stderr",
     "output_type": "stream",
     "text": [
      "Corrupt JPEG data: 396 extraneous bytes before marker 0xd9\n"
     ]
    },
    {
     "name": "stdout",
     "output_type": "stream",
     "text": [
      "263/290 [==========================>...] - ETA: 1s - loss: 0.1036 - accuracy: 0.9618"
     ]
    },
    {
     "name": "stderr",
     "output_type": "stream",
     "text": [
      "Corrupt JPEG data: 65 extraneous bytes before marker 0xd9\n"
     ]
    },
    {
     "name": "stdout",
     "output_type": "stream",
     "text": [
      "289/290 [============================>.] - ETA: 0s - loss: 0.1026 - accuracy: 0.9624"
     ]
    },
    {
     "name": "stderr",
     "output_type": "stream",
     "text": [
      "Corrupt JPEG data: 162 extraneous bytes before marker 0xd9\n",
      "Corrupt JPEG data: 252 extraneous bytes before marker 0xd9\n",
      "Corrupt JPEG data: 214 extraneous bytes before marker 0xd9\n",
      "Corrupt JPEG data: 1403 extraneous bytes before marker 0xd9\n",
      "Corrupt JPEG data: 162 extraneous bytes before marker 0xd9\n",
      "Corrupt JPEG data: 252 extraneous bytes before marker 0xd9\n",
      "Corrupt JPEG data: 214 extraneous bytes before marker 0xd9\n",
      "Corrupt JPEG data: 1403 extraneous bytes before marker 0xd9\n",
      "Corrupt JPEG data: 162 extraneous bytes before marker 0xd9\n",
      "Corrupt JPEG data: 252 extraneous bytes before marker 0xd9\n",
      "Corrupt JPEG data: 214 extraneous bytes before marker 0xd9\n",
      "Corrupt JPEG data: 1403 extraneous bytes before marker 0xd9\n",
      "Corrupt JPEG data: 162 extraneous bytes before marker 0xd9\n",
      "Corrupt JPEG data: 252 extraneous bytes before marker 0xd9\n",
      "Corrupt JPEG data: 214 extraneous bytes before marker 0xd9\n",
      "Corrupt JPEG data: 1403 extraneous bytes before marker 0xd9\n"
     ]
    },
    {
     "name": "stdout",
     "output_type": "stream",
     "text": [
      "290/290 [==============================] - 17s 58ms/step - loss: 0.1029 - accuracy: 0.9623 - val_loss: 2.4502 - val_accuracy: 0.6400\n",
      "Epoch 15/15\n",
      " 75/290 [======>.......................] - ETA: 11s - loss: 0.0809 - accuracy: 0.9672"
     ]
    },
    {
     "name": "stderr",
     "output_type": "stream",
     "text": [
      "Corrupt JPEG data: 2226 extraneous bytes before marker 0xd9\n"
     ]
    },
    {
     "name": "stdout",
     "output_type": "stream",
     "text": [
      " 82/290 [=======>......................] - ETA: 10s - loss: 0.0831 - accuracy: 0.9673"
     ]
    },
    {
     "name": "stderr",
     "output_type": "stream",
     "text": [
      "Corrupt JPEG data: 128 extraneous bytes before marker 0xd9\n"
     ]
    },
    {
     "name": "stdout",
     "output_type": "stream",
     "text": [
      " 87/290 [========>.....................] - ETA: 10s - loss: 0.0836 - accuracy: 0.9674"
     ]
    },
    {
     "name": "stderr",
     "output_type": "stream",
     "text": [
      "Corrupt JPEG data: 239 extraneous bytes before marker 0xd9\n"
     ]
    },
    {
     "name": "stdout",
     "output_type": "stream",
     "text": [
      "102/290 [=========>....................] - ETA: 9s - loss: 0.0872 - accuracy: 0.9670"
     ]
    },
    {
     "name": "stderr",
     "output_type": "stream",
     "text": [
      "Corrupt JPEG data: 1153 extraneous bytes before marker 0xd9\n",
      "Corrupt JPEG data: 228 extraneous bytes before marker 0xd9\n"
     ]
    },
    {
     "name": "stdout",
     "output_type": "stream",
     "text": [
      "206/290 [====================>.........] - ETA: 4s - loss: 0.0891 - accuracy: 0.9655"
     ]
    },
    {
     "name": "stderr",
     "output_type": "stream",
     "text": [
      "Corrupt JPEG data: 99 extraneous bytes before marker 0xd9\n"
     ]
    },
    {
     "name": "stdout",
     "output_type": "stream",
     "text": [
      "219/290 [=====================>........] - ETA: 3s - loss: 0.0906 - accuracy: 0.9650"
     ]
    },
    {
     "name": "stderr",
     "output_type": "stream",
     "text": [
      "Warning: unknown JFIF revision number 0.00\n"
     ]
    },
    {
     "name": "stdout",
     "output_type": "stream",
     "text": [
      "226/290 [======================>.......] - ETA: 3s - loss: 0.0899 - accuracy: 0.9655"
     ]
    },
    {
     "name": "stderr",
     "output_type": "stream",
     "text": [
      "Corrupt JPEG data: 396 extraneous bytes before marker 0xd9\n"
     ]
    },
    {
     "name": "stdout",
     "output_type": "stream",
     "text": [
      "263/290 [==========================>...] - ETA: 1s - loss: 0.0858 - accuracy: 0.9669"
     ]
    },
    {
     "name": "stderr",
     "output_type": "stream",
     "text": [
      "Corrupt JPEG data: 65 extraneous bytes before marker 0xd9\n"
     ]
    },
    {
     "name": "stdout",
     "output_type": "stream",
     "text": [
      "290/290 [==============================] - ETA: 0s - loss: 0.0863 - accuracy: 0.9664"
     ]
    },
    {
     "name": "stderr",
     "output_type": "stream",
     "text": [
      "Corrupt JPEG data: 162 extraneous bytes before marker 0xd9\n",
      "Corrupt JPEG data: 252 extraneous bytes before marker 0xd9\n",
      "Corrupt JPEG data: 214 extraneous bytes before marker 0xd9\n",
      "Corrupt JPEG data: 1403 extraneous bytes before marker 0xd9\n",
      "Corrupt JPEG data: 162 extraneous bytes before marker 0xd9\n",
      "Corrupt JPEG data: 252 extraneous bytes before marker 0xd9\n",
      "Corrupt JPEG data: 214 extraneous bytes before marker 0xd9\n",
      "Corrupt JPEG data: 1403 extraneous bytes before marker 0xd9\n",
      "Corrupt JPEG data: 162 extraneous bytes before marker 0xd9\n",
      "Corrupt JPEG data: 252 extraneous bytes before marker 0xd9\n",
      "Corrupt JPEG data: 214 extraneous bytes before marker 0xd9\n",
      "Corrupt JPEG data: 1403 extraneous bytes before marker 0xd9\n",
      "Corrupt JPEG data: 162 extraneous bytes before marker 0xd9\n",
      "Corrupt JPEG data: 252 extraneous bytes before marker 0xd9\n",
      "Corrupt JPEG data: 214 extraneous bytes before marker 0xd9\n",
      "Corrupt JPEG data: 1403 extraneous bytes before marker 0xd9\n"
     ]
    },
    {
     "name": "stdout",
     "output_type": "stream",
     "text": [
      "290/290 [==============================] - 17s 59ms/step - loss: 0.0863 - accuracy: 0.9664 - val_loss: 1.6090 - val_accuracy: 0.6763\n"
     ]
    }
   ],
   "source": [
    "resnet_34_plain.compile(\n",
    "    loss='sparse_categorical_crossentropy',\n",
    "    optimizer=tf.keras.optimizers.SGD(lr=0.01, clipnorm=1.),\n",
    "    metrics=['accuracy'],\n",
    ")\n",
    "\n",
    "history_34_plain = resnet_34_plain.fit(\n",
    "    ds_train,\n",
    "    steps_per_epoch=int(ds_info.splits['train'].num_examples/BATCH_SIZE*0.8),\n",
    "    validation_steps=int(ds_info.splits['train'].num_examples/BATCH_SIZE*0.2),\n",
    "    epochs=EPOCH,\n",
    "    validation_data=ds_test,\n",
    "    verbose=1,\n",
    "    use_multiprocessing=True,\n",
    ")"
   ]
  },
  {
   "cell_type": "code",
   "execution_count": 56,
   "metadata": {},
   "outputs": [
    {
     "name": "stderr",
     "output_type": "stream",
     "text": [
      "WARNING:absl:`lr` is deprecated in Keras optimizer, please use `learning_rate` or use the legacy optimizer, e.g.,tf.keras.optimizers.legacy.SGD.\n"
     ]
    },
    {
     "name": "stdout",
     "output_type": "stream",
     "text": [
      "Epoch 1/15\n"
     ]
    },
    {
     "name": "stderr",
     "output_type": "stream",
     "text": [
      "Corrupt JPEG data: 99 extraneous bytes before marker 0xd9\n",
      "Warning: unknown JFIF revision number 0.00\n",
      "Corrupt JPEG data: 396 extraneous bytes before marker 0xd9\n",
      "Corrupt JPEG data: 65 extraneous bytes before marker 0xd9\n"
     ]
    },
    {
     "name": "stdout",
     "output_type": "stream",
     "text": [
      " 58/290 [=====>........................] - ETA: 12s - loss: 1.7969 - accuracy: 0.4987"
     ]
    },
    {
     "name": "stderr",
     "output_type": "stream",
     "text": [
      "Corrupt JPEG data: 2226 extraneous bytes before marker 0xd9\n"
     ]
    },
    {
     "name": "stdout",
     "output_type": "stream",
     "text": [
      " 64/290 [=====>........................] - ETA: 12s - loss: 1.7773 - accuracy: 0.5002"
     ]
    },
    {
     "name": "stderr",
     "output_type": "stream",
     "text": [
      "Corrupt JPEG data: 128 extraneous bytes before marker 0xd9\n"
     ]
    },
    {
     "name": "stdout",
     "output_type": "stream",
     "text": [
      " 72/290 [======>.......................] - ETA: 11s - loss: 1.7260 - accuracy: 0.5061"
     ]
    },
    {
     "name": "stderr",
     "output_type": "stream",
     "text": [
      "Corrupt JPEG data: 239 extraneous bytes before marker 0xd9\n"
     ]
    },
    {
     "name": "stdout",
     "output_type": "stream",
     "text": [
      " 85/290 [=======>......................] - ETA: 10s - loss: 1.6751 - accuracy: 0.5092"
     ]
    },
    {
     "name": "stderr",
     "output_type": "stream",
     "text": [
      "Corrupt JPEG data: 1153 extraneous bytes before marker 0xd9\n",
      "Corrupt JPEG data: 228 extraneous bytes before marker 0xd9\n"
     ]
    },
    {
     "name": "stdout",
     "output_type": "stream",
     "text": [
      "191/290 [==================>...........] - ETA: 5s - loss: 1.4202 - accuracy: 0.5377"
     ]
    },
    {
     "name": "stderr",
     "output_type": "stream",
     "text": [
      "Corrupt JPEG data: 99 extraneous bytes before marker 0xd9\n"
     ]
    },
    {
     "name": "stdout",
     "output_type": "stream",
     "text": [
      "206/290 [====================>.........] - ETA: 4s - loss: 1.4001 - accuracy: 0.5426"
     ]
    },
    {
     "name": "stderr",
     "output_type": "stream",
     "text": [
      "Warning: unknown JFIF revision number 0.00\n"
     ]
    },
    {
     "name": "stdout",
     "output_type": "stream",
     "text": [
      "211/290 [====================>.........] - ETA: 4s - loss: 1.3937 - accuracy: 0.5435"
     ]
    },
    {
     "name": "stderr",
     "output_type": "stream",
     "text": [
      "Corrupt JPEG data: 396 extraneous bytes before marker 0xd9\n"
     ]
    },
    {
     "name": "stdout",
     "output_type": "stream",
     "text": [
      "250/290 [========================>.....] - ETA: 2s - loss: 1.3478 - accuracy: 0.5494"
     ]
    },
    {
     "name": "stderr",
     "output_type": "stream",
     "text": [
      "Corrupt JPEG data: 65 extraneous bytes before marker 0xd9\n"
     ]
    },
    {
     "name": "stdout",
     "output_type": "stream",
     "text": [
      "290/290 [==============================] - ETA: 0s - loss: 1.3077 - accuracy: 0.5558"
     ]
    },
    {
     "name": "stderr",
     "output_type": "stream",
     "text": [
      "Corrupt JPEG data: 162 extraneous bytes before marker 0xd9\n",
      "Corrupt JPEG data: 252 extraneous bytes before marker 0xd9\n",
      "Corrupt JPEG data: 214 extraneous bytes before marker 0xd9\n",
      "Corrupt JPEG data: 1403 extraneous bytes before marker 0xd9\n",
      "Corrupt JPEG data: 162 extraneous bytes before marker 0xd9\n",
      "Corrupt JPEG data: 252 extraneous bytes before marker 0xd9\n",
      "Corrupt JPEG data: 214 extraneous bytes before marker 0xd9\n",
      "Corrupt JPEG data: 1403 extraneous bytes before marker 0xd9\n",
      "Corrupt JPEG data: 162 extraneous bytes before marker 0xd9\n",
      "Corrupt JPEG data: 252 extraneous bytes before marker 0xd9\n",
      "Corrupt JPEG data: 214 extraneous bytes before marker 0xd9\n",
      "Corrupt JPEG data: 1403 extraneous bytes before marker 0xd9\n",
      "Corrupt JPEG data: 162 extraneous bytes before marker 0xd9\n",
      "Corrupt JPEG data: 252 extraneous bytes before marker 0xd9\n"
     ]
    },
    {
     "name": "stdout",
     "output_type": "stream",
     "text": [
      "290/290 [==============================] - 25s 60ms/step - loss: 1.3077 - accuracy: 0.5558 - val_loss: 2.0004 - val_accuracy: 0.4867\n",
      "Epoch 2/15\n"
     ]
    },
    {
     "name": "stderr",
     "output_type": "stream",
     "text": [
      "Corrupt JPEG data: 214 extraneous bytes before marker 0xd9\n",
      "Corrupt JPEG data: 1403 extraneous bytes before marker 0xd9\n"
     ]
    },
    {
     "name": "stdout",
     "output_type": "stream",
     "text": [
      " 61/290 [=====>........................] - ETA: 10s - loss: 1.0615 - accuracy: 0.5848"
     ]
    },
    {
     "name": "stderr",
     "output_type": "stream",
     "text": [
      "Corrupt JPEG data: 2226 extraneous bytes before marker 0xd9\n"
     ]
    },
    {
     "name": "stdout",
     "output_type": "stream",
     "text": [
      " 68/290 [======>.......................] - ETA: 10s - loss: 1.0632 - accuracy: 0.5841"
     ]
    },
    {
     "name": "stderr",
     "output_type": "stream",
     "text": [
      "Corrupt JPEG data: 128 extraneous bytes before marker 0xd9\n"
     ]
    },
    {
     "name": "stdout",
     "output_type": "stream",
     "text": [
      " 74/290 [======>.......................] - ETA: 10s - loss: 1.0543 - accuracy: 0.5861"
     ]
    },
    {
     "name": "stderr",
     "output_type": "stream",
     "text": [
      "Corrupt JPEG data: 239 extraneous bytes before marker 0xd9\n"
     ]
    },
    {
     "name": "stdout",
     "output_type": "stream",
     "text": [
      " 88/290 [========>.....................] - ETA: 9s - loss: 1.0446 - accuracy: 0.5891"
     ]
    },
    {
     "name": "stderr",
     "output_type": "stream",
     "text": [
      "Corrupt JPEG data: 1153 extraneous bytes before marker 0xd9\n",
      "Corrupt JPEG data: 228 extraneous bytes before marker 0xd9\n"
     ]
    },
    {
     "name": "stdout",
     "output_type": "stream",
     "text": [
      "191/290 [==================>...........] - ETA: 4s - loss: 1.0024 - accuracy: 0.6016"
     ]
    },
    {
     "name": "stderr",
     "output_type": "stream",
     "text": [
      "Corrupt JPEG data: 99 extraneous bytes before marker 0xd9\n"
     ]
    },
    {
     "name": "stdout",
     "output_type": "stream",
     "text": [
      "209/290 [====================>.........] - ETA: 4s - loss: 0.9930 - accuracy: 0.6020"
     ]
    },
    {
     "name": "stderr",
     "output_type": "stream",
     "text": [
      "Warning: unknown JFIF revision number 0.00\n",
      "Corrupt JPEG data: 396 extraneous bytes before marker 0xd9\n"
     ]
    },
    {
     "name": "stdout",
     "output_type": "stream",
     "text": [
      "250/290 [========================>.....] - ETA: 1s - loss: 0.9823 - accuracy: 0.6047"
     ]
    },
    {
     "name": "stderr",
     "output_type": "stream",
     "text": [
      "Corrupt JPEG data: 65 extraneous bytes before marker 0xd9\n"
     ]
    },
    {
     "name": "stdout",
     "output_type": "stream",
     "text": [
      "290/290 [==============================] - ETA: 0s - loss: 0.9697 - accuracy: 0.6080"
     ]
    },
    {
     "name": "stderr",
     "output_type": "stream",
     "text": [
      "Corrupt JPEG data: 162 extraneous bytes before marker 0xd9\n",
      "Corrupt JPEG data: 252 extraneous bytes before marker 0xd9\n",
      "Corrupt JPEG data: 214 extraneous bytes before marker 0xd9\n",
      "Corrupt JPEG data: 1403 extraneous bytes before marker 0xd9\n",
      "Corrupt JPEG data: 162 extraneous bytes before marker 0xd9\n",
      "Corrupt JPEG data: 252 extraneous bytes before marker 0xd9\n",
      "Corrupt JPEG data: 214 extraneous bytes before marker 0xd9\n",
      "Corrupt JPEG data: 1403 extraneous bytes before marker 0xd9\n",
      "Corrupt JPEG data: 162 extraneous bytes before marker 0xd9\n",
      "Corrupt JPEG data: 252 extraneous bytes before marker 0xd9\n",
      "Corrupt JPEG data: 214 extraneous bytes before marker 0xd9\n",
      "Corrupt JPEG data: 1403 extraneous bytes before marker 0xd9\n",
      "Corrupt JPEG data: 162 extraneous bytes before marker 0xd9\n",
      "Corrupt JPEG data: 252 extraneous bytes before marker 0xd9\n"
     ]
    },
    {
     "name": "stdout",
     "output_type": "stream",
     "text": [
      "290/290 [==============================] - 16s 57ms/step - loss: 0.9697 - accuracy: 0.6080 - val_loss: 1.1285 - val_accuracy: 0.5406\n"
     ]
    },
    {
     "name": "stderr",
     "output_type": "stream",
     "text": [
      "Corrupt JPEG data: 214 extraneous bytes before marker 0xd9\n",
      "Corrupt JPEG data: 1403 extraneous bytes before marker 0xd9\n"
     ]
    },
    {
     "name": "stdout",
     "output_type": "stream",
     "text": [
      "Epoch 3/15\n",
      " 63/290 [=====>........................] - ETA: 10s - loss: 0.8707 - accuracy: 0.6361"
     ]
    },
    {
     "name": "stderr",
     "output_type": "stream",
     "text": [
      "Corrupt JPEG data: 2226 extraneous bytes before marker 0xd9\n"
     ]
    },
    {
     "name": "stdout",
     "output_type": "stream",
     "text": [
      " 69/290 [======>.......................] - ETA: 10s - loss: 0.8614 - accuracy: 0.6372"
     ]
    },
    {
     "name": "stderr",
     "output_type": "stream",
     "text": [
      "Corrupt JPEG data: 128 extraneous bytes before marker 0xd9\n"
     ]
    },
    {
     "name": "stdout",
     "output_type": "stream",
     "text": [
      " 76/290 [======>.......................] - ETA: 10s - loss: 0.8544 - accuracy: 0.6412"
     ]
    },
    {
     "name": "stderr",
     "output_type": "stream",
     "text": [
      "Corrupt JPEG data: 239 extraneous bytes before marker 0xd9\n"
     ]
    },
    {
     "name": "stdout",
     "output_type": "stream",
     "text": [
      " 89/290 [========>.....................] - ETA: 9s - loss: 0.8575 - accuracy: 0.6397"
     ]
    },
    {
     "name": "stderr",
     "output_type": "stream",
     "text": [
      "Corrupt JPEG data: 1153 extraneous bytes before marker 0xd9\n",
      "Corrupt JPEG data: 228 extraneous bytes before marker 0xd9\n"
     ]
    },
    {
     "name": "stdout",
     "output_type": "stream",
     "text": [
      "193/290 [==================>...........] - ETA: 4s - loss: 0.8220 - accuracy: 0.6485"
     ]
    },
    {
     "name": "stderr",
     "output_type": "stream",
     "text": [
      "Corrupt JPEG data: 99 extraneous bytes before marker 0xd9\n"
     ]
    },
    {
     "name": "stdout",
     "output_type": "stream",
     "text": [
      "207/290 [====================>.........] - ETA: 4s - loss: 0.8186 - accuracy: 0.6503"
     ]
    },
    {
     "name": "stderr",
     "output_type": "stream",
     "text": [
      "Warning: unknown JFIF revision number 0.00\n"
     ]
    },
    {
     "name": "stdout",
     "output_type": "stream",
     "text": [
      "213/290 [=====================>........] - ETA: 3s - loss: 0.8132 - accuracy: 0.6506"
     ]
    },
    {
     "name": "stderr",
     "output_type": "stream",
     "text": [
      "Corrupt JPEG data: 396 extraneous bytes before marker 0xd9\n"
     ]
    },
    {
     "name": "stdout",
     "output_type": "stream",
     "text": [
      "250/290 [========================>.....] - ETA: 1s - loss: 0.8057 - accuracy: 0.6533"
     ]
    },
    {
     "name": "stderr",
     "output_type": "stream",
     "text": [
      "Corrupt JPEG data: 65 extraneous bytes before marker 0xd9\n"
     ]
    },
    {
     "name": "stdout",
     "output_type": "stream",
     "text": [
      "290/290 [==============================] - ETA: 0s - loss: 0.7974 - accuracy: 0.6545"
     ]
    },
    {
     "name": "stderr",
     "output_type": "stream",
     "text": [
      "Corrupt JPEG data: 162 extraneous bytes before marker 0xd9\n",
      "Corrupt JPEG data: 252 extraneous bytes before marker 0xd9\n",
      "Corrupt JPEG data: 214 extraneous bytes before marker 0xd9\n",
      "Corrupt JPEG data: 1403 extraneous bytes before marker 0xd9\n",
      "Corrupt JPEG data: 162 extraneous bytes before marker 0xd9\n",
      "Corrupt JPEG data: 252 extraneous bytes before marker 0xd9\n",
      "Corrupt JPEG data: 214 extraneous bytes before marker 0xd9\n",
      "Corrupt JPEG data: 1403 extraneous bytes before marker 0xd9\n",
      "Corrupt JPEG data: 162 extraneous bytes before marker 0xd9\n",
      "Corrupt JPEG data: 252 extraneous bytes before marker 0xd9\n",
      "Corrupt JPEG data: 214 extraneous bytes before marker 0xd9\n",
      "Corrupt JPEG data: 1403 extraneous bytes before marker 0xd9\n",
      "Corrupt JPEG data: 162 extraneous bytes before marker 0xd9\n",
      "Corrupt JPEG data: 252 extraneous bytes before marker 0xd9\n",
      "Corrupt JPEG data: 214 extraneous bytes before marker 0xd9\n",
      "Corrupt JPEG data: 1403 extraneous bytes before marker 0xd9\n"
     ]
    },
    {
     "name": "stdout",
     "output_type": "stream",
     "text": [
      "290/290 [==============================] - 16s 57ms/step - loss: 0.7974 - accuracy: 0.6545 - val_loss: 0.9074 - val_accuracy: 0.6233\n",
      "Epoch 4/15\n",
      " 65/290 [=====>........................] - ETA: 11s - loss: 0.7052 - accuracy: 0.6822"
     ]
    },
    {
     "name": "stderr",
     "output_type": "stream",
     "text": [
      "Corrupt JPEG data: 2226 extraneous bytes before marker 0xd9\n"
     ]
    },
    {
     "name": "stdout",
     "output_type": "stream",
     "text": [
      " 69/290 [======>.......................] - ETA: 11s - loss: 0.7055 - accuracy: 0.6814"
     ]
    },
    {
     "name": "stderr",
     "output_type": "stream",
     "text": [
      "Corrupt JPEG data: 128 extraneous bytes before marker 0xd9\n"
     ]
    },
    {
     "name": "stdout",
     "output_type": "stream",
     "text": [
      " 75/290 [======>.......................] - ETA: 10s - loss: 0.7029 - accuracy: 0.6825"
     ]
    },
    {
     "name": "stderr",
     "output_type": "stream",
     "text": [
      "Corrupt JPEG data: 239 extraneous bytes before marker 0xd9\n"
     ]
    },
    {
     "name": "stdout",
     "output_type": "stream",
     "text": [
      " 90/290 [========>.....................] - ETA: 9s - loss: 0.6925 - accuracy: 0.6878 "
     ]
    },
    {
     "name": "stderr",
     "output_type": "stream",
     "text": [
      "Corrupt JPEG data: 1153 extraneous bytes before marker 0xd9\n",
      "Corrupt JPEG data: 228 extraneous bytes before marker 0xd9\n"
     ]
    },
    {
     "name": "stdout",
     "output_type": "stream",
     "text": [
      "195/290 [===================>..........] - ETA: 4s - loss: 0.6820 - accuracy: 0.6969"
     ]
    },
    {
     "name": "stderr",
     "output_type": "stream",
     "text": [
      "Corrupt JPEG data: 99 extraneous bytes before marker 0xd9\n"
     ]
    },
    {
     "name": "stdout",
     "output_type": "stream",
     "text": [
      "209/290 [====================>.........] - ETA: 4s - loss: 0.6850 - accuracy: 0.6949"
     ]
    },
    {
     "name": "stderr",
     "output_type": "stream",
     "text": [
      "Warning: unknown JFIF revision number 0.00\n"
     ]
    },
    {
     "name": "stdout",
     "output_type": "stream",
     "text": [
      "214/290 [=====================>........] - ETA: 3s - loss: 0.6854 - accuracy: 0.6948"
     ]
    },
    {
     "name": "stderr",
     "output_type": "stream",
     "text": [
      "Corrupt JPEG data: 396 extraneous bytes before marker 0xd9\n"
     ]
    },
    {
     "name": "stdout",
     "output_type": "stream",
     "text": [
      "251/290 [========================>.....] - ETA: 1s - loss: 0.6754 - accuracy: 0.6987"
     ]
    },
    {
     "name": "stderr",
     "output_type": "stream",
     "text": [
      "Corrupt JPEG data: 65 extraneous bytes before marker 0xd9\n"
     ]
    },
    {
     "name": "stdout",
     "output_type": "stream",
     "text": [
      "290/290 [==============================] - ETA: 0s - loss: 0.6692 - accuracy: 0.7006"
     ]
    },
    {
     "name": "stderr",
     "output_type": "stream",
     "text": [
      "Corrupt JPEG data: 162 extraneous bytes before marker 0xd9\n",
      "Corrupt JPEG data: 252 extraneous bytes before marker 0xd9\n",
      "Corrupt JPEG data: 214 extraneous bytes before marker 0xd9\n",
      "Corrupt JPEG data: 1403 extraneous bytes before marker 0xd9\n",
      "Corrupt JPEG data: 162 extraneous bytes before marker 0xd9\n",
      "Corrupt JPEG data: 252 extraneous bytes before marker 0xd9\n",
      "Corrupt JPEG data: 214 extraneous bytes before marker 0xd9\n",
      "Corrupt JPEG data: 1403 extraneous bytes before marker 0xd9\n",
      "Corrupt JPEG data: 162 extraneous bytes before marker 0xd9\n",
      "Corrupt JPEG data: 252 extraneous bytes before marker 0xd9\n",
      "Corrupt JPEG data: 214 extraneous bytes before marker 0xd9\n",
      "Corrupt JPEG data: 1403 extraneous bytes before marker 0xd9\n",
      "Corrupt JPEG data: 162 extraneous bytes before marker 0xd9\n",
      "Corrupt JPEG data: 252 extraneous bytes before marker 0xd9\n"
     ]
    },
    {
     "name": "stdout",
     "output_type": "stream",
     "text": [
      "290/290 [==============================] - 17s 57ms/step - loss: 0.6692 - accuracy: 0.7006 - val_loss: 0.8235 - val_accuracy: 0.6484\n",
      "Epoch 5/15\n"
     ]
    },
    {
     "name": "stderr",
     "output_type": "stream",
     "text": [
      "Corrupt JPEG data: 214 extraneous bytes before marker 0xd9\n",
      "Corrupt JPEG data: 1403 extraneous bytes before marker 0xd9\n"
     ]
    },
    {
     "name": "stdout",
     "output_type": "stream",
     "text": [
      " 64/290 [=====>........................] - ETA: 11s - loss: 0.6182 - accuracy: 0.7239"
     ]
    },
    {
     "name": "stderr",
     "output_type": "stream",
     "text": [
      "Corrupt JPEG data: 2226 extraneous bytes before marker 0xd9\n"
     ]
    },
    {
     "name": "stdout",
     "output_type": "stream",
     "text": [
      " 69/290 [======>.......................] - ETA: 10s - loss: 0.6153 - accuracy: 0.7246"
     ]
    },
    {
     "name": "stderr",
     "output_type": "stream",
     "text": [
      "Corrupt JPEG data: 128 extraneous bytes before marker 0xd9\n"
     ]
    },
    {
     "name": "stdout",
     "output_type": "stream",
     "text": [
      " 78/290 [=======>......................] - ETA: 10s - loss: 0.6124 - accuracy: 0.7256"
     ]
    },
    {
     "name": "stderr",
     "output_type": "stream",
     "text": [
      "Corrupt JPEG data: 239 extraneous bytes before marker 0xd9\n"
     ]
    },
    {
     "name": "stdout",
     "output_type": "stream",
     "text": [
      " 90/290 [========>.....................] - ETA: 9s - loss: 0.6154 - accuracy: 0.7238 "
     ]
    },
    {
     "name": "stderr",
     "output_type": "stream",
     "text": [
      "Corrupt JPEG data: 1153 extraneous bytes before marker 0xd9\n",
      "Corrupt JPEG data: 228 extraneous bytes before marker 0xd9\n"
     ]
    },
    {
     "name": "stdout",
     "output_type": "stream",
     "text": [
      "196/290 [===================>..........] - ETA: 4s - loss: 0.6034 - accuracy: 0.7285"
     ]
    },
    {
     "name": "stderr",
     "output_type": "stream",
     "text": [
      "Corrupt JPEG data: 99 extraneous bytes before marker 0xd9\n"
     ]
    },
    {
     "name": "stdout",
     "output_type": "stream",
     "text": [
      "211/290 [====================>.........] - ETA: 4s - loss: 0.6020 - accuracy: 0.7288"
     ]
    },
    {
     "name": "stderr",
     "output_type": "stream",
     "text": [
      "Warning: unknown JFIF revision number 0.00\n"
     ]
    },
    {
     "name": "stdout",
     "output_type": "stream",
     "text": [
      "215/290 [=====================>........] - ETA: 3s - loss: 0.6008 - accuracy: 0.7294"
     ]
    },
    {
     "name": "stderr",
     "output_type": "stream",
     "text": [
      "Corrupt JPEG data: 396 extraneous bytes before marker 0xd9\n"
     ]
    },
    {
     "name": "stdout",
     "output_type": "stream",
     "text": [
      "253/290 [=========================>....] - ETA: 1s - loss: 0.5946 - accuracy: 0.7318"
     ]
    },
    {
     "name": "stderr",
     "output_type": "stream",
     "text": [
      "Corrupt JPEG data: 65 extraneous bytes before marker 0xd9\n"
     ]
    },
    {
     "name": "stdout",
     "output_type": "stream",
     "text": [
      "289/290 [============================>.] - ETA: 0s - loss: 0.5910 - accuracy: 0.7343"
     ]
    },
    {
     "name": "stderr",
     "output_type": "stream",
     "text": [
      "Corrupt JPEG data: 162 extraneous bytes before marker 0xd9\n",
      "Corrupt JPEG data: 252 extraneous bytes before marker 0xd9\n",
      "Corrupt JPEG data: 214 extraneous bytes before marker 0xd9\n",
      "Corrupt JPEG data: 1403 extraneous bytes before marker 0xd9\n",
      "Corrupt JPEG data: 162 extraneous bytes before marker 0xd9\n",
      "Corrupt JPEG data: 252 extraneous bytes before marker 0xd9\n",
      "Corrupt JPEG data: 214 extraneous bytes before marker 0xd9\n",
      "Corrupt JPEG data: 1403 extraneous bytes before marker 0xd9\n",
      "Corrupt JPEG data: 162 extraneous bytes before marker 0xd9\n",
      "Corrupt JPEG data: 252 extraneous bytes before marker 0xd9\n",
      "Corrupt JPEG data: 214 extraneous bytes before marker 0xd9\n",
      "Corrupt JPEG data: 1403 extraneous bytes before marker 0xd9\n",
      "Corrupt JPEG data: 162 extraneous bytes before marker 0xd9\n",
      "Corrupt JPEG data: 252 extraneous bytes before marker 0xd9\n"
     ]
    },
    {
     "name": "stdout",
     "output_type": "stream",
     "text": [
      "290/290 [==============================] - 17s 58ms/step - loss: 0.5902 - accuracy: 0.7346 - val_loss: 0.8212 - val_accuracy: 0.6534\n"
     ]
    },
    {
     "name": "stderr",
     "output_type": "stream",
     "text": [
      "Corrupt JPEG data: 214 extraneous bytes before marker 0xd9\n",
      "Corrupt JPEG data: 1403 extraneous bytes before marker 0xd9\n"
     ]
    },
    {
     "name": "stdout",
     "output_type": "stream",
     "text": [
      "Epoch 6/15\n",
      " 66/290 [=====>........................] - ETA: 11s - loss: 0.4959 - accuracy: 0.7741"
     ]
    },
    {
     "name": "stderr",
     "output_type": "stream",
     "text": [
      "Corrupt JPEG data: 2226 extraneous bytes before marker 0xd9\n"
     ]
    },
    {
     "name": "stdout",
     "output_type": "stream",
     "text": [
      " 72/290 [======>.......................] - ETA: 10s - loss: 0.5013 - accuracy: 0.7725"
     ]
    },
    {
     "name": "stderr",
     "output_type": "stream",
     "text": [
      "Corrupt JPEG data: 128 extraneous bytes before marker 0xd9\n"
     ]
    },
    {
     "name": "stdout",
     "output_type": "stream",
     "text": [
      " 78/290 [=======>......................] - ETA: 10s - loss: 0.5019 - accuracy: 0.7740"
     ]
    },
    {
     "name": "stderr",
     "output_type": "stream",
     "text": [
      "Corrupt JPEG data: 239 extraneous bytes before marker 0xd9\n"
     ]
    },
    {
     "name": "stdout",
     "output_type": "stream",
     "text": [
      " 93/290 [========>.....................] - ETA: 9s - loss: 0.4949 - accuracy: 0.7757"
     ]
    },
    {
     "name": "stderr",
     "output_type": "stream",
     "text": [
      "Corrupt JPEG data: 1153 extraneous bytes before marker 0xd9\n",
      "Corrupt JPEG data: 228 extraneous bytes before marker 0xd9\n"
     ]
    },
    {
     "name": "stdout",
     "output_type": "stream",
     "text": [
      "196/290 [===================>..........] - ETA: 4s - loss: 0.4945 - accuracy: 0.7750"
     ]
    },
    {
     "name": "stderr",
     "output_type": "stream",
     "text": [
      "Corrupt JPEG data: 99 extraneous bytes before marker 0xd9\n"
     ]
    },
    {
     "name": "stdout",
     "output_type": "stream",
     "text": [
      "209/290 [====================>.........] - ETA: 3s - loss: 0.4988 - accuracy: 0.7745"
     ]
    },
    {
     "name": "stderr",
     "output_type": "stream",
     "text": [
      "Warning: unknown JFIF revision number 0.00\n"
     ]
    },
    {
     "name": "stdout",
     "output_type": "stream",
     "text": [
      "216/290 [=====================>........] - ETA: 3s - loss: 0.4995 - accuracy: 0.7746"
     ]
    },
    {
     "name": "stderr",
     "output_type": "stream",
     "text": [
      "Corrupt JPEG data: 396 extraneous bytes before marker 0xd9\n"
     ]
    },
    {
     "name": "stdout",
     "output_type": "stream",
     "text": [
      "253/290 [=========================>....] - ETA: 1s - loss: 0.4883 - accuracy: 0.7801"
     ]
    },
    {
     "name": "stderr",
     "output_type": "stream",
     "text": [
      "Corrupt JPEG data: 65 extraneous bytes before marker 0xd9\n"
     ]
    },
    {
     "name": "stdout",
     "output_type": "stream",
     "text": [
      "289/290 [============================>.] - ETA: 0s - loss: 0.4782 - accuracy: 0.7847"
     ]
    },
    {
     "name": "stderr",
     "output_type": "stream",
     "text": [
      "Corrupt JPEG data: 162 extraneous bytes before marker 0xd9\n",
      "Corrupt JPEG data: 252 extraneous bytes before marker 0xd9\n",
      "Corrupt JPEG data: 214 extraneous bytes before marker 0xd9\n",
      "Corrupt JPEG data: 1403 extraneous bytes before marker 0xd9\n",
      "Corrupt JPEG data: 162 extraneous bytes before marker 0xd9\n",
      "Corrupt JPEG data: 252 extraneous bytes before marker 0xd9\n",
      "Corrupt JPEG data: 214 extraneous bytes before marker 0xd9\n",
      "Corrupt JPEG data: 1403 extraneous bytes before marker 0xd9\n",
      "Corrupt JPEG data: 162 extraneous bytes before marker 0xd9\n",
      "Corrupt JPEG data: 252 extraneous bytes before marker 0xd9\n",
      "Corrupt JPEG data: 214 extraneous bytes before marker 0xd9\n",
      "Corrupt JPEG data: 1403 extraneous bytes before marker 0xd9\n",
      "Corrupt JPEG data: 162 extraneous bytes before marker 0xd9\n",
      "Corrupt JPEG data: 252 extraneous bytes before marker 0xd9\n",
      "Corrupt JPEG data: 214 extraneous bytes before marker 0xd9\n",
      "Corrupt JPEG data: 1403 extraneous bytes before marker 0xd9\n"
     ]
    },
    {
     "name": "stdout",
     "output_type": "stream",
     "text": [
      "290/290 [==============================] - 17s 57ms/step - loss: 0.4779 - accuracy: 0.7847 - val_loss: 0.9852 - val_accuracy: 0.6386\n",
      "Epoch 7/15\n",
      " 67/290 [=====>........................] - ETA: 11s - loss: 0.4093 - accuracy: 0.8183"
     ]
    },
    {
     "name": "stderr",
     "output_type": "stream",
     "text": [
      "Corrupt JPEG data: 2226 extraneous bytes before marker 0xd9\n"
     ]
    },
    {
     "name": "stdout",
     "output_type": "stream",
     "text": [
      " 73/290 [======>.......................] - ETA: 11s - loss: 0.4072 - accuracy: 0.8202"
     ]
    },
    {
     "name": "stderr",
     "output_type": "stream",
     "text": [
      "Corrupt JPEG data: 128 extraneous bytes before marker 0xd9\n"
     ]
    },
    {
     "name": "stdout",
     "output_type": "stream",
     "text": [
      " 80/290 [=======>......................] - ETA: 10s - loss: 0.4079 - accuracy: 0.8197"
     ]
    },
    {
     "name": "stderr",
     "output_type": "stream",
     "text": [
      "Corrupt JPEG data: 239 extraneous bytes before marker 0xd9\n"
     ]
    },
    {
     "name": "stdout",
     "output_type": "stream",
     "text": [
      " 94/290 [========>.....................] - ETA: 10s - loss: 0.4075 - accuracy: 0.8196"
     ]
    },
    {
     "name": "stderr",
     "output_type": "stream",
     "text": [
      "Corrupt JPEG data: 1153 extraneous bytes before marker 0xd9\n",
      "Corrupt JPEG data: 228 extraneous bytes before marker 0xd9\n"
     ]
    },
    {
     "name": "stdout",
     "output_type": "stream",
     "text": [
      "197/290 [===================>..........] - ETA: 4s - loss: 0.4105 - accuracy: 0.8188"
     ]
    },
    {
     "name": "stderr",
     "output_type": "stream",
     "text": [
      "Corrupt JPEG data: 99 extraneous bytes before marker 0xd9\n"
     ]
    },
    {
     "name": "stdout",
     "output_type": "stream",
     "text": [
      "212/290 [====================>.........] - ETA: 4s - loss: 0.4093 - accuracy: 0.8196"
     ]
    },
    {
     "name": "stderr",
     "output_type": "stream",
     "text": [
      "Warning: unknown JFIF revision number 0.00\n"
     ]
    },
    {
     "name": "stdout",
     "output_type": "stream",
     "text": [
      "218/290 [=====================>........] - ETA: 3s - loss: 0.4079 - accuracy: 0.8209"
     ]
    },
    {
     "name": "stderr",
     "output_type": "stream",
     "text": [
      "Corrupt JPEG data: 396 extraneous bytes before marker 0xd9\n"
     ]
    },
    {
     "name": "stdout",
     "output_type": "stream",
     "text": [
      "255/290 [=========================>....] - ETA: 1s - loss: 0.4004 - accuracy: 0.8236"
     ]
    },
    {
     "name": "stderr",
     "output_type": "stream",
     "text": [
      "Corrupt JPEG data: 65 extraneous bytes before marker 0xd9\n"
     ]
    },
    {
     "name": "stdout",
     "output_type": "stream",
     "text": [
      "289/290 [============================>.] - ETA: 0s - loss: 0.3936 - accuracy: 0.8267"
     ]
    },
    {
     "name": "stderr",
     "output_type": "stream",
     "text": [
      "Corrupt JPEG data: 162 extraneous bytes before marker 0xd9\n",
      "Corrupt JPEG data: 252 extraneous bytes before marker 0xd9\n",
      "Corrupt JPEG data: 214 extraneous bytes before marker 0xd9\n",
      "Corrupt JPEG data: 1403 extraneous bytes before marker 0xd9\n",
      "Corrupt JPEG data: 162 extraneous bytes before marker 0xd9\n",
      "Corrupt JPEG data: 252 extraneous bytes before marker 0xd9\n",
      "Corrupt JPEG data: 214 extraneous bytes before marker 0xd9\n",
      "Corrupt JPEG data: 1403 extraneous bytes before marker 0xd9\n",
      "Corrupt JPEG data: 162 extraneous bytes before marker 0xd9\n",
      "Corrupt JPEG data: 252 extraneous bytes before marker 0xd9\n",
      "Corrupt JPEG data: 214 extraneous bytes before marker 0xd9\n",
      "Corrupt JPEG data: 1403 extraneous bytes before marker 0xd9\n",
      "Corrupt JPEG data: 162 extraneous bytes before marker 0xd9\n",
      "Corrupt JPEG data: 252 extraneous bytes before marker 0xd9\n"
     ]
    },
    {
     "name": "stdout",
     "output_type": "stream",
     "text": [
      "290/290 [==============================] - 17s 59ms/step - loss: 0.3940 - accuracy: 0.8265 - val_loss: 0.9705 - val_accuracy: 0.6620\n"
     ]
    },
    {
     "name": "stderr",
     "output_type": "stream",
     "text": [
      "Corrupt JPEG data: 214 extraneous bytes before marker 0xd9\n",
      "Corrupt JPEG data: 1403 extraneous bytes before marker 0xd9\n"
     ]
    },
    {
     "name": "stdout",
     "output_type": "stream",
     "text": [
      "Epoch 8/15\n",
      " 67/290 [=====>........................] - ETA: 10s - loss: 0.3397 - accuracy: 0.8570"
     ]
    },
    {
     "name": "stderr",
     "output_type": "stream",
     "text": [
      "Corrupt JPEG data: 2226 extraneous bytes before marker 0xd9\n"
     ]
    },
    {
     "name": "stdout",
     "output_type": "stream",
     "text": [
      " 75/290 [======>.......................] - ETA: 10s - loss: 0.3383 - accuracy: 0.8562"
     ]
    },
    {
     "name": "stderr",
     "output_type": "stream",
     "text": [
      "Corrupt JPEG data: 128 extraneous bytes before marker 0xd9\n"
     ]
    },
    {
     "name": "stdout",
     "output_type": "stream",
     "text": [
      " 79/290 [=======>......................] - ETA: 10s - loss: 0.3396 - accuracy: 0.8574"
     ]
    },
    {
     "name": "stderr",
     "output_type": "stream",
     "text": [
      "Corrupt JPEG data: 239 extraneous bytes before marker 0xd9\n"
     ]
    },
    {
     "name": "stdout",
     "output_type": "stream",
     "text": [
      " 94/290 [========>.....................] - ETA: 9s - loss: 0.3456 - accuracy: 0.8551"
     ]
    },
    {
     "name": "stderr",
     "output_type": "stream",
     "text": [
      "Corrupt JPEG data: 1153 extraneous bytes before marker 0xd9\n",
      "Corrupt JPEG data: 228 extraneous bytes before marker 0xd9\n"
     ]
    },
    {
     "name": "stdout",
     "output_type": "stream",
     "text": [
      "196/290 [===================>..........] - ETA: 4s - loss: 0.3328 - accuracy: 0.8574"
     ]
    },
    {
     "name": "stderr",
     "output_type": "stream",
     "text": [
      "Corrupt JPEG data: 99 extraneous bytes before marker 0xd9\n"
     ]
    },
    {
     "name": "stdout",
     "output_type": "stream",
     "text": [
      "215/290 [=====================>........] - ETA: 3s - loss: 0.3306 - accuracy: 0.8580"
     ]
    },
    {
     "name": "stderr",
     "output_type": "stream",
     "text": [
      "Warning: unknown JFIF revision number 0.00\n"
     ]
    },
    {
     "name": "stdout",
     "output_type": "stream",
     "text": [
      "219/290 [=====================>........] - ETA: 3s - loss: 0.3291 - accuracy: 0.8591"
     ]
    },
    {
     "name": "stderr",
     "output_type": "stream",
     "text": [
      "Corrupt JPEG data: 396 extraneous bytes before marker 0xd9\n"
     ]
    },
    {
     "name": "stdout",
     "output_type": "stream",
     "text": [
      "256/290 [=========================>....] - ETA: 1s - loss: 0.3248 - accuracy: 0.8627"
     ]
    },
    {
     "name": "stderr",
     "output_type": "stream",
     "text": [
      "Corrupt JPEG data: 65 extraneous bytes before marker 0xd9\n"
     ]
    },
    {
     "name": "stdout",
     "output_type": "stream",
     "text": [
      "290/290 [==============================] - ETA: 0s - loss: 0.3216 - accuracy: 0.8646"
     ]
    },
    {
     "name": "stderr",
     "output_type": "stream",
     "text": [
      "Corrupt JPEG data: 162 extraneous bytes before marker 0xd9\n",
      "Corrupt JPEG data: 252 extraneous bytes before marker 0xd9\n",
      "Corrupt JPEG data: 214 extraneous bytes before marker 0xd9\n",
      "Corrupt JPEG data: 1403 extraneous bytes before marker 0xd9\n",
      "Corrupt JPEG data: 162 extraneous bytes before marker 0xd9\n",
      "Corrupt JPEG data: 252 extraneous bytes before marker 0xd9\n",
      "Corrupt JPEG data: 214 extraneous bytes before marker 0xd9\n",
      "Corrupt JPEG data: 1403 extraneous bytes before marker 0xd9\n",
      "Corrupt JPEG data: 162 extraneous bytes before marker 0xd9\n",
      "Corrupt JPEG data: 252 extraneous bytes before marker 0xd9\n",
      "Corrupt JPEG data: 214 extraneous bytes before marker 0xd9\n",
      "Corrupt JPEG data: 1403 extraneous bytes before marker 0xd9\n",
      "Corrupt JPEG data: 162 extraneous bytes before marker 0xd9\n",
      "Corrupt JPEG data: 252 extraneous bytes before marker 0xd9\n",
      "Corrupt JPEG data: 214 extraneous bytes before marker 0xd9\n",
      "Corrupt JPEG data: 1403 extraneous bytes before marker 0xd9\n"
     ]
    },
    {
     "name": "stdout",
     "output_type": "stream",
     "text": [
      "290/290 [==============================] - 16s 57ms/step - loss: 0.3216 - accuracy: 0.8646 - val_loss: 1.2460 - val_accuracy: 0.6341\n",
      "Epoch 9/15\n",
      " 68/290 [======>.......................] - ETA: 10s - loss: 0.2607 - accuracy: 0.8941"
     ]
    },
    {
     "name": "stderr",
     "output_type": "stream",
     "text": [
      "Corrupt JPEG data: 2226 extraneous bytes before marker 0xd9\n"
     ]
    },
    {
     "name": "stdout",
     "output_type": "stream",
     "text": [
      " 76/290 [======>.......................] - ETA: 10s - loss: 0.2544 - accuracy: 0.8966"
     ]
    },
    {
     "name": "stderr",
     "output_type": "stream",
     "text": [
      "Corrupt JPEG data: 128 extraneous bytes before marker 0xd9\n"
     ]
    },
    {
     "name": "stdout",
     "output_type": "stream",
     "text": [
      " 79/290 [=======>......................] - ETA: 10s - loss: 0.2517 - accuracy: 0.8981"
     ]
    },
    {
     "name": "stderr",
     "output_type": "stream",
     "text": [
      "Corrupt JPEG data: 239 extraneous bytes before marker 0xd9\n"
     ]
    },
    {
     "name": "stdout",
     "output_type": "stream",
     "text": [
      " 95/290 [========>.....................] - ETA: 9s - loss: 0.2574 - accuracy: 0.8959"
     ]
    },
    {
     "name": "stderr",
     "output_type": "stream",
     "text": [
      "Corrupt JPEG data: 1153 extraneous bytes before marker 0xd9\n",
      "Corrupt JPEG data: 228 extraneous bytes before marker 0xd9\n"
     ]
    },
    {
     "name": "stdout",
     "output_type": "stream",
     "text": [
      "199/290 [===================>..........] - ETA: 4s - loss: 0.2534 - accuracy: 0.8955"
     ]
    },
    {
     "name": "stderr",
     "output_type": "stream",
     "text": [
      "Corrupt JPEG data: 99 extraneous bytes before marker 0xd9\n"
     ]
    },
    {
     "name": "stdout",
     "output_type": "stream",
     "text": [
      "215/290 [=====================>........] - ETA: 3s - loss: 0.2497 - accuracy: 0.8966"
     ]
    },
    {
     "name": "stderr",
     "output_type": "stream",
     "text": [
      "Warning: unknown JFIF revision number 0.00\n"
     ]
    },
    {
     "name": "stdout",
     "output_type": "stream",
     "text": [
      "219/290 [=====================>........] - ETA: 3s - loss: 0.2481 - accuracy: 0.8976"
     ]
    },
    {
     "name": "stderr",
     "output_type": "stream",
     "text": [
      "Corrupt JPEG data: 396 extraneous bytes before marker 0xd9\n"
     ]
    },
    {
     "name": "stdout",
     "output_type": "stream",
     "text": [
      "257/290 [=========================>....] - ETA: 1s - loss: 0.2479 - accuracy: 0.8979"
     ]
    },
    {
     "name": "stderr",
     "output_type": "stream",
     "text": [
      "Corrupt JPEG data: 65 extraneous bytes before marker 0xd9\n"
     ]
    },
    {
     "name": "stdout",
     "output_type": "stream",
     "text": [
      "290/290 [==============================] - ETA: 0s - loss: 0.2481 - accuracy: 0.8979"
     ]
    },
    {
     "name": "stderr",
     "output_type": "stream",
     "text": [
      "Corrupt JPEG data: 162 extraneous bytes before marker 0xd9\n",
      "Corrupt JPEG data: 252 extraneous bytes before marker 0xd9\n",
      "Corrupt JPEG data: 214 extraneous bytes before marker 0xd9\n",
      "Corrupt JPEG data: 1403 extraneous bytes before marker 0xd9\n",
      "Corrupt JPEG data: 162 extraneous bytes before marker 0xd9\n",
      "Corrupt JPEG data: 252 extraneous bytes before marker 0xd9\n",
      "Corrupt JPEG data: 214 extraneous bytes before marker 0xd9\n",
      "Corrupt JPEG data: 1403 extraneous bytes before marker 0xd9\n",
      "Corrupt JPEG data: 162 extraneous bytes before marker 0xd9\n",
      "Corrupt JPEG data: 252 extraneous bytes before marker 0xd9\n",
      "Corrupt JPEG data: 214 extraneous bytes before marker 0xd9\n",
      "Corrupt JPEG data: 1403 extraneous bytes before marker 0xd9\n",
      "Corrupt JPEG data: 162 extraneous bytes before marker 0xd9\n",
      "Corrupt JPEG data: 252 extraneous bytes before marker 0xd9\n",
      "Corrupt JPEG data: 214 extraneous bytes before marker 0xd9\n",
      "Corrupt JPEG data: 1403 extraneous bytes before marker 0xd9\n"
     ]
    },
    {
     "name": "stdout",
     "output_type": "stream",
     "text": [
      "290/290 [==============================] - 16s 56ms/step - loss: 0.2481 - accuracy: 0.8979 - val_loss: 1.0589 - val_accuracy: 0.6717\n",
      "Epoch 10/15\n",
      " 70/290 [======>.......................] - ETA: 10s - loss: 0.2148 - accuracy: 0.9147"
     ]
    },
    {
     "name": "stderr",
     "output_type": "stream",
     "text": [
      "Corrupt JPEG data: 2226 extraneous bytes before marker 0xd9\n"
     ]
    },
    {
     "name": "stdout",
     "output_type": "stream",
     "text": [
      " 76/290 [======>.......................] - ETA: 10s - loss: 0.2110 - accuracy: 0.9155"
     ]
    },
    {
     "name": "stderr",
     "output_type": "stream",
     "text": [
      "Corrupt JPEG data: 128 extraneous bytes before marker 0xd9\n",
      "Corrupt JPEG data: 239 extraneous bytes before marker 0xd9\n"
     ]
    },
    {
     "name": "stdout",
     "output_type": "stream",
     "text": [
      " 94/290 [========>.....................] - ETA: 9s - loss: 0.2030 - accuracy: 0.9165"
     ]
    },
    {
     "name": "stderr",
     "output_type": "stream",
     "text": [
      "Corrupt JPEG data: 1153 extraneous bytes before marker 0xd9\n",
      "Corrupt JPEG data: 228 extraneous bytes before marker 0xd9\n"
     ]
    },
    {
     "name": "stdout",
     "output_type": "stream",
     "text": [
      "199/290 [===================>..........] - ETA: 4s - loss: 0.2028 - accuracy: 0.9167"
     ]
    },
    {
     "name": "stderr",
     "output_type": "stream",
     "text": [
      "Corrupt JPEG data: 99 extraneous bytes before marker 0xd9\n"
     ]
    },
    {
     "name": "stdout",
     "output_type": "stream",
     "text": [
      "216/290 [=====================>........] - ETA: 3s - loss: 0.2049 - accuracy: 0.9158"
     ]
    },
    {
     "name": "stderr",
     "output_type": "stream",
     "text": [
      "Warning: unknown JFIF revision number 0.00\n",
      "Corrupt JPEG data: 396 extraneous bytes before marker 0xd9\n"
     ]
    },
    {
     "name": "stdout",
     "output_type": "stream",
     "text": [
      "257/290 [=========================>....] - ETA: 1s - loss: 0.1999 - accuracy: 0.9183"
     ]
    },
    {
     "name": "stderr",
     "output_type": "stream",
     "text": [
      "Corrupt JPEG data: 65 extraneous bytes before marker 0xd9\n"
     ]
    },
    {
     "name": "stdout",
     "output_type": "stream",
     "text": [
      "290/290 [==============================] - ETA: 0s - loss: 0.1995 - accuracy: 0.9184"
     ]
    },
    {
     "name": "stderr",
     "output_type": "stream",
     "text": [
      "Corrupt JPEG data: 162 extraneous bytes before marker 0xd9\n",
      "Corrupt JPEG data: 252 extraneous bytes before marker 0xd9\n",
      "Corrupt JPEG data: 214 extraneous bytes before marker 0xd9\n",
      "Corrupt JPEG data: 1403 extraneous bytes before marker 0xd9\n",
      "Corrupt JPEG data: 162 extraneous bytes before marker 0xd9\n",
      "Corrupt JPEG data: 252 extraneous bytes before marker 0xd9\n",
      "Corrupt JPEG data: 214 extraneous bytes before marker 0xd9\n",
      "Corrupt JPEG data: 1403 extraneous bytes before marker 0xd9\n",
      "Corrupt JPEG data: 162 extraneous bytes before marker 0xd9\n",
      "Corrupt JPEG data: 252 extraneous bytes before marker 0xd9\n",
      "Corrupt JPEG data: 214 extraneous bytes before marker 0xd9\n",
      "Corrupt JPEG data: 1403 extraneous bytes before marker 0xd9\n",
      "Corrupt JPEG data: 162 extraneous bytes before marker 0xd9\n",
      "Corrupt JPEG data: 252 extraneous bytes before marker 0xd9\n",
      "Corrupt JPEG data: 214 extraneous bytes before marker 0xd9\n",
      "Corrupt JPEG data: 1403 extraneous bytes before marker 0xd9\n"
     ]
    },
    {
     "name": "stdout",
     "output_type": "stream",
     "text": [
      "290/290 [==============================] - 17s 58ms/step - loss: 0.1995 - accuracy: 0.9184 - val_loss: 1.3981 - val_accuracy: 0.6587\n",
      "Epoch 11/15\n",
      " 70/290 [======>.......................] - ETA: 11s - loss: 0.1798 - accuracy: 0.9272"
     ]
    },
    {
     "name": "stderr",
     "output_type": "stream",
     "text": [
      "Corrupt JPEG data: 2226 extraneous bytes before marker 0xd9\n"
     ]
    },
    {
     "name": "stdout",
     "output_type": "stream",
     "text": [
      " 78/290 [=======>......................] - ETA: 10s - loss: 0.1792 - accuracy: 0.9271"
     ]
    },
    {
     "name": "stderr",
     "output_type": "stream",
     "text": [
      "Corrupt JPEG data: 128 extraneous bytes before marker 0xd9\n"
     ]
    },
    {
     "name": "stdout",
     "output_type": "stream",
     "text": [
      " 83/290 [=======>......................] - ETA: 10s - loss: 0.1831 - accuracy: 0.9268"
     ]
    },
    {
     "name": "stderr",
     "output_type": "stream",
     "text": [
      "Corrupt JPEG data: 239 extraneous bytes before marker 0xd9\n"
     ]
    },
    {
     "name": "stdout",
     "output_type": "stream",
     "text": [
      " 96/290 [========>.....................] - ETA: 9s - loss: 0.1789 - accuracy: 0.9289"
     ]
    },
    {
     "name": "stderr",
     "output_type": "stream",
     "text": [
      "Corrupt JPEG data: 1153 extraneous bytes before marker 0xd9\n",
      "Corrupt JPEG data: 228 extraneous bytes before marker 0xd9\n"
     ]
    },
    {
     "name": "stdout",
     "output_type": "stream",
     "text": [
      "200/290 [===================>..........] - ETA: 4s - loss: 0.1646 - accuracy: 0.9364"
     ]
    },
    {
     "name": "stderr",
     "output_type": "stream",
     "text": [
      "Corrupt JPEG data: 99 extraneous bytes before marker 0xd9\n"
     ]
    },
    {
     "name": "stdout",
     "output_type": "stream",
     "text": [
      "215/290 [=====================>........] - ETA: 3s - loss: 0.1649 - accuracy: 0.9359"
     ]
    },
    {
     "name": "stderr",
     "output_type": "stream",
     "text": [
      "Warning: unknown JFIF revision number 0.00\n"
     ]
    },
    {
     "name": "stdout",
     "output_type": "stream",
     "text": [
      "222/290 [=====================>........] - ETA: 3s - loss: 0.1628 - accuracy: 0.9363"
     ]
    },
    {
     "name": "stderr",
     "output_type": "stream",
     "text": [
      "Corrupt JPEG data: 396 extraneous bytes before marker 0xd9\n"
     ]
    },
    {
     "name": "stdout",
     "output_type": "stream",
     "text": [
      "258/290 [=========================>....] - ETA: 1s - loss: 0.1598 - accuracy: 0.9374"
     ]
    },
    {
     "name": "stderr",
     "output_type": "stream",
     "text": [
      "Corrupt JPEG data: 65 extraneous bytes before marker 0xd9\n"
     ]
    },
    {
     "name": "stdout",
     "output_type": "stream",
     "text": [
      "290/290 [==============================] - ETA: 0s - loss: 0.1599 - accuracy: 0.9379"
     ]
    },
    {
     "name": "stderr",
     "output_type": "stream",
     "text": [
      "Corrupt JPEG data: 162 extraneous bytes before marker 0xd9\n",
      "Corrupt JPEG data: 252 extraneous bytes before marker 0xd9\n",
      "Corrupt JPEG data: 214 extraneous bytes before marker 0xd9\n",
      "Corrupt JPEG data: 1403 extraneous bytes before marker 0xd9\n",
      "Corrupt JPEG data: 162 extraneous bytes before marker 0xd9\n",
      "Corrupt JPEG data: 252 extraneous bytes before marker 0xd9\n",
      "Corrupt JPEG data: 214 extraneous bytes before marker 0xd9\n",
      "Corrupt JPEG data: 1403 extraneous bytes before marker 0xd9\n",
      "Corrupt JPEG data: 162 extraneous bytes before marker 0xd9\n",
      "Corrupt JPEG data: 252 extraneous bytes before marker 0xd9\n",
      "Corrupt JPEG data: 214 extraneous bytes before marker 0xd9\n",
      "Corrupt JPEG data: 1403 extraneous bytes before marker 0xd9\n",
      "Corrupt JPEG data: 162 extraneous bytes before marker 0xd9\n",
      "Corrupt JPEG data: 252 extraneous bytes before marker 0xd9\n",
      "Corrupt JPEG data: 214 extraneous bytes before marker 0xd9\n",
      "Corrupt JPEG data: 1403 extraneous bytes before marker 0xd9\n"
     ]
    },
    {
     "name": "stdout",
     "output_type": "stream",
     "text": [
      "290/290 [==============================] - 17s 59ms/step - loss: 0.1599 - accuracy: 0.9379 - val_loss: 1.2836 - val_accuracy: 0.6833\n",
      "Epoch 12/15\n",
      " 72/290 [======>.......................] - ETA: 10s - loss: 0.1369 - accuracy: 0.9458"
     ]
    },
    {
     "name": "stderr",
     "output_type": "stream",
     "text": [
      "Corrupt JPEG data: 2226 extraneous bytes before marker 0xd9\n"
     ]
    },
    {
     "name": "stdout",
     "output_type": "stream",
     "text": [
      " 78/290 [=======>......................] - ETA: 10s - loss: 0.1363 - accuracy: 0.9464"
     ]
    },
    {
     "name": "stderr",
     "output_type": "stream",
     "text": [
      "Corrupt JPEG data: 128 extraneous bytes before marker 0xd9\n"
     ]
    },
    {
     "name": "stdout",
     "output_type": "stream",
     "text": [
      " 84/290 [=======>......................] - ETA: 10s - loss: 0.1403 - accuracy: 0.9441"
     ]
    },
    {
     "name": "stderr",
     "output_type": "stream",
     "text": [
      "Corrupt JPEG data: 239 extraneous bytes before marker 0xd9\n"
     ]
    },
    {
     "name": "stdout",
     "output_type": "stream",
     "text": [
      " 97/290 [=========>....................] - ETA: 9s - loss: 0.1416 - accuracy: 0.9437"
     ]
    },
    {
     "name": "stderr",
     "output_type": "stream",
     "text": [
      "Corrupt JPEG data: 1153 extraneous bytes before marker 0xd9\n",
      "Corrupt JPEG data: 228 extraneous bytes before marker 0xd9\n"
     ]
    },
    {
     "name": "stdout",
     "output_type": "stream",
     "text": [
      "202/290 [===================>..........] - ETA: 4s - loss: 0.1398 - accuracy: 0.9447"
     ]
    },
    {
     "name": "stderr",
     "output_type": "stream",
     "text": [
      "Corrupt JPEG data: 99 extraneous bytes before marker 0xd9\n"
     ]
    },
    {
     "name": "stdout",
     "output_type": "stream",
     "text": [
      "217/290 [=====================>........] - ETA: 3s - loss: 0.1373 - accuracy: 0.9457"
     ]
    },
    {
     "name": "stderr",
     "output_type": "stream",
     "text": [
      "Warning: unknown JFIF revision number 0.00\n",
      "Corrupt JPEG data: 396 extraneous bytes before marker 0xd9\n"
     ]
    },
    {
     "name": "stdout",
     "output_type": "stream",
     "text": [
      "259/290 [=========================>....] - ETA: 1s - loss: 0.1375 - accuracy: 0.9462"
     ]
    },
    {
     "name": "stderr",
     "output_type": "stream",
     "text": [
      "Corrupt JPEG data: 65 extraneous bytes before marker 0xd9\n"
     ]
    },
    {
     "name": "stdout",
     "output_type": "stream",
     "text": [
      "289/290 [============================>.] - ETA: 0s - loss: 0.1373 - accuracy: 0.9462"
     ]
    },
    {
     "name": "stderr",
     "output_type": "stream",
     "text": [
      "Corrupt JPEG data: 162 extraneous bytes before marker 0xd9\n",
      "Corrupt JPEG data: 252 extraneous bytes before marker 0xd9\n",
      "Corrupt JPEG data: 214 extraneous bytes before marker 0xd9\n",
      "Corrupt JPEG data: 1403 extraneous bytes before marker 0xd9\n",
      "Corrupt JPEG data: 162 extraneous bytes before marker 0xd9\n",
      "Corrupt JPEG data: 252 extraneous bytes before marker 0xd9\n",
      "Corrupt JPEG data: 214 extraneous bytes before marker 0xd9\n",
      "Corrupt JPEG data: 1403 extraneous bytes before marker 0xd9\n",
      "Corrupt JPEG data: 162 extraneous bytes before marker 0xd9\n",
      "Corrupt JPEG data: 252 extraneous bytes before marker 0xd9\n",
      "Corrupt JPEG data: 214 extraneous bytes before marker 0xd9\n",
      "Corrupt JPEG data: 1403 extraneous bytes before marker 0xd9\n",
      "Corrupt JPEG data: 162 extraneous bytes before marker 0xd9\n",
      "Corrupt JPEG data: 252 extraneous bytes before marker 0xd9\n",
      "Corrupt JPEG data: 214 extraneous bytes before marker 0xd9\n",
      "Corrupt JPEG data: 1403 extraneous bytes before marker 0xd9\n"
     ]
    },
    {
     "name": "stdout",
     "output_type": "stream",
     "text": [
      "290/290 [==============================] - 17s 60ms/step - loss: 0.1372 - accuracy: 0.9463 - val_loss: 1.6152 - val_accuracy: 0.6541\n",
      "Epoch 13/15\n",
      " 74/290 [======>.......................] - ETA: 10s - loss: 0.1210 - accuracy: 0.9552"
     ]
    },
    {
     "name": "stderr",
     "output_type": "stream",
     "text": [
      "Corrupt JPEG data: 2226 extraneous bytes before marker 0xd9\n"
     ]
    },
    {
     "name": "stdout",
     "output_type": "stream",
     "text": [
      " 78/290 [=======>......................] - ETA: 9s - loss: 0.1189 - accuracy: 0.9561 "
     ]
    },
    {
     "name": "stderr",
     "output_type": "stream",
     "text": [
      "Corrupt JPEG data: 128 extraneous bytes before marker 0xd9\n"
     ]
    },
    {
     "name": "stdout",
     "output_type": "stream",
     "text": [
      " 84/290 [=======>......................] - ETA: 9s - loss: 0.1208 - accuracy: 0.9565"
     ]
    },
    {
     "name": "stderr",
     "output_type": "stream",
     "text": [
      "Corrupt JPEG data: 239 extraneous bytes before marker 0xd9\n"
     ]
    },
    {
     "name": "stdout",
     "output_type": "stream",
     "text": [
      " 99/290 [=========>....................] - ETA: 9s - loss: 0.1184 - accuracy: 0.9571"
     ]
    },
    {
     "name": "stderr",
     "output_type": "stream",
     "text": [
      "Corrupt JPEG data: 1153 extraneous bytes before marker 0xd9\n",
      "Corrupt JPEG data: 228 extraneous bytes before marker 0xd9\n"
     ]
    },
    {
     "name": "stdout",
     "output_type": "stream",
     "text": [
      "203/290 [====================>.........] - ETA: 4s - loss: 0.1241 - accuracy: 0.9535"
     ]
    },
    {
     "name": "stderr",
     "output_type": "stream",
     "text": [
      "Corrupt JPEG data: 99 extraneous bytes before marker 0xd9\n"
     ]
    },
    {
     "name": "stdout",
     "output_type": "stream",
     "text": [
      "218/290 [=====================>........] - ETA: 3s - loss: 0.1230 - accuracy: 0.9541"
     ]
    },
    {
     "name": "stderr",
     "output_type": "stream",
     "text": [
      "Warning: unknown JFIF revision number 0.00\n"
     ]
    },
    {
     "name": "stdout",
     "output_type": "stream",
     "text": [
      "224/290 [======================>.......] - ETA: 3s - loss: 0.1233 - accuracy: 0.9542"
     ]
    },
    {
     "name": "stderr",
     "output_type": "stream",
     "text": [
      "Corrupt JPEG data: 396 extraneous bytes before marker 0xd9\n"
     ]
    },
    {
     "name": "stdout",
     "output_type": "stream",
     "text": [
      "260/290 [=========================>....] - ETA: 1s - loss: 0.1201 - accuracy: 0.9549"
     ]
    },
    {
     "name": "stderr",
     "output_type": "stream",
     "text": [
      "Corrupt JPEG data: 65 extraneous bytes before marker 0xd9\n"
     ]
    },
    {
     "name": "stdout",
     "output_type": "stream",
     "text": [
      "289/290 [============================>.] - ETA: 0s - loss: 0.1213 - accuracy: 0.9549"
     ]
    },
    {
     "name": "stderr",
     "output_type": "stream",
     "text": [
      "Corrupt JPEG data: 162 extraneous bytes before marker 0xd9\n",
      "Corrupt JPEG data: 252 extraneous bytes before marker 0xd9\n",
      "Corrupt JPEG data: 214 extraneous bytes before marker 0xd9\n",
      "Corrupt JPEG data: 1403 extraneous bytes before marker 0xd9\n",
      "Corrupt JPEG data: 162 extraneous bytes before marker 0xd9\n",
      "Corrupt JPEG data: 252 extraneous bytes before marker 0xd9\n",
      "Corrupt JPEG data: 214 extraneous bytes before marker 0xd9\n",
      "Corrupt JPEG data: 1403 extraneous bytes before marker 0xd9\n",
      "Corrupt JPEG data: 162 extraneous bytes before marker 0xd9\n",
      "Corrupt JPEG data: 252 extraneous bytes before marker 0xd9\n",
      "Corrupt JPEG data: 214 extraneous bytes before marker 0xd9\n",
      "Corrupt JPEG data: 1403 extraneous bytes before marker 0xd9\n",
      "Corrupt JPEG data: 162 extraneous bytes before marker 0xd9\n",
      "Corrupt JPEG data: 252 extraneous bytes before marker 0xd9\n",
      "Corrupt JPEG data: 214 extraneous bytes before marker 0xd9\n",
      "Corrupt JPEG data: 1403 extraneous bytes before marker 0xd9\n"
     ]
    },
    {
     "name": "stdout",
     "output_type": "stream",
     "text": [
      "290/290 [==============================] - 17s 57ms/step - loss: 0.1213 - accuracy: 0.9548 - val_loss: 1.4015 - val_accuracy: 0.6884\n",
      "Epoch 14/15\n",
      " 73/290 [======>.......................] - ETA: 11s - loss: 0.1214 - accuracy: 0.9538"
     ]
    },
    {
     "name": "stderr",
     "output_type": "stream",
     "text": [
      "Corrupt JPEG data: 2226 extraneous bytes before marker 0xd9\n"
     ]
    },
    {
     "name": "stdout",
     "output_type": "stream",
     "text": [
      " 79/290 [=======>......................] - ETA: 10s - loss: 0.1216 - accuracy: 0.9537"
     ]
    },
    {
     "name": "stderr",
     "output_type": "stream",
     "text": [
      "Corrupt JPEG data: 128 extraneous bytes before marker 0xd9\n"
     ]
    },
    {
     "name": "stdout",
     "output_type": "stream",
     "text": [
      " 85/290 [=======>......................] - ETA: 10s - loss: 0.1256 - accuracy: 0.9522"
     ]
    },
    {
     "name": "stderr",
     "output_type": "stream",
     "text": [
      "Corrupt JPEG data: 239 extraneous bytes before marker 0xd9\n"
     ]
    },
    {
     "name": "stdout",
     "output_type": "stream",
     "text": [
      " 98/290 [=========>....................] - ETA: 10s - loss: 0.1187 - accuracy: 0.9549"
     ]
    },
    {
     "name": "stderr",
     "output_type": "stream",
     "text": [
      "Corrupt JPEG data: 1153 extraneous bytes before marker 0xd9\n",
      "Corrupt JPEG data: 228 extraneous bytes before marker 0xd9\n"
     ]
    },
    {
     "name": "stdout",
     "output_type": "stream",
     "text": [
      "204/290 [====================>.........] - ETA: 4s - loss: 0.1164 - accuracy: 0.9559"
     ]
    },
    {
     "name": "stderr",
     "output_type": "stream",
     "text": [
      "Corrupt JPEG data: 99 extraneous bytes before marker 0xd9\n"
     ]
    },
    {
     "name": "stdout",
     "output_type": "stream",
     "text": [
      "220/290 [=====================>........] - ETA: 3s - loss: 0.1157 - accuracy: 0.9561"
     ]
    },
    {
     "name": "stderr",
     "output_type": "stream",
     "text": [
      "Warning: unknown JFIF revision number 0.00\n"
     ]
    },
    {
     "name": "stdout",
     "output_type": "stream",
     "text": [
      "225/290 [======================>.......] - ETA: 3s - loss: 0.1170 - accuracy: 0.9556"
     ]
    },
    {
     "name": "stderr",
     "output_type": "stream",
     "text": [
      "Corrupt JPEG data: 396 extraneous bytes before marker 0xd9\n"
     ]
    },
    {
     "name": "stdout",
     "output_type": "stream",
     "text": [
      "262/290 [==========================>...] - ETA: 1s - loss: 0.1140 - accuracy: 0.9569"
     ]
    },
    {
     "name": "stderr",
     "output_type": "stream",
     "text": [
      "Corrupt JPEG data: 65 extraneous bytes before marker 0xd9\n"
     ]
    },
    {
     "name": "stdout",
     "output_type": "stream",
     "text": [
      "290/290 [==============================] - ETA: 0s - loss: 0.1127 - accuracy: 0.9579"
     ]
    },
    {
     "name": "stderr",
     "output_type": "stream",
     "text": [
      "Corrupt JPEG data: 162 extraneous bytes before marker 0xd9\n",
      "Corrupt JPEG data: 252 extraneous bytes before marker 0xd9\n",
      "Corrupt JPEG data: 214 extraneous bytes before marker 0xd9\n",
      "Corrupt JPEG data: 1403 extraneous bytes before marker 0xd9\n",
      "Corrupt JPEG data: 162 extraneous bytes before marker 0xd9\n",
      "Corrupt JPEG data: 252 extraneous bytes before marker 0xd9\n",
      "Corrupt JPEG data: 214 extraneous bytes before marker 0xd9\n",
      "Corrupt JPEG data: 1403 extraneous bytes before marker 0xd9\n",
      "Corrupt JPEG data: 162 extraneous bytes before marker 0xd9\n",
      "Corrupt JPEG data: 252 extraneous bytes before marker 0xd9\n",
      "Corrupt JPEG data: 214 extraneous bytes before marker 0xd9\n",
      "Corrupt JPEG data: 1403 extraneous bytes before marker 0xd9\n",
      "Corrupt JPEG data: 162 extraneous bytes before marker 0xd9\n",
      "Corrupt JPEG data: 252 extraneous bytes before marker 0xd9\n",
      "Corrupt JPEG data: 214 extraneous bytes before marker 0xd9\n",
      "Corrupt JPEG data: 1403 extraneous bytes before marker 0xd9\n"
     ]
    },
    {
     "name": "stdout",
     "output_type": "stream",
     "text": [
      "290/290 [==============================] - 18s 63ms/step - loss: 0.1127 - accuracy: 0.9579 - val_loss: 1.5741 - val_accuracy: 0.6763\n",
      "Epoch 15/15\n",
      " 73/290 [======>.......................] - ETA: 12s - loss: 0.1147 - accuracy: 0.9551"
     ]
    },
    {
     "name": "stderr",
     "output_type": "stream",
     "text": [
      "Corrupt JPEG data: 2226 extraneous bytes before marker 0xd9\n"
     ]
    },
    {
     "name": "stdout",
     "output_type": "stream",
     "text": [
      " 81/290 [=======>......................] - ETA: 11s - loss: 0.1194 - accuracy: 0.9534"
     ]
    },
    {
     "name": "stderr",
     "output_type": "stream",
     "text": [
      "Corrupt JPEG data: 128 extraneous bytes before marker 0xd9\n"
     ]
    },
    {
     "name": "stdout",
     "output_type": "stream",
     "text": [
      " 87/290 [========>.....................] - ETA: 11s - loss: 0.1187 - accuracy: 0.9537"
     ]
    },
    {
     "name": "stderr",
     "output_type": "stream",
     "text": [
      "Corrupt JPEG data: 239 extraneous bytes before marker 0xd9\n"
     ]
    },
    {
     "name": "stdout",
     "output_type": "stream",
     "text": [
      "100/290 [=========>....................] - ETA: 10s - loss: 0.1200 - accuracy: 0.9538"
     ]
    },
    {
     "name": "stderr",
     "output_type": "stream",
     "text": [
      "Corrupt JPEG data: 1153 extraneous bytes before marker 0xd9\n",
      "Corrupt JPEG data: 228 extraneous bytes before marker 0xd9\n"
     ]
    },
    {
     "name": "stdout",
     "output_type": "stream",
     "text": [
      "203/290 [====================>.........] - ETA: 4s - loss: 0.1068 - accuracy: 0.9591"
     ]
    },
    {
     "name": "stderr",
     "output_type": "stream",
     "text": [
      "Corrupt JPEG data: 99 extraneous bytes before marker 0xd9\n"
     ]
    },
    {
     "name": "stdout",
     "output_type": "stream",
     "text": [
      "219/290 [=====================>........] - ETA: 3s - loss: 0.1067 - accuracy: 0.9591"
     ]
    },
    {
     "name": "stderr",
     "output_type": "stream",
     "text": [
      "Warning: unknown JFIF revision number 0.00\n"
     ]
    },
    {
     "name": "stdout",
     "output_type": "stream",
     "text": [
      "225/290 [======================>.......] - ETA: 3s - loss: 0.1061 - accuracy: 0.9592"
     ]
    },
    {
     "name": "stderr",
     "output_type": "stream",
     "text": [
      "Corrupt JPEG data: 396 extraneous bytes before marker 0xd9\n"
     ]
    },
    {
     "name": "stdout",
     "output_type": "stream",
     "text": [
      "262/290 [==========================>...] - ETA: 1s - loss: 0.1082 - accuracy: 0.9583"
     ]
    },
    {
     "name": "stderr",
     "output_type": "stream",
     "text": [
      "Corrupt JPEG data: 65 extraneous bytes before marker 0xd9\n"
     ]
    },
    {
     "name": "stdout",
     "output_type": "stream",
     "text": [
      "290/290 [==============================] - ETA: 0s - loss: 0.1073 - accuracy: 0.9584"
     ]
    },
    {
     "name": "stderr",
     "output_type": "stream",
     "text": [
      "Corrupt JPEG data: 162 extraneous bytes before marker 0xd9\n",
      "Corrupt JPEG data: 252 extraneous bytes before marker 0xd9\n",
      "Corrupt JPEG data: 214 extraneous bytes before marker 0xd9\n",
      "Corrupt JPEG data: 1403 extraneous bytes before marker 0xd9\n",
      "Corrupt JPEG data: 162 extraneous bytes before marker 0xd9\n",
      "Corrupt JPEG data: 252 extraneous bytes before marker 0xd9\n",
      "Corrupt JPEG data: 214 extraneous bytes before marker 0xd9\n",
      "Corrupt JPEG data: 1403 extraneous bytes before marker 0xd9\n",
      "Corrupt JPEG data: 162 extraneous bytes before marker 0xd9\n",
      "Corrupt JPEG data: 252 extraneous bytes before marker 0xd9\n",
      "Corrupt JPEG data: 214 extraneous bytes before marker 0xd9\n",
      "Corrupt JPEG data: 1403 extraneous bytes before marker 0xd9\n",
      "Corrupt JPEG data: 162 extraneous bytes before marker 0xd9\n",
      "Corrupt JPEG data: 252 extraneous bytes before marker 0xd9\n",
      "Corrupt JPEG data: 214 extraneous bytes before marker 0xd9\n",
      "Corrupt JPEG data: 1403 extraneous bytes before marker 0xd9\n"
     ]
    },
    {
     "name": "stdout",
     "output_type": "stream",
     "text": [
      "290/290 [==============================] - 18s 62ms/step - loss: 0.1073 - accuracy: 0.9584 - val_loss: 1.5170 - val_accuracy: 0.6832\n"
     ]
    }
   ],
   "source": [
    "resnet_34_res.compile(\n",
    "    loss='sparse_categorical_crossentropy',\n",
    "    optimizer=tf.keras.optimizers.SGD(lr=0.01, clipnorm=1.),\n",
    "    metrics=['accuracy'],\n",
    ")\n",
    "\n",
    "history_34_res = resnet_34_res.fit(\n",
    "    ds_train,\n",
    "    steps_per_epoch=int(ds_info.splits['train'].num_examples/BATCH_SIZE*0.8),\n",
    "    validation_steps=int(ds_info.splits['train'].num_examples/BATCH_SIZE*0.2),\n",
    "    epochs=EPOCH,\n",
    "    validation_data=ds_test,\n",
    "    verbose=1,\n",
    "    use_multiprocessing=True,\n",
    ")"
   ]
  },
  {
   "cell_type": "code",
   "execution_count": 57,
   "metadata": {},
   "outputs": [
    {
     "name": "stderr",
     "output_type": "stream",
     "text": [
      "WARNING:absl:`lr` is deprecated in Keras optimizer, please use `learning_rate` or use the legacy optimizer, e.g.,tf.keras.optimizers.legacy.SGD.\n"
     ]
    },
    {
     "name": "stdout",
     "output_type": "stream",
     "text": [
      "Epoch 1/15\n"
     ]
    },
    {
     "name": "stderr",
     "output_type": "stream",
     "text": [
      "Corrupt JPEG data: 99 extraneous bytes before marker 0xd9\n",
      "Warning: unknown JFIF revision number 0.00\n",
      "Corrupt JPEG data: 396 extraneous bytes before marker 0xd9\n",
      "Corrupt JPEG data: 65 extraneous bytes before marker 0xd9\n"
     ]
    },
    {
     "name": "stdout",
     "output_type": "stream",
     "text": [
      " 59/290 [=====>........................] - ETA: 12s - loss: 1.8885 - accuracy: 0.5098"
     ]
    },
    {
     "name": "stderr",
     "output_type": "stream",
     "text": [
      "Corrupt JPEG data: 2226 extraneous bytes before marker 0xd9\n"
     ]
    },
    {
     "name": "stdout",
     "output_type": "stream",
     "text": [
      " 65/290 [=====>........................] - ETA: 11s - loss: 1.8488 - accuracy: 0.5123"
     ]
    },
    {
     "name": "stderr",
     "output_type": "stream",
     "text": [
      "Corrupt JPEG data: 128 extraneous bytes before marker 0xd9\n"
     ]
    },
    {
     "name": "stdout",
     "output_type": "stream",
     "text": [
      " 70/290 [======>.......................] - ETA: 11s - loss: 1.8131 - accuracy: 0.5165"
     ]
    },
    {
     "name": "stderr",
     "output_type": "stream",
     "text": [
      "Corrupt JPEG data: 239 extraneous bytes before marker 0xd9\n"
     ]
    },
    {
     "name": "stdout",
     "output_type": "stream",
     "text": [
      " 85/290 [=======>......................] - ETA: 10s - loss: 1.7312 - accuracy: 0.5243"
     ]
    },
    {
     "name": "stderr",
     "output_type": "stream",
     "text": [
      "Corrupt JPEG data: 1153 extraneous bytes before marker 0xd9\n",
      "Corrupt JPEG data: 228 extraneous bytes before marker 0xd9\n"
     ]
    },
    {
     "name": "stdout",
     "output_type": "stream",
     "text": [
      "191/290 [==================>...........] - ETA: 5s - loss: 1.4757 - accuracy: 0.5486"
     ]
    },
    {
     "name": "stderr",
     "output_type": "stream",
     "text": [
      "Corrupt JPEG data: 99 extraneous bytes before marker 0xd9\n"
     ]
    },
    {
     "name": "stdout",
     "output_type": "stream",
     "text": [
      "208/290 [====================>.........] - ETA: 4s - loss: 1.4422 - accuracy: 0.5533"
     ]
    },
    {
     "name": "stderr",
     "output_type": "stream",
     "text": [
      "Warning: unknown JFIF revision number 0.00\n",
      "Corrupt JPEG data: 396 extraneous bytes before marker 0xd9\n"
     ]
    },
    {
     "name": "stdout",
     "output_type": "stream",
     "text": [
      "248/290 [========================>.....] - ETA: 2s - loss: 1.4029 - accuracy: 0.5557"
     ]
    },
    {
     "name": "stderr",
     "output_type": "stream",
     "text": [
      "Corrupt JPEG data: 65 extraneous bytes before marker 0xd9\n"
     ]
    },
    {
     "name": "stdout",
     "output_type": "stream",
     "text": [
      "290/290 [==============================] - ETA: 0s - loss: 1.3690 - accuracy: 0.5591"
     ]
    },
    {
     "name": "stderr",
     "output_type": "stream",
     "text": [
      "Corrupt JPEG data: 162 extraneous bytes before marker 0xd9\n",
      "Corrupt JPEG data: 252 extraneous bytes before marker 0xd9\n",
      "Corrupt JPEG data: 214 extraneous bytes before marker 0xd9\n",
      "Corrupt JPEG data: 1403 extraneous bytes before marker 0xd9\n",
      "Corrupt JPEG data: 162 extraneous bytes before marker 0xd9\n",
      "Corrupt JPEG data: 252 extraneous bytes before marker 0xd9\n",
      "Corrupt JPEG data: 214 extraneous bytes before marker 0xd9\n",
      "Corrupt JPEG data: 1403 extraneous bytes before marker 0xd9\n",
      "Corrupt JPEG data: 162 extraneous bytes before marker 0xd9\n",
      "Corrupt JPEG data: 252 extraneous bytes before marker 0xd9\n",
      "Corrupt JPEG data: 214 extraneous bytes before marker 0xd9\n",
      "Corrupt JPEG data: 1403 extraneous bytes before marker 0xd9\n",
      "Corrupt JPEG data: 162 extraneous bytes before marker 0xd9\n",
      "Corrupt JPEG data: 252 extraneous bytes before marker 0xd9\n",
      "Corrupt JPEG data: 214 extraneous bytes before marker 0xd9\n",
      "Corrupt JPEG data: 1403 extraneous bytes before marker 0xd9\n"
     ]
    },
    {
     "name": "stdout",
     "output_type": "stream",
     "text": [
      "290/290 [==============================] - 26s 63ms/step - loss: 1.3690 - accuracy: 0.5591 - val_loss: 0.7614 - val_accuracy: 0.5234\n",
      "Epoch 2/15\n",
      " 62/290 [=====>........................] - ETA: 12s - loss: 1.0817 - accuracy: 0.5794"
     ]
    },
    {
     "name": "stderr",
     "output_type": "stream",
     "text": [
      "Corrupt JPEG data: 2226 extraneous bytes before marker 0xd9\n"
     ]
    },
    {
     "name": "stdout",
     "output_type": "stream",
     "text": [
      " 67/290 [=====>........................] - ETA: 12s - loss: 1.0928 - accuracy: 0.5765"
     ]
    },
    {
     "name": "stderr",
     "output_type": "stream",
     "text": [
      "Corrupt JPEG data: 128 extraneous bytes before marker 0xd9\n"
     ]
    },
    {
     "name": "stdout",
     "output_type": "stream",
     "text": [
      " 73/290 [======>.......................] - ETA: 11s - loss: 1.0937 - accuracy: 0.5813"
     ]
    },
    {
     "name": "stderr",
     "output_type": "stream",
     "text": [
      "Corrupt JPEG data: 239 extraneous bytes before marker 0xd9\n"
     ]
    },
    {
     "name": "stdout",
     "output_type": "stream",
     "text": [
      " 86/290 [=======>......................] - ETA: 11s - loss: 1.0892 - accuracy: 0.5799"
     ]
    },
    {
     "name": "stderr",
     "output_type": "stream",
     "text": [
      "Corrupt JPEG data: 1153 extraneous bytes before marker 0xd9\n",
      "Corrupt JPEG data: 228 extraneous bytes before marker 0xd9\n"
     ]
    },
    {
     "name": "stdout",
     "output_type": "stream",
     "text": [
      "191/290 [==================>...........] - ETA: 5s - loss: 1.0430 - accuracy: 0.5933"
     ]
    },
    {
     "name": "stderr",
     "output_type": "stream",
     "text": [
      "Corrupt JPEG data: 99 extraneous bytes before marker 0xd9\n"
     ]
    },
    {
     "name": "stdout",
     "output_type": "stream",
     "text": [
      "209/290 [====================>.........] - ETA: 4s - loss: 1.0360 - accuracy: 0.5929"
     ]
    },
    {
     "name": "stderr",
     "output_type": "stream",
     "text": [
      "Warning: unknown JFIF revision number 0.00\n",
      "Corrupt JPEG data: 396 extraneous bytes before marker 0xd9\n"
     ]
    },
    {
     "name": "stdout",
     "output_type": "stream",
     "text": [
      "249/290 [========================>.....] - ETA: 2s - loss: 1.0170 - accuracy: 0.5972"
     ]
    },
    {
     "name": "stderr",
     "output_type": "stream",
     "text": [
      "Corrupt JPEG data: 65 extraneous bytes before marker 0xd9\n"
     ]
    },
    {
     "name": "stdout",
     "output_type": "stream",
     "text": [
      "290/290 [==============================] - ETA: 0s - loss: 0.9899 - accuracy: 0.6040"
     ]
    },
    {
     "name": "stderr",
     "output_type": "stream",
     "text": [
      "Corrupt JPEG data: 162 extraneous bytes before marker 0xd9\n",
      "Corrupt JPEG data: 252 extraneous bytes before marker 0xd9\n",
      "Corrupt JPEG data: 214 extraneous bytes before marker 0xd9\n",
      "Corrupt JPEG data: 1403 extraneous bytes before marker 0xd9\n",
      "Corrupt JPEG data: 162 extraneous bytes before marker 0xd9\n",
      "Corrupt JPEG data: 252 extraneous bytes before marker 0xd9\n",
      "Corrupt JPEG data: 214 extraneous bytes before marker 0xd9\n",
      "Corrupt JPEG data: 1403 extraneous bytes before marker 0xd9\n",
      "Corrupt JPEG data: 162 extraneous bytes before marker 0xd9\n",
      "Corrupt JPEG data: 252 extraneous bytes before marker 0xd9\n",
      "Corrupt JPEG data: 214 extraneous bytes before marker 0xd9\n",
      "Corrupt JPEG data: 1403 extraneous bytes before marker 0xd9\n",
      "Corrupt JPEG data: 162 extraneous bytes before marker 0xd9\n",
      "Corrupt JPEG data: 252 extraneous bytes before marker 0xd9\n",
      "Corrupt JPEG data: 214 extraneous bytes before marker 0xd9\n",
      "Corrupt JPEG data: 1403 extraneous bytes before marker 0xd9\n"
     ]
    },
    {
     "name": "stdout",
     "output_type": "stream",
     "text": [
      "290/290 [==============================] - 18s 63ms/step - loss: 0.9899 - accuracy: 0.6040 - val_loss: 0.7098 - val_accuracy: 0.6421\n",
      "Epoch 3/15\n",
      " 63/290 [=====>........................] - ETA: 11s - loss: 0.8749 - accuracy: 0.6399"
     ]
    },
    {
     "name": "stderr",
     "output_type": "stream",
     "text": [
      "Corrupt JPEG data: 2226 extraneous bytes before marker 0xd9\n"
     ]
    },
    {
     "name": "stdout",
     "output_type": "stream",
     "text": [
      " 68/290 [======>.......................] - ETA: 11s - loss: 0.8773 - accuracy: 0.6392"
     ]
    },
    {
     "name": "stderr",
     "output_type": "stream",
     "text": [
      "Corrupt JPEG data: 128 extraneous bytes before marker 0xd9\n"
     ]
    },
    {
     "name": "stdout",
     "output_type": "stream",
     "text": [
      " 73/290 [======>.......................] - ETA: 10s - loss: 0.8721 - accuracy: 0.6415"
     ]
    },
    {
     "name": "stderr",
     "output_type": "stream",
     "text": [
      "Corrupt JPEG data: 239 extraneous bytes before marker 0xd9\n"
     ]
    },
    {
     "name": "stdout",
     "output_type": "stream",
     "text": [
      " 86/290 [=======>......................] - ETA: 10s - loss: 0.8624 - accuracy: 0.6450"
     ]
    },
    {
     "name": "stderr",
     "output_type": "stream",
     "text": [
      "Corrupt JPEG data: 1153 extraneous bytes before marker 0xd9\n",
      "Corrupt JPEG data: 228 extraneous bytes before marker 0xd9\n"
     ]
    },
    {
     "name": "stdout",
     "output_type": "stream",
     "text": [
      "193/290 [==================>...........] - ETA: 5s - loss: 0.8352 - accuracy: 0.6466"
     ]
    },
    {
     "name": "stderr",
     "output_type": "stream",
     "text": [
      "Corrupt JPEG data: 99 extraneous bytes before marker 0xd9\n"
     ]
    },
    {
     "name": "stdout",
     "output_type": "stream",
     "text": [
      "209/290 [====================>.........] - ETA: 4s - loss: 0.8298 - accuracy: 0.6482"
     ]
    },
    {
     "name": "stderr",
     "output_type": "stream",
     "text": [
      "Warning: unknown JFIF revision number 0.00\n"
     ]
    },
    {
     "name": "stdout",
     "output_type": "stream",
     "text": [
      "213/290 [=====================>........] - ETA: 4s - loss: 0.8277 - accuracy: 0.6483"
     ]
    },
    {
     "name": "stderr",
     "output_type": "stream",
     "text": [
      "Corrupt JPEG data: 396 extraneous bytes before marker 0xd9\n"
     ]
    },
    {
     "name": "stdout",
     "output_type": "stream",
     "text": [
      "251/290 [========================>.....] - ETA: 2s - loss: 0.8201 - accuracy: 0.6503"
     ]
    },
    {
     "name": "stderr",
     "output_type": "stream",
     "text": [
      "Corrupt JPEG data: 65 extraneous bytes before marker 0xd9\n"
     ]
    },
    {
     "name": "stdout",
     "output_type": "stream",
     "text": [
      "290/290 [==============================] - ETA: 0s - loss: 0.8043 - accuracy: 0.6550"
     ]
    },
    {
     "name": "stderr",
     "output_type": "stream",
     "text": [
      "Corrupt JPEG data: 162 extraneous bytes before marker 0xd9\n",
      "Corrupt JPEG data: 252 extraneous bytes before marker 0xd9\n",
      "Corrupt JPEG data: 214 extraneous bytes before marker 0xd9\n",
      "Corrupt JPEG data: 1403 extraneous bytes before marker 0xd9\n",
      "Corrupt JPEG data: 162 extraneous bytes before marker 0xd9\n",
      "Corrupt JPEG data: 252 extraneous bytes before marker 0xd9\n",
      "Corrupt JPEG data: 214 extraneous bytes before marker 0xd9\n",
      "Corrupt JPEG data: 1403 extraneous bytes before marker 0xd9\n",
      "Corrupt JPEG data: 162 extraneous bytes before marker 0xd9\n",
      "Corrupt JPEG data: 252 extraneous bytes before marker 0xd9\n",
      "Corrupt JPEG data: 214 extraneous bytes before marker 0xd9\n",
      "Corrupt JPEG data: 1403 extraneous bytes before marker 0xd9\n",
      "Corrupt JPEG data: 162 extraneous bytes before marker 0xd9\n",
      "Corrupt JPEG data: 252 extraneous bytes before marker 0xd9\n",
      "Corrupt JPEG data: 214 extraneous bytes before marker 0xd9\n",
      "Corrupt JPEG data: 1403 extraneous bytes before marker 0xd9\n"
     ]
    },
    {
     "name": "stdout",
     "output_type": "stream",
     "text": [
      "290/290 [==============================] - 18s 63ms/step - loss: 0.8043 - accuracy: 0.6550 - val_loss: 0.8840 - val_accuracy: 0.6254\n",
      "Epoch 4/15\n",
      " 63/290 [=====>........................] - ETA: 11s - loss: 0.7252 - accuracy: 0.6860"
     ]
    },
    {
     "name": "stderr",
     "output_type": "stream",
     "text": [
      "Corrupt JPEG data: 2226 extraneous bytes before marker 0xd9\n"
     ]
    },
    {
     "name": "stdout",
     "output_type": "stream",
     "text": [
      " 69/290 [======>.......................] - ETA: 11s - loss: 0.7208 - accuracy: 0.6839"
     ]
    },
    {
     "name": "stderr",
     "output_type": "stream",
     "text": [
      "Corrupt JPEG data: 128 extraneous bytes before marker 0xd9\n"
     ]
    },
    {
     "name": "stdout",
     "output_type": "stream",
     "text": [
      " 76/290 [======>.......................] - ETA: 10s - loss: 0.7148 - accuracy: 0.6859"
     ]
    },
    {
     "name": "stderr",
     "output_type": "stream",
     "text": [
      "Corrupt JPEG data: 239 extraneous bytes before marker 0xd9\n"
     ]
    },
    {
     "name": "stdout",
     "output_type": "stream",
     "text": [
      " 89/290 [========>.....................] - ETA: 10s - loss: 0.7147 - accuracy: 0.6826"
     ]
    },
    {
     "name": "stderr",
     "output_type": "stream",
     "text": [
      "Corrupt JPEG data: 1153 extraneous bytes before marker 0xd9\n",
      "Corrupt JPEG data: 228 extraneous bytes before marker 0xd9\n"
     ]
    },
    {
     "name": "stdout",
     "output_type": "stream",
     "text": [
      "193/290 [==================>...........] - ETA: 5s - loss: 0.7005 - accuracy: 0.6891"
     ]
    },
    {
     "name": "stderr",
     "output_type": "stream",
     "text": [
      "Corrupt JPEG data: 99 extraneous bytes before marker 0xd9\n"
     ]
    },
    {
     "name": "stdout",
     "output_type": "stream",
     "text": [
      "210/290 [====================>.........] - ETA: 4s - loss: 0.6912 - accuracy: 0.6925"
     ]
    },
    {
     "name": "stderr",
     "output_type": "stream",
     "text": [
      "Warning: unknown JFIF revision number 0.00\n"
     ]
    },
    {
     "name": "stdout",
     "output_type": "stream",
     "text": [
      "213/290 [=====================>........] - ETA: 4s - loss: 0.6904 - accuracy: 0.6931"
     ]
    },
    {
     "name": "stderr",
     "output_type": "stream",
     "text": [
      "Corrupt JPEG data: 396 extraneous bytes before marker 0xd9\n"
     ]
    },
    {
     "name": "stdout",
     "output_type": "stream",
     "text": [
      "251/290 [========================>.....] - ETA: 2s - loss: 0.6876 - accuracy: 0.6943"
     ]
    },
    {
     "name": "stderr",
     "output_type": "stream",
     "text": [
      "Corrupt JPEG data: 65 extraneous bytes before marker 0xd9\n"
     ]
    },
    {
     "name": "stdout",
     "output_type": "stream",
     "text": [
      "290/290 [==============================] - ETA: 0s - loss: 0.6809 - accuracy: 0.6972"
     ]
    },
    {
     "name": "stderr",
     "output_type": "stream",
     "text": [
      "Corrupt JPEG data: 162 extraneous bytes before marker 0xd9\n",
      "Corrupt JPEG data: 252 extraneous bytes before marker 0xd9\n",
      "Corrupt JPEG data: 214 extraneous bytes before marker 0xd9\n",
      "Corrupt JPEG data: 1403 extraneous bytes before marker 0xd9\n",
      "Corrupt JPEG data: 162 extraneous bytes before marker 0xd9\n",
      "Corrupt JPEG data: 252 extraneous bytes before marker 0xd9\n",
      "Corrupt JPEG data: 214 extraneous bytes before marker 0xd9\n",
      "Corrupt JPEG data: 1403 extraneous bytes before marker 0xd9\n",
      "Corrupt JPEG data: 162 extraneous bytes before marker 0xd9\n",
      "Corrupt JPEG data: 252 extraneous bytes before marker 0xd9\n",
      "Corrupt JPEG data: 214 extraneous bytes before marker 0xd9\n",
      "Corrupt JPEG data: 1403 extraneous bytes before marker 0xd9\n",
      "Corrupt JPEG data: 162 extraneous bytes before marker 0xd9\n",
      "Corrupt JPEG data: 252 extraneous bytes before marker 0xd9\n",
      "Corrupt JPEG data: 214 extraneous bytes before marker 0xd9\n",
      "Corrupt JPEG data: 1403 extraneous bytes before marker 0xd9\n"
     ]
    },
    {
     "name": "stdout",
     "output_type": "stream",
     "text": [
      "290/290 [==============================] - 18s 61ms/step - loss: 0.6809 - accuracy: 0.6972 - val_loss: 0.7605 - val_accuracy: 0.6606\n",
      "Epoch 5/15\n",
      " 65/290 [=====>........................] - ETA: 11s - loss: 0.6166 - accuracy: 0.7217"
     ]
    },
    {
     "name": "stderr",
     "output_type": "stream",
     "text": [
      "Corrupt JPEG data: 2226 extraneous bytes before marker 0xd9\n"
     ]
    },
    {
     "name": "stdout",
     "output_type": "stream",
     "text": [
      " 71/290 [======>.......................] - ETA: 11s - loss: 0.6172 - accuracy: 0.7201"
     ]
    },
    {
     "name": "stderr",
     "output_type": "stream",
     "text": [
      "Corrupt JPEG data: 128 extraneous bytes before marker 0xd9\n"
     ]
    },
    {
     "name": "stdout",
     "output_type": "stream",
     "text": [
      " 77/290 [======>.......................] - ETA: 10s - loss: 0.6151 - accuracy: 0.7232"
     ]
    },
    {
     "name": "stderr",
     "output_type": "stream",
     "text": [
      "Corrupt JPEG data: 239 extraneous bytes before marker 0xd9\n"
     ]
    },
    {
     "name": "stdout",
     "output_type": "stream",
     "text": [
      " 90/290 [========>.....................] - ETA: 10s - loss: 0.6150 - accuracy: 0.7238"
     ]
    },
    {
     "name": "stderr",
     "output_type": "stream",
     "text": [
      "Corrupt JPEG data: 1153 extraneous bytes before marker 0xd9\n",
      "Corrupt JPEG data: 228 extraneous bytes before marker 0xd9\n"
     ]
    },
    {
     "name": "stdout",
     "output_type": "stream",
     "text": [
      "195/290 [===================>..........] - ETA: 4s - loss: 0.5885 - accuracy: 0.7382"
     ]
    },
    {
     "name": "stderr",
     "output_type": "stream",
     "text": [
      "Corrupt JPEG data: 99 extraneous bytes before marker 0xd9\n"
     ]
    },
    {
     "name": "stdout",
     "output_type": "stream",
     "text": [
      "211/290 [====================>.........] - ETA: 4s - loss: 0.5802 - accuracy: 0.7428"
     ]
    },
    {
     "name": "stderr",
     "output_type": "stream",
     "text": [
      "Warning: unknown JFIF revision number 0.00\n"
     ]
    },
    {
     "name": "stdout",
     "output_type": "stream",
     "text": [
      "215/290 [=====================>........] - ETA: 3s - loss: 0.5787 - accuracy: 0.7437"
     ]
    },
    {
     "name": "stderr",
     "output_type": "stream",
     "text": [
      "Corrupt JPEG data: 396 extraneous bytes before marker 0xd9\n"
     ]
    },
    {
     "name": "stdout",
     "output_type": "stream",
     "text": [
      "251/290 [========================>.....] - ETA: 2s - loss: 0.5719 - accuracy: 0.7465"
     ]
    },
    {
     "name": "stderr",
     "output_type": "stream",
     "text": [
      "Corrupt JPEG data: 65 extraneous bytes before marker 0xd9\n"
     ]
    },
    {
     "name": "stdout",
     "output_type": "stream",
     "text": [
      "290/290 [==============================] - ETA: 0s - loss: 0.5703 - accuracy: 0.7473"
     ]
    },
    {
     "name": "stderr",
     "output_type": "stream",
     "text": [
      "Corrupt JPEG data: 162 extraneous bytes before marker 0xd9\n",
      "Corrupt JPEG data: 252 extraneous bytes before marker 0xd9\n",
      "Corrupt JPEG data: 214 extraneous bytes before marker 0xd9\n",
      "Corrupt JPEG data: 1403 extraneous bytes before marker 0xd9\n",
      "Corrupt JPEG data: 162 extraneous bytes before marker 0xd9\n",
      "Corrupt JPEG data: 252 extraneous bytes before marker 0xd9\n",
      "Corrupt JPEG data: 214 extraneous bytes before marker 0xd9\n",
      "Corrupt JPEG data: 1403 extraneous bytes before marker 0xd9\n",
      "Corrupt JPEG data: 162 extraneous bytes before marker 0xd9\n",
      "Corrupt JPEG data: 252 extraneous bytes before marker 0xd9\n",
      "Corrupt JPEG data: 214 extraneous bytes before marker 0xd9\n",
      "Corrupt JPEG data: 1403 extraneous bytes before marker 0xd9\n",
      "Corrupt JPEG data: 162 extraneous bytes before marker 0xd9\n",
      "Corrupt JPEG data: 252 extraneous bytes before marker 0xd9\n",
      "Corrupt JPEG data: 214 extraneous bytes before marker 0xd9\n",
      "Corrupt JPEG data: 1403 extraneous bytes before marker 0xd9\n"
     ]
    },
    {
     "name": "stdout",
     "output_type": "stream",
     "text": [
      "290/290 [==============================] - 17s 60ms/step - loss: 0.5703 - accuracy: 0.7473 - val_loss: 0.7408 - val_accuracy: 0.6730\n",
      "Epoch 6/15\n",
      " 66/290 [=====>........................] - ETA: 11s - loss: 0.5486 - accuracy: 0.7563"
     ]
    },
    {
     "name": "stderr",
     "output_type": "stream",
     "text": [
      "Corrupt JPEG data: 2226 extraneous bytes before marker 0xd9\n"
     ]
    },
    {
     "name": "stdout",
     "output_type": "stream",
     "text": [
      " 72/290 [======>.......................] - ETA: 11s - loss: 0.5476 - accuracy: 0.7540"
     ]
    },
    {
     "name": "stderr",
     "output_type": "stream",
     "text": [
      "Corrupt JPEG data: 128 extraneous bytes before marker 0xd9\n"
     ]
    },
    {
     "name": "stdout",
     "output_type": "stream",
     "text": [
      " 79/290 [=======>......................] - ETA: 10s - loss: 0.5449 - accuracy: 0.7557"
     ]
    },
    {
     "name": "stderr",
     "output_type": "stream",
     "text": [
      "Corrupt JPEG data: 239 extraneous bytes before marker 0xd9\n"
     ]
    },
    {
     "name": "stdout",
     "output_type": "stream",
     "text": [
      " 90/290 [========>.....................] - ETA: 10s - loss: 0.5296 - accuracy: 0.7631"
     ]
    },
    {
     "name": "stderr",
     "output_type": "stream",
     "text": [
      "Corrupt JPEG data: 1153 extraneous bytes before marker 0xd9\n",
      "Corrupt JPEG data: 228 extraneous bytes before marker 0xd9\n"
     ]
    },
    {
     "name": "stdout",
     "output_type": "stream",
     "text": [
      "195/290 [===================>..........] - ETA: 4s - loss: 0.5080 - accuracy: 0.7727"
     ]
    },
    {
     "name": "stderr",
     "output_type": "stream",
     "text": [
      "Corrupt JPEG data: 99 extraneous bytes before marker 0xd9\n"
     ]
    },
    {
     "name": "stdout",
     "output_type": "stream",
     "text": [
      "208/290 [====================>.........] - ETA: 4s - loss: 0.5074 - accuracy: 0.7731"
     ]
    },
    {
     "name": "stderr",
     "output_type": "stream",
     "text": [
      "Warning: unknown JFIF revision number 0.00\n"
     ]
    },
    {
     "name": "stdout",
     "output_type": "stream",
     "text": [
      "216/290 [=====================>........] - ETA: 3s - loss: 0.5025 - accuracy: 0.7749"
     ]
    },
    {
     "name": "stderr",
     "output_type": "stream",
     "text": [
      "Corrupt JPEG data: 396 extraneous bytes before marker 0xd9\n"
     ]
    },
    {
     "name": "stdout",
     "output_type": "stream",
     "text": [
      "253/290 [=========================>....] - ETA: 1s - loss: 0.4939 - accuracy: 0.7775"
     ]
    },
    {
     "name": "stderr",
     "output_type": "stream",
     "text": [
      "Corrupt JPEG data: 65 extraneous bytes before marker 0xd9\n"
     ]
    },
    {
     "name": "stdout",
     "output_type": "stream",
     "text": [
      "290/290 [==============================] - ETA: 0s - loss: 0.4857 - accuracy: 0.7802"
     ]
    },
    {
     "name": "stderr",
     "output_type": "stream",
     "text": [
      "Corrupt JPEG data: 162 extraneous bytes before marker 0xd9\n",
      "Corrupt JPEG data: 252 extraneous bytes before marker 0xd9\n",
      "Corrupt JPEG data: 214 extraneous bytes before marker 0xd9\n",
      "Corrupt JPEG data: 1403 extraneous bytes before marker 0xd9\n",
      "Corrupt JPEG data: 162 extraneous bytes before marker 0xd9\n",
      "Corrupt JPEG data: 252 extraneous bytes before marker 0xd9\n",
      "Corrupt JPEG data: 214 extraneous bytes before marker 0xd9\n",
      "Corrupt JPEG data: 1403 extraneous bytes before marker 0xd9\n",
      "Corrupt JPEG data: 162 extraneous bytes before marker 0xd9\n",
      "Corrupt JPEG data: 252 extraneous bytes before marker 0xd9\n",
      "Corrupt JPEG data: 214 extraneous bytes before marker 0xd9\n",
      "Corrupt JPEG data: 1403 extraneous bytes before marker 0xd9\n",
      "Corrupt JPEG data: 162 extraneous bytes before marker 0xd9\n",
      "Corrupt JPEG data: 252 extraneous bytes before marker 0xd9\n",
      "Corrupt JPEG data: 214 extraneous bytes before marker 0xd9\n",
      "Corrupt JPEG data: 1403 extraneous bytes before marker 0xd9\n"
     ]
    },
    {
     "name": "stdout",
     "output_type": "stream",
     "text": [
      "290/290 [==============================] - 17s 59ms/step - loss: 0.4857 - accuracy: 0.7802 - val_loss: 0.7388 - val_accuracy: 0.6811\n",
      "Epoch 7/15\n",
      " 67/290 [=====>........................] - ETA: 11s - loss: 0.4426 - accuracy: 0.8095"
     ]
    },
    {
     "name": "stderr",
     "output_type": "stream",
     "text": [
      "Corrupt JPEG data: 2226 extraneous bytes before marker 0xd9\n"
     ]
    },
    {
     "name": "stdout",
     "output_type": "stream",
     "text": [
      " 71/290 [======>.......................] - ETA: 10s - loss: 0.4410 - accuracy: 0.8096"
     ]
    },
    {
     "name": "stderr",
     "output_type": "stream",
     "text": [
      "Corrupt JPEG data: 128 extraneous bytes before marker 0xd9\n"
     ]
    },
    {
     "name": "stdout",
     "output_type": "stream",
     "text": [
      " 77/290 [======>.......................] - ETA: 10s - loss: 0.4416 - accuracy: 0.8091"
     ]
    },
    {
     "name": "stderr",
     "output_type": "stream",
     "text": [
      "Corrupt JPEG data: 239 extraneous bytes before marker 0xd9\n"
     ]
    },
    {
     "name": "stdout",
     "output_type": "stream",
     "text": [
      " 92/290 [========>.....................] - ETA: 9s - loss: 0.4405 - accuracy: 0.8083 "
     ]
    },
    {
     "name": "stderr",
     "output_type": "stream",
     "text": [
      "Corrupt JPEG data: 1153 extraneous bytes before marker 0xd9\n",
      "Corrupt JPEG data: 228 extraneous bytes before marker 0xd9\n"
     ]
    },
    {
     "name": "stdout",
     "output_type": "stream",
     "text": [
      "197/290 [===================>..........] - ETA: 4s - loss: 0.4234 - accuracy: 0.8166"
     ]
    },
    {
     "name": "stderr",
     "output_type": "stream",
     "text": [
      "Corrupt JPEG data: 99 extraneous bytes before marker 0xd9\n"
     ]
    },
    {
     "name": "stdout",
     "output_type": "stream",
     "text": [
      "212/290 [====================>.........] - ETA: 3s - loss: 0.4190 - accuracy: 0.8177"
     ]
    },
    {
     "name": "stderr",
     "output_type": "stream",
     "text": [
      "Warning: unknown JFIF revision number 0.00\n",
      "Corrupt JPEG data: 396 extraneous bytes before marker 0xd9\n"
     ]
    },
    {
     "name": "stdout",
     "output_type": "stream",
     "text": [
      "253/290 [=========================>....] - ETA: 1s - loss: 0.4193 - accuracy: 0.8194"
     ]
    },
    {
     "name": "stderr",
     "output_type": "stream",
     "text": [
      "Corrupt JPEG data: 65 extraneous bytes before marker 0xd9\n"
     ]
    },
    {
     "name": "stdout",
     "output_type": "stream",
     "text": [
      "289/290 [============================>.] - ETA: 0s - loss: 0.4082 - accuracy: 0.8238"
     ]
    },
    {
     "name": "stderr",
     "output_type": "stream",
     "text": [
      "Corrupt JPEG data: 162 extraneous bytes before marker 0xd9\n",
      "Corrupt JPEG data: 252 extraneous bytes before marker 0xd9\n",
      "Corrupt JPEG data: 214 extraneous bytes before marker 0xd9\n",
      "Corrupt JPEG data: 1403 extraneous bytes before marker 0xd9\n",
      "Corrupt JPEG data: 162 extraneous bytes before marker 0xd9\n",
      "Corrupt JPEG data: 252 extraneous bytes before marker 0xd9\n",
      "Corrupt JPEG data: 214 extraneous bytes before marker 0xd9\n",
      "Corrupt JPEG data: 1403 extraneous bytes before marker 0xd9\n",
      "Corrupt JPEG data: 162 extraneous bytes before marker 0xd9\n",
      "Corrupt JPEG data: 252 extraneous bytes before marker 0xd9\n",
      "Corrupt JPEG data: 214 extraneous bytes before marker 0xd9\n",
      "Corrupt JPEG data: 1403 extraneous bytes before marker 0xd9\n",
      "Corrupt JPEG data: 162 extraneous bytes before marker 0xd9\n",
      "Corrupt JPEG data: 252 extraneous bytes before marker 0xd9\n",
      "Corrupt JPEG data: 214 extraneous bytes before marker 0xd9\n",
      "Corrupt JPEG data: 1403 extraneous bytes before marker 0xd9\n"
     ]
    },
    {
     "name": "stdout",
     "output_type": "stream",
     "text": [
      "290/290 [==============================] - 17s 59ms/step - loss: 0.4081 - accuracy: 0.8236 - val_loss: 0.9701 - val_accuracy: 0.6593\n",
      "Epoch 8/15\n",
      " 66/290 [=====>........................] - ETA: 10s - loss: 0.3216 - accuracy: 0.8662"
     ]
    },
    {
     "name": "stderr",
     "output_type": "stream",
     "text": [
      "Corrupt JPEG data: 2226 extraneous bytes before marker 0xd9\n"
     ]
    },
    {
     "name": "stdout",
     "output_type": "stream",
     "text": [
      " 73/290 [======>.......................] - ETA: 10s - loss: 0.3237 - accuracy: 0.8658"
     ]
    },
    {
     "name": "stderr",
     "output_type": "stream",
     "text": [
      "Corrupt JPEG data: 128 extraneous bytes before marker 0xd9\n"
     ]
    },
    {
     "name": "stdout",
     "output_type": "stream",
     "text": [
      " 80/290 [=======>......................] - ETA: 10s - loss: 0.3198 - accuracy: 0.8676"
     ]
    },
    {
     "name": "stderr",
     "output_type": "stream",
     "text": [
      "Corrupt JPEG data: 239 extraneous bytes before marker 0xd9\n"
     ]
    },
    {
     "name": "stdout",
     "output_type": "stream",
     "text": [
      " 93/290 [========>.....................] - ETA: 9s - loss: 0.3187 - accuracy: 0.8688"
     ]
    },
    {
     "name": "stderr",
     "output_type": "stream",
     "text": [
      "Corrupt JPEG data: 1153 extraneous bytes before marker 0xd9\n",
      "Corrupt JPEG data: 228 extraneous bytes before marker 0xd9\n"
     ]
    },
    {
     "name": "stdout",
     "output_type": "stream",
     "text": [
      "198/290 [===================>..........] - ETA: 4s - loss: 0.3128 - accuracy: 0.8707"
     ]
    },
    {
     "name": "stderr",
     "output_type": "stream",
     "text": [
      "Corrupt JPEG data: 99 extraneous bytes before marker 0xd9\n"
     ]
    },
    {
     "name": "stdout",
     "output_type": "stream",
     "text": [
      "212/290 [====================>.........] - ETA: 3s - loss: 0.3110 - accuracy: 0.8718"
     ]
    },
    {
     "name": "stderr",
     "output_type": "stream",
     "text": [
      "Warning: unknown JFIF revision number 0.00\n",
      "Corrupt JPEG data: 396 extraneous bytes before marker 0xd9\n"
     ]
    },
    {
     "name": "stdout",
     "output_type": "stream",
     "text": [
      "255/290 [=========================>....] - ETA: 1s - loss: 0.3114 - accuracy: 0.8713"
     ]
    },
    {
     "name": "stderr",
     "output_type": "stream",
     "text": [
      "Corrupt JPEG data: 65 extraneous bytes before marker 0xd9\n"
     ]
    },
    {
     "name": "stdout",
     "output_type": "stream",
     "text": [
      "289/290 [============================>.] - ETA: 0s - loss: 0.3084 - accuracy: 0.8728"
     ]
    },
    {
     "name": "stderr",
     "output_type": "stream",
     "text": [
      "Corrupt JPEG data: 162 extraneous bytes before marker 0xd9\n",
      "Corrupt JPEG data: 252 extraneous bytes before marker 0xd9\n",
      "Corrupt JPEG data: 214 extraneous bytes before marker 0xd9\n",
      "Corrupt JPEG data: 1403 extraneous bytes before marker 0xd9\n",
      "Corrupt JPEG data: 162 extraneous bytes before marker 0xd9\n",
      "Corrupt JPEG data: 252 extraneous bytes before marker 0xd9\n",
      "Corrupt JPEG data: 214 extraneous bytes before marker 0xd9\n",
      "Corrupt JPEG data: 1403 extraneous bytes before marker 0xd9\n",
      "Corrupt JPEG data: 162 extraneous bytes before marker 0xd9\n",
      "Corrupt JPEG data: 252 extraneous bytes before marker 0xd9\n",
      "Corrupt JPEG data: 214 extraneous bytes before marker 0xd9\n",
      "Corrupt JPEG data: 1403 extraneous bytes before marker 0xd9\n",
      "Corrupt JPEG data: 162 extraneous bytes before marker 0xd9\n",
      "Corrupt JPEG data: 252 extraneous bytes before marker 0xd9\n",
      "Corrupt JPEG data: 214 extraneous bytes before marker 0xd9\n",
      "Corrupt JPEG data: 1403 extraneous bytes before marker 0xd9\n"
     ]
    },
    {
     "name": "stdout",
     "output_type": "stream",
     "text": [
      "290/290 [==============================] - 17s 58ms/step - loss: 0.3083 - accuracy: 0.8726 - val_loss: 1.5044 - val_accuracy: 0.6212\n",
      "Epoch 9/15\n",
      " 70/290 [======>.......................] - ETA: 11s - loss: 0.2865 - accuracy: 0.8844"
     ]
    },
    {
     "name": "stderr",
     "output_type": "stream",
     "text": [
      "Corrupt JPEG data: 2226 extraneous bytes before marker 0xd9\n"
     ]
    },
    {
     "name": "stdout",
     "output_type": "stream",
     "text": [
      " 72/290 [======>.......................] - ETA: 11s - loss: 0.2846 - accuracy: 0.8850"
     ]
    },
    {
     "name": "stderr",
     "output_type": "stream",
     "text": [
      "Corrupt JPEG data: 128 extraneous bytes before marker 0xd9\n"
     ]
    },
    {
     "name": "stdout",
     "output_type": "stream",
     "text": [
      " 82/290 [=======>......................] - ETA: 10s - loss: 0.2784 - accuracy: 0.8880"
     ]
    },
    {
     "name": "stderr",
     "output_type": "stream",
     "text": [
      "Corrupt JPEG data: 239 extraneous bytes before marker 0xd9\n"
     ]
    },
    {
     "name": "stdout",
     "output_type": "stream",
     "text": [
      " 95/290 [========>.....................] - ETA: 9s - loss: 0.2763 - accuracy: 0.8873 "
     ]
    },
    {
     "name": "stderr",
     "output_type": "stream",
     "text": [
      "Corrupt JPEG data: 1153 extraneous bytes before marker 0xd9\n",
      "Corrupt JPEG data: 228 extraneous bytes before marker 0xd9\n"
     ]
    },
    {
     "name": "stdout",
     "output_type": "stream",
     "text": [
      "198/290 [===================>..........] - ETA: 4s - loss: 0.2636 - accuracy: 0.8916"
     ]
    },
    {
     "name": "stderr",
     "output_type": "stream",
     "text": [
      "Corrupt JPEG data: 99 extraneous bytes before marker 0xd9\n"
     ]
    },
    {
     "name": "stdout",
     "output_type": "stream",
     "text": [
      "214/290 [=====================>........] - ETA: 3s - loss: 0.2658 - accuracy: 0.8907"
     ]
    },
    {
     "name": "stderr",
     "output_type": "stream",
     "text": [
      "Warning: unknown JFIF revision number 0.00\n"
     ]
    },
    {
     "name": "stdout",
     "output_type": "stream",
     "text": [
      "220/290 [=====================>........] - ETA: 3s - loss: 0.2638 - accuracy: 0.8914"
     ]
    },
    {
     "name": "stderr",
     "output_type": "stream",
     "text": [
      "Corrupt JPEG data: 396 extraneous bytes before marker 0xd9\n"
     ]
    },
    {
     "name": "stdout",
     "output_type": "stream",
     "text": [
      "257/290 [=========================>....] - ETA: 1s - loss: 0.2589 - accuracy: 0.8936"
     ]
    },
    {
     "name": "stderr",
     "output_type": "stream",
     "text": [
      "Corrupt JPEG data: 65 extraneous bytes before marker 0xd9\n"
     ]
    },
    {
     "name": "stdout",
     "output_type": "stream",
     "text": [
      "290/290 [==============================] - ETA: 0s - loss: 0.2564 - accuracy: 0.8949"
     ]
    },
    {
     "name": "stderr",
     "output_type": "stream",
     "text": [
      "Corrupt JPEG data: 162 extraneous bytes before marker 0xd9\n",
      "Corrupt JPEG data: 252 extraneous bytes before marker 0xd9\n",
      "Corrupt JPEG data: 214 extraneous bytes before marker 0xd9\n",
      "Corrupt JPEG data: 1403 extraneous bytes before marker 0xd9\n",
      "Corrupt JPEG data: 162 extraneous bytes before marker 0xd9\n",
      "Corrupt JPEG data: 252 extraneous bytes before marker 0xd9\n",
      "Corrupt JPEG data: 214 extraneous bytes before marker 0xd9\n",
      "Corrupt JPEG data: 1403 extraneous bytes before marker 0xd9\n",
      "Corrupt JPEG data: 162 extraneous bytes before marker 0xd9\n",
      "Corrupt JPEG data: 252 extraneous bytes before marker 0xd9\n",
      "Corrupt JPEG data: 214 extraneous bytes before marker 0xd9\n",
      "Corrupt JPEG data: 1403 extraneous bytes before marker 0xd9\n",
      "Corrupt JPEG data: 162 extraneous bytes before marker 0xd9\n",
      "Corrupt JPEG data: 252 extraneous bytes before marker 0xd9\n",
      "Corrupt JPEG data: 214 extraneous bytes before marker 0xd9\n",
      "Corrupt JPEG data: 1403 extraneous bytes before marker 0xd9\n"
     ]
    },
    {
     "name": "stdout",
     "output_type": "stream",
     "text": [
      "290/290 [==============================] - 17s 59ms/step - loss: 0.2564 - accuracy: 0.8949 - val_loss: 1.0424 - val_accuracy: 0.6890\n",
      "Epoch 10/15\n",
      " 70/290 [======>.......................] - ETA: 11s - loss: 0.2199 - accuracy: 0.9116"
     ]
    },
    {
     "name": "stderr",
     "output_type": "stream",
     "text": [
      "Corrupt JPEG data: 2226 extraneous bytes before marker 0xd9\n"
     ]
    },
    {
     "name": "stdout",
     "output_type": "stream",
     "text": [
      " 76/290 [======>.......................] - ETA: 10s - loss: 0.2240 - accuracy: 0.9095"
     ]
    },
    {
     "name": "stderr",
     "output_type": "stream",
     "text": [
      "Corrupt JPEG data: 128 extraneous bytes before marker 0xd9\n"
     ]
    },
    {
     "name": "stdout",
     "output_type": "stream",
     "text": [
      " 82/290 [=======>......................] - ETA: 10s - loss: 0.2241 - accuracy: 0.9095"
     ]
    },
    {
     "name": "stderr",
     "output_type": "stream",
     "text": [
      "Corrupt JPEG data: 239 extraneous bytes before marker 0xd9\n"
     ]
    },
    {
     "name": "stdout",
     "output_type": "stream",
     "text": [
      " 95/290 [========>.....................] - ETA: 9s - loss: 0.2248 - accuracy: 0.9086"
     ]
    },
    {
     "name": "stderr",
     "output_type": "stream",
     "text": [
      "Corrupt JPEG data: 1153 extraneous bytes before marker 0xd9\n",
      "Corrupt JPEG data: 228 extraneous bytes before marker 0xd9\n"
     ]
    },
    {
     "name": "stdout",
     "output_type": "stream",
     "text": [
      "201/290 [===================>..........] - ETA: 4s - loss: 0.2078 - accuracy: 0.9168"
     ]
    },
    {
     "name": "stderr",
     "output_type": "stream",
     "text": [
      "Corrupt JPEG data: 99 extraneous bytes before marker 0xd9\n"
     ]
    },
    {
     "name": "stdout",
     "output_type": "stream",
     "text": [
      "216/290 [=====================>........] - ETA: 3s - loss: 0.2076 - accuracy: 0.9162"
     ]
    },
    {
     "name": "stderr",
     "output_type": "stream",
     "text": [
      "Warning: unknown JFIF revision number 0.00\n"
     ]
    },
    {
     "name": "stdout",
     "output_type": "stream",
     "text": [
      "220/290 [=====================>........] - ETA: 3s - loss: 0.2067 - accuracy: 0.9167"
     ]
    },
    {
     "name": "stderr",
     "output_type": "stream",
     "text": [
      "Corrupt JPEG data: 396 extraneous bytes before marker 0xd9\n"
     ]
    },
    {
     "name": "stdout",
     "output_type": "stream",
     "text": [
      "258/290 [=========================>....] - ETA: 1s - loss: 0.2052 - accuracy: 0.9167"
     ]
    },
    {
     "name": "stderr",
     "output_type": "stream",
     "text": [
      "Corrupt JPEG data: 65 extraneous bytes before marker 0xd9\n"
     ]
    },
    {
     "name": "stdout",
     "output_type": "stream",
     "text": [
      "290/290 [==============================] - ETA: 0s - loss: 0.2042 - accuracy: 0.9174"
     ]
    },
    {
     "name": "stderr",
     "output_type": "stream",
     "text": [
      "Corrupt JPEG data: 162 extraneous bytes before marker 0xd9\n",
      "Corrupt JPEG data: 252 extraneous bytes before marker 0xd9\n",
      "Corrupt JPEG data: 214 extraneous bytes before marker 0xd9\n",
      "Corrupt JPEG data: 1403 extraneous bytes before marker 0xd9\n",
      "Corrupt JPEG data: 162 extraneous bytes before marker 0xd9\n",
      "Corrupt JPEG data: 252 extraneous bytes before marker 0xd9\n",
      "Corrupt JPEG data: 214 extraneous bytes before marker 0xd9\n",
      "Corrupt JPEG data: 1403 extraneous bytes before marker 0xd9\n",
      "Corrupt JPEG data: 162 extraneous bytes before marker 0xd9\n",
      "Corrupt JPEG data: 252 extraneous bytes before marker 0xd9\n",
      "Corrupt JPEG data: 214 extraneous bytes before marker 0xd9\n",
      "Corrupt JPEG data: 1403 extraneous bytes before marker 0xd9\n",
      "Corrupt JPEG data: 162 extraneous bytes before marker 0xd9\n",
      "Corrupt JPEG data: 252 extraneous bytes before marker 0xd9\n",
      "Corrupt JPEG data: 214 extraneous bytes before marker 0xd9\n",
      "Corrupt JPEG data: 1403 extraneous bytes before marker 0xd9\n"
     ]
    },
    {
     "name": "stdout",
     "output_type": "stream",
     "text": [
      "290/290 [==============================] - 17s 59ms/step - loss: 0.2042 - accuracy: 0.9174 - val_loss: 1.2117 - val_accuracy: 0.6678\n",
      "Epoch 11/15\n",
      " 69/290 [======>.......................] - ETA: 10s - loss: 0.1734 - accuracy: 0.9303"
     ]
    },
    {
     "name": "stderr",
     "output_type": "stream",
     "text": [
      "Corrupt JPEG data: 2226 extraneous bytes before marker 0xd9\n"
     ]
    },
    {
     "name": "stdout",
     "output_type": "stream",
     "text": [
      " 77/290 [======>.......................] - ETA: 10s - loss: 0.1756 - accuracy: 0.9308"
     ]
    },
    {
     "name": "stderr",
     "output_type": "stream",
     "text": [
      "Corrupt JPEG data: 128 extraneous bytes before marker 0xd9\n"
     ]
    },
    {
     "name": "stdout",
     "output_type": "stream",
     "text": [
      " 84/290 [=======>......................] - ETA: 10s - loss: 0.1743 - accuracy: 0.9312"
     ]
    },
    {
     "name": "stderr",
     "output_type": "stream",
     "text": [
      "Corrupt JPEG data: 239 extraneous bytes before marker 0xd9\n"
     ]
    },
    {
     "name": "stdout",
     "output_type": "stream",
     "text": [
      " 97/290 [=========>....................] - ETA: 9s - loss: 0.1739 - accuracy: 0.9309"
     ]
    },
    {
     "name": "stderr",
     "output_type": "stream",
     "text": [
      "Corrupt JPEG data: 1153 extraneous bytes before marker 0xd9\n",
      "Corrupt JPEG data: 228 extraneous bytes before marker 0xd9\n"
     ]
    },
    {
     "name": "stdout",
     "output_type": "stream",
     "text": [
      "198/290 [===================>..........] - ETA: 4s - loss: 0.1729 - accuracy: 0.9300"
     ]
    },
    {
     "name": "stderr",
     "output_type": "stream",
     "text": [
      "Corrupt JPEG data: 99 extraneous bytes before marker 0xd9\n"
     ]
    },
    {
     "name": "stdout",
     "output_type": "stream",
     "text": [
      "217/290 [=====================>........] - ETA: 3s - loss: 0.1703 - accuracy: 0.9313"
     ]
    },
    {
     "name": "stderr",
     "output_type": "stream",
     "text": [
      "Warning: unknown JFIF revision number 0.00\n"
     ]
    },
    {
     "name": "stdout",
     "output_type": "stream",
     "text": [
      "222/290 [=====================>........] - ETA: 3s - loss: 0.1702 - accuracy: 0.9315"
     ]
    },
    {
     "name": "stderr",
     "output_type": "stream",
     "text": [
      "Corrupt JPEG data: 396 extraneous bytes before marker 0xd9\n"
     ]
    },
    {
     "name": "stdout",
     "output_type": "stream",
     "text": [
      "257/290 [=========================>....] - ETA: 1s - loss: 0.1695 - accuracy: 0.9320"
     ]
    },
    {
     "name": "stderr",
     "output_type": "stream",
     "text": [
      "Corrupt JPEG data: 65 extraneous bytes before marker 0xd9\n"
     ]
    },
    {
     "name": "stdout",
     "output_type": "stream",
     "text": [
      "290/290 [==============================] - ETA: 0s - loss: 0.1676 - accuracy: 0.9330"
     ]
    },
    {
     "name": "stderr",
     "output_type": "stream",
     "text": [
      "Corrupt JPEG data: 162 extraneous bytes before marker 0xd9\n",
      "Corrupt JPEG data: 252 extraneous bytes before marker 0xd9\n",
      "Corrupt JPEG data: 214 extraneous bytes before marker 0xd9\n",
      "Corrupt JPEG data: 1403 extraneous bytes before marker 0xd9\n",
      "Corrupt JPEG data: 162 extraneous bytes before marker 0xd9\n",
      "Corrupt JPEG data: 252 extraneous bytes before marker 0xd9\n",
      "Corrupt JPEG data: 214 extraneous bytes before marker 0xd9\n",
      "Corrupt JPEG data: 1403 extraneous bytes before marker 0xd9\n",
      "Corrupt JPEG data: 162 extraneous bytes before marker 0xd9\n",
      "Corrupt JPEG data: 252 extraneous bytes before marker 0xd9\n",
      "Corrupt JPEG data: 214 extraneous bytes before marker 0xd9\n",
      "Corrupt JPEG data: 1403 extraneous bytes before marker 0xd9\n",
      "Corrupt JPEG data: 162 extraneous bytes before marker 0xd9\n",
      "Corrupt JPEG data: 252 extraneous bytes before marker 0xd9\n",
      "Corrupt JPEG data: 214 extraneous bytes before marker 0xd9\n",
      "Corrupt JPEG data: 1403 extraneous bytes before marker 0xd9\n"
     ]
    },
    {
     "name": "stdout",
     "output_type": "stream",
     "text": [
      "290/290 [==============================] - 17s 60ms/step - loss: 0.1676 - accuracy: 0.9330 - val_loss: 1.8279 - val_accuracy: 0.6398\n",
      "Epoch 12/15\n",
      " 71/290 [======>.......................] - ETA: 11s - loss: 0.1537 - accuracy: 0.9390"
     ]
    },
    {
     "name": "stderr",
     "output_type": "stream",
     "text": [
      "Corrupt JPEG data: 2226 extraneous bytes before marker 0xd9\n"
     ]
    },
    {
     "name": "stdout",
     "output_type": "stream",
     "text": [
      " 77/290 [======>.......................] - ETA: 11s - loss: 0.1510 - accuracy: 0.9399"
     ]
    },
    {
     "name": "stderr",
     "output_type": "stream",
     "text": [
      "Corrupt JPEG data: 128 extraneous bytes before marker 0xd9\n"
     ]
    },
    {
     "name": "stdout",
     "output_type": "stream",
     "text": [
      " 82/290 [=======>......................] - ETA: 11s - loss: 0.1515 - accuracy: 0.9398"
     ]
    },
    {
     "name": "stderr",
     "output_type": "stream",
     "text": [
      "Corrupt JPEG data: 239 extraneous bytes before marker 0xd9\n"
     ]
    },
    {
     "name": "stdout",
     "output_type": "stream",
     "text": [
      " 96/290 [========>.....................] - ETA: 10s - loss: 0.1511 - accuracy: 0.9408"
     ]
    },
    {
     "name": "stderr",
     "output_type": "stream",
     "text": [
      "Corrupt JPEG data: 1153 extraneous bytes before marker 0xd9\n",
      "Corrupt JPEG data: 228 extraneous bytes before marker 0xd9\n"
     ]
    },
    {
     "name": "stdout",
     "output_type": "stream",
     "text": [
      "202/290 [===================>..........] - ETA: 4s - loss: 0.1517 - accuracy: 0.9401"
     ]
    },
    {
     "name": "stderr",
     "output_type": "stream",
     "text": [
      "Corrupt JPEG data: 99 extraneous bytes before marker 0xd9\n"
     ]
    },
    {
     "name": "stdout",
     "output_type": "stream",
     "text": [
      "214/290 [=====================>........] - ETA: 4s - loss: 0.1529 - accuracy: 0.9396"
     ]
    },
    {
     "name": "stderr",
     "output_type": "stream",
     "text": [
      "Warning: unknown JFIF revision number 0.00\n"
     ]
    },
    {
     "name": "stdout",
     "output_type": "stream",
     "text": [
      "223/290 [======================>.......] - ETA: 3s - loss: 0.1513 - accuracy: 0.9400"
     ]
    },
    {
     "name": "stderr",
     "output_type": "stream",
     "text": [
      "Corrupt JPEG data: 396 extraneous bytes before marker 0xd9\n"
     ]
    },
    {
     "name": "stdout",
     "output_type": "stream",
     "text": [
      "259/290 [=========================>....] - ETA: 1s - loss: 0.1447 - accuracy: 0.9429"
     ]
    },
    {
     "name": "stderr",
     "output_type": "stream",
     "text": [
      "Corrupt JPEG data: 65 extraneous bytes before marker 0xd9\n"
     ]
    },
    {
     "name": "stdout",
     "output_type": "stream",
     "text": [
      "289/290 [============================>.] - ETA: 0s - loss: 0.1447 - accuracy: 0.9430"
     ]
    },
    {
     "name": "stderr",
     "output_type": "stream",
     "text": [
      "Corrupt JPEG data: 162 extraneous bytes before marker 0xd9\n",
      "Corrupt JPEG data: 252 extraneous bytes before marker 0xd9\n",
      "Corrupt JPEG data: 214 extraneous bytes before marker 0xd9\n",
      "Corrupt JPEG data: 1403 extraneous bytes before marker 0xd9\n",
      "Corrupt JPEG data: 162 extraneous bytes before marker 0xd9\n",
      "Corrupt JPEG data: 252 extraneous bytes before marker 0xd9\n",
      "Corrupt JPEG data: 214 extraneous bytes before marker 0xd9\n",
      "Corrupt JPEG data: 1403 extraneous bytes before marker 0xd9\n",
      "Corrupt JPEG data: 162 extraneous bytes before marker 0xd9\n",
      "Corrupt JPEG data: 252 extraneous bytes before marker 0xd9\n",
      "Corrupt JPEG data: 214 extraneous bytes before marker 0xd9\n",
      "Corrupt JPEG data: 1403 extraneous bytes before marker 0xd9\n",
      "Corrupt JPEG data: 162 extraneous bytes before marker 0xd9\n",
      "Corrupt JPEG data: 252 extraneous bytes before marker 0xd9\n",
      "Corrupt JPEG data: 214 extraneous bytes before marker 0xd9\n",
      "Corrupt JPEG data: 1403 extraneous bytes before marker 0xd9\n"
     ]
    },
    {
     "name": "stdout",
     "output_type": "stream",
     "text": [
      "290/290 [==============================] - 18s 61ms/step - loss: 0.1447 - accuracy: 0.9430 - val_loss: 1.2998 - val_accuracy: 0.6951\n",
      "Epoch 13/15\n",
      " 73/290 [======>.......................] - ETA: 11s - loss: 0.1568 - accuracy: 0.9403"
     ]
    },
    {
     "name": "stderr",
     "output_type": "stream",
     "text": [
      "Corrupt JPEG data: 2226 extraneous bytes before marker 0xd9\n"
     ]
    },
    {
     "name": "stdout",
     "output_type": "stream",
     "text": [
      " 78/290 [=======>......................] - ETA: 11s - loss: 0.1558 - accuracy: 0.9411"
     ]
    },
    {
     "name": "stderr",
     "output_type": "stream",
     "text": [
      "Corrupt JPEG data: 128 extraneous bytes before marker 0xd9\n"
     ]
    },
    {
     "name": "stdout",
     "output_type": "stream",
     "text": [
      " 84/290 [=======>......................] - ETA: 10s - loss: 0.1532 - accuracy: 0.9423"
     ]
    },
    {
     "name": "stderr",
     "output_type": "stream",
     "text": [
      "Corrupt JPEG data: 239 extraneous bytes before marker 0xd9\n"
     ]
    },
    {
     "name": "stdout",
     "output_type": "stream",
     "text": [
      " 96/290 [========>.....................] - ETA: 10s - loss: 0.1495 - accuracy: 0.9442"
     ]
    },
    {
     "name": "stderr",
     "output_type": "stream",
     "text": [
      "Corrupt JPEG data: 1153 extraneous bytes before marker 0xd9\n",
      "Corrupt JPEG data: 228 extraneous bytes before marker 0xd9\n"
     ]
    },
    {
     "name": "stdout",
     "output_type": "stream",
     "text": [
      "203/290 [====================>.........] - ETA: 4s - loss: 0.1360 - accuracy: 0.9495"
     ]
    },
    {
     "name": "stderr",
     "output_type": "stream",
     "text": [
      "Corrupt JPEG data: 99 extraneous bytes before marker 0xd9\n"
     ]
    },
    {
     "name": "stdout",
     "output_type": "stream",
     "text": [
      "218/290 [=====================>........] - ETA: 3s - loss: 0.1359 - accuracy: 0.9493"
     ]
    },
    {
     "name": "stderr",
     "output_type": "stream",
     "text": [
      "Warning: unknown JFIF revision number 0.00\n",
      "Corrupt JPEG data: 396 extraneous bytes before marker 0xd9\n"
     ]
    },
    {
     "name": "stdout",
     "output_type": "stream",
     "text": [
      "262/290 [==========================>...] - ETA: 1s - loss: 0.1333 - accuracy: 0.9501"
     ]
    },
    {
     "name": "stderr",
     "output_type": "stream",
     "text": [
      "Corrupt JPEG data: 65 extraneous bytes before marker 0xd9\n"
     ]
    },
    {
     "name": "stdout",
     "output_type": "stream",
     "text": [
      "289/290 [============================>.] - ETA: 0s - loss: 0.1304 - accuracy: 0.9512"
     ]
    },
    {
     "name": "stderr",
     "output_type": "stream",
     "text": [
      "Corrupt JPEG data: 162 extraneous bytes before marker 0xd9\n",
      "Corrupt JPEG data: 252 extraneous bytes before marker 0xd9\n",
      "Corrupt JPEG data: 214 extraneous bytes before marker 0xd9\n",
      "Corrupt JPEG data: 1403 extraneous bytes before marker 0xd9\n",
      "Corrupt JPEG data: 162 extraneous bytes before marker 0xd9\n",
      "Corrupt JPEG data: 252 extraneous bytes before marker 0xd9\n",
      "Corrupt JPEG data: 214 extraneous bytes before marker 0xd9\n",
      "Corrupt JPEG data: 1403 extraneous bytes before marker 0xd9\n",
      "Corrupt JPEG data: 162 extraneous bytes before marker 0xd9\n",
      "Corrupt JPEG data: 252 extraneous bytes before marker 0xd9\n",
      "Corrupt JPEG data: 214 extraneous bytes before marker 0xd9\n",
      "Corrupt JPEG data: 1403 extraneous bytes before marker 0xd9\n",
      "Corrupt JPEG data: 162 extraneous bytes before marker 0xd9\n",
      "Corrupt JPEG data: 252 extraneous bytes before marker 0xd9\n",
      "Corrupt JPEG data: 214 extraneous bytes before marker 0xd9\n",
      "Corrupt JPEG data: 1403 extraneous bytes before marker 0xd9\n"
     ]
    },
    {
     "name": "stdout",
     "output_type": "stream",
     "text": [
      "290/290 [==============================] - 17s 60ms/step - loss: 0.1302 - accuracy: 0.9513 - val_loss: 1.4484 - val_accuracy: 0.6724\n",
      "Epoch 14/15\n",
      " 74/290 [======>.......................] - ETA: 11s - loss: 0.1185 - accuracy: 0.9533"
     ]
    },
    {
     "name": "stderr",
     "output_type": "stream",
     "text": [
      "Corrupt JPEG data: 2226 extraneous bytes before marker 0xd9\n"
     ]
    },
    {
     "name": "stdout",
     "output_type": "stream",
     "text": [
      " 80/290 [=======>......................] - ETA: 10s - loss: 0.1217 - accuracy: 0.9523"
     ]
    },
    {
     "name": "stderr",
     "output_type": "stream",
     "text": [
      "Corrupt JPEG data: 128 extraneous bytes before marker 0xd9\n"
     ]
    },
    {
     "name": "stdout",
     "output_type": "stream",
     "text": [
      " 86/290 [=======>......................] - ETA: 10s - loss: 0.1224 - accuracy: 0.9529"
     ]
    },
    {
     "name": "stderr",
     "output_type": "stream",
     "text": [
      "Corrupt JPEG data: 239 extraneous bytes before marker 0xd9\n"
     ]
    },
    {
     "name": "stdout",
     "output_type": "stream",
     "text": [
      "100/290 [=========>....................] - ETA: 9s - loss: 0.1202 - accuracy: 0.9547"
     ]
    },
    {
     "name": "stderr",
     "output_type": "stream",
     "text": [
      "Corrupt JPEG data: 1153 extraneous bytes before marker 0xd9\n",
      "Corrupt JPEG data: 228 extraneous bytes before marker 0xd9\n"
     ]
    },
    {
     "name": "stdout",
     "output_type": "stream",
     "text": [
      "205/290 [====================>.........] - ETA: 4s - loss: 0.1196 - accuracy: 0.9540"
     ]
    },
    {
     "name": "stderr",
     "output_type": "stream",
     "text": [
      "Corrupt JPEG data: 99 extraneous bytes before marker 0xd9\n"
     ]
    },
    {
     "name": "stdout",
     "output_type": "stream",
     "text": [
      "219/290 [=====================>........] - ETA: 3s - loss: 0.1175 - accuracy: 0.9545"
     ]
    },
    {
     "name": "stderr",
     "output_type": "stream",
     "text": [
      "Warning: unknown JFIF revision number 0.00\n"
     ]
    },
    {
     "name": "stdout",
     "output_type": "stream",
     "text": [
      "225/290 [======================>.......] - ETA: 3s - loss: 0.1164 - accuracy: 0.9551"
     ]
    },
    {
     "name": "stderr",
     "output_type": "stream",
     "text": [
      "Corrupt JPEG data: 396 extraneous bytes before marker 0xd9\n"
     ]
    },
    {
     "name": "stdout",
     "output_type": "stream",
     "text": [
      "259/290 [=========================>....] - ETA: 1s - loss: 0.1144 - accuracy: 0.9556"
     ]
    },
    {
     "name": "stderr",
     "output_type": "stream",
     "text": [
      "Corrupt JPEG data: 65 extraneous bytes before marker 0xd9\n"
     ]
    },
    {
     "name": "stdout",
     "output_type": "stream",
     "text": [
      "290/290 [==============================] - ETA: 0s - loss: 0.1159 - accuracy: 0.9552"
     ]
    },
    {
     "name": "stderr",
     "output_type": "stream",
     "text": [
      "Corrupt JPEG data: 162 extraneous bytes before marker 0xd9\n",
      "Corrupt JPEG data: 252 extraneous bytes before marker 0xd9\n",
      "Corrupt JPEG data: 214 extraneous bytes before marker 0xd9\n",
      "Corrupt JPEG data: 1403 extraneous bytes before marker 0xd9\n",
      "Corrupt JPEG data: 162 extraneous bytes before marker 0xd9\n",
      "Corrupt JPEG data: 252 extraneous bytes before marker 0xd9\n",
      "Corrupt JPEG data: 214 extraneous bytes before marker 0xd9\n",
      "Corrupt JPEG data: 1403 extraneous bytes before marker 0xd9\n",
      "Corrupt JPEG data: 162 extraneous bytes before marker 0xd9\n",
      "Corrupt JPEG data: 252 extraneous bytes before marker 0xd9\n",
      "Corrupt JPEG data: 214 extraneous bytes before marker 0xd9\n",
      "Corrupt JPEG data: 1403 extraneous bytes before marker 0xd9\n",
      "Corrupt JPEG data: 162 extraneous bytes before marker 0xd9\n",
      "Corrupt JPEG data: 252 extraneous bytes before marker 0xd9\n",
      "Corrupt JPEG data: 214 extraneous bytes before marker 0xd9\n",
      "Corrupt JPEG data: 1403 extraneous bytes before marker 0xd9\n"
     ]
    },
    {
     "name": "stdout",
     "output_type": "stream",
     "text": [
      "290/290 [==============================] - 18s 62ms/step - loss: 0.1159 - accuracy: 0.9552 - val_loss: 1.4476 - val_accuracy: 0.6992\n",
      "Epoch 15/15\n",
      " 75/290 [======>.......................] - ETA: 11s - loss: 0.1187 - accuracy: 0.9550"
     ]
    },
    {
     "name": "stderr",
     "output_type": "stream",
     "text": [
      "Corrupt JPEG data: 2226 extraneous bytes before marker 0xd9\n"
     ]
    },
    {
     "name": "stdout",
     "output_type": "stream",
     "text": [
      " 81/290 [=======>......................] - ETA: 11s - loss: 0.1156 - accuracy: 0.9558"
     ]
    },
    {
     "name": "stderr",
     "output_type": "stream",
     "text": [
      "Corrupt JPEG data: 128 extraneous bytes before marker 0xd9\n"
     ]
    },
    {
     "name": "stdout",
     "output_type": "stream",
     "text": [
      " 87/290 [========>.....................] - ETA: 11s - loss: 0.1160 - accuracy: 0.9560"
     ]
    },
    {
     "name": "stderr",
     "output_type": "stream",
     "text": [
      "Corrupt JPEG data: 239 extraneous bytes before marker 0xd9\n"
     ]
    },
    {
     "name": "stdout",
     "output_type": "stream",
     "text": [
      "102/290 [=========>....................] - ETA: 10s - loss: 0.1183 - accuracy: 0.9544"
     ]
    },
    {
     "name": "stderr",
     "output_type": "stream",
     "text": [
      "Corrupt JPEG data: 1153 extraneous bytes before marker 0xd9\n",
      "Corrupt JPEG data: 228 extraneous bytes before marker 0xd9\n"
     ]
    },
    {
     "name": "stdout",
     "output_type": "stream",
     "text": [
      "205/290 [====================>.........] - ETA: 4s - loss: 0.1075 - accuracy: 0.9598"
     ]
    },
    {
     "name": "stderr",
     "output_type": "stream",
     "text": [
      "Corrupt JPEG data: 99 extraneous bytes before marker 0xd9\n"
     ]
    },
    {
     "name": "stdout",
     "output_type": "stream",
     "text": [
      "220/290 [=====================>........] - ETA: 3s - loss: 0.1089 - accuracy: 0.9591"
     ]
    },
    {
     "name": "stderr",
     "output_type": "stream",
     "text": [
      "Warning: unknown JFIF revision number 0.00\n"
     ]
    },
    {
     "name": "stdout",
     "output_type": "stream",
     "text": [
      "227/290 [======================>.......] - ETA: 3s - loss: 0.1078 - accuracy: 0.9593"
     ]
    },
    {
     "name": "stderr",
     "output_type": "stream",
     "text": [
      "Corrupt JPEG data: 396 extraneous bytes before marker 0xd9\n"
     ]
    },
    {
     "name": "stdout",
     "output_type": "stream",
     "text": [
      "261/290 [==========================>...] - ETA: 1s - loss: 0.1081 - accuracy: 0.9596"
     ]
    },
    {
     "name": "stderr",
     "output_type": "stream",
     "text": [
      "Corrupt JPEG data: 65 extraneous bytes before marker 0xd9\n"
     ]
    },
    {
     "name": "stdout",
     "output_type": "stream",
     "text": [
      "290/290 [==============================] - ETA: 0s - loss: 0.1091 - accuracy: 0.9593"
     ]
    },
    {
     "name": "stderr",
     "output_type": "stream",
     "text": [
      "Corrupt JPEG data: 162 extraneous bytes before marker 0xd9\n",
      "Corrupt JPEG data: 252 extraneous bytes before marker 0xd9\n",
      "Corrupt JPEG data: 214 extraneous bytes before marker 0xd9\n",
      "Corrupt JPEG data: 1403 extraneous bytes before marker 0xd9\n",
      "Corrupt JPEG data: 162 extraneous bytes before marker 0xd9\n",
      "Corrupt JPEG data: 252 extraneous bytes before marker 0xd9\n",
      "Corrupt JPEG data: 214 extraneous bytes before marker 0xd9\n",
      "Corrupt JPEG data: 1403 extraneous bytes before marker 0xd9\n",
      "Corrupt JPEG data: 162 extraneous bytes before marker 0xd9\n",
      "Corrupt JPEG data: 252 extraneous bytes before marker 0xd9\n",
      "Corrupt JPEG data: 214 extraneous bytes before marker 0xd9\n",
      "Corrupt JPEG data: 1403 extraneous bytes before marker 0xd9\n",
      "Corrupt JPEG data: 162 extraneous bytes before marker 0xd9\n",
      "Corrupt JPEG data: 252 extraneous bytes before marker 0xd9\n",
      "Corrupt JPEG data: 214 extraneous bytes before marker 0xd9\n",
      "Corrupt JPEG data: 1403 extraneous bytes before marker 0xd9\n"
     ]
    },
    {
     "name": "stdout",
     "output_type": "stream",
     "text": [
      "290/290 [==============================] - 18s 63ms/step - loss: 0.1091 - accuracy: 0.9593 - val_loss: 1.4116 - val_accuracy: 0.6953\n"
     ]
    }
   ],
   "source": [
    "resnet_50_plain.compile(\n",
    "    loss='sparse_categorical_crossentropy',\n",
    "    optimizer=tf.keras.optimizers.SGD(lr=0.01, clipnorm=1.),\n",
    "    metrics=['accuracy'],\n",
    ")\n",
    "\n",
    "history_50_plain = resnet_50_plain.fit(\n",
    "    ds_train,\n",
    "    steps_per_epoch=int(ds_info.splits['train'].num_examples/BATCH_SIZE*0.8),\n",
    "    validation_steps=int(ds_info.splits['train'].num_examples/BATCH_SIZE*0.2),\n",
    "    epochs=EPOCH,\n",
    "    validation_data=ds_test,\n",
    "    verbose=1,\n",
    "    use_multiprocessing=True,\n",
    ")"
   ]
  },
  {
   "cell_type": "code",
   "execution_count": 58,
   "metadata": {},
   "outputs": [
    {
     "name": "stderr",
     "output_type": "stream",
     "text": [
      "WARNING:absl:`lr` is deprecated in Keras optimizer, please use `learning_rate` or use the legacy optimizer, e.g.,tf.keras.optimizers.legacy.SGD.\n"
     ]
    },
    {
     "name": "stdout",
     "output_type": "stream",
     "text": [
      "Epoch 1/15\n"
     ]
    },
    {
     "name": "stderr",
     "output_type": "stream",
     "text": [
      "Corrupt JPEG data: 99 extraneous bytes before marker 0xd9\n",
      "Warning: unknown JFIF revision number 0.00\n",
      "Corrupt JPEG data: 396 extraneous bytes before marker 0xd9\n",
      "Corrupt JPEG data: 65 extraneous bytes before marker 0xd9\n"
     ]
    },
    {
     "name": "stdout",
     "output_type": "stream",
     "text": [
      " 60/290 [=====>........................] - ETA: 13s - loss: 1.8236 - accuracy: 0.5104"
     ]
    },
    {
     "name": "stderr",
     "output_type": "stream",
     "text": [
      "Corrupt JPEG data: 2226 extraneous bytes before marker 0xd9\n"
     ]
    },
    {
     "name": "stdout",
     "output_type": "stream",
     "text": [
      " 66/290 [=====>........................] - ETA: 12s - loss: 1.7980 - accuracy: 0.5123"
     ]
    },
    {
     "name": "stderr",
     "output_type": "stream",
     "text": [
      "Corrupt JPEG data: 128 extraneous bytes before marker 0xd9\n"
     ]
    },
    {
     "name": "stdout",
     "output_type": "stream",
     "text": [
      " 71/290 [======>.......................] - ETA: 12s - loss: 1.7798 - accuracy: 0.5125"
     ]
    },
    {
     "name": "stderr",
     "output_type": "stream",
     "text": [
      "Corrupt JPEG data: 239 extraneous bytes before marker 0xd9\n"
     ]
    },
    {
     "name": "stdout",
     "output_type": "stream",
     "text": [
      " 86/290 [=======>......................] - ETA: 11s - loss: 1.7151 - accuracy: 0.5202"
     ]
    },
    {
     "name": "stderr",
     "output_type": "stream",
     "text": [
      "Corrupt JPEG data: 1153 extraneous bytes before marker 0xd9\n",
      "Corrupt JPEG data: 228 extraneous bytes before marker 0xd9\n"
     ]
    },
    {
     "name": "stdout",
     "output_type": "stream",
     "text": [
      "190/290 [==================>...........] - ETA: 5s - loss: 1.5116 - accuracy: 0.5442"
     ]
    },
    {
     "name": "stderr",
     "output_type": "stream",
     "text": [
      "Corrupt JPEG data: 99 extraneous bytes before marker 0xd9\n"
     ]
    },
    {
     "name": "stdout",
     "output_type": "stream",
     "text": [
      "207/290 [====================>.........] - ETA: 4s - loss: 1.4914 - accuracy: 0.5464"
     ]
    },
    {
     "name": "stderr",
     "output_type": "stream",
     "text": [
      "Warning: unknown JFIF revision number 0.00\n"
     ]
    },
    {
     "name": "stdout",
     "output_type": "stream",
     "text": [
      "211/290 [====================>.........] - ETA: 4s - loss: 1.4851 - accuracy: 0.5468"
     ]
    },
    {
     "name": "stderr",
     "output_type": "stream",
     "text": [
      "Corrupt JPEG data: 396 extraneous bytes before marker 0xd9\n"
     ]
    },
    {
     "name": "stdout",
     "output_type": "stream",
     "text": [
      "246/290 [========================>.....] - ETA: 2s - loss: 1.4458 - accuracy: 0.5502"
     ]
    },
    {
     "name": "stderr",
     "output_type": "stream",
     "text": [
      "Corrupt JPEG data: 65 extraneous bytes before marker 0xd9\n"
     ]
    },
    {
     "name": "stdout",
     "output_type": "stream",
     "text": [
      "290/290 [==============================] - ETA: 0s - loss: 1.4024 - accuracy: 0.5569"
     ]
    },
    {
     "name": "stderr",
     "output_type": "stream",
     "text": [
      "Corrupt JPEG data: 162 extraneous bytes before marker 0xd9\n",
      "Corrupt JPEG data: 252 extraneous bytes before marker 0xd9\n",
      "Corrupt JPEG data: 214 extraneous bytes before marker 0xd9\n",
      "Corrupt JPEG data: 1403 extraneous bytes before marker 0xd9\n",
      "Corrupt JPEG data: 162 extraneous bytes before marker 0xd9\n",
      "Corrupt JPEG data: 252 extraneous bytes before marker 0xd9\n",
      "Corrupt JPEG data: 214 extraneous bytes before marker 0xd9\n",
      "Corrupt JPEG data: 1403 extraneous bytes before marker 0xd9\n",
      "Corrupt JPEG data: 162 extraneous bytes before marker 0xd9\n",
      "Corrupt JPEG data: 252 extraneous bytes before marker 0xd9\n",
      "Corrupt JPEG data: 214 extraneous bytes before marker 0xd9\n",
      "Corrupt JPEG data: 1403 extraneous bytes before marker 0xd9\n",
      "Corrupt JPEG data: 162 extraneous bytes before marker 0xd9\n",
      "Corrupt JPEG data: 252 extraneous bytes before marker 0xd9\n",
      "Corrupt JPEG data: 214 extraneous bytes before marker 0xd9\n",
      "Corrupt JPEG data: 1403 extraneous bytes before marker 0xd9\n"
     ]
    },
    {
     "name": "stdout",
     "output_type": "stream",
     "text": [
      "290/290 [==============================] - 26s 62ms/step - loss: 1.4024 - accuracy: 0.5569 - val_loss: 1.5294 - val_accuracy: 0.4950\n",
      "Epoch 2/15\n",
      " 63/290 [=====>........................] - ETA: 11s - loss: 1.1917 - accuracy: 0.5734"
     ]
    },
    {
     "name": "stderr",
     "output_type": "stream",
     "text": [
      "Corrupt JPEG data: 2226 extraneous bytes before marker 0xd9\n"
     ]
    },
    {
     "name": "stdout",
     "output_type": "stream",
     "text": [
      " 69/290 [======>.......................] - ETA: 11s - loss: 1.1837 - accuracy: 0.5734"
     ]
    },
    {
     "name": "stderr",
     "output_type": "stream",
     "text": [
      "Corrupt JPEG data: 128 extraneous bytes before marker 0xd9\n"
     ]
    },
    {
     "name": "stdout",
     "output_type": "stream",
     "text": [
      " 73/290 [======>.......................] - ETA: 11s - loss: 1.1843 - accuracy: 0.5734"
     ]
    },
    {
     "name": "stderr",
     "output_type": "stream",
     "text": [
      "Corrupt JPEG data: 239 extraneous bytes before marker 0xd9\n"
     ]
    },
    {
     "name": "stdout",
     "output_type": "stream",
     "text": [
      " 87/290 [========>.....................] - ETA: 10s - loss: 1.1789 - accuracy: 0.5767"
     ]
    },
    {
     "name": "stderr",
     "output_type": "stream",
     "text": [
      "Corrupt JPEG data: 1153 extraneous bytes before marker 0xd9\n",
      "Corrupt JPEG data: 228 extraneous bytes before marker 0xd9\n"
     ]
    },
    {
     "name": "stdout",
     "output_type": "stream",
     "text": [
      "190/290 [==================>...........] - ETA: 5s - loss: 1.0954 - accuracy: 0.5931"
     ]
    },
    {
     "name": "stderr",
     "output_type": "stream",
     "text": [
      "Corrupt JPEG data: 99 extraneous bytes before marker 0xd9\n"
     ]
    },
    {
     "name": "stdout",
     "output_type": "stream",
     "text": [
      "207/290 [====================>.........] - ETA: 4s - loss: 1.0835 - accuracy: 0.5958"
     ]
    },
    {
     "name": "stderr",
     "output_type": "stream",
     "text": [
      "Warning: unknown JFIF revision number 0.00\n"
     ]
    },
    {
     "name": "stdout",
     "output_type": "stream",
     "text": [
      "214/290 [=====================>........] - ETA: 3s - loss: 1.0779 - accuracy: 0.5974"
     ]
    },
    {
     "name": "stderr",
     "output_type": "stream",
     "text": [
      "Corrupt JPEG data: 396 extraneous bytes before marker 0xd9\n"
     ]
    },
    {
     "name": "stdout",
     "output_type": "stream",
     "text": [
      "249/290 [========================>.....] - ETA: 2s - loss: 1.0583 - accuracy: 0.6021"
     ]
    },
    {
     "name": "stderr",
     "output_type": "stream",
     "text": [
      "Corrupt JPEG data: 65 extraneous bytes before marker 0xd9\n"
     ]
    },
    {
     "name": "stdout",
     "output_type": "stream",
     "text": [
      "290/290 [==============================] - ETA: 0s - loss: 1.0448 - accuracy: 0.6052"
     ]
    },
    {
     "name": "stderr",
     "output_type": "stream",
     "text": [
      "Corrupt JPEG data: 162 extraneous bytes before marker 0xd9\n",
      "Corrupt JPEG data: 252 extraneous bytes before marker 0xd9\n",
      "Corrupt JPEG data: 214 extraneous bytes before marker 0xd9\n",
      "Corrupt JPEG data: 1403 extraneous bytes before marker 0xd9\n",
      "Corrupt JPEG data: 162 extraneous bytes before marker 0xd9\n",
      "Corrupt JPEG data: 252 extraneous bytes before marker 0xd9\n",
      "Corrupt JPEG data: 214 extraneous bytes before marker 0xd9\n",
      "Corrupt JPEG data: 1403 extraneous bytes before marker 0xd9\n",
      "Corrupt JPEG data: 162 extraneous bytes before marker 0xd9\n",
      "Corrupt JPEG data: 252 extraneous bytes before marker 0xd9\n",
      "Corrupt JPEG data: 214 extraneous bytes before marker 0xd9\n",
      "Corrupt JPEG data: 1403 extraneous bytes before marker 0xd9\n",
      "Corrupt JPEG data: 162 extraneous bytes before marker 0xd9\n",
      "Corrupt JPEG data: 252 extraneous bytes before marker 0xd9\n",
      "Corrupt JPEG data: 214 extraneous bytes before marker 0xd9\n",
      "Corrupt JPEG data: 1403 extraneous bytes before marker 0xd9\n"
     ]
    },
    {
     "name": "stdout",
     "output_type": "stream",
     "text": [
      "290/290 [==============================] - 18s 61ms/step - loss: 1.0448 - accuracy: 0.6052 - val_loss: 1.1036 - val_accuracy: 0.5551\n",
      "Epoch 3/15\n",
      " 63/290 [=====>........................] - ETA: 11s - loss: 0.9386 - accuracy: 0.6208"
     ]
    },
    {
     "name": "stderr",
     "output_type": "stream",
     "text": [
      "Corrupt JPEG data: 2226 extraneous bytes before marker 0xd9\n"
     ]
    },
    {
     "name": "stdout",
     "output_type": "stream",
     "text": [
      " 69/290 [======>.......................] - ETA: 11s - loss: 0.9244 - accuracy: 0.6227"
     ]
    },
    {
     "name": "stderr",
     "output_type": "stream",
     "text": [
      "Corrupt JPEG data: 128 extraneous bytes before marker 0xd9\n"
     ]
    },
    {
     "name": "stdout",
     "output_type": "stream",
     "text": [
      " 75/290 [======>.......................] - ETA: 11s - loss: 0.9282 - accuracy: 0.6227"
     ]
    },
    {
     "name": "stderr",
     "output_type": "stream",
     "text": [
      "Corrupt JPEG data: 239 extraneous bytes before marker 0xd9\n"
     ]
    },
    {
     "name": "stdout",
     "output_type": "stream",
     "text": [
      " 88/290 [========>.....................] - ETA: 10s - loss: 0.9099 - accuracy: 0.6294"
     ]
    },
    {
     "name": "stderr",
     "output_type": "stream",
     "text": [
      "Corrupt JPEG data: 1153 extraneous bytes before marker 0xd9\n",
      "Corrupt JPEG data: 228 extraneous bytes before marker 0xd9\n"
     ]
    },
    {
     "name": "stdout",
     "output_type": "stream",
     "text": [
      "193/290 [==================>...........] - ETA: 5s - loss: 0.8950 - accuracy: 0.6319"
     ]
    },
    {
     "name": "stderr",
     "output_type": "stream",
     "text": [
      "Corrupt JPEG data: 99 extraneous bytes before marker 0xd9\n"
     ]
    },
    {
     "name": "stdout",
     "output_type": "stream",
     "text": [
      "205/290 [====================>.........] - ETA: 4s - loss: 0.8882 - accuracy: 0.6338"
     ]
    },
    {
     "name": "stderr",
     "output_type": "stream",
     "text": [
      "Warning: unknown JFIF revision number 0.00\n"
     ]
    },
    {
     "name": "stdout",
     "output_type": "stream",
     "text": [
      "212/290 [====================>.........] - ETA: 4s - loss: 0.8839 - accuracy: 0.6348"
     ]
    },
    {
     "name": "stderr",
     "output_type": "stream",
     "text": [
      "Corrupt JPEG data: 396 extraneous bytes before marker 0xd9\n"
     ]
    },
    {
     "name": "stdout",
     "output_type": "stream",
     "text": [
      "251/290 [========================>.....] - ETA: 2s - loss: 0.8713 - accuracy: 0.6386"
     ]
    },
    {
     "name": "stderr",
     "output_type": "stream",
     "text": [
      "Corrupt JPEG data: 65 extraneous bytes before marker 0xd9\n"
     ]
    },
    {
     "name": "stdout",
     "output_type": "stream",
     "text": [
      "290/290 [==============================] - ETA: 0s - loss: 0.8641 - accuracy: 0.6412"
     ]
    },
    {
     "name": "stderr",
     "output_type": "stream",
     "text": [
      "Corrupt JPEG data: 162 extraneous bytes before marker 0xd9\n",
      "Corrupt JPEG data: 252 extraneous bytes before marker 0xd9\n",
      "Corrupt JPEG data: 214 extraneous bytes before marker 0xd9\n",
      "Corrupt JPEG data: 1403 extraneous bytes before marker 0xd9\n",
      "Corrupt JPEG data: 162 extraneous bytes before marker 0xd9\n",
      "Corrupt JPEG data: 252 extraneous bytes before marker 0xd9\n",
      "Corrupt JPEG data: 214 extraneous bytes before marker 0xd9\n",
      "Corrupt JPEG data: 1403 extraneous bytes before marker 0xd9\n",
      "Corrupt JPEG data: 162 extraneous bytes before marker 0xd9\n",
      "Corrupt JPEG data: 252 extraneous bytes before marker 0xd9\n",
      "Corrupt JPEG data: 214 extraneous bytes before marker 0xd9\n",
      "Corrupt JPEG data: 1403 extraneous bytes before marker 0xd9\n",
      "Corrupt JPEG data: 162 extraneous bytes before marker 0xd9\n",
      "Corrupt JPEG data: 252 extraneous bytes before marker 0xd9\n",
      "Corrupt JPEG data: 214 extraneous bytes before marker 0xd9\n",
      "Corrupt JPEG data: 1403 extraneous bytes before marker 0xd9\n"
     ]
    },
    {
     "name": "stdout",
     "output_type": "stream",
     "text": [
      "290/290 [==============================] - 18s 61ms/step - loss: 0.8641 - accuracy: 0.6412 - val_loss: 0.9418 - val_accuracy: 0.6295\n",
      "Epoch 4/15\n",
      " 64/290 [=====>........................] - ETA: 11s - loss: 0.7717 - accuracy: 0.6755"
     ]
    },
    {
     "name": "stderr",
     "output_type": "stream",
     "text": [
      "Corrupt JPEG data: 2226 extraneous bytes before marker 0xd9\n"
     ]
    },
    {
     "name": "stdout",
     "output_type": "stream",
     "text": [
      " 69/290 [======>.......................] - ETA: 11s - loss: 0.7688 - accuracy: 0.6762"
     ]
    },
    {
     "name": "stderr",
     "output_type": "stream",
     "text": [
      "Corrupt JPEG data: 128 extraneous bytes before marker 0xd9\n"
     ]
    },
    {
     "name": "stdout",
     "output_type": "stream",
     "text": [
      " 76/290 [======>.......................] - ETA: 11s - loss: 0.7675 - accuracy: 0.6745"
     ]
    },
    {
     "name": "stderr",
     "output_type": "stream",
     "text": [
      "Corrupt JPEG data: 239 extraneous bytes before marker 0xd9\n"
     ]
    },
    {
     "name": "stdout",
     "output_type": "stream",
     "text": [
      " 90/290 [========>.....................] - ETA: 10s - loss: 0.7560 - accuracy: 0.6780"
     ]
    },
    {
     "name": "stderr",
     "output_type": "stream",
     "text": [
      "Corrupt JPEG data: 1153 extraneous bytes before marker 0xd9\n",
      "Corrupt JPEG data: 228 extraneous bytes before marker 0xd9\n"
     ]
    },
    {
     "name": "stdout",
     "output_type": "stream",
     "text": [
      "193/290 [==================>...........] - ETA: 4s - loss: 0.7197 - accuracy: 0.6909"
     ]
    },
    {
     "name": "stderr",
     "output_type": "stream",
     "text": [
      "Corrupt JPEG data: 99 extraneous bytes before marker 0xd9\n"
     ]
    },
    {
     "name": "stdout",
     "output_type": "stream",
     "text": [
      "209/290 [====================>.........] - ETA: 4s - loss: 0.7207 - accuracy: 0.6902"
     ]
    },
    {
     "name": "stderr",
     "output_type": "stream",
     "text": [
      "Warning: unknown JFIF revision number 0.00\n"
     ]
    },
    {
     "name": "stdout",
     "output_type": "stream",
     "text": [
      "214/290 [=====================>........] - ETA: 3s - loss: 0.7196 - accuracy: 0.6910"
     ]
    },
    {
     "name": "stderr",
     "output_type": "stream",
     "text": [
      "Corrupt JPEG data: 396 extraneous bytes before marker 0xd9\n"
     ]
    },
    {
     "name": "stdout",
     "output_type": "stream",
     "text": [
      "251/290 [========================>.....] - ETA: 1s - loss: 0.7126 - accuracy: 0.6936"
     ]
    },
    {
     "name": "stderr",
     "output_type": "stream",
     "text": [
      "Corrupt JPEG data: 65 extraneous bytes before marker 0xd9\n"
     ]
    },
    {
     "name": "stdout",
     "output_type": "stream",
     "text": [
      "289/290 [============================>.] - ETA: 0s - loss: 0.7043 - accuracy: 0.6970"
     ]
    },
    {
     "name": "stderr",
     "output_type": "stream",
     "text": [
      "Corrupt JPEG data: 162 extraneous bytes before marker 0xd9\n",
      "Corrupt JPEG data: 252 extraneous bytes before marker 0xd9\n",
      "Corrupt JPEG data: 214 extraneous bytes before marker 0xd9\n",
      "Corrupt JPEG data: 1403 extraneous bytes before marker 0xd9\n",
      "Corrupt JPEG data: 162 extraneous bytes before marker 0xd9\n",
      "Corrupt JPEG data: 252 extraneous bytes before marker 0xd9\n",
      "Corrupt JPEG data: 214 extraneous bytes before marker 0xd9\n",
      "Corrupt JPEG data: 1403 extraneous bytes before marker 0xd9\n",
      "Corrupt JPEG data: 162 extraneous bytes before marker 0xd9\n",
      "Corrupt JPEG data: 252 extraneous bytes before marker 0xd9\n",
      "Corrupt JPEG data: 214 extraneous bytes before marker 0xd9\n",
      "Corrupt JPEG data: 1403 extraneous bytes before marker 0xd9\n",
      "Corrupt JPEG data: 162 extraneous bytes before marker 0xd9\n",
      "Corrupt JPEG data: 252 extraneous bytes before marker 0xd9\n",
      "Corrupt JPEG data: 214 extraneous bytes before marker 0xd9\n",
      "Corrupt JPEG data: 1403 extraneous bytes before marker 0xd9\n"
     ]
    },
    {
     "name": "stdout",
     "output_type": "stream",
     "text": [
      "290/290 [==============================] - 18s 61ms/step - loss: 0.7039 - accuracy: 0.6970 - val_loss: 0.8024 - val_accuracy: 0.6497\n",
      "Epoch 5/15\n",
      " 64/290 [=====>........................] - ETA: 12s - loss: 0.6637 - accuracy: 0.6987"
     ]
    },
    {
     "name": "stderr",
     "output_type": "stream",
     "text": [
      "Corrupt JPEG data: 2226 extraneous bytes before marker 0xd9\n"
     ]
    },
    {
     "name": "stdout",
     "output_type": "stream",
     "text": [
      " 71/290 [======>.......................] - ETA: 11s - loss: 0.6578 - accuracy: 0.7002"
     ]
    },
    {
     "name": "stderr",
     "output_type": "stream",
     "text": [
      "Corrupt JPEG data: 128 extraneous bytes before marker 0xd9\n"
     ]
    },
    {
     "name": "stdout",
     "output_type": "stream",
     "text": [
      " 75/290 [======>.......................] - ETA: 11s - loss: 0.6546 - accuracy: 0.7002"
     ]
    },
    {
     "name": "stderr",
     "output_type": "stream",
     "text": [
      "Corrupt JPEG data: 239 extraneous bytes before marker 0xd9\n"
     ]
    },
    {
     "name": "stdout",
     "output_type": "stream",
     "text": [
      " 89/290 [========>.....................] - ETA: 10s - loss: 0.6301 - accuracy: 0.7108"
     ]
    },
    {
     "name": "stderr",
     "output_type": "stream",
     "text": [
      "Corrupt JPEG data: 1153 extraneous bytes before marker 0xd9\n",
      "Corrupt JPEG data: 228 extraneous bytes before marker 0xd9\n"
     ]
    },
    {
     "name": "stdout",
     "output_type": "stream",
     "text": [
      "194/290 [===================>..........] - ETA: 5s - loss: 0.6081 - accuracy: 0.7265"
     ]
    },
    {
     "name": "stderr",
     "output_type": "stream",
     "text": [
      "Corrupt JPEG data: 99 extraneous bytes before marker 0xd9\n"
     ]
    },
    {
     "name": "stdout",
     "output_type": "stream",
     "text": [
      "211/290 [====================>.........] - ETA: 4s - loss: 0.6054 - accuracy: 0.7287"
     ]
    },
    {
     "name": "stderr",
     "output_type": "stream",
     "text": [
      "Warning: unknown JFIF revision number 0.00\n"
     ]
    },
    {
     "name": "stdout",
     "output_type": "stream",
     "text": [
      "215/290 [=====================>........] - ETA: 3s - loss: 0.6057 - accuracy: 0.7288"
     ]
    },
    {
     "name": "stderr",
     "output_type": "stream",
     "text": [
      "Corrupt JPEG data: 396 extraneous bytes before marker 0xd9\n"
     ]
    },
    {
     "name": "stdout",
     "output_type": "stream",
     "text": [
      "252/290 [=========================>....] - ETA: 2s - loss: 0.5973 - accuracy: 0.7333"
     ]
    },
    {
     "name": "stderr",
     "output_type": "stream",
     "text": [
      "Corrupt JPEG data: 65 extraneous bytes before marker 0xd9\n"
     ]
    },
    {
     "name": "stdout",
     "output_type": "stream",
     "text": [
      "290/290 [==============================] - ETA: 0s - loss: 0.5927 - accuracy: 0.7356"
     ]
    },
    {
     "name": "stderr",
     "output_type": "stream",
     "text": [
      "Corrupt JPEG data: 162 extraneous bytes before marker 0xd9\n",
      "Corrupt JPEG data: 252 extraneous bytes before marker 0xd9\n",
      "Corrupt JPEG data: 214 extraneous bytes before marker 0xd9\n",
      "Corrupt JPEG data: 1403 extraneous bytes before marker 0xd9\n",
      "Corrupt JPEG data: 162 extraneous bytes before marker 0xd9\n",
      "Corrupt JPEG data: 252 extraneous bytes before marker 0xd9\n",
      "Corrupt JPEG data: 214 extraneous bytes before marker 0xd9\n",
      "Corrupt JPEG data: 1403 extraneous bytes before marker 0xd9\n",
      "Corrupt JPEG data: 162 extraneous bytes before marker 0xd9\n",
      "Corrupt JPEG data: 252 extraneous bytes before marker 0xd9\n",
      "Corrupt JPEG data: 214 extraneous bytes before marker 0xd9\n",
      "Corrupt JPEG data: 1403 extraneous bytes before marker 0xd9\n",
      "Corrupt JPEG data: 162 extraneous bytes before marker 0xd9\n",
      "Corrupt JPEG data: 252 extraneous bytes before marker 0xd9\n",
      "Corrupt JPEG data: 214 extraneous bytes before marker 0xd9\n",
      "Corrupt JPEG data: 1403 extraneous bytes before marker 0xd9\n"
     ]
    },
    {
     "name": "stdout",
     "output_type": "stream",
     "text": [
      "290/290 [==============================] - 18s 62ms/step - loss: 0.5927 - accuracy: 0.7356 - val_loss: 0.9520 - val_accuracy: 0.6204\n",
      "Epoch 6/15\n",
      " 65/290 [=====>........................] - ETA: 12s - loss: 0.5569 - accuracy: 0.7510"
     ]
    },
    {
     "name": "stderr",
     "output_type": "stream",
     "text": [
      "Corrupt JPEG data: 2226 extraneous bytes before marker 0xd9\n"
     ]
    },
    {
     "name": "stdout",
     "output_type": "stream",
     "text": [
      " 72/290 [======>.......................] - ETA: 12s - loss: 0.5567 - accuracy: 0.7507"
     ]
    },
    {
     "name": "stderr",
     "output_type": "stream",
     "text": [
      "Corrupt JPEG data: 128 extraneous bytes before marker 0xd9\n"
     ]
    },
    {
     "name": "stdout",
     "output_type": "stream",
     "text": [
      " 77/290 [======>.......................] - ETA: 12s - loss: 0.5580 - accuracy: 0.7494"
     ]
    },
    {
     "name": "stderr",
     "output_type": "stream",
     "text": [
      "Corrupt JPEG data: 239 extraneous bytes before marker 0xd9\n"
     ]
    },
    {
     "name": "stdout",
     "output_type": "stream",
     "text": [
      " 91/290 [========>.....................] - ETA: 11s - loss: 0.5566 - accuracy: 0.7503"
     ]
    },
    {
     "name": "stderr",
     "output_type": "stream",
     "text": [
      "Corrupt JPEG data: 1153 extraneous bytes before marker 0xd9\n",
      "Corrupt JPEG data: 228 extraneous bytes before marker 0xd9\n"
     ]
    },
    {
     "name": "stdout",
     "output_type": "stream",
     "text": [
      "196/290 [===================>..........] - ETA: 5s - loss: 0.5341 - accuracy: 0.7590"
     ]
    },
    {
     "name": "stderr",
     "output_type": "stream",
     "text": [
      "Corrupt JPEG data: 99 extraneous bytes before marker 0xd9\n"
     ]
    },
    {
     "name": "stdout",
     "output_type": "stream",
     "text": [
      "210/290 [====================>.........] - ETA: 4s - loss: 0.5330 - accuracy: 0.7597"
     ]
    },
    {
     "name": "stderr",
     "output_type": "stream",
     "text": [
      "Warning: unknown JFIF revision number 0.00\n"
     ]
    },
    {
     "name": "stdout",
     "output_type": "stream",
     "text": [
      "218/290 [=====================>........] - ETA: 3s - loss: 0.5311 - accuracy: 0.7602"
     ]
    },
    {
     "name": "stderr",
     "output_type": "stream",
     "text": [
      "Corrupt JPEG data: 396 extraneous bytes before marker 0xd9\n"
     ]
    },
    {
     "name": "stdout",
     "output_type": "stream",
     "text": [
      "253/290 [=========================>....] - ETA: 1s - loss: 0.5227 - accuracy: 0.7636"
     ]
    },
    {
     "name": "stderr",
     "output_type": "stream",
     "text": [
      "Corrupt JPEG data: 65 extraneous bytes before marker 0xd9\n"
     ]
    },
    {
     "name": "stdout",
     "output_type": "stream",
     "text": [
      "290/290 [==============================] - ETA: 0s - loss: 0.5108 - accuracy: 0.7693"
     ]
    },
    {
     "name": "stderr",
     "output_type": "stream",
     "text": [
      "Corrupt JPEG data: 162 extraneous bytes before marker 0xd9\n",
      "Corrupt JPEG data: 252 extraneous bytes before marker 0xd9\n",
      "Corrupt JPEG data: 214 extraneous bytes before marker 0xd9\n",
      "Corrupt JPEG data: 1403 extraneous bytes before marker 0xd9\n",
      "Corrupt JPEG data: 162 extraneous bytes before marker 0xd9\n",
      "Corrupt JPEG data: 252 extraneous bytes before marker 0xd9\n",
      "Corrupt JPEG data: 214 extraneous bytes before marker 0xd9\n",
      "Corrupt JPEG data: 1403 extraneous bytes before marker 0xd9\n",
      "Corrupt JPEG data: 162 extraneous bytes before marker 0xd9\n",
      "Corrupt JPEG data: 252 extraneous bytes before marker 0xd9\n",
      "Corrupt JPEG data: 214 extraneous bytes before marker 0xd9\n",
      "Corrupt JPEG data: 1403 extraneous bytes before marker 0xd9\n",
      "Corrupt JPEG data: 162 extraneous bytes before marker 0xd9\n",
      "Corrupt JPEG data: 252 extraneous bytes before marker 0xd9\n",
      "Corrupt JPEG data: 214 extraneous bytes before marker 0xd9\n",
      "Corrupt JPEG data: 1403 extraneous bytes before marker 0xd9\n"
     ]
    },
    {
     "name": "stdout",
     "output_type": "stream",
     "text": [
      "290/290 [==============================] - 18s 62ms/step - loss: 0.5108 - accuracy: 0.7693 - val_loss: 0.9023 - val_accuracy: 0.6580\n",
      "Epoch 7/15\n",
      " 67/290 [=====>........................] - ETA: 11s - loss: 0.4558 - accuracy: 0.8004"
     ]
    },
    {
     "name": "stderr",
     "output_type": "stream",
     "text": [
      "Corrupt JPEG data: 2226 extraneous bytes before marker 0xd9\n"
     ]
    },
    {
     "name": "stdout",
     "output_type": "stream",
     "text": [
      " 74/290 [======>.......................] - ETA: 10s - loss: 0.4527 - accuracy: 0.8016"
     ]
    },
    {
     "name": "stderr",
     "output_type": "stream",
     "text": [
      "Corrupt JPEG data: 128 extraneous bytes before marker 0xd9\n"
     ]
    },
    {
     "name": "stdout",
     "output_type": "stream",
     "text": [
      " 80/290 [=======>......................] - ETA: 10s - loss: 0.4449 - accuracy: 0.8049"
     ]
    },
    {
     "name": "stderr",
     "output_type": "stream",
     "text": [
      "Corrupt JPEG data: 239 extraneous bytes before marker 0xd9\n"
     ]
    },
    {
     "name": "stdout",
     "output_type": "stream",
     "text": [
      " 94/290 [========>.....................] - ETA: 9s - loss: 0.4363 - accuracy: 0.8081 "
     ]
    },
    {
     "name": "stderr",
     "output_type": "stream",
     "text": [
      "Corrupt JPEG data: 1153 extraneous bytes before marker 0xd9\n",
      "Corrupt JPEG data: 228 extraneous bytes before marker 0xd9\n"
     ]
    },
    {
     "name": "stdout",
     "output_type": "stream",
     "text": [
      "197/290 [===================>..........] - ETA: 4s - loss: 0.4064 - accuracy: 0.8209"
     ]
    },
    {
     "name": "stderr",
     "output_type": "stream",
     "text": [
      "Corrupt JPEG data: 99 extraneous bytes before marker 0xd9\n"
     ]
    },
    {
     "name": "stdout",
     "output_type": "stream",
     "text": [
      "213/290 [=====================>........] - ETA: 3s - loss: 0.4046 - accuracy: 0.8217"
     ]
    },
    {
     "name": "stderr",
     "output_type": "stream",
     "text": [
      "Warning: unknown JFIF revision number 0.00\n"
     ]
    },
    {
     "name": "stdout",
     "output_type": "stream",
     "text": [
      "216/290 [=====================>........] - ETA: 3s - loss: 0.4030 - accuracy: 0.8220"
     ]
    },
    {
     "name": "stderr",
     "output_type": "stream",
     "text": [
      "Corrupt JPEG data: 396 extraneous bytes before marker 0xd9\n"
     ]
    },
    {
     "name": "stdout",
     "output_type": "stream",
     "text": [
      "254/290 [=========================>....] - ETA: 1s - loss: 0.4039 - accuracy: 0.8239"
     ]
    },
    {
     "name": "stderr",
     "output_type": "stream",
     "text": [
      "Corrupt JPEG data: 65 extraneous bytes before marker 0xd9\n"
     ]
    },
    {
     "name": "stdout",
     "output_type": "stream",
     "text": [
      "290/290 [==============================] - ETA: 0s - loss: 0.4005 - accuracy: 0.8257"
     ]
    },
    {
     "name": "stderr",
     "output_type": "stream",
     "text": [
      "Corrupt JPEG data: 162 extraneous bytes before marker 0xd9\n",
      "Corrupt JPEG data: 252 extraneous bytes before marker 0xd9\n",
      "Corrupt JPEG data: 214 extraneous bytes before marker 0xd9\n",
      "Corrupt JPEG data: 1403 extraneous bytes before marker 0xd9\n",
      "Corrupt JPEG data: 162 extraneous bytes before marker 0xd9\n",
      "Corrupt JPEG data: 252 extraneous bytes before marker 0xd9\n",
      "Corrupt JPEG data: 214 extraneous bytes before marker 0xd9\n",
      "Corrupt JPEG data: 1403 extraneous bytes before marker 0xd9\n",
      "Corrupt JPEG data: 162 extraneous bytes before marker 0xd9\n",
      "Corrupt JPEG data: 252 extraneous bytes before marker 0xd9\n",
      "Corrupt JPEG data: 214 extraneous bytes before marker 0xd9\n",
      "Corrupt JPEG data: 1403 extraneous bytes before marker 0xd9\n",
      "Corrupt JPEG data: 162 extraneous bytes before marker 0xd9\n",
      "Corrupt JPEG data: 252 extraneous bytes before marker 0xd9\n",
      "Corrupt JPEG data: 214 extraneous bytes before marker 0xd9\n",
      "Corrupt JPEG data: 1403 extraneous bytes before marker 0xd9\n"
     ]
    },
    {
     "name": "stdout",
     "output_type": "stream",
     "text": [
      "290/290 [==============================] - 17s 59ms/step - loss: 0.4005 - accuracy: 0.8257 - val_loss: 0.8486 - val_accuracy: 0.6694\n",
      "Epoch 8/15\n",
      " 68/290 [======>.......................] - ETA: 12s - loss: 0.3584 - accuracy: 0.8469"
     ]
    },
    {
     "name": "stderr",
     "output_type": "stream",
     "text": [
      "Corrupt JPEG data: 2226 extraneous bytes before marker 0xd9\n"
     ]
    },
    {
     "name": "stdout",
     "output_type": "stream",
     "text": [
      " 73/290 [======>.......................] - ETA: 11s - loss: 0.3544 - accuracy: 0.8484"
     ]
    },
    {
     "name": "stderr",
     "output_type": "stream",
     "text": [
      "Corrupt JPEG data: 128 extraneous bytes before marker 0xd9\n"
     ]
    },
    {
     "name": "stdout",
     "output_type": "stream",
     "text": [
      " 81/290 [=======>......................] - ETA: 11s - loss: 0.3597 - accuracy: 0.8455"
     ]
    },
    {
     "name": "stderr",
     "output_type": "stream",
     "text": [
      "Corrupt JPEG data: 239 extraneous bytes before marker 0xd9\n"
     ]
    },
    {
     "name": "stdout",
     "output_type": "stream",
     "text": [
      " 93/290 [========>.....................] - ETA: 10s - loss: 0.3587 - accuracy: 0.8452"
     ]
    },
    {
     "name": "stderr",
     "output_type": "stream",
     "text": [
      "Corrupt JPEG data: 1153 extraneous bytes before marker 0xd9\n",
      "Corrupt JPEG data: 228 extraneous bytes before marker 0xd9\n"
     ]
    },
    {
     "name": "stdout",
     "output_type": "stream",
     "text": [
      "197/290 [===================>..........] - ETA: 5s - loss: 0.3443 - accuracy: 0.8521"
     ]
    },
    {
     "name": "stderr",
     "output_type": "stream",
     "text": [
      "Corrupt JPEG data: 99 extraneous bytes before marker 0xd9\n"
     ]
    },
    {
     "name": "stdout",
     "output_type": "stream",
     "text": [
      "213/290 [=====================>........] - ETA: 4s - loss: 0.3435 - accuracy: 0.8534"
     ]
    },
    {
     "name": "stderr",
     "output_type": "stream",
     "text": [
      "Warning: unknown JFIF revision number 0.00\n"
     ]
    },
    {
     "name": "stdout",
     "output_type": "stream",
     "text": [
      "218/290 [=====================>........] - ETA: 3s - loss: 0.3428 - accuracy: 0.8537"
     ]
    },
    {
     "name": "stderr",
     "output_type": "stream",
     "text": [
      "Corrupt JPEG data: 396 extraneous bytes before marker 0xd9\n"
     ]
    },
    {
     "name": "stdout",
     "output_type": "stream",
     "text": [
      "255/290 [=========================>....] - ETA: 1s - loss: 0.3394 - accuracy: 0.8555"
     ]
    },
    {
     "name": "stderr",
     "output_type": "stream",
     "text": [
      "Corrupt JPEG data: 65 extraneous bytes before marker 0xd9\n"
     ]
    },
    {
     "name": "stdout",
     "output_type": "stream",
     "text": [
      "290/290 [==============================] - ETA: 0s - loss: 0.3333 - accuracy: 0.8588"
     ]
    },
    {
     "name": "stderr",
     "output_type": "stream",
     "text": [
      "Corrupt JPEG data: 162 extraneous bytes before marker 0xd9\n",
      "Corrupt JPEG data: 252 extraneous bytes before marker 0xd9\n",
      "Corrupt JPEG data: 214 extraneous bytes before marker 0xd9\n",
      "Corrupt JPEG data: 1403 extraneous bytes before marker 0xd9\n",
      "Corrupt JPEG data: 162 extraneous bytes before marker 0xd9\n",
      "Corrupt JPEG data: 252 extraneous bytes before marker 0xd9\n",
      "Corrupt JPEG data: 214 extraneous bytes before marker 0xd9\n",
      "Corrupt JPEG data: 1403 extraneous bytes before marker 0xd9\n",
      "Corrupt JPEG data: 162 extraneous bytes before marker 0xd9\n",
      "Corrupt JPEG data: 252 extraneous bytes before marker 0xd9\n",
      "Corrupt JPEG data: 214 extraneous bytes before marker 0xd9\n",
      "Corrupt JPEG data: 1403 extraneous bytes before marker 0xd9\n",
      "Corrupt JPEG data: 162 extraneous bytes before marker 0xd9\n",
      "Corrupt JPEG data: 252 extraneous bytes before marker 0xd9\n",
      "Corrupt JPEG data: 214 extraneous bytes before marker 0xd9\n",
      "Corrupt JPEG data: 1403 extraneous bytes before marker 0xd9\n"
     ]
    },
    {
     "name": "stdout",
     "output_type": "stream",
     "text": [
      "290/290 [==============================] - 18s 63ms/step - loss: 0.3333 - accuracy: 0.8588 - val_loss: 1.0041 - val_accuracy: 0.6755\n",
      "Epoch 9/15\n",
      " 69/290 [======>.......................] - ETA: 11s - loss: 0.2735 - accuracy: 0.8862"
     ]
    },
    {
     "name": "stderr",
     "output_type": "stream",
     "text": [
      "Corrupt JPEG data: 2226 extraneous bytes before marker 0xd9\n"
     ]
    },
    {
     "name": "stdout",
     "output_type": "stream",
     "text": [
      " 75/290 [======>.......................] - ETA: 11s - loss: 0.2790 - accuracy: 0.8836"
     ]
    },
    {
     "name": "stderr",
     "output_type": "stream",
     "text": [
      "Corrupt JPEG data: 128 extraneous bytes before marker 0xd9\n"
     ]
    },
    {
     "name": "stdout",
     "output_type": "stream",
     "text": [
      " 82/290 [=======>......................] - ETA: 10s - loss: 0.2763 - accuracy: 0.8840"
     ]
    },
    {
     "name": "stderr",
     "output_type": "stream",
     "text": [
      "Corrupt JPEG data: 239 extraneous bytes before marker 0xd9\n"
     ]
    },
    {
     "name": "stdout",
     "output_type": "stream",
     "text": [
      " 95/290 [========>.....................] - ETA: 10s - loss: 0.2722 - accuracy: 0.8859"
     ]
    },
    {
     "name": "stderr",
     "output_type": "stream",
     "text": [
      "Corrupt JPEG data: 1153 extraneous bytes before marker 0xd9\n",
      "Corrupt JPEG data: 228 extraneous bytes before marker 0xd9\n"
     ]
    },
    {
     "name": "stdout",
     "output_type": "stream",
     "text": [
      "199/290 [===================>..........] - ETA: 4s - loss: 0.2595 - accuracy: 0.8931"
     ]
    },
    {
     "name": "stderr",
     "output_type": "stream",
     "text": [
      "Corrupt JPEG data: 99 extraneous bytes before marker 0xd9\n"
     ]
    },
    {
     "name": "stdout",
     "output_type": "stream",
     "text": [
      "213/290 [=====================>........] - ETA: 3s - loss: 0.2544 - accuracy: 0.8954"
     ]
    },
    {
     "name": "stderr",
     "output_type": "stream",
     "text": [
      "Warning: unknown JFIF revision number 0.00\n"
     ]
    },
    {
     "name": "stdout",
     "output_type": "stream",
     "text": [
      "219/290 [=====================>........] - ETA: 3s - loss: 0.2547 - accuracy: 0.8951"
     ]
    },
    {
     "name": "stderr",
     "output_type": "stream",
     "text": [
      "Corrupt JPEG data: 396 extraneous bytes before marker 0xd9\n"
     ]
    },
    {
     "name": "stdout",
     "output_type": "stream",
     "text": [
      "257/290 [=========================>....] - ETA: 1s - loss: 0.2511 - accuracy: 0.8975"
     ]
    },
    {
     "name": "stderr",
     "output_type": "stream",
     "text": [
      "Corrupt JPEG data: 65 extraneous bytes before marker 0xd9\n"
     ]
    },
    {
     "name": "stdout",
     "output_type": "stream",
     "text": [
      "289/290 [============================>.] - ETA: 0s - loss: 0.2475 - accuracy: 0.8991"
     ]
    },
    {
     "name": "stderr",
     "output_type": "stream",
     "text": [
      "Corrupt JPEG data: 162 extraneous bytes before marker 0xd9\n",
      "Corrupt JPEG data: 252 extraneous bytes before marker 0xd9\n",
      "Corrupt JPEG data: 214 extraneous bytes before marker 0xd9\n",
      "Corrupt JPEG data: 1403 extraneous bytes before marker 0xd9\n",
      "Corrupt JPEG data: 162 extraneous bytes before marker 0xd9\n",
      "Corrupt JPEG data: 252 extraneous bytes before marker 0xd9\n",
      "Corrupt JPEG data: 214 extraneous bytes before marker 0xd9\n",
      "Corrupt JPEG data: 1403 extraneous bytes before marker 0xd9\n",
      "Corrupt JPEG data: 162 extraneous bytes before marker 0xd9\n",
      "Corrupt JPEG data: 252 extraneous bytes before marker 0xd9\n",
      "Corrupt JPEG data: 214 extraneous bytes before marker 0xd9\n",
      "Corrupt JPEG data: 1403 extraneous bytes before marker 0xd9\n",
      "Corrupt JPEG data: 162 extraneous bytes before marker 0xd9\n",
      "Corrupt JPEG data: 252 extraneous bytes before marker 0xd9\n",
      "Corrupt JPEG data: 214 extraneous bytes before marker 0xd9\n",
      "Corrupt JPEG data: 1403 extraneous bytes before marker 0xd9\n"
     ]
    },
    {
     "name": "stdout",
     "output_type": "stream",
     "text": [
      "290/290 [==============================] - 17s 59ms/step - loss: 0.2472 - accuracy: 0.8993 - val_loss: 1.3196 - val_accuracy: 0.6607\n",
      "Epoch 10/15\n",
      " 70/290 [======>.......................] - ETA: 11s - loss: 0.2168 - accuracy: 0.9129"
     ]
    },
    {
     "name": "stderr",
     "output_type": "stream",
     "text": [
      "Corrupt JPEG data: 2226 extraneous bytes before marker 0xd9\n"
     ]
    },
    {
     "name": "stdout",
     "output_type": "stream",
     "text": [
      " 77/290 [======>.......................] - ETA: 11s - loss: 0.2190 - accuracy: 0.9119"
     ]
    },
    {
     "name": "stderr",
     "output_type": "stream",
     "text": [
      "Corrupt JPEG data: 128 extraneous bytes before marker 0xd9\n"
     ]
    },
    {
     "name": "stdout",
     "output_type": "stream",
     "text": [
      " 82/290 [=======>......................] - ETA: 10s - loss: 0.2148 - accuracy: 0.9133"
     ]
    },
    {
     "name": "stderr",
     "output_type": "stream",
     "text": [
      "Corrupt JPEG data: 239 extraneous bytes before marker 0xd9\n"
     ]
    },
    {
     "name": "stdout",
     "output_type": "stream",
     "text": [
      " 96/290 [========>.....................] - ETA: 10s - loss: 0.2142 - accuracy: 0.9131"
     ]
    },
    {
     "name": "stderr",
     "output_type": "stream",
     "text": [
      "Corrupt JPEG data: 1153 extraneous bytes before marker 0xd9\n",
      "Corrupt JPEG data: 228 extraneous bytes before marker 0xd9\n"
     ]
    },
    {
     "name": "stdout",
     "output_type": "stream",
     "text": [
      "197/290 [===================>..........] - ETA: 4s - loss: 0.1986 - accuracy: 0.9200"
     ]
    },
    {
     "name": "stderr",
     "output_type": "stream",
     "text": [
      "Corrupt JPEG data: 99 extraneous bytes before marker 0xd9\n"
     ]
    },
    {
     "name": "stdout",
     "output_type": "stream",
     "text": [
      "215/290 [=====================>........] - ETA: 4s - loss: 0.1984 - accuracy: 0.9201"
     ]
    },
    {
     "name": "stderr",
     "output_type": "stream",
     "text": [
      "Warning: unknown JFIF revision number 0.00\n"
     ]
    },
    {
     "name": "stdout",
     "output_type": "stream",
     "text": [
      "218/290 [=====================>........] - ETA: 3s - loss: 0.1997 - accuracy: 0.9198"
     ]
    },
    {
     "name": "stderr",
     "output_type": "stream",
     "text": [
      "Corrupt JPEG data: 396 extraneous bytes before marker 0xd9\n"
     ]
    },
    {
     "name": "stdout",
     "output_type": "stream",
     "text": [
      "257/290 [=========================>....] - ETA: 1s - loss: 0.2000 - accuracy: 0.9192"
     ]
    },
    {
     "name": "stderr",
     "output_type": "stream",
     "text": [
      "Corrupt JPEG data: 65 extraneous bytes before marker 0xd9\n"
     ]
    },
    {
     "name": "stdout",
     "output_type": "stream",
     "text": [
      "290/290 [==============================] - ETA: 0s - loss: 0.2016 - accuracy: 0.9185"
     ]
    },
    {
     "name": "stderr",
     "output_type": "stream",
     "text": [
      "Corrupt JPEG data: 162 extraneous bytes before marker 0xd9\n",
      "Corrupt JPEG data: 252 extraneous bytes before marker 0xd9\n",
      "Corrupt JPEG data: 214 extraneous bytes before marker 0xd9\n",
      "Corrupt JPEG data: 1403 extraneous bytes before marker 0xd9\n",
      "Corrupt JPEG data: 162 extraneous bytes before marker 0xd9\n",
      "Corrupt JPEG data: 252 extraneous bytes before marker 0xd9\n",
      "Corrupt JPEG data: 214 extraneous bytes before marker 0xd9\n",
      "Corrupt JPEG data: 1403 extraneous bytes before marker 0xd9\n",
      "Corrupt JPEG data: 162 extraneous bytes before marker 0xd9\n",
      "Corrupt JPEG data: 252 extraneous bytes before marker 0xd9\n",
      "Corrupt JPEG data: 214 extraneous bytes before marker 0xd9\n",
      "Corrupt JPEG data: 1403 extraneous bytes before marker 0xd9\n",
      "Corrupt JPEG data: 162 extraneous bytes before marker 0xd9\n",
      "Corrupt JPEG data: 252 extraneous bytes before marker 0xd9\n",
      "Corrupt JPEG data: 214 extraneous bytes before marker 0xd9\n",
      "Corrupt JPEG data: 1403 extraneous bytes before marker 0xd9\n"
     ]
    },
    {
     "name": "stdout",
     "output_type": "stream",
     "text": [
      "290/290 [==============================] - 21s 71ms/step - loss: 0.2016 - accuracy: 0.9185 - val_loss: 1.2261 - val_accuracy: 0.6883\n",
      "Epoch 11/15\n",
      " 70/290 [======>.......................] - ETA: 11s - loss: 0.1783 - accuracy: 0.9310"
     ]
    },
    {
     "name": "stderr",
     "output_type": "stream",
     "text": [
      "Corrupt JPEG data: 2226 extraneous bytes before marker 0xd9\n"
     ]
    },
    {
     "name": "stdout",
     "output_type": "stream",
     "text": [
      " 75/290 [======>.......................] - ETA: 11s - loss: 0.1804 - accuracy: 0.9298"
     ]
    },
    {
     "name": "stderr",
     "output_type": "stream",
     "text": [
      "Corrupt JPEG data: 128 extraneous bytes before marker 0xd9\n"
     ]
    },
    {
     "name": "stdout",
     "output_type": "stream",
     "text": [
      " 83/290 [=======>......................] - ETA: 10s - loss: 0.1805 - accuracy: 0.9294"
     ]
    },
    {
     "name": "stderr",
     "output_type": "stream",
     "text": [
      "Corrupt JPEG data: 239 extraneous bytes before marker 0xd9\n"
     ]
    },
    {
     "name": "stdout",
     "output_type": "stream",
     "text": [
      " 97/290 [=========>....................] - ETA: 10s - loss: 0.1811 - accuracy: 0.9290"
     ]
    },
    {
     "name": "stderr",
     "output_type": "stream",
     "text": [
      "Corrupt JPEG data: 1153 extraneous bytes before marker 0xd9\n",
      "Corrupt JPEG data: 228 extraneous bytes before marker 0xd9\n"
     ]
    },
    {
     "name": "stdout",
     "output_type": "stream",
     "text": [
      "199/290 [===================>..........] - ETA: 4s - loss: 0.1779 - accuracy: 0.9309"
     ]
    },
    {
     "name": "stderr",
     "output_type": "stream",
     "text": [
      "Corrupt JPEG data: 99 extraneous bytes before marker 0xd9\n"
     ]
    },
    {
     "name": "stdout",
     "output_type": "stream",
     "text": [
      "218/290 [=====================>........] - ETA: 3s - loss: 0.1750 - accuracy: 0.9319"
     ]
    },
    {
     "name": "stderr",
     "output_type": "stream",
     "text": [
      "Warning: unknown JFIF revision number 0.00\n",
      "Corrupt JPEG data: 396 extraneous bytes before marker 0xd9\n"
     ]
    },
    {
     "name": "stdout",
     "output_type": "stream",
     "text": [
      "260/290 [=========================>....] - ETA: 1s - loss: 0.1739 - accuracy: 0.9320"
     ]
    },
    {
     "name": "stderr",
     "output_type": "stream",
     "text": [
      "Corrupt JPEG data: 65 extraneous bytes before marker 0xd9\n"
     ]
    },
    {
     "name": "stdout",
     "output_type": "stream",
     "text": [
      "290/290 [==============================] - ETA: 0s - loss: 0.1707 - accuracy: 0.9329"
     ]
    },
    {
     "name": "stderr",
     "output_type": "stream",
     "text": [
      "Corrupt JPEG data: 162 extraneous bytes before marker 0xd9\n",
      "Corrupt JPEG data: 252 extraneous bytes before marker 0xd9\n",
      "Corrupt JPEG data: 214 extraneous bytes before marker 0xd9\n",
      "Corrupt JPEG data: 1403 extraneous bytes before marker 0xd9\n",
      "Corrupt JPEG data: 162 extraneous bytes before marker 0xd9\n",
      "Corrupt JPEG data: 252 extraneous bytes before marker 0xd9\n",
      "Corrupt JPEG data: 214 extraneous bytes before marker 0xd9\n",
      "Corrupt JPEG data: 1403 extraneous bytes before marker 0xd9\n",
      "Corrupt JPEG data: 162 extraneous bytes before marker 0xd9\n",
      "Corrupt JPEG data: 252 extraneous bytes before marker 0xd9\n",
      "Corrupt JPEG data: 214 extraneous bytes before marker 0xd9\n",
      "Corrupt JPEG data: 1403 extraneous bytes before marker 0xd9\n",
      "Corrupt JPEG data: 162 extraneous bytes before marker 0xd9\n",
      "Corrupt JPEG data: 252 extraneous bytes before marker 0xd9\n",
      "Corrupt JPEG data: 214 extraneous bytes before marker 0xd9\n",
      "Corrupt JPEG data: 1403 extraneous bytes before marker 0xd9\n"
     ]
    },
    {
     "name": "stdout",
     "output_type": "stream",
     "text": [
      "290/290 [==============================] - 18s 62ms/step - loss: 0.1707 - accuracy: 0.9329 - val_loss: 1.3088 - val_accuracy: 0.6764\n",
      "Epoch 12/15\n",
      " 72/290 [======>.......................] - ETA: 11s - loss: 0.1780 - accuracy: 0.9329"
     ]
    },
    {
     "name": "stderr",
     "output_type": "stream",
     "text": [
      "Corrupt JPEG data: 2226 extraneous bytes before marker 0xd9\n"
     ]
    },
    {
     "name": "stdout",
     "output_type": "stream",
     "text": [
      " 77/290 [======>.......................] - ETA: 10s - loss: 0.1795 - accuracy: 0.9326"
     ]
    },
    {
     "name": "stderr",
     "output_type": "stream",
     "text": [
      "Corrupt JPEG data: 128 extraneous bytes before marker 0xd9\n"
     ]
    },
    {
     "name": "stdout",
     "output_type": "stream",
     "text": [
      " 83/290 [=======>......................] - ETA: 10s - loss: 0.1764 - accuracy: 0.9334"
     ]
    },
    {
     "name": "stderr",
     "output_type": "stream",
     "text": [
      "Corrupt JPEG data: 239 extraneous bytes before marker 0xd9\n"
     ]
    },
    {
     "name": "stdout",
     "output_type": "stream",
     "text": [
      " 97/290 [=========>....................] - ETA: 9s - loss: 0.1692 - accuracy: 0.9361"
     ]
    },
    {
     "name": "stderr",
     "output_type": "stream",
     "text": [
      "Corrupt JPEG data: 1153 extraneous bytes before marker 0xd9\n",
      "Corrupt JPEG data: 228 extraneous bytes before marker 0xd9\n"
     ]
    },
    {
     "name": "stdout",
     "output_type": "stream",
     "text": [
      "202/290 [===================>..........] - ETA: 4s - loss: 0.1595 - accuracy: 0.9387"
     ]
    },
    {
     "name": "stderr",
     "output_type": "stream",
     "text": [
      "Corrupt JPEG data: 99 extraneous bytes before marker 0xd9\n"
     ]
    },
    {
     "name": "stdout",
     "output_type": "stream",
     "text": [
      "219/290 [=====================>........] - ETA: 3s - loss: 0.1577 - accuracy: 0.9389"
     ]
    },
    {
     "name": "stderr",
     "output_type": "stream",
     "text": [
      "Warning: unknown JFIF revision number 0.00\n"
     ]
    },
    {
     "name": "stdout",
     "output_type": "stream",
     "text": [
      "223/290 [======================>.......] - ETA: 3s - loss: 0.1585 - accuracy: 0.9384"
     ]
    },
    {
     "name": "stderr",
     "output_type": "stream",
     "text": [
      "Corrupt JPEG data: 396 extraneous bytes before marker 0xd9\n"
     ]
    },
    {
     "name": "stdout",
     "output_type": "stream",
     "text": [
      "258/290 [=========================>....] - ETA: 1s - loss: 0.1529 - accuracy: 0.9402"
     ]
    },
    {
     "name": "stderr",
     "output_type": "stream",
     "text": [
      "Corrupt JPEG data: 65 extraneous bytes before marker 0xd9\n"
     ]
    },
    {
     "name": "stdout",
     "output_type": "stream",
     "text": [
      "290/290 [==============================] - ETA: 0s - loss: 0.1491 - accuracy: 0.9417"
     ]
    },
    {
     "name": "stderr",
     "output_type": "stream",
     "text": [
      "Corrupt JPEG data: 162 extraneous bytes before marker 0xd9\n",
      "Corrupt JPEG data: 252 extraneous bytes before marker 0xd9\n",
      "Corrupt JPEG data: 214 extraneous bytes before marker 0xd9\n",
      "Corrupt JPEG data: 1403 extraneous bytes before marker 0xd9\n",
      "Corrupt JPEG data: 162 extraneous bytes before marker 0xd9\n",
      "Corrupt JPEG data: 252 extraneous bytes before marker 0xd9\n",
      "Corrupt JPEG data: 214 extraneous bytes before marker 0xd9\n",
      "Corrupt JPEG data: 1403 extraneous bytes before marker 0xd9\n",
      "Corrupt JPEG data: 162 extraneous bytes before marker 0xd9\n",
      "Corrupt JPEG data: 252 extraneous bytes before marker 0xd9\n",
      "Corrupt JPEG data: 214 extraneous bytes before marker 0xd9\n",
      "Corrupt JPEG data: 1403 extraneous bytes before marker 0xd9\n",
      "Corrupt JPEG data: 162 extraneous bytes before marker 0xd9\n",
      "Corrupt JPEG data: 252 extraneous bytes before marker 0xd9\n",
      "Corrupt JPEG data: 214 extraneous bytes before marker 0xd9\n",
      "Corrupt JPEG data: 1403 extraneous bytes before marker 0xd9\n"
     ]
    },
    {
     "name": "stdout",
     "output_type": "stream",
     "text": [
      "290/290 [==============================] - 17s 59ms/step - loss: 0.1491 - accuracy: 0.9417 - val_loss: 1.3720 - val_accuracy: 0.6871\n",
      "Epoch 13/15\n",
      " 73/290 [======>.......................] - ETA: 10s - loss: 0.1465 - accuracy: 0.9437"
     ]
    },
    {
     "name": "stderr",
     "output_type": "stream",
     "text": [
      "Corrupt JPEG data: 2226 extraneous bytes before marker 0xd9\n"
     ]
    },
    {
     "name": "stdout",
     "output_type": "stream",
     "text": [
      " 79/290 [=======>......................] - ETA: 10s - loss: 0.1425 - accuracy: 0.9454"
     ]
    },
    {
     "name": "stderr",
     "output_type": "stream",
     "text": [
      "Corrupt JPEG data: 128 extraneous bytes before marker 0xd9\n"
     ]
    },
    {
     "name": "stdout",
     "output_type": "stream",
     "text": [
      " 86/290 [=======>......................] - ETA: 10s - loss: 0.1420 - accuracy: 0.9457"
     ]
    },
    {
     "name": "stderr",
     "output_type": "stream",
     "text": [
      "Corrupt JPEG data: 239 extraneous bytes before marker 0xd9\n"
     ]
    },
    {
     "name": "stdout",
     "output_type": "stream",
     "text": [
      " 99/290 [=========>....................] - ETA: 9s - loss: 0.1370 - accuracy: 0.9482"
     ]
    },
    {
     "name": "stderr",
     "output_type": "stream",
     "text": [
      "Corrupt JPEG data: 1153 extraneous bytes before marker 0xd9\n",
      "Corrupt JPEG data: 228 extraneous bytes before marker 0xd9\n"
     ]
    },
    {
     "name": "stdout",
     "output_type": "stream",
     "text": [
      "201/290 [===================>..........] - ETA: 4s - loss: 0.1334 - accuracy: 0.9483"
     ]
    },
    {
     "name": "stderr",
     "output_type": "stream",
     "text": [
      "Corrupt JPEG data: 99 extraneous bytes before marker 0xd9\n"
     ]
    },
    {
     "name": "stdout",
     "output_type": "stream",
     "text": [
      "218/290 [=====================>........] - ETA: 3s - loss: 0.1310 - accuracy: 0.9494"
     ]
    },
    {
     "name": "stderr",
     "output_type": "stream",
     "text": [
      "Warning: unknown JFIF revision number 0.00\n"
     ]
    },
    {
     "name": "stdout",
     "output_type": "stream",
     "text": [
      "222/290 [=====================>........] - ETA: 3s - loss: 0.1311 - accuracy: 0.9495"
     ]
    },
    {
     "name": "stderr",
     "output_type": "stream",
     "text": [
      "Corrupt JPEG data: 396 extraneous bytes before marker 0xd9\n"
     ]
    },
    {
     "name": "stdout",
     "output_type": "stream",
     "text": [
      "261/290 [==========================>...] - ETA: 1s - loss: 0.1304 - accuracy: 0.9497"
     ]
    },
    {
     "name": "stderr",
     "output_type": "stream",
     "text": [
      "Corrupt JPEG data: 65 extraneous bytes before marker 0xd9\n"
     ]
    },
    {
     "name": "stdout",
     "output_type": "stream",
     "text": [
      "290/290 [==============================] - ETA: 0s - loss: 0.1296 - accuracy: 0.9502"
     ]
    },
    {
     "name": "stderr",
     "output_type": "stream",
     "text": [
      "Corrupt JPEG data: 162 extraneous bytes before marker 0xd9\n",
      "Corrupt JPEG data: 252 extraneous bytes before marker 0xd9\n",
      "Corrupt JPEG data: 214 extraneous bytes before marker 0xd9\n",
      "Corrupt JPEG data: 1403 extraneous bytes before marker 0xd9\n",
      "Corrupt JPEG data: 162 extraneous bytes before marker 0xd9\n",
      "Corrupt JPEG data: 252 extraneous bytes before marker 0xd9\n",
      "Corrupt JPEG data: 214 extraneous bytes before marker 0xd9\n",
      "Corrupt JPEG data: 1403 extraneous bytes before marker 0xd9\n",
      "Corrupt JPEG data: 162 extraneous bytes before marker 0xd9\n",
      "Corrupt JPEG data: 252 extraneous bytes before marker 0xd9\n",
      "Corrupt JPEG data: 214 extraneous bytes before marker 0xd9\n",
      "Corrupt JPEG data: 1403 extraneous bytes before marker 0xd9\n",
      "Corrupt JPEG data: 162 extraneous bytes before marker 0xd9\n",
      "Corrupt JPEG data: 252 extraneous bytes before marker 0xd9\n",
      "Corrupt JPEG data: 214 extraneous bytes before marker 0xd9\n",
      "Corrupt JPEG data: 1403 extraneous bytes before marker 0xd9\n"
     ]
    },
    {
     "name": "stdout",
     "output_type": "stream",
     "text": [
      "290/290 [==============================] - 17s 59ms/step - loss: 0.1296 - accuracy: 0.9502 - val_loss: 1.4623 - val_accuracy: 0.6760\n",
      "Epoch 14/15\n",
      " 73/290 [======>.......................] - ETA: 11s - loss: 0.1041 - accuracy: 0.9598"
     ]
    },
    {
     "name": "stderr",
     "output_type": "stream",
     "text": [
      "Corrupt JPEG data: 2226 extraneous bytes before marker 0xd9\n"
     ]
    },
    {
     "name": "stdout",
     "output_type": "stream",
     "text": [
      " 80/290 [=======>......................] - ETA: 10s - loss: 0.1071 - accuracy: 0.9590"
     ]
    },
    {
     "name": "stderr",
     "output_type": "stream",
     "text": [
      "Corrupt JPEG data: 128 extraneous bytes before marker 0xd9\n"
     ]
    },
    {
     "name": "stdout",
     "output_type": "stream",
     "text": [
      " 86/290 [=======>......................] - ETA: 10s - loss: 0.1064 - accuracy: 0.9595"
     ]
    },
    {
     "name": "stderr",
     "output_type": "stream",
     "text": [
      "Corrupt JPEG data: 239 extraneous bytes before marker 0xd9\n"
     ]
    },
    {
     "name": "stdout",
     "output_type": "stream",
     "text": [
      " 99/290 [=========>....................] - ETA: 9s - loss: 0.1138 - accuracy: 0.9575"
     ]
    },
    {
     "name": "stderr",
     "output_type": "stream",
     "text": [
      "Corrupt JPEG data: 1153 extraneous bytes before marker 0xd9\n",
      "Corrupt JPEG data: 228 extraneous bytes before marker 0xd9\n"
     ]
    },
    {
     "name": "stdout",
     "output_type": "stream",
     "text": [
      "203/290 [====================>.........] - ETA: 4s - loss: 0.1117 - accuracy: 0.9578"
     ]
    },
    {
     "name": "stderr",
     "output_type": "stream",
     "text": [
      "Corrupt JPEG data: 99 extraneous bytes before marker 0xd9\n"
     ]
    },
    {
     "name": "stdout",
     "output_type": "stream",
     "text": [
      "219/290 [=====================>........] - ETA: 3s - loss: 0.1102 - accuracy: 0.9578"
     ]
    },
    {
     "name": "stderr",
     "output_type": "stream",
     "text": [
      "Warning: unknown JFIF revision number 0.00\n"
     ]
    },
    {
     "name": "stdout",
     "output_type": "stream",
     "text": [
      "224/290 [======================>.......] - ETA: 3s - loss: 0.1097 - accuracy: 0.9581"
     ]
    },
    {
     "name": "stderr",
     "output_type": "stream",
     "text": [
      "Corrupt JPEG data: 396 extraneous bytes before marker 0xd9\n"
     ]
    },
    {
     "name": "stdout",
     "output_type": "stream",
     "text": [
      "261/290 [==========================>...] - ETA: 1s - loss: 0.1099 - accuracy: 0.9584"
     ]
    },
    {
     "name": "stderr",
     "output_type": "stream",
     "text": [
      "Corrupt JPEG data: 65 extraneous bytes before marker 0xd9\n"
     ]
    },
    {
     "name": "stdout",
     "output_type": "stream",
     "text": [
      "290/290 [==============================] - ETA: 0s - loss: 0.1113 - accuracy: 0.9583"
     ]
    },
    {
     "name": "stderr",
     "output_type": "stream",
     "text": [
      "Corrupt JPEG data: 162 extraneous bytes before marker 0xd9\n",
      "Corrupt JPEG data: 252 extraneous bytes before marker 0xd9\n",
      "Corrupt JPEG data: 214 extraneous bytes before marker 0xd9\n",
      "Corrupt JPEG data: 1403 extraneous bytes before marker 0xd9\n",
      "Corrupt JPEG data: 162 extraneous bytes before marker 0xd9\n",
      "Corrupt JPEG data: 252 extraneous bytes before marker 0xd9\n",
      "Corrupt JPEG data: 214 extraneous bytes before marker 0xd9\n",
      "Corrupt JPEG data: 1403 extraneous bytes before marker 0xd9\n",
      "Corrupt JPEG data: 162 extraneous bytes before marker 0xd9\n",
      "Corrupt JPEG data: 252 extraneous bytes before marker 0xd9\n",
      "Corrupt JPEG data: 214 extraneous bytes before marker 0xd9\n",
      "Corrupt JPEG data: 1403 extraneous bytes before marker 0xd9\n",
      "Corrupt JPEG data: 162 extraneous bytes before marker 0xd9\n",
      "Corrupt JPEG data: 252 extraneous bytes before marker 0xd9\n",
      "Corrupt JPEG data: 214 extraneous bytes before marker 0xd9\n",
      "Corrupt JPEG data: 1403 extraneous bytes before marker 0xd9\n"
     ]
    },
    {
     "name": "stdout",
     "output_type": "stream",
     "text": [
      "290/290 [==============================] - 17s 60ms/step - loss: 0.1113 - accuracy: 0.9583 - val_loss: 1.4886 - val_accuracy: 0.6782\n",
      "Epoch 15/15\n",
      " 74/290 [======>.......................] - ETA: 11s - loss: 0.1097 - accuracy: 0.9584"
     ]
    },
    {
     "name": "stderr",
     "output_type": "stream",
     "text": [
      "Corrupt JPEG data: 2226 extraneous bytes before marker 0xd9\n"
     ]
    },
    {
     "name": "stdout",
     "output_type": "stream",
     "text": [
      " 80/290 [=======>......................] - ETA: 11s - loss: 0.1120 - accuracy: 0.9576"
     ]
    },
    {
     "name": "stderr",
     "output_type": "stream",
     "text": [
      "Corrupt JPEG data: 128 extraneous bytes before marker 0xd9\n"
     ]
    },
    {
     "name": "stdout",
     "output_type": "stream",
     "text": [
      " 87/290 [========>.....................] - ETA: 10s - loss: 0.1146 - accuracy: 0.9569"
     ]
    },
    {
     "name": "stderr",
     "output_type": "stream",
     "text": [
      "Corrupt JPEG data: 239 extraneous bytes before marker 0xd9\n"
     ]
    },
    {
     "name": "stdout",
     "output_type": "stream",
     "text": [
      "101/290 [=========>....................] - ETA: 10s - loss: 0.1135 - accuracy: 0.9565"
     ]
    },
    {
     "name": "stderr",
     "output_type": "stream",
     "text": [
      "Corrupt JPEG data: 1153 extraneous bytes before marker 0xd9\n",
      "Corrupt JPEG data: 228 extraneous bytes before marker 0xd9\n"
     ]
    },
    {
     "name": "stdout",
     "output_type": "stream",
     "text": [
      "205/290 [====================>.........] - ETA: 4s - loss: 0.1052 - accuracy: 0.9604"
     ]
    },
    {
     "name": "stderr",
     "output_type": "stream",
     "text": [
      "Corrupt JPEG data: 99 extraneous bytes before marker 0xd9\n"
     ]
    },
    {
     "name": "stdout",
     "output_type": "stream",
     "text": [
      "218/290 [=====================>........] - ETA: 3s - loss: 0.1072 - accuracy: 0.9595"
     ]
    },
    {
     "name": "stderr",
     "output_type": "stream",
     "text": [
      "Warning: unknown JFIF revision number 0.00\n"
     ]
    },
    {
     "name": "stdout",
     "output_type": "stream",
     "text": [
      "224/290 [======================>.......] - ETA: 3s - loss: 0.1072 - accuracy: 0.9594"
     ]
    },
    {
     "name": "stderr",
     "output_type": "stream",
     "text": [
      "Corrupt JPEG data: 396 extraneous bytes before marker 0xd9\n"
     ]
    },
    {
     "name": "stdout",
     "output_type": "stream",
     "text": [
      "262/290 [==========================>...] - ETA: 1s - loss: 0.1055 - accuracy: 0.9602"
     ]
    },
    {
     "name": "stderr",
     "output_type": "stream",
     "text": [
      "Corrupt JPEG data: 65 extraneous bytes before marker 0xd9\n"
     ]
    },
    {
     "name": "stdout",
     "output_type": "stream",
     "text": [
      "290/290 [==============================] - ETA: 0s - loss: 0.1067 - accuracy: 0.9601"
     ]
    },
    {
     "name": "stderr",
     "output_type": "stream",
     "text": [
      "Corrupt JPEG data: 162 extraneous bytes before marker 0xd9\n",
      "Corrupt JPEG data: 252 extraneous bytes before marker 0xd9\n",
      "Corrupt JPEG data: 214 extraneous bytes before marker 0xd9\n",
      "Corrupt JPEG data: 1403 extraneous bytes before marker 0xd9\n",
      "Corrupt JPEG data: 162 extraneous bytes before marker 0xd9\n",
      "Corrupt JPEG data: 252 extraneous bytes before marker 0xd9\n",
      "Corrupt JPEG data: 214 extraneous bytes before marker 0xd9\n",
      "Corrupt JPEG data: 1403 extraneous bytes before marker 0xd9\n",
      "Corrupt JPEG data: 162 extraneous bytes before marker 0xd9\n",
      "Corrupt JPEG data: 252 extraneous bytes before marker 0xd9\n",
      "Corrupt JPEG data: 214 extraneous bytes before marker 0xd9\n",
      "Corrupt JPEG data: 1403 extraneous bytes before marker 0xd9\n",
      "Corrupt JPEG data: 162 extraneous bytes before marker 0xd9\n",
      "Corrupt JPEG data: 252 extraneous bytes before marker 0xd9\n",
      "Corrupt JPEG data: 214 extraneous bytes before marker 0xd9\n",
      "Corrupt JPEG data: 1403 extraneous bytes before marker 0xd9\n"
     ]
    },
    {
     "name": "stdout",
     "output_type": "stream",
     "text": [
      "290/290 [==============================] - 18s 60ms/step - loss: 0.1067 - accuracy: 0.9601 - val_loss: 1.5095 - val_accuracy: 0.6970\n"
     ]
    }
   ],
   "source": [
    "resnet_50_res.compile(\n",
    "    loss='sparse_categorical_crossentropy',\n",
    "    optimizer=tf.keras.optimizers.SGD(lr=0.01, clipnorm=1.),\n",
    "    metrics=['accuracy'],\n",
    ")\n",
    "\n",
    "history_50_res = resnet_50_res.fit(\n",
    "    ds_train,\n",
    "    steps_per_epoch=int(ds_info.splits['train'].num_examples/BATCH_SIZE*0.8),\n",
    "    validation_steps=int(ds_info.splits['train'].num_examples/BATCH_SIZE*0.2),\n",
    "    epochs=EPOCH,\n",
    "    validation_data=ds_test,\n",
    "    verbose=1,\n",
    "    use_multiprocessing=True,\n",
    ")"
   ]
  },
  {
   "cell_type": "code",
   "execution_count": 59,
   "metadata": {},
   "outputs": [
    {
     "data": {
      "image/png": "[encoded data removed]",
      "text/plain": [
       "<Figure size 640x480 with 1 Axes>"
      ]
     },
     "metadata": {},
     "output_type": "display_data"
    }
   ],
   "source": [
    "plt.plot(history_34_plain.history['loss'], 'red')\n",
    "plt.plot(history_50_plain.history['loss'], 'blue')\n",
    "plt.plot(history_34_res.history['loss'], 'green')\n",
    "plt.plot(history_50_res.history['loss'], 'yellow')\n",
    "plt.title('Model training loss')\n",
    "plt.ylabel('Loss')\n",
    "plt.xlabel('Epoch')\n",
    "plt.legend(['res34_plain', 'res50_plain', 'res34_res', 'res50_res'], loc='upper left')\n",
    "plt.show()"
   ]
  },
  {
   "cell_type": "code",
   "execution_count": 60,
   "metadata": {},
   "outputs": [
    {
     "data": {
      "image/png": "[encoded data removed]",
      "text/plain": [
       "<Figure size 640x480 with 1 Axes>"
      ]
     },
     "metadata": {},
     "output_type": "display_data"
    }
   ],
   "source": [
    "plt.plot(history_34_plain.history['val_accuracy'], 'red')\n",
    "plt.plot(history_50_plain.history['val_accuracy'], 'blue')\n",
    "plt.plot(history_34_res.history['val_accuracy'], 'green')\n",
    "plt.plot(history_50_res.history['val_accuracy'], 'yellow')\n",
    "plt.title('Model validation accuracy')\n",
    "plt.ylabel('Accuracy')\n",
    "plt.xlabel('Epoch')\n",
    "plt.legend(['res34_plain', 'res50_plain', 'res34_res', 'res50_res'], loc='upper left')\n",
    "plt.show()"
   ]
  },
  {
   "cell_type": "code",
   "execution_count": 62,
   "metadata": {},
   "outputs": [
    {
     "data": {
      "image/png": "[encoded data removed]",
      "text/plain": [
       "<Figure size 640x480 with 1 Axes>"
      ]
     },
     "metadata": {},
     "output_type": "display_data"
    }
   ],
   "source": [
    "plt.plot(history_50_plain.history['val_accuracy'], 'blue')\n",
    "plt.plot(history_50_res.history['val_accuracy'], 'yellow')\n",
    "plt.title('Model validation accuracy')\n",
    "plt.ylabel('Accuracy')\n",
    "plt.xlabel('Epoch')\n",
    "plt.legend(['res50_plain', 'res50_res'], loc='upper left')\n",
    "plt.show()"
   ]
  },
  {
   "cell_type": "code",
   "execution_count": 61,
   "metadata": {},
   "outputs": [
    {
     "name": "stdout",
     "output_type": "stream",
     "text": [
      "Resnet-34, plain val accuracy : 0.6763295531272888\n",
      "Resnet-50, plain val accuracy : 0.695292055606842\n",
      "Resnet-34, residual val accuracy : 0.6832311749458313\n",
      "Resnet-50, residual val accuracy : 0.6970227956771851\n"
     ]
    }
   ],
   "source": [
    "print(\"Resnet-34, plain val accuracy :\", history_34_plain.history['val_accuracy'][-1])\n",
    "print(\"Resnet-50, plain val accuracy :\", history_50_plain.history['val_accuracy'][-1])\n",
    "print(\"Resnet-34, residual val accuracy :\", history_34_res.history['val_accuracy'][-1])\n",
    "print(\"Resnet-50, residual val accuracy :\", history_50_res.history['val_accuracy'][-1])"
   ]
  },
  {
   "attachments": {},
   "cell_type": "markdown",
   "metadata": {},
   "source": [
    "||plain|residual|\n",
    "|---|---|---|\n",
    "|Resnet-34|0.676|0.683|\n",
    "|Resnet-50|0.695|0.697|\n",
    "\n",
    "위의 표와 같이 residual이 plain에 비해 val accuracy가 높게 나온 것을 알 수 있다.  \n",
    "다만 CIFAR10 과는 다르게 Resnet-50에서는 그 결과가 드라마틱한 차이를 보이지는 않는다.  \n",
    "예상해보기로는 학습 epoch 자체가 부족했던 것으로 추측된다.\n",
    "\n",
    "res50의 결과만 비교해보면 val accuracy는 계속해서 증가하는 추세인 것을 알 수 있다.  \n",
    "CIFAR10의 경우에는 15 epoch일 때 이미 정확도는 크게 증가하지 않고 평행선을 그리는 것을 비교해보면 이는 더 두드러진다.  \n",
    "즉, 15 epoch보다 더 많은 량의 학습을 돌리면 plain과 residual의 accuracy차이는 좀더 벌어질 것으로 예측된다."
   ]
  },
  {
   "cell_type": "code",
   "execution_count": null,
   "metadata": {},
   "outputs": [],
   "source": []
  }
 ],
 "metadata": {
  "kernelspec": {
   "display_name": "Python 3",
   "language": "python",
   "name": "python3"
  },
  "language_info": {
   "codemirror_mode": {
    "name": "ipython",
    "version": 3
   },
   "file_extension": ".py",
   "mimetype": "text/x-python",
   "name": "python",
   "nbconvert_exporter": "python",
   "pygments_lexer": "ipython3",
   "version": "3.10.6"
  },
  "orig_nbformat": 4
 },
 "nbformat": 4,
 "nbformat_minor": 2
}
